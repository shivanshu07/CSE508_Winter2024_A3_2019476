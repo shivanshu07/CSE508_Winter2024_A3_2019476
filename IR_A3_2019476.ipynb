{
 "cells": [
  {
   "cell_type": "code",
   "execution_count": 1,
   "metadata": {},
   "outputs": [],
   "source": [
    "#!pip install tables"
   ]
  },
  {
   "cell_type": "code",
   "execution_count": 2,
   "metadata": {},
   "outputs": [
    {
     "name": "stdout",
     "output_type": "stream",
     "text": [
      "Requirement already satisfied: bs4 in c:\\users\\shiva\\onedrive\\documents\\lib\\site-packages (0.0.2)\n",
      "Requirement already satisfied: beautifulsoup4 in c:\\users\\shiva\\onedrive\\documents\\lib\\site-packages (from bs4) (4.12.3)\n",
      "Requirement already satisfied: soupsieve>1.2 in c:\\users\\shiva\\onedrive\\documents\\lib\\site-packages (from beautifulsoup4->bs4) (2.5)\n"
     ]
    },
    {
     "name": "stderr",
     "output_type": "stream",
     "text": [
      "WARNING: You are using pip version 22.0.4; however, version 24.0 is available.\n",
      "You should consider upgrading via the 'C:\\Users\\shiva\\OneDrive\\Documents\\python.exe -m pip install --upgrade pip' command.\n"
     ]
    }
   ],
   "source": [
    "!pip install bs4"
   ]
  },
  {
   "cell_type": "code",
   "execution_count": 3,
   "metadata": {},
   "outputs": [
    {
     "name": "stdout",
     "output_type": "stream",
     "text": [
      "Requirement already satisfied: nltk in c:\\users\\shiva\\onedrive\\documents\\lib\\site-packages (3.8.1)\n",
      "Requirement already satisfied: regex>=2021.8.3 in c:\\users\\shiva\\onedrive\\documents\\lib\\site-packages (from nltk) (2021.8.21)\n",
      "Requirement already satisfied: click in c:\\users\\shiva\\onedrive\\documents\\lib\\site-packages (from nltk) (8.1.7)\n",
      "Requirement already satisfied: tqdm in c:\\users\\shiva\\onedrive\\documents\\lib\\site-packages (from nltk) (4.62.2)\n",
      "Requirement already satisfied: joblib in c:\\users\\shiva\\onedrive\\documents\\lib\\site-packages (from nltk) (1.0.1)\n",
      "Requirement already satisfied: colorama in c:\\users\\shiva\\onedrive\\documents\\lib\\site-packages (from click->nltk) (0.4.4)\n"
     ]
    },
    {
     "name": "stderr",
     "output_type": "stream",
     "text": [
      "WARNING: You are using pip version 22.0.4; however, version 24.0 is available.\n",
      "You should consider upgrading via the 'C:\\Users\\shiva\\OneDrive\\Documents\\python.exe -m pip install --upgrade pip' command.\n"
     ]
    }
   ],
   "source": [
    "!pip install nltk"
   ]
  },
  {
   "cell_type": "code",
   "execution_count": 4,
   "metadata": {},
   "outputs": [
    {
     "name": "stdout",
     "output_type": "stream",
     "text": [
      "Requirement already satisfied: textblob in c:\\users\\shiva\\onedrive\\documents\\lib\\site-packages (0.18.0.post0)\n",
      "Requirement already satisfied: nltk>=3.8 in c:\\users\\shiva\\onedrive\\documents\\lib\\site-packages (from textblob) (3.8.1)\n",
      "Requirement already satisfied: regex>=2021.8.3 in c:\\users\\shiva\\onedrive\\documents\\lib\\site-packages (from nltk>=3.8->textblob) (2021.8.21)\n",
      "Requirement already satisfied: joblib in c:\\users\\shiva\\onedrive\\documents\\lib\\site-packages (from nltk>=3.8->textblob) (1.0.1)\n",
      "Requirement already satisfied: tqdm in c:\\users\\shiva\\onedrive\\documents\\lib\\site-packages (from nltk>=3.8->textblob) (4.62.2)\n",
      "Requirement already satisfied: click in c:\\users\\shiva\\onedrive\\documents\\lib\\site-packages (from nltk>=3.8->textblob) (8.1.7)\n",
      "Requirement already satisfied: colorama in c:\\users\\shiva\\onedrive\\documents\\lib\\site-packages (from click->nltk>=3.8->textblob) (0.4.4)\n"
     ]
    },
    {
     "name": "stderr",
     "output_type": "stream",
     "text": [
      "WARNING: You are using pip version 22.0.4; however, version 24.0 is available.\n",
      "You should consider upgrading via the 'C:\\Users\\shiva\\OneDrive\\Documents\\python.exe -m pip install --upgrade pip' command.\n"
     ]
    }
   ],
   "source": [
    "!pip install textblob"
   ]
  },
  {
   "cell_type": "code",
   "execution_count": 5,
   "metadata": {},
   "outputs": [
    {
     "name": "stdout",
     "output_type": "stream",
     "text": [
      "Requirement already satisfied: wordcloud in c:\\users\\shiva\\onedrive\\documents\\lib\\site-packages (1.9.3)\n",
      "Requirement already satisfied: numpy>=1.6.1 in c:\\users\\shiva\\onedrive\\documents\\lib\\site-packages (from wordcloud) (1.21.2)\n",
      "Requirement already satisfied: matplotlib in c:\\users\\shiva\\onedrive\\documents\\lib\\site-packages (from wordcloud) (3.4.3)\n",
      "Requirement already satisfied: pillow in c:\\users\\shiva\\onedrive\\documents\\lib\\site-packages (from wordcloud) (8.3.1)\n",
      "Requirement already satisfied: cycler>=0.10 in c:\\users\\shiva\\onedrive\\documents\\lib\\site-packages (from matplotlib->wordcloud) (0.10.0)\n",
      "Requirement already satisfied: kiwisolver>=1.0.1 in c:\\users\\shiva\\onedrive\\documents\\lib\\site-packages (from matplotlib->wordcloud) (1.3.1)\n",
      "Requirement already satisfied: python-dateutil>=2.7 in c:\\users\\shiva\\onedrive\\documents\\lib\\site-packages (from matplotlib->wordcloud) (2.8.2)\n",
      "Requirement already satisfied: pyparsing>=2.2.1 in c:\\users\\shiva\\onedrive\\documents\\lib\\site-packages (from matplotlib->wordcloud) (2.4.7)\n",
      "Requirement already satisfied: six in c:\\users\\shiva\\onedrive\\documents\\lib\\site-packages (from cycler>=0.10->matplotlib->wordcloud) (1.16.0)\n"
     ]
    },
    {
     "name": "stderr",
     "output_type": "stream",
     "text": [
      "WARNING: You are using pip version 22.0.4; however, version 24.0 is available.\n",
      "You should consider upgrading via the 'C:\\Users\\shiva\\OneDrive\\Documents\\python.exe -m pip install --upgrade pip' command.\n"
     ]
    }
   ],
   "source": [
    "!pip install wordcloud"
   ]
  },
  {
   "cell_type": "code",
   "execution_count": 6,
   "metadata": {},
   "outputs": [
    {
     "name": "stdout",
     "output_type": "stream",
     "text": [
      "Requirement already satisfied: wordcloud in c:\\users\\shiva\\onedrive\\documents\\lib\\site-packages (1.9.3)\n",
      "Requirement already satisfied: matplotlib in c:\\users\\shiva\\onedrive\\documents\\lib\\site-packages (from wordcloud) (3.4.3)\n",
      "Requirement already satisfied: pillow in c:\\users\\shiva\\onedrive\\documents\\lib\\site-packages (from wordcloud) (8.3.1)\n",
      "Requirement already satisfied: numpy>=1.6.1 in c:\\users\\shiva\\onedrive\\documents\\lib\\site-packages (from wordcloud) (1.21.2)\n",
      "Requirement already satisfied: pyparsing>=2.2.1 in c:\\users\\shiva\\onedrive\\documents\\lib\\site-packages (from matplotlib->wordcloud) (2.4.7)\n",
      "Requirement already satisfied: kiwisolver>=1.0.1 in c:\\users\\shiva\\onedrive\\documents\\lib\\site-packages (from matplotlib->wordcloud) (1.3.1)\n",
      "Requirement already satisfied: python-dateutil>=2.7 in c:\\users\\shiva\\onedrive\\documents\\lib\\site-packages (from matplotlib->wordcloud) (2.8.2)\n",
      "Requirement already satisfied: cycler>=0.10 in c:\\users\\shiva\\onedrive\\documents\\lib\\site-packages (from matplotlib->wordcloud) (0.10.0)\n",
      "Requirement already satisfied: six in c:\\users\\shiva\\onedrive\\documents\\lib\\site-packages (from cycler>=0.10->matplotlib->wordcloud) (1.16.0)\n"
     ]
    },
    {
     "name": "stderr",
     "output_type": "stream",
     "text": [
      "WARNING: You are using pip version 22.0.4; however, version 24.0 is available.\n",
      "You should consider upgrading via the 'C:\\Users\\shiva\\OneDrive\\Documents\\python.exe -m pip install --upgrade pip' command.\n"
     ]
    }
   ],
   "source": [
    "!pip install --upgrade wordcloud"
   ]
  },
  {
   "cell_type": "code",
   "execution_count": 7,
   "metadata": {},
   "outputs": [],
   "source": [
    "import nltk"
   ]
  },
  {
   "cell_type": "code",
   "execution_count": 8,
   "metadata": {},
   "outputs": [
    {
     "name": "stderr",
     "output_type": "stream",
     "text": [
      "[nltk_data] Downloading package punkt to\n",
      "[nltk_data]     C:\\Users\\shiva\\AppData\\Roaming\\nltk_data...\n",
      "[nltk_data]   Package punkt is already up-to-date!\n"
     ]
    },
    {
     "data": {
      "text/plain": [
       "True"
      ]
     },
     "execution_count": 8,
     "metadata": {},
     "output_type": "execute_result"
    }
   ],
   "source": [
    "nltk.download('punkt')"
   ]
  },
  {
   "cell_type": "code",
   "execution_count": 9,
   "metadata": {},
   "outputs": [
    {
     "name": "stderr",
     "output_type": "stream",
     "text": [
      "[nltk_data] Downloading package wordnet to\n",
      "[nltk_data]     C:\\Users\\shiva\\AppData\\Roaming\\nltk_data...\n",
      "[nltk_data]   Package wordnet is already up-to-date!\n"
     ]
    },
    {
     "data": {
      "text/plain": [
       "True"
      ]
     },
     "execution_count": 9,
     "metadata": {},
     "output_type": "execute_result"
    }
   ],
   "source": [
    "nltk.download('wordnet')"
   ]
  },
  {
   "cell_type": "markdown",
   "metadata": {},
   "source": [
    "# Import Libraries"
   ]
  },
  {
   "cell_type": "code",
   "execution_count": 97,
   "metadata": {},
   "outputs": [],
   "source": [
    "import json\n",
    "import gzip\n",
    "import pandas as pd\n",
    "import re\n",
    "import unicodedata\n",
    "import string\n",
    "from nltk.corpus import wordnet\n",
    "from bs4 import BeautifulSoup\n",
    "from nltk.tokenize import word_tokenize\n",
    "from nltk.corpus import stopwords\n",
    "from nltk.stem import WordNetLemmatizer\n",
    "import matplotlib.pyplot as plt\n",
    "from textblob import TextBlob\n",
    "from wordcloud import WordCloud\n",
    "from sklearn.feature_extraction.text import HashingVectorizer\n",
    "from sklearn.model_selection import train_test_split\n",
    "from sklearn.metrics import classification_report\n",
    "from sklearn.linear_model import LogisticRegression\n",
    "from sklearn.neighbors import KNeighborsClassifier\n",
    "from sklearn.ensemble import AdaBoostClassifier\n",
    "from sklearn.naive_bayes import GaussianNB\n",
    "from sklearn.neural_network import MLPClassifier"
   ]
  },
  {
   "cell_type": "markdown",
   "metadata": {},
   "source": [
    "# Data Rearrangement"
   ]
  },
  {
   "cell_type": "markdown",
   "metadata": {},
   "source": [
    "**Splitting Product Data into Chunks**"
   ]
  },
  {
   "cell_type": "code",
   "execution_count": 11,
   "metadata": {},
   "outputs": [],
   "source": [
    "\n",
    "#with open(r'C:\\Users\\shiva\\My PC (LAPTOP-2R30LAFS)\\Downloads\\Electronics_5.json\\Electronics_5.json', 'r') as file:\n",
    "    # Define chunk size\n",
    "#    chunk_size = 20000  \n",
    "\n",
    "#    product_df = []\n",
    "\n",
    "#    for chunk in pd.read_json(file, lines=True, chunksize=chunk_size):\n",
    "#        print(chunk.head())\n",
    "#        product_df.append(chunk)       "
   ]
  },
  {
   "cell_type": "code",
   "execution_count": 12,
   "metadata": {},
   "outputs": [],
   "source": [
    "#product_df[0].columns"
   ]
  },
  {
   "cell_type": "markdown",
   "metadata": {},
   "source": [
    "**Combining the chunks**"
   ]
  },
  {
   "cell_type": "code",
   "execution_count": 13,
   "metadata": {},
   "outputs": [],
   "source": [
    "#combined_df = pd.concat(results)"
   ]
  },
  {
   "cell_type": "markdown",
   "metadata": {},
   "source": [
    "**Read Product Data**"
   ]
  },
  {
   "cell_type": "code",
   "execution_count": 14,
   "metadata": {},
   "outputs": [],
   "source": [
    "#product_df = pd.read_csv(r'C:\\Users\\shiva\\My PC (LAPTOP-2R30LAFS)\\Downloads\\Electronics_data.csv')  #read the combined dataframe\n",
    "#with pd.HDFStore('dataframes.h5') as store:\n",
    "#    dataframes = {key: store[key] for key in store.keys()}   #read the chunked dataframes"
   ]
  },
  {
   "cell_type": "markdown",
   "metadata": {},
   "source": [
    "**Split Metadata into chunks**"
   ]
  },
  {
   "cell_type": "code",
   "execution_count": 15,
   "metadata": {},
   "outputs": [],
   "source": [
    "#with open(r'C:\\Users\\shiva\\My PC (LAPTOP-2R30LAFS)\\Downloads\\meta_Electronics.json\\meta_Electronics.json', 'r') as file:\n",
    "#    chunk_size = 20000 \n",
    "#\n",
    "#    meta_df = []\n",
    "#\n",
    "#    for chunk in pd.read_json(file, lines=True, chunksize=chunk_size):\n",
    "#        print(chunk.head())\n",
    "#        meta_df.append(chunk)"
   ]
  },
  {
   "cell_type": "markdown",
   "metadata": {},
   "source": [
    "**Keeping Only those Rows where the Title has Headphones**"
   ]
  },
  {
   "cell_type": "code",
   "execution_count": 16,
   "metadata": {},
   "outputs": [],
   "source": [
    "#for i in range(len(meta_df)):\n",
    "#    meta_df[i] = meta_df[i][meta_df[i]['title'].str.contains('Headphones', case=False)]\n"
   ]
  },
  {
   "cell_type": "markdown",
   "metadata": {},
   "source": [
    "**Combining the Chunks**"
   ]
  },
  {
   "cell_type": "code",
   "execution_count": 17,
   "metadata": {},
   "outputs": [],
   "source": [
    "#final_metadf = pd.concat(meta_df)"
   ]
  },
  {
   "cell_type": "code",
   "execution_count": 18,
   "metadata": {},
   "outputs": [],
   "source": [
    "#type(final_metadf)"
   ]
  },
  {
   "cell_type": "markdown",
   "metadata": {},
   "source": [
    "**Saving the metadata as CSV**"
   ]
  },
  {
   "cell_type": "code",
   "execution_count": 19,
   "metadata": {},
   "outputs": [],
   "source": [
    "#final_metadf.to_csv('final_metadata.csv')"
   ]
  },
  {
   "cell_type": "markdown",
   "metadata": {},
   "source": [
    "# Implementation"
   ]
  },
  {
   "cell_type": "markdown",
   "metadata": {},
   "source": [
    "**Loading the Metadata & Product Data**"
   ]
  },
  {
   "cell_type": "code",
   "execution_count": 20,
   "metadata": {},
   "outputs": [],
   "source": [
    "meta_df = pd.read_csv(r'C:\\Users\\shiva\\My PC (LAPTOP-2R30LAFS)\\Downloads\\final_metadata.csv')"
   ]
  },
  {
   "cell_type": "code",
   "execution_count": 21,
   "metadata": {},
   "outputs": [
    {
     "name": "stderr",
     "output_type": "stream",
     "text": [
      "C:\\Users\\shiva\\AppData\\Roaming\\Python\\Python39\\site-packages\\IPython\\core\\interactiveshell.py:3526: DtypeWarning: Columns (1) have mixed types.Specify dtype option on import or set low_memory=False.\n",
      "  exec(code_obj, self.user_global_ns, self.user_ns)\n"
     ]
    }
   ],
   "source": [
    "product_df = pd.read_csv(r'C:\\Users\\shiva\\My PC (LAPTOP-2R30LAFS)\\Downloads\\Electronics_data.csv')"
   ]
  },
  {
   "cell_type": "markdown",
   "metadata": {},
   "source": [
    "**Correct the Structure of Dataframes**"
   ]
  },
  {
   "cell_type": "code",
   "execution_count": 22,
   "metadata": {},
   "outputs": [
    {
     "data": {
      "text/plain": [
       "(18210, 20)"
      ]
     },
     "execution_count": 22,
     "metadata": {},
     "output_type": "execute_result"
    }
   ],
   "source": [
    "meta_df.shape"
   ]
  },
  {
   "cell_type": "code",
   "execution_count": 23,
   "metadata": {},
   "outputs": [
    {
     "data": {
      "text/plain": [
       "(6739590, 12)"
      ]
     },
     "execution_count": 23,
     "metadata": {},
     "output_type": "execute_result"
    }
   ],
   "source": [
    "product_df.shape"
   ]
  },
  {
   "cell_type": "code",
   "execution_count": 24,
   "metadata": {},
   "outputs": [
    {
     "data": {
      "text/plain": [
       "Index(['Unnamed: 0', 'category', 'tech1', 'description', 'fit', 'title',\n",
       "       'also_buy', 'tech2', 'brand', 'feature', 'rank', 'also_view',\n",
       "       'main_cat', 'similar_item', 'date', 'price', 'asin', 'imageURL',\n",
       "       'imageURLHighRes', 'details'],\n",
       "      dtype='object')"
      ]
     },
     "execution_count": 24,
     "metadata": {},
     "output_type": "execute_result"
    }
   ],
   "source": [
    "meta_df.columns"
   ]
  },
  {
   "cell_type": "markdown",
   "metadata": {},
   "source": [
    "**Drop Column 0**"
   ]
  },
  {
   "cell_type": "code",
   "execution_count": 25,
   "metadata": {},
   "outputs": [],
   "source": [
    "meta_df = meta_df.drop('Unnamed: 0', axis=1)"
   ]
  },
  {
   "cell_type": "code",
   "execution_count": 26,
   "metadata": {},
   "outputs": [
    {
     "data": {
      "text/plain": [
       "Index(['category', 'tech1', 'description', 'fit', 'title', 'also_buy', 'tech2',\n",
       "       'brand', 'feature', 'rank', 'also_view', 'main_cat', 'similar_item',\n",
       "       'date', 'price', 'asin', 'imageURL', 'imageURLHighRes', 'details'],\n",
       "      dtype='object')"
      ]
     },
     "execution_count": 26,
     "metadata": {},
     "output_type": "execute_result"
    }
   ],
   "source": [
    "meta_df.columns"
   ]
  },
  {
   "cell_type": "markdown",
   "metadata": {},
   "source": [
    "**Replacing NaN values with 0**"
   ]
  },
  {
   "cell_type": "code",
   "execution_count": 27,
   "metadata": {},
   "outputs": [],
   "source": [
    "meta_df.fillna(0, inplace=True)"
   ]
  },
  {
   "cell_type": "code",
   "execution_count": 28,
   "metadata": {},
   "outputs": [],
   "source": [
    "product_df.fillna(0, inplace=True)"
   ]
  },
  {
   "cell_type": "markdown",
   "metadata": {},
   "source": [
    "**Drop Duplicates**"
   ]
  },
  {
   "cell_type": "code",
   "execution_count": 29,
   "metadata": {},
   "outputs": [],
   "source": [
    "meta_df.drop_duplicates(inplace=True)"
   ]
  },
  {
   "cell_type": "code",
   "execution_count": 30,
   "metadata": {},
   "outputs": [],
   "source": [
    "product_df.drop_duplicates(inplace=True)"
   ]
  },
  {
   "cell_type": "code",
   "execution_count": 31,
   "metadata": {},
   "outputs": [
    {
     "data": {
      "text/plain": [
       "(6556546, 12)"
      ]
     },
     "execution_count": 31,
     "metadata": {},
     "output_type": "execute_result"
    }
   ],
   "source": [
    "product_df.shape"
   ]
  },
  {
   "cell_type": "code",
   "execution_count": 32,
   "metadata": {},
   "outputs": [
    {
     "data": {
      "text/plain": [
       "(17810, 19)"
      ]
     },
     "execution_count": 32,
     "metadata": {},
     "output_type": "execute_result"
    }
   ],
   "source": [
    "meta_df.shape"
   ]
  },
  {
   "cell_type": "code",
   "execution_count": 33,
   "metadata": {},
   "outputs": [
    {
     "data": {
      "text/html": [
       "<div>\n",
       "<style scoped>\n",
       "    .dataframe tbody tr th:only-of-type {\n",
       "        vertical-align: middle;\n",
       "    }\n",
       "\n",
       "    .dataframe tbody tr th {\n",
       "        vertical-align: top;\n",
       "    }\n",
       "\n",
       "    .dataframe thead th {\n",
       "        text-align: right;\n",
       "    }\n",
       "</style>\n",
       "<table border=\"1\" class=\"dataframe\">\n",
       "  <thead>\n",
       "    <tr style=\"text-align: right;\">\n",
       "      <th></th>\n",
       "      <th>overall</th>\n",
       "      <th>vote</th>\n",
       "      <th>verified</th>\n",
       "      <th>reviewTime</th>\n",
       "      <th>reviewerID</th>\n",
       "      <th>asin</th>\n",
       "      <th>style</th>\n",
       "      <th>reviewerName</th>\n",
       "      <th>reviewText</th>\n",
       "      <th>summary</th>\n",
       "      <th>unixReviewTime</th>\n",
       "      <th>image</th>\n",
       "    </tr>\n",
       "  </thead>\n",
       "  <tbody>\n",
       "    <tr>\n",
       "      <th>0</th>\n",
       "      <td>5</td>\n",
       "      <td>67.0</td>\n",
       "      <td>True</td>\n",
       "      <td>09 18, 1999</td>\n",
       "      <td>AAP7PPBU72QFM</td>\n",
       "      <td>0151004714</td>\n",
       "      <td>{'Format:': ' Hardcover'}</td>\n",
       "      <td>D. C. Carrad</td>\n",
       "      <td>This is the best novel I have read in 2 or 3 y...</td>\n",
       "      <td>A star is born</td>\n",
       "      <td>937612800</td>\n",
       "      <td>0</td>\n",
       "    </tr>\n",
       "    <tr>\n",
       "      <th>1</th>\n",
       "      <td>3</td>\n",
       "      <td>5.0</td>\n",
       "      <td>True</td>\n",
       "      <td>10 23, 2013</td>\n",
       "      <td>A2E168DTVGE6SV</td>\n",
       "      <td>0151004714</td>\n",
       "      <td>{'Format:': ' Kindle Edition'}</td>\n",
       "      <td>Evy</td>\n",
       "      <td>Pages and pages of introspection, in the style...</td>\n",
       "      <td>A stream of consciousness novel</td>\n",
       "      <td>1382486400</td>\n",
       "      <td>0</td>\n",
       "    </tr>\n",
       "    <tr>\n",
       "      <th>2</th>\n",
       "      <td>5</td>\n",
       "      <td>4.0</td>\n",
       "      <td>False</td>\n",
       "      <td>09 2, 2008</td>\n",
       "      <td>A1ER5AYS3FQ9O3</td>\n",
       "      <td>0151004714</td>\n",
       "      <td>{'Format:': ' Paperback'}</td>\n",
       "      <td>Kcorn</td>\n",
       "      <td>This is the kind of novel to read when you hav...</td>\n",
       "      <td>I'm a huge fan of the author and this one did ...</td>\n",
       "      <td>1220313600</td>\n",
       "      <td>0</td>\n",
       "    </tr>\n",
       "    <tr>\n",
       "      <th>3</th>\n",
       "      <td>5</td>\n",
       "      <td>13.0</td>\n",
       "      <td>False</td>\n",
       "      <td>09 4, 2000</td>\n",
       "      <td>A1T17LMQABMBN5</td>\n",
       "      <td>0151004714</td>\n",
       "      <td>{'Format:': ' Hardcover'}</td>\n",
       "      <td>Caf Girl Writes</td>\n",
       "      <td>What gorgeous language! What an incredible wri...</td>\n",
       "      <td>The most beautiful book I have ever read!</td>\n",
       "      <td>968025600</td>\n",
       "      <td>0</td>\n",
       "    </tr>\n",
       "    <tr>\n",
       "      <th>4</th>\n",
       "      <td>3</td>\n",
       "      <td>8.0</td>\n",
       "      <td>True</td>\n",
       "      <td>02 4, 2000</td>\n",
       "      <td>A3QHJ0FXK33OBE</td>\n",
       "      <td>0151004714</td>\n",
       "      <td>{'Format:': ' Hardcover'}</td>\n",
       "      <td>W. Shane Schmidt</td>\n",
       "      <td>I was taken in by reviews that compared this b...</td>\n",
       "      <td>A dissenting view--In part.</td>\n",
       "      <td>949622400</td>\n",
       "      <td>0</td>\n",
       "    </tr>\n",
       "    <tr>\n",
       "      <th>...</th>\n",
       "      <td>...</td>\n",
       "      <td>...</td>\n",
       "      <td>...</td>\n",
       "      <td>...</td>\n",
       "      <td>...</td>\n",
       "      <td>...</td>\n",
       "      <td>...</td>\n",
       "      <td>...</td>\n",
       "      <td>...</td>\n",
       "      <td>...</td>\n",
       "      <td>...</td>\n",
       "      <td>...</td>\n",
       "    </tr>\n",
       "    <tr>\n",
       "      <th>6739585</th>\n",
       "      <td>4</td>\n",
       "      <td>0</td>\n",
       "      <td>True</td>\n",
       "      <td>03 21, 2017</td>\n",
       "      <td>A33MAQA919J2V8</td>\n",
       "      <td>B01HJH40WU</td>\n",
       "      <td>0</td>\n",
       "      <td>Kurt Wurm</td>\n",
       "      <td>These seem like quality USB cables, time will ...</td>\n",
       "      <td>Four Stars</td>\n",
       "      <td>1490054400</td>\n",
       "      <td>0</td>\n",
       "    </tr>\n",
       "    <tr>\n",
       "      <th>6739586</th>\n",
       "      <td>4</td>\n",
       "      <td>0</td>\n",
       "      <td>True</td>\n",
       "      <td>01 9, 2017</td>\n",
       "      <td>A1AKHSCPD1BHM4</td>\n",
       "      <td>B01HJH40WU</td>\n",
       "      <td>0</td>\n",
       "      <td>C.L Momof3</td>\n",
       "      <td>Works great, love the longer cord. As with any...</td>\n",
       "      <td>Nice long cord</td>\n",
       "      <td>1483920000</td>\n",
       "      <td>0</td>\n",
       "    </tr>\n",
       "    <tr>\n",
       "      <th>6739587</th>\n",
       "      <td>5</td>\n",
       "      <td>2.0</td>\n",
       "      <td>True</td>\n",
       "      <td>12 1, 2016</td>\n",
       "      <td>A2HUZO7MQAY5I2</td>\n",
       "      <td>B01HJH40WU</td>\n",
       "      <td>0</td>\n",
       "      <td>michael clontz</td>\n",
       "      <td>Ok here is an odd thing that happened to me, I...</td>\n",
       "      <td>Not the correct product as linked in the sale.</td>\n",
       "      <td>1480550400</td>\n",
       "      <td>0</td>\n",
       "    </tr>\n",
       "    <tr>\n",
       "      <th>6739588</th>\n",
       "      <td>5</td>\n",
       "      <td>2.0</td>\n",
       "      <td>True</td>\n",
       "      <td>11 29, 2016</td>\n",
       "      <td>AJJ7VX2L91X2W</td>\n",
       "      <td>B01HJH40WU</td>\n",
       "      <td>0</td>\n",
       "      <td>Faith</td>\n",
       "      <td>Works well.</td>\n",
       "      <td>Five Stars</td>\n",
       "      <td>1480377600</td>\n",
       "      <td>0</td>\n",
       "    </tr>\n",
       "    <tr>\n",
       "      <th>6739589</th>\n",
       "      <td>5</td>\n",
       "      <td>0</td>\n",
       "      <td>True</td>\n",
       "      <td>03 31, 2017</td>\n",
       "      <td>A1FGCIRPRNZWD5</td>\n",
       "      <td>B01HJF704M</td>\n",
       "      <td>0</td>\n",
       "      <td>Brando</td>\n",
       "      <td>I have it plugged into a usb extension on my g...</td>\n",
       "      <td>Works well enough..</td>\n",
       "      <td>1490918400</td>\n",
       "      <td>0</td>\n",
       "    </tr>\n",
       "  </tbody>\n",
       "</table>\n",
       "<p>6556546 rows × 12 columns</p>\n",
       "</div>"
      ],
      "text/plain": [
       "         overall  vote  verified   reviewTime      reviewerID        asin  \\\n",
       "0              5  67.0      True  09 18, 1999   AAP7PPBU72QFM  0151004714   \n",
       "1              3   5.0      True  10 23, 2013  A2E168DTVGE6SV  0151004714   \n",
       "2              5   4.0     False   09 2, 2008  A1ER5AYS3FQ9O3  0151004714   \n",
       "3              5  13.0     False   09 4, 2000  A1T17LMQABMBN5  0151004714   \n",
       "4              3   8.0      True   02 4, 2000  A3QHJ0FXK33OBE  0151004714   \n",
       "...          ...   ...       ...          ...             ...         ...   \n",
       "6739585        4     0      True  03 21, 2017  A33MAQA919J2V8  B01HJH40WU   \n",
       "6739586        4     0      True   01 9, 2017  A1AKHSCPD1BHM4  B01HJH40WU   \n",
       "6739587        5   2.0      True   12 1, 2016  A2HUZO7MQAY5I2  B01HJH40WU   \n",
       "6739588        5   2.0      True  11 29, 2016   AJJ7VX2L91X2W  B01HJH40WU   \n",
       "6739589        5     0      True  03 31, 2017  A1FGCIRPRNZWD5  B01HJF704M   \n",
       "\n",
       "                                  style      reviewerName  \\\n",
       "0             {'Format:': ' Hardcover'}      D. C. Carrad   \n",
       "1        {'Format:': ' Kindle Edition'}               Evy   \n",
       "2             {'Format:': ' Paperback'}             Kcorn   \n",
       "3             {'Format:': ' Hardcover'}   Caf Girl Writes   \n",
       "4             {'Format:': ' Hardcover'}  W. Shane Schmidt   \n",
       "...                                 ...               ...   \n",
       "6739585                               0         Kurt Wurm   \n",
       "6739586                               0        C.L Momof3   \n",
       "6739587                               0    michael clontz   \n",
       "6739588                               0             Faith   \n",
       "6739589                               0            Brando   \n",
       "\n",
       "                                                reviewText  \\\n",
       "0        This is the best novel I have read in 2 or 3 y...   \n",
       "1        Pages and pages of introspection, in the style...   \n",
       "2        This is the kind of novel to read when you hav...   \n",
       "3        What gorgeous language! What an incredible wri...   \n",
       "4        I was taken in by reviews that compared this b...   \n",
       "...                                                    ...   \n",
       "6739585  These seem like quality USB cables, time will ...   \n",
       "6739586  Works great, love the longer cord. As with any...   \n",
       "6739587  Ok here is an odd thing that happened to me, I...   \n",
       "6739588                                        Works well.   \n",
       "6739589  I have it plugged into a usb extension on my g...   \n",
       "\n",
       "                                                   summary  unixReviewTime  \\\n",
       "0                                           A star is born       937612800   \n",
       "1                          A stream of consciousness novel      1382486400   \n",
       "2        I'm a huge fan of the author and this one did ...      1220313600   \n",
       "3                The most beautiful book I have ever read!       968025600   \n",
       "4                              A dissenting view--In part.       949622400   \n",
       "...                                                    ...             ...   \n",
       "6739585                                         Four Stars      1490054400   \n",
       "6739586                                     Nice long cord      1483920000   \n",
       "6739587     Not the correct product as linked in the sale.      1480550400   \n",
       "6739588                                         Five Stars      1480377600   \n",
       "6739589                                Works well enough..      1490918400   \n",
       "\n",
       "        image  \n",
       "0           0  \n",
       "1           0  \n",
       "2           0  \n",
       "3           0  \n",
       "4           0  \n",
       "...       ...  \n",
       "6739585     0  \n",
       "6739586     0  \n",
       "6739587     0  \n",
       "6739588     0  \n",
       "6739589     0  \n",
       "\n",
       "[6556546 rows x 12 columns]"
      ]
     },
     "execution_count": 33,
     "metadata": {},
     "output_type": "execute_result"
    }
   ],
   "source": [
    "product_df"
   ]
  },
  {
   "cell_type": "code",
   "execution_count": 34,
   "metadata": {},
   "outputs": [],
   "source": [
    "meta_df.reset_index(inplace=True)"
   ]
  },
  {
   "cell_type": "code",
   "execution_count": 35,
   "metadata": {},
   "outputs": [],
   "source": [
    "meta_df.drop(columns='index', inplace=True)"
   ]
  },
  {
   "cell_type": "code",
   "execution_count": 36,
   "metadata": {},
   "outputs": [
    {
     "data": {
      "text/html": [
       "<div>\n",
       "<style scoped>\n",
       "    .dataframe tbody tr th:only-of-type {\n",
       "        vertical-align: middle;\n",
       "    }\n",
       "\n",
       "    .dataframe tbody tr th {\n",
       "        vertical-align: top;\n",
       "    }\n",
       "\n",
       "    .dataframe thead th {\n",
       "        text-align: right;\n",
       "    }\n",
       "</style>\n",
       "<table border=\"1\" class=\"dataframe\">\n",
       "  <thead>\n",
       "    <tr style=\"text-align: right;\">\n",
       "      <th></th>\n",
       "      <th>category</th>\n",
       "      <th>tech1</th>\n",
       "      <th>description</th>\n",
       "      <th>fit</th>\n",
       "      <th>title</th>\n",
       "      <th>also_buy</th>\n",
       "      <th>tech2</th>\n",
       "      <th>brand</th>\n",
       "      <th>feature</th>\n",
       "      <th>rank</th>\n",
       "      <th>also_view</th>\n",
       "      <th>main_cat</th>\n",
       "      <th>similar_item</th>\n",
       "      <th>date</th>\n",
       "      <th>price</th>\n",
       "      <th>asin</th>\n",
       "      <th>imageURL</th>\n",
       "      <th>imageURLHighRes</th>\n",
       "      <th>details</th>\n",
       "    </tr>\n",
       "  </thead>\n",
       "  <tbody>\n",
       "    <tr>\n",
       "      <th>0</th>\n",
       "      <td>['Electronics', 'Headphones', 'Earbud Headphon...</td>\n",
       "      <td>0</td>\n",
       "      <td>['', '&lt;b&gt;True High Definition Sound:&lt;/b&gt;&lt;br&gt;Wi...</td>\n",
       "      <td>0.0</td>\n",
       "      <td>Wireless Bluetooth Headphones Earbuds with Mic...</td>\n",
       "      <td>[]</td>\n",
       "      <td>0</td>\n",
       "      <td>Enter The Arena</td>\n",
       "      <td>['Superb Sound Quality: Plays crystal clear au...</td>\n",
       "      <td>['&gt;#950 in Cell Phones &amp; Accessories (See Top ...</td>\n",
       "      <td>[]</td>\n",
       "      <td>Home Audio &amp; Theater</td>\n",
       "      <td>0</td>\n",
       "      <td>October 23, 2017</td>\n",
       "      <td>$7.99</td>\n",
       "      <td>0132492776</td>\n",
       "      <td>['https://images-na.ssl-images-amazon.com/imag...</td>\n",
       "      <td>['https://images-na.ssl-images-amazon.com/imag...</td>\n",
       "      <td>0</td>\n",
       "    </tr>\n",
       "    <tr>\n",
       "      <th>1</th>\n",
       "      <td>['Electronics', 'Headphones']</td>\n",
       "      <td>0</td>\n",
       "      <td>['Use these high quality headphones for intern...</td>\n",
       "      <td>0.0</td>\n",
       "      <td>Polaroid Pbm2200 PC / Gaming Stereo Headphones...</td>\n",
       "      <td>[]</td>\n",
       "      <td>0</td>\n",
       "      <td>Polaroid</td>\n",
       "      <td>['Ideal for PC Internet chatting, PC / Console...</td>\n",
       "      <td>['&gt;#3,548,269 in Cell Phones &amp;amp; Accessories...</td>\n",
       "      <td>[]</td>\n",
       "      <td>All Electronics</td>\n",
       "      <td>0</td>\n",
       "      <td>December 13, 2012</td>\n",
       "      <td>0</td>\n",
       "      <td>0558835155</td>\n",
       "      <td>['https://images-na.ssl-images-amazon.com/imag...</td>\n",
       "      <td>['https://images-na.ssl-images-amazon.com/imag...</td>\n",
       "      <td>0</td>\n",
       "    </tr>\n",
       "    <tr>\n",
       "      <th>2</th>\n",
       "      <td>['Electronics', 'Headphones', 'Earbud Headphon...</td>\n",
       "      <td>0</td>\n",
       "      <td>['', '&lt;b&gt;True High Definition Sound:&lt;/b&gt;&lt;br&gt;Wi...</td>\n",
       "      <td>0.0</td>\n",
       "      <td>Bluetooth Workout Headphones for Running and G...</td>\n",
       "      <td>[]</td>\n",
       "      <td>0</td>\n",
       "      <td>Enter The Arena</td>\n",
       "      <td>['Superb Sound Quality: Plays crystal clear au...</td>\n",
       "      <td>['&gt;#4,626,934 in Cell Phones &amp; Accessories (Se...</td>\n",
       "      <td>[]</td>\n",
       "      <td>Home Audio &amp; Theater</td>\n",
       "      <td>0</td>\n",
       "      <td>December 28, 2015</td>\n",
       "      <td>0</td>\n",
       "      <td>0692206280</td>\n",
       "      <td>['https://images-na.ssl-images-amazon.com/imag...</td>\n",
       "      <td>['https://images-na.ssl-images-amazon.com/imag...</td>\n",
       "      <td>0</td>\n",
       "    </tr>\n",
       "    <tr>\n",
       "      <th>3</th>\n",
       "      <td>['Electronics', 'Headphones', 'Earbud Headphon...</td>\n",
       "      <td>0</td>\n",
       "      <td>['', '&lt;b&gt;True High Definition Sound:&lt;/b&gt;&lt;br /&gt;...</td>\n",
       "      <td>0.0</td>\n",
       "      <td>Bluetooth Workout Headphones for Running and G...</td>\n",
       "      <td>[]</td>\n",
       "      <td>0</td>\n",
       "      <td>Enter The Arena</td>\n",
       "      <td>['Superb Sound Quality: Plays crystal clear au...</td>\n",
       "      <td>['&gt;#2,654,020 in Cell Phones &amp;amp; Accessories...</td>\n",
       "      <td>[]</td>\n",
       "      <td>Home Audio &amp;amp; Theater</td>\n",
       "      <td>0</td>\n",
       "      <td>October 18, 2015</td>\n",
       "      <td>0</td>\n",
       "      <td>0983629269</td>\n",
       "      <td>['https://images-na.ssl-images-amazon.com/imag...</td>\n",
       "      <td>['https://images-na.ssl-images-amazon.com/imag...</td>\n",
       "      <td>0</td>\n",
       "    </tr>\n",
       "    <tr>\n",
       "      <th>4</th>\n",
       "      <td>['Electronics', 'Headphones', 'Earbud Headphon...</td>\n",
       "      <td>0</td>\n",
       "      <td>['', '&lt;b&gt;True High Definition Sound:&lt;/b&gt;&lt;br /&gt;...</td>\n",
       "      <td>0.0</td>\n",
       "      <td>Bluetooth Workout Headphones for Running and G...</td>\n",
       "      <td>[]</td>\n",
       "      <td>0</td>\n",
       "      <td>Enter The Arena</td>\n",
       "      <td>['Superb Sound Quality: Plays crystal clear au...</td>\n",
       "      <td>['&gt;#5,289,289 in Cell Phones &amp;amp; Accessories...</td>\n",
       "      <td>[]</td>\n",
       "      <td>Home Audio &amp;amp; Theater</td>\n",
       "      <td>0</td>\n",
       "      <td>April 26, 2013</td>\n",
       "      <td>0</td>\n",
       "      <td>0985262788</td>\n",
       "      <td>['https://images-na.ssl-images-amazon.com/imag...</td>\n",
       "      <td>['https://images-na.ssl-images-amazon.com/imag...</td>\n",
       "      <td>0</td>\n",
       "    </tr>\n",
       "    <tr>\n",
       "      <th>...</th>\n",
       "      <td>...</td>\n",
       "      <td>...</td>\n",
       "      <td>...</td>\n",
       "      <td>...</td>\n",
       "      <td>...</td>\n",
       "      <td>...</td>\n",
       "      <td>...</td>\n",
       "      <td>...</td>\n",
       "      <td>...</td>\n",
       "      <td>...</td>\n",
       "      <td>...</td>\n",
       "      <td>...</td>\n",
       "      <td>...</td>\n",
       "      <td>...</td>\n",
       "      <td>...</td>\n",
       "      <td>...</td>\n",
       "      <td>...</td>\n",
       "      <td>...</td>\n",
       "      <td>...</td>\n",
       "    </tr>\n",
       "    <tr>\n",
       "      <th>17805</th>\n",
       "      <td>['Electronics', 'Headphones', 'Earbud Headphon...</td>\n",
       "      <td>0</td>\n",
       "      <td>[]</td>\n",
       "      <td>0.0</td>\n",
       "      <td>Bluetooth Headphones,Yostyle Wireless Headphon...</td>\n",
       "      <td>['B01I0U77O8']</td>\n",
       "      <td>0</td>\n",
       "      <td>Yostyle</td>\n",
       "      <td>['With Bluetooth V4.1, advanced apt-X technolo...</td>\n",
       "      <td>['&gt;#186,311 in Cell Phones &amp; Accessories (See ...</td>\n",
       "      <td>['B01I0U77O8', 'B010RQWSE2', 'B00PGJWYJ0', 'B0...</td>\n",
       "      <td>All Electronics</td>\n",
       "      <td>class=\"a-bordered a-horizontal-stripes  a-spa...</td>\n",
       "      <td>June 25, 2016</td>\n",
       "      <td>$9.91</td>\n",
       "      <td>B01HJ8E11E</td>\n",
       "      <td>['https://images-na.ssl-images-amazon.com/imag...</td>\n",
       "      <td>['https://images-na.ssl-images-amazon.com/imag...</td>\n",
       "      <td>{}</td>\n",
       "    </tr>\n",
       "    <tr>\n",
       "      <th>17806</th>\n",
       "      <td>['Electronics', 'Headphones', 'Earbud Headphon...</td>\n",
       "      <td>0</td>\n",
       "      <td>['', '&lt;b&gt;Specification&lt;/b&gt;&lt;/br&gt; Driver: 5mm&lt;/b...</td>\n",
       "      <td>0.0</td>\n",
       "      <td>MAXROCK Noise Isolating Sleeping Headphones Ea...</td>\n",
       "      <td>[]</td>\n",
       "      <td>0</td>\n",
       "      <td>MAXROCK</td>\n",
       "      <td>['Unique patented silicone design headphones, ...</td>\n",
       "      <td>['&gt;#21,087 in Musical Instruments (See Top 100...</td>\n",
       "      <td>['B071WRSL38', 'B00XCDOGY8', 'B00V9FN1R4', 'B0...</td>\n",
       "      <td>Musical Instruments</td>\n",
       "      <td>class=\"a-bordered a-horizontal-stripes  a-spa...</td>\n",
       "      <td>June 25, 2016</td>\n",
       "      <td>0</td>\n",
       "      <td>B01HJAVYDU</td>\n",
       "      <td>['https://images-na.ssl-images-amazon.com/imag...</td>\n",
       "      <td>['https://images-na.ssl-images-amazon.com/imag...</td>\n",
       "      <td>{}</td>\n",
       "    </tr>\n",
       "    <tr>\n",
       "      <th>17807</th>\n",
       "      <td>['Electronics', 'Headphones', 'Earbud Headphon...</td>\n",
       "      <td>0</td>\n",
       "      <td>[\"About the product  Rhapsody &amp; Mogan H9 is a ...</td>\n",
       "      <td>0.0</td>\n",
       "      <td>Wireless Bluetooth Headset, HandsFree Wireless...</td>\n",
       "      <td>[]</td>\n",
       "      <td>0</td>\n",
       "      <td>snorain</td>\n",
       "      <td>['COMFORTABLE CUSTOM FIT  Rhapsody &amp; Mogan noi...</td>\n",
       "      <td>['&gt;#343,752 in Cell Phones &amp; Accessories (See ...</td>\n",
       "      <td>['B01D3QZB2Y', 'B079GFF4HZ', 'B00XBZY0EI', 'B0...</td>\n",
       "      <td>All Electronics</td>\n",
       "      <td>class=\"a-bordered a-horizontal-stripes  a-spa...</td>\n",
       "      <td>June 25, 2016</td>\n",
       "      <td>0</td>\n",
       "      <td>B01HJAPNHI</td>\n",
       "      <td>['https://images-na.ssl-images-amazon.com/imag...</td>\n",
       "      <td>['https://images-na.ssl-images-amazon.com/imag...</td>\n",
       "      <td>{}</td>\n",
       "    </tr>\n",
       "    <tr>\n",
       "      <th>17808</th>\n",
       "      <td>['Electronics', 'Headphones', 'Earbud Headphon...</td>\n",
       "      <td>0</td>\n",
       "      <td>['', '&lt;b&gt;Specification&lt;/b&gt;&lt;/br&gt; Driver: 5mm&lt;/b...</td>\n",
       "      <td>0.0</td>\n",
       "      <td>MAXROCK Wired Headphones In-ear Headphone Spor...</td>\n",
       "      <td>[]</td>\n",
       "      <td>0</td>\n",
       "      <td>MAXROCK</td>\n",
       "      <td>['Unique patented silicone design headphones, ...</td>\n",
       "      <td>['&gt;#59,366 in Musical Instruments (See Top 100...</td>\n",
       "      <td>[]</td>\n",
       "      <td>Musical Instruments</td>\n",
       "      <td>class=\"a-bordered a-horizontal-stripes  a-spa...</td>\n",
       "      <td>June 25, 2016</td>\n",
       "      <td>$1.96</td>\n",
       "      <td>B01HJAVZI4</td>\n",
       "      <td>['https://images-na.ssl-images-amazon.com/imag...</td>\n",
       "      <td>['https://images-na.ssl-images-amazon.com/imag...</td>\n",
       "      <td>{}</td>\n",
       "    </tr>\n",
       "    <tr>\n",
       "      <th>17809</th>\n",
       "      <td>['Electronics', 'Headphones', 'Earbud Headphon...</td>\n",
       "      <td>0</td>\n",
       "      <td>['', '&lt;b&gt;Specification&lt;/b&gt;&lt;/br&gt; Driver: 5mm&lt;/b...</td>\n",
       "      <td>0.0</td>\n",
       "      <td>MAXROCK Noise Isolating Sleeping Headphones Ea...</td>\n",
       "      <td>[]</td>\n",
       "      <td>0</td>\n",
       "      <td>MAXROCK</td>\n",
       "      <td>['Total silicon house super comfortable to fit...</td>\n",
       "      <td>['&gt;#37,846 in Musical Instruments (See Top 100...</td>\n",
       "      <td>[]</td>\n",
       "      <td>Musical Instruments</td>\n",
       "      <td>class=\"a-bordered a-horizontal-stripes  a-spa...</td>\n",
       "      <td>June 25, 2016</td>\n",
       "      <td>$13.99</td>\n",
       "      <td>B01HJAVXMC</td>\n",
       "      <td>['https://images-na.ssl-images-amazon.com/imag...</td>\n",
       "      <td>['https://images-na.ssl-images-amazon.com/imag...</td>\n",
       "      <td>{}</td>\n",
       "    </tr>\n",
       "  </tbody>\n",
       "</table>\n",
       "<p>17810 rows × 19 columns</p>\n",
       "</div>"
      ],
      "text/plain": [
       "                                                category tech1  \\\n",
       "0      ['Electronics', 'Headphones', 'Earbud Headphon...     0   \n",
       "1                          ['Electronics', 'Headphones']     0   \n",
       "2      ['Electronics', 'Headphones', 'Earbud Headphon...     0   \n",
       "3      ['Electronics', 'Headphones', 'Earbud Headphon...     0   \n",
       "4      ['Electronics', 'Headphones', 'Earbud Headphon...     0   \n",
       "...                                                  ...   ...   \n",
       "17805  ['Electronics', 'Headphones', 'Earbud Headphon...     0   \n",
       "17806  ['Electronics', 'Headphones', 'Earbud Headphon...     0   \n",
       "17807  ['Electronics', 'Headphones', 'Earbud Headphon...     0   \n",
       "17808  ['Electronics', 'Headphones', 'Earbud Headphon...     0   \n",
       "17809  ['Electronics', 'Headphones', 'Earbud Headphon...     0   \n",
       "\n",
       "                                             description  fit  \\\n",
       "0      ['', '<b>True High Definition Sound:</b><br>Wi...  0.0   \n",
       "1      ['Use these high quality headphones for intern...  0.0   \n",
       "2      ['', '<b>True High Definition Sound:</b><br>Wi...  0.0   \n",
       "3      ['', '<b>True High Definition Sound:</b><br />...  0.0   \n",
       "4      ['', '<b>True High Definition Sound:</b><br />...  0.0   \n",
       "...                                                  ...  ...   \n",
       "17805                                                 []  0.0   \n",
       "17806  ['', '<b>Specification</b></br> Driver: 5mm</b...  0.0   \n",
       "17807  [\"About the product  Rhapsody & Mogan H9 is a ...  0.0   \n",
       "17808  ['', '<b>Specification</b></br> Driver: 5mm</b...  0.0   \n",
       "17809  ['', '<b>Specification</b></br> Driver: 5mm</b...  0.0   \n",
       "\n",
       "                                                   title        also_buy  \\\n",
       "0      Wireless Bluetooth Headphones Earbuds with Mic...              []   \n",
       "1      Polaroid Pbm2200 PC / Gaming Stereo Headphones...              []   \n",
       "2      Bluetooth Workout Headphones for Running and G...              []   \n",
       "3      Bluetooth Workout Headphones for Running and G...              []   \n",
       "4      Bluetooth Workout Headphones for Running and G...              []   \n",
       "...                                                  ...             ...   \n",
       "17805  Bluetooth Headphones,Yostyle Wireless Headphon...  ['B01I0U77O8']   \n",
       "17806  MAXROCK Noise Isolating Sleeping Headphones Ea...              []   \n",
       "17807  Wireless Bluetooth Headset, HandsFree Wireless...              []   \n",
       "17808  MAXROCK Wired Headphones In-ear Headphone Spor...              []   \n",
       "17809  MAXROCK Noise Isolating Sleeping Headphones Ea...              []   \n",
       "\n",
       "      tech2            brand  \\\n",
       "0         0  Enter The Arena   \n",
       "1         0         Polaroid   \n",
       "2         0  Enter The Arena   \n",
       "3         0  Enter The Arena   \n",
       "4         0  Enter The Arena   \n",
       "...     ...              ...   \n",
       "17805     0          Yostyle   \n",
       "17806     0          MAXROCK   \n",
       "17807     0          snorain   \n",
       "17808     0          MAXROCK   \n",
       "17809     0          MAXROCK   \n",
       "\n",
       "                                                 feature  \\\n",
       "0      ['Superb Sound Quality: Plays crystal clear au...   \n",
       "1      ['Ideal for PC Internet chatting, PC / Console...   \n",
       "2      ['Superb Sound Quality: Plays crystal clear au...   \n",
       "3      ['Superb Sound Quality: Plays crystal clear au...   \n",
       "4      ['Superb Sound Quality: Plays crystal clear au...   \n",
       "...                                                  ...   \n",
       "17805  ['With Bluetooth V4.1, advanced apt-X technolo...   \n",
       "17806  ['Unique patented silicone design headphones, ...   \n",
       "17807  ['COMFORTABLE CUSTOM FIT  Rhapsody & Mogan noi...   \n",
       "17808  ['Unique patented silicone design headphones, ...   \n",
       "17809  ['Total silicon house super comfortable to fit...   \n",
       "\n",
       "                                                    rank  \\\n",
       "0      ['>#950 in Cell Phones & Accessories (See Top ...   \n",
       "1      ['>#3,548,269 in Cell Phones &amp; Accessories...   \n",
       "2      ['>#4,626,934 in Cell Phones & Accessories (Se...   \n",
       "3      ['>#2,654,020 in Cell Phones &amp; Accessories...   \n",
       "4      ['>#5,289,289 in Cell Phones &amp; Accessories...   \n",
       "...                                                  ...   \n",
       "17805  ['>#186,311 in Cell Phones & Accessories (See ...   \n",
       "17806  ['>#21,087 in Musical Instruments (See Top 100...   \n",
       "17807  ['>#343,752 in Cell Phones & Accessories (See ...   \n",
       "17808  ['>#59,366 in Musical Instruments (See Top 100...   \n",
       "17809  ['>#37,846 in Musical Instruments (See Top 100...   \n",
       "\n",
       "                                               also_view  \\\n",
       "0                                                     []   \n",
       "1                                                     []   \n",
       "2                                                     []   \n",
       "3                                                     []   \n",
       "4                                                     []   \n",
       "...                                                  ...   \n",
       "17805  ['B01I0U77O8', 'B010RQWSE2', 'B00PGJWYJ0', 'B0...   \n",
       "17806  ['B071WRSL38', 'B00XCDOGY8', 'B00V9FN1R4', 'B0...   \n",
       "17807  ['B01D3QZB2Y', 'B079GFF4HZ', 'B00XBZY0EI', 'B0...   \n",
       "17808                                                 []   \n",
       "17809                                                 []   \n",
       "\n",
       "                       main_cat  \\\n",
       "0          Home Audio & Theater   \n",
       "1               All Electronics   \n",
       "2          Home Audio & Theater   \n",
       "3      Home Audio &amp; Theater   \n",
       "4      Home Audio &amp; Theater   \n",
       "...                         ...   \n",
       "17805           All Electronics   \n",
       "17806       Musical Instruments   \n",
       "17807           All Electronics   \n",
       "17808       Musical Instruments   \n",
       "17809       Musical Instruments   \n",
       "\n",
       "                                            similar_item               date  \\\n",
       "0                                                      0   October 23, 2017   \n",
       "1                                                      0  December 13, 2012   \n",
       "2                                                      0  December 28, 2015   \n",
       "3                                                      0   October 18, 2015   \n",
       "4                                                      0     April 26, 2013   \n",
       "...                                                  ...                ...   \n",
       "17805   class=\"a-bordered a-horizontal-stripes  a-spa...      June 25, 2016   \n",
       "17806   class=\"a-bordered a-horizontal-stripes  a-spa...      June 25, 2016   \n",
       "17807   class=\"a-bordered a-horizontal-stripes  a-spa...      June 25, 2016   \n",
       "17808   class=\"a-bordered a-horizontal-stripes  a-spa...      June 25, 2016   \n",
       "17809   class=\"a-bordered a-horizontal-stripes  a-spa...      June 25, 2016   \n",
       "\n",
       "        price        asin                                           imageURL  \\\n",
       "0       $7.99  0132492776  ['https://images-na.ssl-images-amazon.com/imag...   \n",
       "1           0  0558835155  ['https://images-na.ssl-images-amazon.com/imag...   \n",
       "2           0  0692206280  ['https://images-na.ssl-images-amazon.com/imag...   \n",
       "3           0  0983629269  ['https://images-na.ssl-images-amazon.com/imag...   \n",
       "4           0  0985262788  ['https://images-na.ssl-images-amazon.com/imag...   \n",
       "...       ...         ...                                                ...   \n",
       "17805   $9.91  B01HJ8E11E  ['https://images-na.ssl-images-amazon.com/imag...   \n",
       "17806       0  B01HJAVYDU  ['https://images-na.ssl-images-amazon.com/imag...   \n",
       "17807       0  B01HJAPNHI  ['https://images-na.ssl-images-amazon.com/imag...   \n",
       "17808   $1.96  B01HJAVZI4  ['https://images-na.ssl-images-amazon.com/imag...   \n",
       "17809  $13.99  B01HJAVXMC  ['https://images-na.ssl-images-amazon.com/imag...   \n",
       "\n",
       "                                         imageURLHighRes details  \n",
       "0      ['https://images-na.ssl-images-amazon.com/imag...       0  \n",
       "1      ['https://images-na.ssl-images-amazon.com/imag...       0  \n",
       "2      ['https://images-na.ssl-images-amazon.com/imag...       0  \n",
       "3      ['https://images-na.ssl-images-amazon.com/imag...       0  \n",
       "4      ['https://images-na.ssl-images-amazon.com/imag...       0  \n",
       "...                                                  ...     ...  \n",
       "17805  ['https://images-na.ssl-images-amazon.com/imag...      {}  \n",
       "17806  ['https://images-na.ssl-images-amazon.com/imag...      {}  \n",
       "17807  ['https://images-na.ssl-images-amazon.com/imag...      {}  \n",
       "17808  ['https://images-na.ssl-images-amazon.com/imag...      {}  \n",
       "17809  ['https://images-na.ssl-images-amazon.com/imag...      {}  \n",
       "\n",
       "[17810 rows x 19 columns]"
      ]
     },
     "execution_count": 36,
     "metadata": {},
     "output_type": "execute_result"
    }
   ],
   "source": [
    "meta_df"
   ]
  },
  {
   "cell_type": "markdown",
   "metadata": {},
   "source": [
    "**Keep only those rows in Product Data where the ASIN is in Metadata**"
   ]
  },
  {
   "cell_type": "code",
   "execution_count": 37,
   "metadata": {},
   "outputs": [],
   "source": [
    "valid_asin_values = meta_df['asin']"
   ]
  },
  {
   "cell_type": "code",
   "execution_count": 38,
   "metadata": {},
   "outputs": [
    {
     "data": {
      "text/plain": [
       "0        0132492776\n",
       "1        0558835155\n",
       "2        0692206280\n",
       "3        0983629269\n",
       "4        0985262788\n",
       "            ...    \n",
       "17805    B01HJ8E11E\n",
       "17806    B01HJAVYDU\n",
       "17807    B01HJAPNHI\n",
       "17808    B01HJAVZI4\n",
       "17809    B01HJAVXMC\n",
       "Name: asin, Length: 17810, dtype: object"
      ]
     },
     "execution_count": 38,
     "metadata": {},
     "output_type": "execute_result"
    }
   ],
   "source": [
    "valid_asin_values"
   ]
  },
  {
   "cell_type": "code",
   "execution_count": 39,
   "metadata": {},
   "outputs": [],
   "source": [
    "product_df = product_df[product_df['asin'].isin(valid_asin_values)]"
   ]
  },
  {
   "cell_type": "code",
   "execution_count": 40,
   "metadata": {},
   "outputs": [],
   "source": [
    "product_df.reset_index(inplace=True)"
   ]
  },
  {
   "cell_type": "code",
   "execution_count": 41,
   "metadata": {},
   "outputs": [
    {
     "name": "stderr",
     "output_type": "stream",
     "text": [
      "c:\\Users\\shiva\\OneDrive\\Documents\\lib\\site-packages\\pandas\\core\\frame.py:4901: SettingWithCopyWarning: \n",
      "A value is trying to be set on a copy of a slice from a DataFrame\n",
      "\n",
      "See the caveats in the documentation: https://pandas.pydata.org/pandas-docs/stable/user_guide/indexing.html#returning-a-view-versus-a-copy\n",
      "  return super().drop(\n"
     ]
    }
   ],
   "source": [
    "product_df.drop(columns='index', inplace=True)"
   ]
  },
  {
   "cell_type": "code",
   "execution_count": 42,
   "metadata": {},
   "outputs": [
    {
     "data": {
      "text/html": [
       "<div>\n",
       "<style scoped>\n",
       "    .dataframe tbody tr th:only-of-type {\n",
       "        vertical-align: middle;\n",
       "    }\n",
       "\n",
       "    .dataframe tbody tr th {\n",
       "        vertical-align: top;\n",
       "    }\n",
       "\n",
       "    .dataframe thead th {\n",
       "        text-align: right;\n",
       "    }\n",
       "</style>\n",
       "<table border=\"1\" class=\"dataframe\">\n",
       "  <thead>\n",
       "    <tr style=\"text-align: right;\">\n",
       "      <th></th>\n",
       "      <th>overall</th>\n",
       "      <th>vote</th>\n",
       "      <th>verified</th>\n",
       "      <th>reviewTime</th>\n",
       "      <th>reviewerID</th>\n",
       "      <th>asin</th>\n",
       "      <th>style</th>\n",
       "      <th>reviewerName</th>\n",
       "      <th>reviewText</th>\n",
       "      <th>summary</th>\n",
       "      <th>unixReviewTime</th>\n",
       "      <th>image</th>\n",
       "    </tr>\n",
       "  </thead>\n",
       "  <tbody>\n",
       "    <tr>\n",
       "      <th>0</th>\n",
       "      <td>5</td>\n",
       "      <td>2.0</td>\n",
       "      <td>True</td>\n",
       "      <td>02 28, 2013</td>\n",
       "      <td>A15U5NUS1EY7IQ</td>\n",
       "      <td>B000001OMI</td>\n",
       "      <td>{'Format:': ' Personal Computers'}</td>\n",
       "      <td>S. Bommarito</td>\n",
       "      <td>I'm getting listening stations going in severa...</td>\n",
       "      <td>Works well</td>\n",
       "      <td>1362009600</td>\n",
       "      <td>0</td>\n",
       "    </tr>\n",
       "    <tr>\n",
       "      <th>1</th>\n",
       "      <td>5</td>\n",
       "      <td>5.0</td>\n",
       "      <td>True</td>\n",
       "      <td>10 17, 2012</td>\n",
       "      <td>AHGGNAIT6BH5X</td>\n",
       "      <td>B000001OMI</td>\n",
       "      <td>0</td>\n",
       "      <td>Edward H</td>\n",
       "      <td>Needed Headset for watching and editing videos...</td>\n",
       "      <td>HP 200 Stereo Headset</td>\n",
       "      <td>1350432000</td>\n",
       "      <td>0</td>\n",
       "    </tr>\n",
       "    <tr>\n",
       "      <th>2</th>\n",
       "      <td>4</td>\n",
       "      <td>0</td>\n",
       "      <td>False</td>\n",
       "      <td>09 27, 2012</td>\n",
       "      <td>A33HUURDJ4DVG3</td>\n",
       "      <td>B000001OMI</td>\n",
       "      <td>{'Format:': ' Personal Computers'}</td>\n",
       "      <td>HB</td>\n",
       "      <td>I was out of town for a month and needed a pai...</td>\n",
       "      <td>For the price, you cannot beat them</td>\n",
       "      <td>1348704000</td>\n",
       "      <td>0</td>\n",
       "    </tr>\n",
       "    <tr>\n",
       "      <th>3</th>\n",
       "      <td>5</td>\n",
       "      <td>4.0</td>\n",
       "      <td>True</td>\n",
       "      <td>11 27, 2008</td>\n",
       "      <td>A680RUE1FDO8B</td>\n",
       "      <td>B000001OMI</td>\n",
       "      <td>{'Format:': ' Personal Computers'}</td>\n",
       "      <td>Jerry Saperstein</td>\n",
       "      <td>Obviously these headphones are not for the aud...</td>\n",
       "      <td>Excellent day-to-day headphones</td>\n",
       "      <td>1227744000</td>\n",
       "      <td>0</td>\n",
       "    </tr>\n",
       "    <tr>\n",
       "      <th>4</th>\n",
       "      <td>3</td>\n",
       "      <td>2.0</td>\n",
       "      <td>False</td>\n",
       "      <td>12 24, 2007</td>\n",
       "      <td>A3OLAZKM77XR6P</td>\n",
       "      <td>B000001OMI</td>\n",
       "      <td>{'Format:': ' Personal Computers'}</td>\n",
       "      <td>Tennis Ace</td>\n",
       "      <td>I bought these headphones at a Tower Records a...</td>\n",
       "      <td>Foldable but didn't last long</td>\n",
       "      <td>1198454400</td>\n",
       "      <td>0</td>\n",
       "    </tr>\n",
       "    <tr>\n",
       "      <th>...</th>\n",
       "      <td>...</td>\n",
       "      <td>...</td>\n",
       "      <td>...</td>\n",
       "      <td>...</td>\n",
       "      <td>...</td>\n",
       "      <td>...</td>\n",
       "      <td>...</td>\n",
       "      <td>...</td>\n",
       "      <td>...</td>\n",
       "      <td>...</td>\n",
       "      <td>...</td>\n",
       "      <td>...</td>\n",
       "    </tr>\n",
       "    <tr>\n",
       "      <th>261115</th>\n",
       "      <td>5</td>\n",
       "      <td>0</td>\n",
       "      <td>True</td>\n",
       "      <td>05 4, 2018</td>\n",
       "      <td>A3E7OV7IR941JI</td>\n",
       "      <td>B01HI7D4VY</td>\n",
       "      <td>0</td>\n",
       "      <td>JC</td>\n",
       "      <td>I used these for tail light replacement bulbs ...</td>\n",
       "      <td>Excellent LEDS</td>\n",
       "      <td>1525392000</td>\n",
       "      <td>0</td>\n",
       "    </tr>\n",
       "    <tr>\n",
       "      <th>261116</th>\n",
       "      <td>3</td>\n",
       "      <td>0</td>\n",
       "      <td>True</td>\n",
       "      <td>03 14, 2018</td>\n",
       "      <td>A26I2RPRWOGD2V</td>\n",
       "      <td>B01HI7D4VY</td>\n",
       "      <td>0</td>\n",
       "      <td>Ray</td>\n",
       "      <td>Not the brightest bulb on the block.</td>\n",
       "      <td>Not the brightest bulb on the block.</td>\n",
       "      <td>1520985600</td>\n",
       "      <td>0</td>\n",
       "    </tr>\n",
       "    <tr>\n",
       "      <th>261117</th>\n",
       "      <td>4</td>\n",
       "      <td>0</td>\n",
       "      <td>True</td>\n",
       "      <td>09 22, 2018</td>\n",
       "      <td>A3VA3VK4PO1JD</td>\n",
       "      <td>B01HJ8E11E</td>\n",
       "      <td>{'Color:': ' White'}</td>\n",
       "      <td>CD</td>\n",
       "      <td>I have only used these for 1 week at the time ...</td>\n",
       "      <td>They work...</td>\n",
       "      <td>1537574400</td>\n",
       "      <td>0</td>\n",
       "    </tr>\n",
       "    <tr>\n",
       "      <th>261118</th>\n",
       "      <td>3</td>\n",
       "      <td>0</td>\n",
       "      <td>True</td>\n",
       "      <td>09 12, 2018</td>\n",
       "      <td>A11TVS6FKXS80H</td>\n",
       "      <td>B01HJ8E11E</td>\n",
       "      <td>{'Color:': ' White'}</td>\n",
       "      <td>Jay Salamon</td>\n",
       "      <td>The product works great, but when it gets down...</td>\n",
       "      <td>30% charge shuts the device off</td>\n",
       "      <td>1536710400</td>\n",
       "      <td>0</td>\n",
       "    </tr>\n",
       "    <tr>\n",
       "      <th>261119</th>\n",
       "      <td>4</td>\n",
       "      <td>0</td>\n",
       "      <td>False</td>\n",
       "      <td>08 18, 2018</td>\n",
       "      <td>A3VM9K4M0RQZRQ</td>\n",
       "      <td>B01HJ8E11E</td>\n",
       "      <td>{'Color:': ' White'}</td>\n",
       "      <td>Vincent Roberson Jr</td>\n",
       "      <td>These earphones are very good. I like the desi...</td>\n",
       "      <td>Decent earphones</td>\n",
       "      <td>1534550400</td>\n",
       "      <td>0</td>\n",
       "    </tr>\n",
       "  </tbody>\n",
       "</table>\n",
       "<p>261120 rows × 12 columns</p>\n",
       "</div>"
      ],
      "text/plain": [
       "        overall vote  verified   reviewTime      reviewerID        asin  \\\n",
       "0             5  2.0      True  02 28, 2013  A15U5NUS1EY7IQ  B000001OMI   \n",
       "1             5  5.0      True  10 17, 2012   AHGGNAIT6BH5X  B000001OMI   \n",
       "2             4    0     False  09 27, 2012  A33HUURDJ4DVG3  B000001OMI   \n",
       "3             5  4.0      True  11 27, 2008   A680RUE1FDO8B  B000001OMI   \n",
       "4             3  2.0     False  12 24, 2007  A3OLAZKM77XR6P  B000001OMI   \n",
       "...         ...  ...       ...          ...             ...         ...   \n",
       "261115        5    0      True   05 4, 2018  A3E7OV7IR941JI  B01HI7D4VY   \n",
       "261116        3    0      True  03 14, 2018  A26I2RPRWOGD2V  B01HI7D4VY   \n",
       "261117        4    0      True  09 22, 2018   A3VA3VK4PO1JD  B01HJ8E11E   \n",
       "261118        3    0      True  09 12, 2018  A11TVS6FKXS80H  B01HJ8E11E   \n",
       "261119        4    0     False  08 18, 2018  A3VM9K4M0RQZRQ  B01HJ8E11E   \n",
       "\n",
       "                                     style         reviewerName  \\\n",
       "0       {'Format:': ' Personal Computers'}         S. Bommarito   \n",
       "1                                        0             Edward H   \n",
       "2       {'Format:': ' Personal Computers'}                   HB   \n",
       "3       {'Format:': ' Personal Computers'}     Jerry Saperstein   \n",
       "4       {'Format:': ' Personal Computers'}           Tennis Ace   \n",
       "...                                    ...                  ...   \n",
       "261115                                   0                   JC   \n",
       "261116                                   0                  Ray   \n",
       "261117                {'Color:': ' White'}                   CD   \n",
       "261118                {'Color:': ' White'}          Jay Salamon   \n",
       "261119                {'Color:': ' White'}  Vincent Roberson Jr   \n",
       "\n",
       "                                               reviewText  \\\n",
       "0       I'm getting listening stations going in severa...   \n",
       "1       Needed Headset for watching and editing videos...   \n",
       "2       I was out of town for a month and needed a pai...   \n",
       "3       Obviously these headphones are not for the aud...   \n",
       "4       I bought these headphones at a Tower Records a...   \n",
       "...                                                   ...   \n",
       "261115  I used these for tail light replacement bulbs ...   \n",
       "261116               Not the brightest bulb on the block.   \n",
       "261117  I have only used these for 1 week at the time ...   \n",
       "261118  The product works great, but when it gets down...   \n",
       "261119  These earphones are very good. I like the desi...   \n",
       "\n",
       "                                     summary  unixReviewTime image  \n",
       "0                                 Works well      1362009600     0  \n",
       "1                      HP 200 Stereo Headset      1350432000     0  \n",
       "2        For the price, you cannot beat them      1348704000     0  \n",
       "3            Excellent day-to-day headphones      1227744000     0  \n",
       "4              Foldable but didn't last long      1198454400     0  \n",
       "...                                      ...             ...   ...  \n",
       "261115                        Excellent LEDS      1525392000     0  \n",
       "261116  Not the brightest bulb on the block.      1520985600     0  \n",
       "261117                          They work...      1537574400     0  \n",
       "261118       30% charge shuts the device off      1536710400     0  \n",
       "261119                      Decent earphones      1534550400     0  \n",
       "\n",
       "[261120 rows x 12 columns]"
      ]
     },
     "execution_count": 42,
     "metadata": {},
     "output_type": "execute_result"
    }
   ],
   "source": [
    "product_df"
   ]
  },
  {
   "cell_type": "markdown",
   "metadata": {},
   "source": [
    "# Descriptive Statistics of the Product"
   ]
  },
  {
   "cell_type": "markdown",
   "metadata": {},
   "source": [
    "**a) Number of reviews for each ASIN**"
   ]
  },
  {
   "cell_type": "code",
   "execution_count": 43,
   "metadata": {},
   "outputs": [
    {
     "name": "stdout",
     "output_type": "stream",
     "text": [
      "{'B000001OMI': 41, 'B00000DMA3': 11, 'B00000J1FV': 6, 'B00000J1GA': 12, 'B00000JBHP': 66, 'B00001OPK7': 7, 'B00001P505': 198, 'B00001P4ZH': 1158, 'B00001P4XA': 380, 'B00001P4ZR': 9, 'B00001W0D5': 8, 'B00001W0DG': 14, 'B00001W0DC': 26, 'B00001WRSJ': 1104, 'B00001W0DD': 34, 'B00001W0D4': 10, 'B00004LC7Z': 8, 'B00004SD87': 8, 'B00004SD88': 12, 'B00004T8R2': 1707, 'B00004T8R4': 6, 'B00004TZJQ': 7, 'B00004TZJI': 6, 'B00004TZJJ': 5, 'B00004Z0BP': 6, 'B00004Z5D1': 415, 'B00004Z7G9': 118, 'B00004Z6Q6': 28, 'B00005105L': 56, 'B000056SJT': 10, 'B000056SJU': 6, 'B00005BYER': 7, 'B00005K3LZ': 5, 'B00005N6KF': 16, 'B00005N6KG': 456, 'B00005N9D2': 72, 'B00005N9D3': 542, 'B00005OTG6': 35, 'B00005QBU9': 374, 'B00005QBUU': 102, 'B00005R8Q1': 7, 'B00005R8PV': 6, 'B00005R8PW': 8, 'B00005RFD3': 370, 'B00005T3SQ': 8, 'B000065BP9': 567, 'B000065BPA': 42, 'B000065BPC': 30, 'B000065BPB': 828, 'B000066CCU': 46, 'B000067FCS': 15, 'B000067G0J': 89, 'B000067SBB': 30, 'B000068IFM': 19, 'B00006B9W9': 13, 'B00006HOGN': 16, 'B00006I5RA': 14, 'B00006IS50': 20, 'B00006J07O': 53, 'B00006JILW': 50, 'B00006JILC': 38, 'B00006JILE': 99, 'B00006JPRQ': 167, 'B0000789GC': 6, 'B00007E7C8': 850, 'B00007EDM8': 725, 'B000089GN4': 104, 'B000089GN3': 429, 'B000089GN2': 178, 'B00008AYBF': 24, 'B00008DHSN': 7, 'B00008IP5O': 9, 'B00008VE1B': 16, 'B00008VIX0': 25, 'B00008VIIY': 7, 'B00008W2M5': 11, 'B00008XKYP': 10, 'B00008XKYO': 33, 'B00008Y1VU': 9, 'B00008Z1PB': 9, 'B00008Z1QI': 45, 'B00008Z1QJ': 14, 'B00008Z1PR': 6, 'B00008Z1QG': 7, 'B00008Z1PS': 39, 'B00008Z1PT': 75, 'B00008Z1QF': 6, 'B000092YQW': 185, 'B000095S9V': 30, 'B000095SB6': 216, 'B00009LI55': 95, 'B00009MK3T': 67, 'B00009QP2H': 8, 'B00009RDIF': 248, 'B00009V2OV': 22, 'B00009W42Y': 10, 'B0000ACCJA': 394, 'B000094Q77': 101, 'B0000DZDHB': 162, 'B0000E3DQ7': 10, 'B0000U19F0': 95, 'B0000UUXB6': 7, 'B00012F8AY': 38, 'B00013BLEK': 9, 'B00013BKS2': 9, 'B00013BKRI': 14, 'B00014B4OQ': 13, 'B000165FRQ': 5, 'B00019K87A': 9, 'B0001FTVEK': 926, 'B0001FTVDQ': 238, 'B0001FTVEA': 536, 'B0001FTVDG': 47, 'B0001FZFSQ': 5, 'B0001IM95U': 85, 'B0001IVB1S': 33, 'B0001IXUEE': 26, 'B0001M2FZK': 33, 'B0001OYMFO': 19, 'B0001OY2V8': 11, 'B0001R05XE': 14, 'B0001YFZ2I': 7, 'B0001YFZ46': 36, 'B000220DCG': 12, 'B00022OAH0': 6, 'B000234N0S': 19, 'B00023C6SE': 31, 'B00023MEL8': 29, 'B00024QV0M': 12, 'B000288I4U': 7, 'B0002BAU84': 22, 'B0002C84B8': 9, 'B0002CZHN6': 673, 'B0002D03ZW': 243, 'B0002D0712': 9, 'B0002D0HT4': 9, 'B0002EQUL2': 30, 'B0002F513E': 27, 'B0002EXJPM': 45, 'B0002F74E8': 26, 'B0002GFOVM': 106, 'B0002I5RHG': 23, 'B0002I5RI0': 162, 'B0002ICGCK': 10, 'B0002J6J7M': 5, 'B0002KQZJS': 32, 'B0002KU5WQ': 7, 'B0002SQ3Z6': 17, 'B0002T3UQK': 7, 'B0002Z453G': 5, 'B0002Z82XA': 531, 'B00030CHRQ': 88, 'B00061IYII': 21, 'B00061IYFQ': 9, 'B000629GES': 186, 'B00062PN6I': 475, 'B0006688ZC': 17, 'B00067OF80': 107, 'B00067OEPO': 13, 'B00067OEPE': 5, 'B0006B486K': 401, 'B0006DPMUO': 9, 'B0006DPMU4': 201, 'B0006FU7O8': 20, 'B0006GCCWW': 25, 'B0006GCCN6': 47, 'B0006OQY2S': 27, 'B0006TIA48': 66, 'B0006VT1TY': 25, 'B00076VEG6': 16, 'B000779RZA': 78, 'B0007GBAAG': 7, 'B0007IPC58': 66, 'B0007L7EZQ': 47, 'B0007LCMVM': 11, 'B0007N55KK': 12, 'B0007N55O6': 9, 'B0007N55P0': 5, 'B0007N55NC': 7, 'B0007N55OQ': 30, 'B0007N55NM': 111, 'B0007N55NW': 272, 'B0007N55L4': 8, 'B0007N55PA': 22, 'B0007NWL70': 1236, 'B0007Q3C5M': 21, 'B0007QN18U': 185, 'B0007QN18K': 21, 'B0007QN180': 10, 'B0007QN18A': 8, 'B0007XL43M': 43, 'B0007XJSQC': 1167, 'B00080O0UI': 48, 'B00085ESA0': 132, 'B0008IV9R2': 24, 'B0009GWXAK': 22, 'B0009KMS8I': 6, 'B0009MFKDQ': 19, 'B0009MFQ1M': 12, 'B0009N53Z0': 6, 'B0009PXDPU': 8, 'B0009RKDN8': 7, 'B0009SAN3W': 12, 'B0009WQFVC': 10, 'B0009WZ0XG': 5, 'B000A2BH0K': 10, 'B000ALY230': 9, 'B000AM8WQM': 32, 'B000ANLBQE': 6, 'B000AP05BO': 172, 'B000B622D6': 7, 'B000B622DG': 14, 'B000B9TV96': 9, 'B000BD7QUS': 21, 'B000BD665Y': 13, 'B000BKE8QQ': 14, 'B000BKBZGC': 11, 'B000BNXTXG': 8, 'B000BPRGK6': 42, 'B000BR0DTK': 6, 'B000BX4ZUM': 6, 'B000C6SP4K': 7, 'B000CBB4N4': 26, 'B000CBB4MK': 11, 'B000CMLZFK': 9, 'B000CMLZEG': 10, 'B000CRGV86': 7, 'B000CSSHXM': 9, 'B000CZ0RMY': 15, 'B000DZGA92': 7, 'B000E1FYRO': 52, 'B000E5FQSC': 38, 'B000E5XLZM': 38, 'B000E5XCEW': 5, 'B000E9VKUQ': 88, 'B000EBBJ6Y': 79, 'B000EDO2PW': 7, 'B000EEHM1W': 13, 'B000EEP9V2': 8, 'B000EGHU9O': 40, 'B000EGJTLQ': 13, 'B000EGLZTA': 13, 'B000EGLZU4': 38, 'B000EIC7LI': 9, 'B000ENRQ3M': 625, 'B000EULJPQ': 12, 'B000F2BLTM': 125, 'B000F2BLTC': 9, 'B000F5XTXA': 9, 'B000FEJPZW': 9, 'B000FFTVSC': 12, 'B000FL2EJE': 41, 'B000FOYMKU': 415, 'B000FQJMAI': 12, 'B000FTWSZQ': 17, 'B000G0JKHS': 7, 'B000G0LL48': 8, 'B000G1Q9GW': 19, 'B000G1QAE8': 6, 'B000G36GOA': 14, 'B000G35RYK': 29, 'B000GH2QYK': 73, 'B000HDTXDA': 28, 'B000HWV8QG': 22, 'B000I13TBS': 11, 'B000I2T5E2': 8, 'B000IBPWQS': 5, 'B000IK4C24': 16, 'B000IK5X2C': 7, 'B000IS1ZZI': 26, 'B000ISP3QA': 6, 'B000IS1ZYY': 20, 'B000ITLFXO': 27, 'B000J1N3HW': 53, 'B000J38ZGY': 8, 'B000J3G2CS': 98, 'B000JKHXRO': 91, 'B000JKDTPE': 7, 'B000JUT2XC': 21, 'B000JUZE1Q': 18, 'B000K41PH8': 16, 'B000KLZ7VG': 174, 'B000KQQUQW': 71, 'B000KRRCS6': 6, 'B000KUFCYY': 5, 'B000LR3FHW': 13, 'B000LVIC58': 71, 'B000M5GS7M': 85, 'B000MMWT9Q': 79, 'B000MUXVZO': 140, 'B000MUXVYK': 67, 'B000MVEC10': 30, 'B000MVEC0Q': 59, 'B000MVGBNW': 10, 'B000MX7Z2Q': 26, 'B000MX7Z12': 42, 'B000MX7Z2G': 12, 'B000MX7Z1W': 9, 'B000MX7Z3K': 6, 'B000MX7Z3U': 5, 'B000MX7Z1C': 7, 'B000MX7Z0S': 13, 'B000MX7Z30': 19, 'B000MX7Z1M': 29, 'B000NKCO5Q': 164, 'B000NV0SG2': 595, 'B000O118F6': 6, 'B000O5MP4U': 25, 'B000O9W74E': 24, 'B000OGNQGA': 5, 'B000OGNQF6': 6, 'B000OKH74S': 19, 'B000OKH6ZI': 67, 'B000OKH75M': 6, 'B000OKFD3K': 26, 'B000OKLT8S': 6, 'B000OKJQ7E': 7, 'B000OMKR8E': 368, 'B000OQUMKI': 28, 'B000OQWQ4I': 12, 'B000OR0YYQ': 5, 'B000OV05QO': 19, 'B000OYFOZS': 19, 'B000P1D7RM': 21, 'B000P6LA3A': 7, 'B000P709IG': 7, 'B000P709JK': 9, 'B000PBW6VK': 15, 'B000PCEFXQ': 176, 'B000PGAPR2': 12, 'B000PQLJ86': 459, 'B000QGJRL6': 7, 'B000QJBG2G': 38, 'B000QRCRP8': 12, 'B000QS5MM2': 34, 'B000QS4FMA': 52, 'B000QS0ZVU': 7, 'B000QS0ZH4': 27, 'B000QUPUKY': 13, 'B000R0TPQ8': 15, 'B000R2PC2M': 165, 'B000R6SYKU': 19, 'B000RH1RV2': 62, 'B000RPGI36': 8, 'B000RRQEZG': 6, 'B000RW5XCG': 14, 'B000SNOT4C': 67, 'B000TDZOXG': 97, 'B000TXRJMK': 16, 'B000U07C1U': 227, 'B000U7GDMC': 8, 'B000UBZDNS': 12, 'B000ULAP4U': 1328, 'B000UNVNJY': 22, 'B000UNVNJE': 8, 'B000UPBQQC': 12, 'B000UPA4R4': 11, 'B000UPBTXM': 10, 'B000UPEJCU': 8, 'B000V5QAYE': 20, 'B000V6FX9G': 10, 'B000VADPHY': 151, 'B000VIZE2U': 38, 'B000VJXFA2': 54, 'B000VJXS9A': 22, 'B000VR7M2Q': 14, 'B000VRU4JE': 13, 'B000VS699C': 4, 'B000VSDUSA': 13, 'B000VWOL3O': 78, 'B000W3V2XY': 7, 'B000W4EMMQ': 8, 'B000W7PGU0': 10, 'B000WD7B20': 23, 'B000WG31SU': 10, 'B000WFZ1U2': 7, 'B000WH83AA': 42, 'B000WKPH6U': 8, 'B000WQULKQ': 17, 'B000WV6VGO': 14, 'B000X434W4': 3, 'B000X92E3E': 8, 'B000X8MDOU': 4, 'B000XA8766': 82, 'B000XG13CA': 4, 'B000XG3QCU': 9, 'B000XJRZPG': 29, 'B000XPSU40': 5, 'B000Y04OSU': 11, 'B000Y03A3A': 18, 'B000Y1BLSK': 45, 'B000Y3YKMW': 7, 'B000Y556M8': 14, 'B000YHDJ52': 86, 'B000YHWVRO': 3, 'B000YIF4I6': 85, 'B000Z31GGE': 21, 'B000ZJZ7OA': 202, 'B000ZRVCY6': 12, 'B00104HX7I': 7, 'B0010LMW9A': 5, 'B00112O1LA': 7, 'B00113XADE': 228, 'B0011UB9CQ': 280, 'B0011UK2H4': 11, 'B00125UBUG': 28, 'B0012UGJNY': 9, 'B0012UF1QA': 15, 'B0012UCYVU': 21, 'B0012UKOV2': 73, 'B0012XZAWW': 7, 'B0012XZAXG': 23, 'B0013JIEO6': 10, 'B0013OWPVO': 37, 'B0013OWPV4': 329, 'B0014AWALM': 1, 'B0014II9F0': 205, 'B0014JFV7I': 5, 'B0014XTPGM': 30, 'B00155C5IY': 14, 'B001581N70': 16, 'B001586N5M': 10, 'B001584QQA': 23, 'B001587LOO': 16, 'B00159YWDQ': 11, 'B0015A9G0Y': 16, 'B00159YWE0': 15, 'B0015ADDYY': 68, 'B0015AFWC0': 24, 'B0015AE4C4': 17, 'B0015AFOL4': 10, 'B0015ADZYC': 12, 'B0015AFONW': 53, 'B0015AE4CE': 374, 'B0015AB6DO': 45, 'B0015AM3AY': 33, 'B0015AK270': 34, 'B0015AK27U': 24, 'B0015AK27K': 16, 'B0015AHRFK': 439, 'B0015AFWD4': 79, 'B0015ADXPI': 4, 'B0015AFOR8': 101, 'B0015AM3B8': 20, 'B0015AK112': 10, 'B0015C1RKE': 7, 'B0015C3UB8': 37, 'B0015H7924': 91, 'B0015YKWW6': 34, 'B0015Z2DP4': 8, 'B0015ZA5WC': 25, 'B00165YVTE': 60, 'B0016JE8KC': 5, 'B0016MOA7A': 10, 'B0016MNBAM': 163, 'B00172M8HS': 249, 'B00176TEGM': 47, 'B0017IJALY': 7, 'B0017KTOJK': 92, 'B0017NVNP0': 3, 'B00187PRFC': 56, 'B0018BK27G': 6, 'B0018BN066': 24, 'B0018VDADE': 82, 'B00193FT26': 138, 'B00195TS4Y': 13, 'B0019FHM9M': 92, 'B0019FUHEO': 6, 'B0019T7KW2': 6, 'B001AE1A6I': 11, 'B001ADXR3I': 65, 'B001ARHZBE': 11, 'B001AUPJVO': 45, 'B001B1QENY': 69, 'B001B4E4WE': 13, 'B001BIQROS': 13, 'B001BTWMPU': 11, 'B001C3K7I4': 50, 'B001CBTQ4C': 8, 'B001CBRW8E': 23, 'B001DCEMMQ': 6, 'B001DDEJLE': 43, 'B001DDEJJQ': 7, 'B001DDLMQ4': 13, 'B001DDGIM2': 5, 'B001DDLMN2': 46, 'B001DDIJ24': 7, 'B001DFX2OC': 107, 'B000MVGBO6': 6, 'B001DL71GG': 18, 'B001EO9TM6': 9, 'B001EP86LA': 22, 'B001EUC4RW': 6, 'B001EUE6EG': 5, 'B001EUE6AK': 20, 'B001EV9SHA': 7, 'B001EYU3LC': 319, 'B001F21XIK': 14, 'B001F8SAK8': 20, 'B001FSITAE': 65, 'B001GF7WRW': 21, 'B001GGI7AC': 6, 'B001GGK6RO': 6, 'B001GFM5O2': 14, 'B001GGI8OC': 6, 'B001GGWHTY': 9, 'B001GS8G1K': 44, 'B001GS8G24': 29, 'B001GS8FZW': 29, 'B001GS8FZM': 139, 'B001GS8G0G': 92, 'B001GS8FZ2': 399, 'B001GS8G1A': 34, 'B001GS8G10': 35, 'B001GS8G0Q': 23, 'B001GS8FZC': 120, 'B001GS8G1U': 17, 'B001GT32SG': 12, 'B001GX6DZQ': 5, 'B001GXQSP6': 11, 'B001GXQSPG': 13, 'B001H189BS': 8, 'B001K3ENEA': 59, 'B001LDIJCQ': 10, 'B001LDDX22': 8, 'B001MQ3CCO': 8, 'B001MWKP5A': 5, 'B001NONW2K': 9, 'B001O2S9HE': 7, 'B001O2S9H4': 5, 'B001O2S9II': 6, 'B001ODDBSU': 85, 'B001OZ7DT6': 26, 'B001OXJPZS': 7, 'B001P0XI2Q': 15, 'B001P3PSS0': 119, 'B001P3NU5S': 6, 'B001P5I4W0': 15, 'B001P822RU': 5, 'B001PE5MPS': 6, 'B001Q4Z9RI': 11, 'B001QGETI6': 6, 'B001QGIV9O': 6, 'B001QTJ1F4': 12, 'B001QVFOBW': 7, 'B001QWLTYM': 26, 'B001R4BA3O': 16, 'B001RB24KK': 11, 'B001RB24L4': 8, 'B001RB24LE': 12, 'B001RB24NW': 5, 'B001RB24N2': 6, 'B001RB24LY': 12, 'B001RB24LO': 13, 'B001RB24R8': 68, 'B001RB24QO': 13, 'B001RB24VY': 11, 'B001RB24P0': 15, 'B001RB24NM': 31, 'B001RCD2DW': 122, 'B001RB24S2': 283, 'B001RNO92Y': 52, 'B001SEARCS': 22, 'B001SEARLO': 7, 'B001SEARFU': 5, 'B001TETXW2': 7, 'B001THQU20': 11, 'B001TK3AC0': 130, 'B001TK3ACA': 126, 'B001U7YKVM': 29, 'B001U7SRI4': 18, 'B001UAB0I0': 12, 'B001UAGQPW': 37, 'B001UE6PE0': 66, 'B001UE6I0G': 340, 'B001UPGVBG': 8, 'B001URUQ7Y': 10, 'B001VPN4R4': 14, 'B001YSI04A': 43, 'B001Z0OFBO': 23, 'B0022TMB9A': 58, 'B0023RRNI0': 13, 'B0023RT0X6': 6, 'B0023SJCII': 16, 'B00242J0XU': 73, 'B00252XY04': 10, 'B0025V1NU8': 15, 'B002634RZI': 57, 'B0026EESRY': 28, 'B0026I8U0G': 5, 'B0026NUBNK': 6, 'B0026P4670': 8, 'B0027Q4HXG': 147, 'B0028JE3T0': 53, 'B0028N78IE': 8, 'B0028N78FM': 11, 'B0028N78HA': 26, 'B0028PGXRE': 85, 'B0029Z9T9W': 20, 'B002A8KIRU': 19, 'B002AXSIFY': 7, 'B002B4KM1A': 63, 'B002B4OEZ0': 40, 'B002B4OKYU': 22, 'B002B9AR8I': 9, 'B002C73X2G': 21, 'B002DP8IEK': 82, 'B002DOIZSK': 6, 'B002DP594W': 38, 'B002E9HB3O': 7, 'B002EL4MY8': 37, 'B002EL4MYI': 12, 'B002EL4RIY': 10, 'B002GCJTXY': 8, 'B002GQPTNY': 12, 'B002GYVZ2A': 14, 'B002HUURWM': 20, 'B002J1LMVE': 14, 'B002LK2QJK': 108, 'B002NEMH6G': 13, 'B002NSWN7A': 7, 'B002NU4ZMO': 15, 'B002NTMHU2': 21, 'B002P8T0H4': 25, 'B002P8T0L0': 18, 'B002PF0A58': 30, 'B002PHM0VI': 15, 'B002PKYOY6': 50, 'B002RWJD98': 91, 'B002SOU2Y0': 336, 'B002SOZWMC': 11, 'B002SP2X5U': 230, 'B002SSPNXQ': 271, 'B002T6Z238': 7, 'B002TKLJ8G': 34, 'B002TLT10I': 697, 'B002UXRED6': 9, 'B002W4JIOQ': 7, 'B002Z9JWZI': 251, 'B0030IU0ZY': 69, 'B0030XXH1S': 91, 'B0033QCGO6': 124, 'B00356DGV6': 9, 'B00356M5IQ': 15, 'B00356HIBU': 11, 'B00356FFB0': 8, 'B00358VSH8': 15, 'B00358VSI2': 22, 'B00359FQHA': 5, 'B00359FQOS': 7, 'B0035JKJ2W': 98, 'B0035JKJLI': 11, 'B0035MDZKM': 27, 'B00365EB3I': 32, 'B00375MWE2': 82, 'B0037N9C88': 8, 'B00385XTWA': 9, 'B00385XTX4': 5, 'B00385XU6K': 18, 'B00385XU8I': 6, 'B00385XU5Q': 13, 'B00385XU7Y': 16, 'B00385XUE2': 7, 'B0038W0K1G': 120, 'B0039286A2': 12, 'B003BT6A06': 38, 'B003BT6A10': 9, 'B003BT6A1U': 36, 'B003BT6A0G': 12, 'B003CF9UQU': 10, 'B003CJTR8C': 466, 'B003CJTR8M': 622, 'B003CP0KFK': 36, 'B003CP0KCS': 110, 'B003CUJT1G': 5, 'B003D29LC0': 22, 'B003DKL576': 37, 'B003DKL55S': 22, 'B003DNYW5A': 14, 'B003E49GRC': 33, 'B003EM2WF2': 81, 'B003EM6ANW': 17, 'B003ELYQGG': 40, 'B003FMUP2S': 19, 'B003FMUP2I': 25, 'B003H56Y14': 7, 'B003I4FE42': 86, 'B003IT6J50': 7, 'B003IWRMF8': 7, 'B003LPTAYI': 1734, 'B003MB0WMA': 20, 'B003MB0YDC': 48, 'B003MV0U5E': 16, 'B003NGH6I2': 5, 'B003RRWRMC': 7, 'B003S3DEUY': 259, 'B003SP4QAE': 431, 'B003TO9KVE': 6, 'B003TVKGWO': 5, 'B003U2YCZE': 67, 'B003U4Q11A': 12, 'B003UYU166': 19, 'B003UYU16G': 53, 'B003V9RWEO': 7, 'B003VNKKSA': 96, 'B003VNKKTE': 51, 'B003VSTEUK': 8, 'B003VTZPOS': 5, 'B003XMA7U0': 22, 'B003XU7H1O': 5, 'B003Y052ZG': 13, 'B003Y3BHF2': 8, 'B003YH9EZ8': 104, 'B003YL3L9Y': 14, 'B003ZJAQZW': 67, 'B003ZLQ1YA': 6, 'B003ZVU1GY': 38, 'B00404H6DQ': 24, 'B0040Z1EHY': 309, 'B0041DXTJG': 15, 'B00428N9N6': 64, 'B0042A68R8': 206, 'B0042BXSMU': 5, 'B0042ETXRQ': 28, 'B00433SNY0': 5, 'B0043FKZ30': 59, 'B0043GF9DK': 37, 'B0043M9ATS': 60, 'B004443WQC': 5, 'B004444O6E': 56, 'B004444O46': 205, 'B004444O50': 81, 'B004477D0K': 102, 'B004477D00': 84, 'B004477OBI': 27, 'B004477OB8': 11, 'B004477D0A': 88, 'B00454YCWY': 96, 'B0045DNX48': 48, 'B0046SRAUA': 6, 'B0046SLA4M': 11, 'B0046W2MKY': 20, 'B0046W5EQI': 34, 'B0046XIX7O': 10, 'B0046ZH10M': 32, 'B0046ZSWX2': 7, 'B0047XRVWQ': 122, 'B00480OQAI': 21, 'B004923LQK': 12, 'B004ACQMUQ': 29, 'B004ARSMXQ': 21, 'B004ARUO2S': 51, 'B004AWE4D8': 67, 'B004B8GF7Y': 121, 'B004BU6GLM': 10, 'B004BW74DO': 330, 'B004BY4O5I': 7, 'B004C7UMQY': 84, 'B004CCRF7S': 8, 'B004CRIG76': 23, 'B004CYEQB4': 15, 'B004D4R9VC': 98, 'B004DD5VCW': 21, 'B004DE1LYI': 9, 'B004DPBSWW': 10, 'B004DOX70O': 24, 'B004DUC11E': 17, 'B004E9SWO4': 9, 'B004E9SWOE': 10, 'B004E9SWPI': 7, 'B004E9SWOY': 17, 'B004E9SWOO': 29, 'B004FEEY9A': 444, 'B004H1RYI4': 17, 'B004H1W1MS': 27, 'B004HB2X4O': 17, 'B004HD4L2E': 229, 'B004HKIAJM': 22, 'B004I5BPYI': 7, 'B004I8MUOO': 15, 'B004IK2EAW': 45, 'B004IM35F8': 24, 'B00007EDM0': 20, 'B004JHVJ5A': 28, 'B004JPIKM2': 5, 'B004K09H32': 22, 'B004KCLIFA': 58, 'B004KCJJ4M': 23, 'B004KVIZFW': 8, 'B004L9DBZ2': 5, 'B004LLG77Y': 42, 'B004LPZBD6': 106, 'B004LY1LJA': 51, 'B004M13GA4': 92, 'B004M210S8': 7, 'B004MF33OY': 12, 'B004MMEI0K': 15, 'B004MMEI8C': 197, 'B004MTE7EK': 27, 'B004OA6WOA': 14, 'B004OBZ2UY': 25, 'B004OBZ2UO': 9, 'B004OBZ2ZO': 44, 'B004OPXIWY': 24, 'B004OXXE9I': 8, 'B004P1HTEA': 5, 'B004P1HTAE': 18, 'B004P11EPU': 6, 'B004PYD8SI': 32, 'B004PYD88S': 19, 'B004PYD88I': 21, 'B004QK5A0K': 9, 'B004QK44K2': 7, 'B004QOA93E': 214, 'B004QWOSLK': 108, 'B004RE20IK': 22, 'B004RE3YU8': 484, 'B004RKQMCY': 820, 'B004SKBKM0': 18, 'B004SNCZ3K': 62, 'B004SU1B2Y': 12, 'B004U4XB62': 763, 'B004U5DHD8': 5, 'B004V4L8RA': 7, 'B004V4L8PW': 5, 'B004V4L8EI': 10, 'B004VTG0F0': 6, 'B004VUEO3O': 5, 'B004W2YBFM': 7, 'B004W73TCI': 21, 'B004WBUPNU': 11, 'B004WD1F1O': 58, 'B004WIOCSC': 10, 'B004WJRTOK': 19, 'B004WJVAF4': 19, 'B004WODP20': 3119, 'B004WZVO68': 224, 'B004XABPMU': 11, 'B004XFMGIW': 36, 'B004XFRAJW': 9, 'B004XW2NEW': 101, 'B004Y2O790': 12, 'B004Y4XVOK': 190, 'B003VTZPPC': 8, 'B004Z0UMVI': 69, 'B004Z16VTE': 65, 'B004Z4C0RI': 96, 'B004Z57XPQ': 162, 'B004Z57X42': 96, 'B004Z57WKW': 45, 'B004Z58VZ2': 9, 'B004ZF0R22': 46, 'B004ZIALYS': 14, 'B00503KPYS': 147, 'B0050DAJF8': 142, 'B0050DJ33M': 37, 'B0050SJ2JW': 7, 'B00510ERPS': 6, 'B00510ERKI': 5, 'B00518DE2W': 12, 'B0051HF2K0': 5, 'B0051QPADA': 33, 'B0051UOUNM': 50, 'B0052C4PFW': 7, 'B0052FU0O4': 25, 'B0052UB5UC': 56, 'B0052VKXF4': 11, 'B0052ZYWE8': 14, 'B0053OZRHO': 9, 'B0053X0ABI': 6, 'B0054JJ0QW': 873, 'B005586PT2': 65, 'B0055E0JMA': 34, 'B0055PRIG4': 15, 'B005626CMM': 9, 'B005643FD4': 7, 'B00564D9CG': 17, 'B0056HNSSS': 5, 'B0056J7OIQ': 11, 'B00579L24W': 6, 'B0057FOBJ4': 5, 'B0057FOD4W': 11, 'B0057IM57Q': 5, 'B0057XZSMA': 28, 'B0057XZSF2': 110, 'B0058C6LA8': 6, 'B0058DAHVQ': 5, 'B0058NTTNS': 23, 'B00590GH8K': 11, 'B00591GIQK': 15, 'B0059GFQPO': 48, 'B005BHIZ7M': 71, 'B005BHIZU4': 32, 'B005C1KG9M': 38, 'B005C1YOKY': 5, 'B005C1U8QS': 29, 'B005C3CYK4': 46, 'B005CM8RPG': 16, 'B005CNR7B0': 84, 'B005CSFWUS': 9, 'B005CSPHYY': 125, 'B005CTIUSI': 11, 'B005DDDISA': 6, 'B005DDDIEY': 6, 'B005DJ6WHS': 26, 'B005DKZTKS': 100, 'B005DOOJHS': 6, 'B005DOOJ1E': 5, 'B005DOOJ00': 52, 'B005DOOIZG': 12, 'B005E8MV14': 42, 'B005ELS6GU': 137, 'B005ELS6HE': 28, 'B005F2KI8W': 5, 'B005F2KIYG': 17, 'B005F2KHVK': 9, 'B005F2L47Q': 18, 'B005F2KHW4': 7, 'B005F2KJJA': 15, 'B005FDOG6Q': 10, 'B005FDOG7A': 24, 'B005FDOGUM': 36, 'B005FDOVY8': 9, 'B005FDOGTI': 5, 'B005FDOGLG': 14, 'B005FDOGK2': 61, 'B005FM94YQ': 5, 'B005FO2CMU': 7, 'B005FO2CAW': 25, 'B005FO2CAM': 19, 'B005FO2CBQ': 13, 'B005FO2CYS': 16, 'B005FO2DII': 8, 'B005FPT5N8': 37, 'B005FU5L40': 101, 'B005FVDTA2': 9, 'B005FVDT4I': 22, 'B005FVDTAW': 69, 'B005FVDT84': 10, 'B005GNQNHU': 79, 'B005GS60DM': 22, 'B005GSVN48': 62, 'B005H2C6LC': 14, 'B005HIS6JC': 10, 'B005HIS6IS': 5, 'B005HJWWW8': 711, 'B005HRXOQ8': 16, 'B005I4L6NI': 9, 'B005I65QPK': 5, 'B005I7Y420': 130, 'B005IGPZ2Y': 6, 'B005IH2PZI': 13, 'B005IMJDKS': 5, 'B005INJ4ZG': 259, 'B005ITY7KM': 5, 'B005IXU8RE': 18, 'B005IY4KZ4': 10, 'B005IYDFQE': 5, 'B005IXUCEI': 7, 'B005J6OXNU': 6, 'B005JC78JU': 6, 'B005JSNZLY': 11, 'B005JXH1EG': 25, 'B005JXH1EQ': 7, 'B005JXH1OQ': 6, 'B005JXH1DW': 10, 'B005JXH1NC': 32, 'B005JXH1F0': 14, 'B005JXH1NW': 6, 'B005JXH1OG': 37, 'B005JXH1NM': 17, 'B005JXH1E6': 12, 'B005JXH1SC': 14, 'B005K22JSO': 73, 'B005K5K1ZY': 14, 'B005K8IG5I': 7, 'B005KJJOEY': 35, 'B005KJJKVG': 43, 'B005KJM30G': 56, 'B005KK3W8M': 5, 'B005KJMTXM': 66, 'B005KK5GPO': 12, 'B005L38XRS': 55, 'B005LAIFE2': 42, 'B005LAIEN4': 45, 'B005LA53D8': 11, 'B005LTWXK0': 15, 'B005LW1AT2': 58, 'B005M1KO1C': 118, 'B005MB8E1Y': 50, 'B005MCXKMQ': 28, 'B005MI8NI6': 12, 'B005MI8NHM': 17, 'B005MI8NJA': 16, 'B005MI8NQI': 9, 'B005MI8NJK': 20, 'B005MI8NQ8': 18, 'B005MLPQGK': 28, 'B005MYEC3U': 5, 'B005MZFMCY': 11, 'B005N00FW0': 7, 'B005N8A4Z0': 54, 'B005N8W1TM': 153, 'B005N8W1H4': 108, 'B005N8W214': 94, 'B005N8W1MO': 198, 'B005N8W27I': 96, 'B005N8W1Q0': 143, 'B005N8W16U': 51, 'B005NAZLGK': 15, 'B005NRJRKO': 10, 'B005O0P3N0': 6, 'B005O4FYVC': 22, 'B005ODF7N8': 22, 'B005OEN3WO': 5, 'B005OIB76O': 26, 'B005OLOIUI': 221, 'B005OM2AD4': 9, 'B005P18TXO': 10, 'B005PN2O24': 18, 'B005PQ1V20': 52, 'B005PX9B66': 11, 'B005Q311QI': 30, 'B005Q314NS': 41, 'B005Q3TV0G': 22, 'B005QAV6FC': 443, 'B005QLUVHK': 53, 'B005RZUH9W': 12, 'B005S3EIOS': 12, 'B005SFY0I0': 8, 'B005SGUROK': 12, 'B005SNPTRS': 68, 'B005SZ3PDG': 25, 'B005T1EVYG': 8, 'B005T1EV82': 6, 'B005TCZIH4': 6, 'B005TL75F8': 17, 'B005U9CUJK': 5, 'B005UNEOM2': 11, 'B005URKEKY': 9, 'B005VEZ550': 463, 'B005VEZ54Q': 192, 'B005VEZ58M': 36, 'B005VJG48C': 27, 'B005VLJ4P0': 16, 'B005VP9MQ2': 19, 'B005W1BXC6': 11, 'B005W1DSU6': 11, 'B005W1D6ZS': 9, 'B005WKYL1M': 8, 'B005XO3OII': 7, 'B005YR0X4W': 42, 'B005ZNHDYS': 36, 'B005ZNHK4Q': 42, 'B005ZNHOW4': 71, 'B0060449IY': 14, 'B00611QIGW': 11, 'B0062C2GAW': 7, 'B0062OOFAY': 14, 'B00632GE54': 13, 'B0063PNKNA': 6, 'B0063W8VLO': 10, 'B0064LCL74': 27, 'B0065V45FO': 8, 'B00667F7OK': 11, 'B00669L9JA': 10, 'B0066CSAIU': 13, 'B0067GNWB0': 8, 'B0067TLUH0': 19, 'B0067WBJS2': 31, 'B00684HUYQ': 17, 'B00689F764': 147, 'B006A0K2LG': 6, 'B006B9GRM4': 79, 'B006BUN6G8': 51, 'B006BUN6ZE': 160, 'B006BUN7MG': 53, 'B006BUNULY': 6, 'B006CDWC8W': 7, 'B006CVBHUI': 23, 'B006CVF1P0': 57, 'B006DBQHZM': 14, 'B006DL43FI': 15, 'B006E69AS2': 21, 'B006FE0NXO': 7, 'B006GQMXAM': 75, 'B006IF7S92': 187, 'B006IJJH7O': 145, 'B006JSPLA6': 21, 'B006K55748': 34, 'B006K556L2': 11, 'B006K556B2': 20, 'B006K557BQ': 12, 'B006K55662': 47, 'B006K556TY': 7, 'B006K556FI': 19, 'B006K5576Q': 25, 'B0043TW4G2': 5, 'B006LAH0FG': 125, 'B006LD7VP2': 21, 'B006LW1D20': 30, 'B006MA9XXM': 53, 'B006MQI1G6': 8, 'B006NGHN5A': 135, 'B006NH8768': 52, 'B006NODD6A': 6, 'B006PB436A': 10, 'B006PV5XZK': 14, 'B006Q6RA9Q': 6, 'B006Q6RAAA': 12, 'B006QKXURS': 75, 'B006RAXKR2': 6, 'B006RAXKYA': 10, 'B006RAXL6W': 10, 'B006RBDEW2': 10, 'B006RUIWC0': 38, 'B006S8DS4I': 25, 'B006T2WZ9M': 5, 'B006T9TIYK': 7, 'B006TGQ9ZE': 50, 'B006U8CZNQ': 41, 'B006UPLDJQ': 8, 'B006V386UG': 42, 'B006VJT1K4': 28, 'B006VJQ2OM': 85, 'B006VJREFS': 34, 'B006VJOOHE': 54, 'B006WHPQUO': 70, 'B006WHPQSQ': 27, 'B006WHPQDG': 24, 'B006WO2600': 102, 'B006X3TBK8': 15, 'B006Z01UAI': 12, 'B006Z1J2JI': 59, 'B006ZH2VZ4': 8, 'B007003IO8': 49, 'B007003J2E': 36, 'B0070U6N6I': 15, 'B0070UKBO8': 805, 'B007120CI0': 9, 'B007136B84': 45, 'B0071368WI': 126, 'B007136AJY': 9, 'B007250TAC': 11, 'B00727FE5U': 357, 'B0072B9VVY': 10, 'B0072LGY5K': 47, 'B0072V72DI': 8, 'B0073W6ZE8': 48, 'B0073XY5HG': 52, 'B0073XY5LC': 75, 'B0074EUKDM': 126, 'B0074F5DKG': 16, 'B00755P8A0': 5, 'B00768ZS4W': 237, 'B0076NDV0U': 36, 'B0076Z78AM': 81, 'B00773S2XU': 7, 'B00775PHE0': 6, 'B0077PCGP8': 46, 'B0077YTFPS': 18, 'B00789K6O6': 16, 'B0078JFQD2': 120, 'B0078JFQ0K': 80, 'B0078JSDCS': 5, 'B0078JSD28': 10, 'B00792HLWW': 8, 'B0079655A8': 5, 'B00796E95A': 18, 'B0079LE57C': 7, 'B0079LE43W': 70, 'B0079LE3GU': 28, 'B007AH7YFU': 8, 'B007B5P714': 42, 'B007BGGB86': 9, 'B007BGF8AI': 5, 'B007BNEJS8': 28, 'B007BP4HB0': 5, 'B007BTULVG': 630, 'B007BTULMU': 141, 'B007BY3PO6': 95, 'B007BY3PE6': 7, 'B007BY3OVU': 181, 'B007BY3PBY': 160, 'B007BY3PBO': 17, 'B007BY3PCI': 10, 'B007BY3PNC': 215, 'B007CLUO6U': 6, 'B007CLUOS8': 9, 'B007CTO01W': 5, 'B007CZNS0U': 55, 'B007D30DMC': 10, 'B007DB5OCS': 32, 'B007DCCK60': 15, 'B007G4O5IG': 143, 'B007G54QX4': 455, 'B007G93LWC': 107, 'B007G92MG8': 26, 'B007G96KZ2': 8, 'B007G95FJE': 260, 'B007GN0GBW': 5, 'B007GN1454': 52, 'B007GN0WKW': 19, 'B007GN0RDO': 9, 'B007GN1A4O': 6, 'B007GN0TD2': 7, 'B007GN0892': 6, 'B007HIR3MG': 28, 'B007HISA1Y': 23, 'B007HIRHSG': 49, 'B007HISSXE': 98, 'B007HU6ETC': 14, 'B007I1QY5Y': 86, 'B007IRM6NW': 6, 'B007IZNM1O': 67, 'B007J8MUKY': 45, 'B007JG54DG': 7, 'B007K3SB6K': 47, 'B007K7ZTKW': 6, 'B007KAZK4E': 13, 'B007KTQU2Q': 17, 'B007KWLF5K': 133, 'B007L87V60': 15, 'B007NJFAI8': 7, 'B007PFS1JK': 208, 'B007PL2A78': 6, 'B007PL31OO': 8, 'B007PL248S': 5, 'B007POCCFK': 28, 'B007R67QNO': 6, 'B007R67Q8O': 7, 'B007RB13YM': 77, 'B007RB1BL2': 6, 'B007RM0X38': 81, 'B007TRUTFS': 186, 'B007TSRCZW': 8, 'B007TW93CI': 50, 'B007U66T66': 12, 'B007WZS41I': 49, 'B007XPMFGM': 37, 'B007XZJ3BW': 15, 'B007Y0RF20': 6, 'B007Y4TU88': 32, 'B007YJVQPI': 19, 'B007YWMEPG': 7, 'B007Z1Z63S': 6, 'B007Z3WFS0': 6, 'B007ZG32I4': 54, 'B007ZGGIFI': 219, 'B007ZT4AGY': 27, 'B00806GIV6': 13, 'B0080BK4I4': 217, 'B0080MJLQY': 7, 'B0080MJLXW': 8, 'B0080OHGZA': 30, 'B0080OHI9O': 16, 'B0081I1UJS': 23, 'B0081TA6AG': 6, 'B0081YU6YW': 18, 'B0082471N0': 79, 'B00827LI7C': 7, 'B00835QYWC': 28, 'B00838N954': 14, 'B0083E5GUE': 30, 'B0083RYBDY': 11, 'B00855HE3S': 21, 'B008584ZJQ': 24, 'B00858I4JI': 10, 'B00858I5OC': 106, 'B00858I4FC': 5, 'B00858I51U': 22, 'B00858I4M0': 24, 'B00858I560': 7, 'B00858I4F2': 44, 'B0085HHKMG': 23, 'B0085IW68S': 12, 'B0085OUIMI': 113, 'B0086SKGQQ': 18, 'B0087CV3T0': 5, 'B0087EBXPW': 17, 'B0087RPKHG': 244, 'B00898LD1A': 31, 'B008AT6BK6': 6, 'B008BQTTYS': 8, 'B008CS5QTW': 231, 'B008DJTB32': 26, 'B008DWIT5A': 81, 'B008DYOJ6G': 11, 'B008EPW1MI': 1441, 'B008FH1PJA': 727, 'B008FLWPKO': 6, 'B008FWB9TQ': 15, 'B008G80FIK': 6, 'B008GVETNE': 238, 'B008GVNR2I': 12, 'B008IY2C7E': 70, 'B008JH72IO': 21, 'B008MEYUEI': 5, 'B008P8EWI0': 23, 'B008P8EXJI': 67, 'B008P8EY4C': 18, 'B008P8EW4O': 7, 'B008PEXMNK': 248, 'B008QZQAIM': 17, 'B008RQEEBU': 136, 'B008UT35XC': 32, 'B008VGN75U': 262, 'B008VGQ4VO': 220, 'B008VHHYLW': 118, 'B008VM84NY': 104, 'B008VQERFO': 43, 'B008VX489C': 135, 'B008XNW7TS': 12, 'B008YDTRI6': 286, 'B008YDTRK4': 48, 'B008YDTRJU': 82, 'B008YUNHK8': 16, 'B008YUNJW4': 9, 'B008YUNK46': 97, 'B008ZZ0AMU': 10, 'B0090UMDBA': 5, 'B0090WVHJ2': 71, 'B0090Z498A': 7, 'B00914OZFM': 10, 'B00915OV1E': 94, 'B0091EBU28': 26, 'B0091F8EZ8': 196, 'B0091V933O': 381, 'B0092T864W': 22, 'B0092T80KC': 20, 'B0092T84HQ': 32, 'B009352484': 31, 'B009358744': 21, 'B00935BG74': 10, 'B009381N2E': 156, 'B0093BZIJ0': 13, 'B0093F4ROI': 275, 'B0093GVXSA': 23, 'B0093K84DS': 33, 'B0093LNRYI': 39, 'B0093PVTPS': 63, 'B009413ZVC': 5, 'B009450ANO': 34, 'B0094R4150': 21, 'B0094R2GOI': 47, 'B0094R2HZQ': 72, 'B0094R2H0Q': 52, 'B0094R4Q6Y': 185, 'B0094R4POC': 259, 'B0094S360U': 150, 'B0094S379U': 115, 'B0094R4PBU': 57, 'B0094S37GS': 49, 'B0094WTXTY': 6, 'B0095EL84E': 42, 'B0095IZB7K': 18, 'B0095GU6GI': 14, 'B0095IWZ0Q': 37, 'B0095P2F1S': 218, 'B0096COMDY': 5, 'B0096QYNRA': 117, 'B009703MEA': 10, 'B009703PZG': 10, 'B00972M942': 113, 'B00974Q0YK': 12, 'B009745B6I': 6, 'B0097CYBXY': 35, 'B0097EPKL4': 12, 'B0098QTOKY': 6, 'B009923WIW': 181, 'B00999HRQS': 25, 'B00998NM7W': 5, 'B0099R596A': 64, 'B009A68TMQ': 39, 'B009A6CZ12': 87, 'B009A6D034': 139, 'B009A6CZ44': 29, 'B009A6CZYY': 119, 'B009AJRE6A': 42, 'B009APBVK4': 39, 'B009APBWD0': 12, 'B009AR2SUE': 5, 'B009BXX8II': 131, 'B009BYS8XC': 25, 'B009C02SAE': 8, 'B009CDXPCG': 21, 'B009CJNAR0': 48, 'B009E8KQ08': 7, 'B009E8ONOI': 7, 'B009ES68P0': 27, 'B009ETQ7BO': 19, 'B009ETQ8AE': 12, 'B009ETQ94E': 12, 'B009F4BV8C': 87, 'B009FRPN4M': 9, 'B009FRPN56': 15, 'B009FRPN2Y': 11, 'B009G7G3LI': 11, 'B009G8A0HA': 24, 'B009GDVTN4': 139, 'B009GERY0U': 8, 'B009GF6X56': 74, 'B009GERY14': 18, 'B009GF6V6W': 10, 'B009GOGO8I': 18, 'B009GWYV0S': 17, 'B009HFU2IY': 5, 'B009HL556M': 18, 'B009HL556C': 13, 'B009HL54DG': 32, 'B009HL5594': 75, 'B009HQHQ64': 23, 'B009HQTORS': 85, 'B009HW15UG': 35, 'B009IKCHYU': 53, 'B009IKCHYK': 52, 'B009IKCHU4': 7, 'B009IKCFRE': 23, 'B009IKCEB6': 17, 'B009IKCE5C': 21, 'B009IKCKMY': 59, 'B009IKCFT2': 43, 'B009IKCFWO': 9, 'B009IKCEDO': 12, 'B009IRGDZW': 9, 'B009IRGFPA': 8, 'B009IRGEU6': 9, 'B009IV5Z34': 5, 'B009KNO2DE': 5, 'B009KNO1IU': 20, 'B009KPMPRW': 11, 'B009KWULTY': 83, 'B009LU80RK': 76, 'B009M3UT16': 11, 'B009NE5Y9Q': 26, 'B009NS7AE4': 9, 'B009OY15SY': 11, 'B009P0NNP0': 7, 'B009P0NNSW': 6, 'B009PRW5SE': 133, 'B009QFG5X6': 11, 'B009QMZ7SS': 116, 'B009RG4GHQ': 7, 'B009S8QP90': 28, 'B009SAHBXC': 13, 'B009T02WP8': 5, 'B009T3CF1G': 126, 'B009URTO1U': 17, 'B009VNMP50': 109, 'B009WNUB3M': 150, 'B009X845N8': 19, 'B009YKTR06': 30, 'B009YSWL7Y': 19, 'B009Z5SBOS': 10, 'B00A0AOVRS': 33, 'B00A1TF93S': 5, 'B00A1UHM1Y': 17, 'B00A4A3SNW': 41, 'B00A5JYYPI': 23, 'B00A5JVV6S': 5, 'B00A6DK5SS': 6, 'B00A6DK5S8': 13, 'B00A6ERC3S': 5, 'B00A6VS65Y': 61, 'B00A6Z4NP2': 9, 'B00A755TIQ': 9, 'B00A7GIIWY': 13, 'B00A7R9KWK': 11, 'B00A8FCX8E': 20, 'B00A8LZ5GU': 16, 'B00AA6IQ7I': 22, 'B00AAEUG8M': 6, 'B00AAFK5WS': 10, 'B00AAFD9OY': 11, 'B00AAHTOGE': 142, 'B00AAHTQ30': 39, 'B00AAMJJQ4': 8, 'B00AASPQLU': 31, 'B00AAZE2RC': 6, 'B00AB3V00A': 13, 'B00AB7IRIO': 34, 'B00ABANME0': 10, 'B00ABJGW5W': 14, 'B00ABSRVEY': 5, 'B00ACCQMXK': 9, 'B00ACPR3AS': 80, 'B00ACTYOQU': 6, 'B00ADC1J0K': 5, 'B00ADSN9Q6': 5, 'B00ADXLBS4': 221, 'B00ADZDIPQ': 7, 'B00AEATU2K': 17, 'B00AEVECQS': 28, 'B00AEVIA6Q': 41, 'B00AF4SBZW': 52, 'B00AFGP5MM': 657, 'B00AFH2E8E': 46, 'B00AFOMVYO': 8, 'B00AFUE7S6': 28, 'B00AFUF2EE': 14, 'B00AG95794': 5, 'B00AGBYQY4': 7, 'B00AGH81M6': 24, 'B00AGPI5P6': 19, 'B00AIGZ72C': 20, 'B00AIGZ6ZA': 13, 'B00AIRUOI8': 1166, 'B00AIY86G8': 33, 'B00AJD0GSO': 35, 'B00AJD0GRU': 13, 'B00AJD0H8I': 26, 'B00AJD0H88': 17, 'B00AJE4VK2': 5, 'B00AK5QGPI': 85, 'B00AKMLJOE': 6, 'B00AM1T38C': 5, 'B00AMAJF0Y': 18, 'B00AMLJTFO': 9, 'B00AMQR8GG': 19, 'B00AMSXD04': 17, 'B00AN5T738': 39, 'B00AN8RROQ': 16, 'B00AN8TW0I': 34, 'B00ANA0H5K': 20, 'B00AO7AU0E': 10, 'B00APK8836': 32, 'B00APK8840': 39, 'B00APLNM5O': 12, 'B00AQJXA3O': 8, 'B00AQPJCD0': 10, 'B00AQQ41C6': 16, 'B00AQYRGES': 6, 'B00ASWZO6U': 19, 'B00ATHNN6C': 7, 'B00ATIS7QW': 7, 'B00AVYMZ8K': 6, 'B00AWDZ78A': 35, 'B00AWLEAH6': 108, 'B00AYE6JDO': 15, 'B00AYT62HC': 57, 'B00AZEAMHC': 5, 'B00AZFMOS6': 31, 'B00AZFMORW': 26, 'B00B0CQCK4': 23, 'B00B1F19DK': 38, 'B00B1N06S6': 314, 'B00B1NN16U': 64, 'B00B1NN1L0': 25, 'B00B3QD94O': 91, 'B00B3ZB9A6': 29, 'B00B3Z989A': 6, 'B00B43V9QQ': 23, 'B00B45EOYS': 214, 'B00B44N0DA': 18, 'B00B4YD2P6': 187, 'B00B50CEH6': 13, 'B00B5A1GPM': 5, 'B00B5I9282': 9, 'B00B5TENV2': 10, 'B00B5W7RQ2': 8, 'B00B6KNSKM': 10, 'B00B6Z9BN0': 58, 'B00B79CEYI': 18, 'B00B79CEHK': 16, 'B00B7HWIL4': 10, 'B00B7PS25M': 5, 'B00B7XYRG2': 27, 'B00B8KJH0U': 23, 'B00B8MIVXC': 62, 'B00B8QCMHY': 261, 'B00B9A0HNA': 102, 'B00B9GH16K': 13, 'B00B9GG5NU': 6, 'B00B9QWQYC': 11, 'B00BB5ZQC0': 24, 'B00BB7MS2Y': 10, 'B00BBDKTS8': 146, 'B00BBDKXNY': 19, 'B00BBGMD16': 7, 'B00BBGMDN4': 5, 'B00BBQDDWY': 7, 'B00BBQDDXS': 60, 'B00BCIJJEM': 13, 'B00BCRG7I4': 73, 'B00BCZX61C': 51, 'B00BDS9V8U': 6, 'B00BEUCNNC': 9, 'B00BEVL4OU': 117, 'B00BF8JHEQ': 9, 'B00BFNC3R4': 9, 'B00BFO3YVW': 67, 'B00BFO14W8': 271, 'B00BFNYD90': 36, 'B00BFPUXBA': 5, 'B00BGO2Z2K': 11, 'B00BGZVI9K': 16, 'B00BH36PRG': 35, 'B00BHIRCIM': 5, 'B00BI1YUT2': 14, 'B00BI6S30O': 24, 'B00BISWIHQ': 517, 'B00BKPU27U': 101, 'B00BLG5CSC': 149, 'B00BLG5CSM': 119, 'B00BMGBDDO': 16, 'B00BN0N0LW': 3106, 'B00BN0N058': 16, 'B00BN0N0IK': 347, 'B00BN0N0AS': 16, 'B00BN0N05I': 15, 'B00BN0N09O': 15, 'B00BNOJRWO': 11, 'B00BNPMY64': 6, 'B00BNQ8V7E': 7, 'B00BOE92ZU': 9, 'B00BOE9YSU': 8, 'B00BOE622Q': 6, 'B00BOZAU2I': 44, 'B00BP6B426': 5, 'B00BP6B41C': 5, 'B00BPJRUPS': 8, 'B00BQ4PEX2': 33, 'B00BSXRBGE': 63, 'B00BT096PA': 6, 'B00BT1BQEI': 67, 'B00BT8QJCU': 8, 'B00BTH7QJQ': 7, 'B00BTL6ZJY': 7, 'B00BTL6ZYY': 5, 'B00BUL5A9E': 19, 'B00BUTGJ00': 26, 'B00BUTGJV4': 5, 'B00BUTGJIC': 13, 'B00BUTGL1M': 8, 'B00BVKRKR4': 43, 'B00BVUAMYW': 23, 'B00BWH7VWU': 21, 'B00BX04Z48': 13, 'B00BY33EKU': 25, 'B00BYVY5S2': 8, 'B00BYVZ7T8': 11, 'B00BYVYBIG': 7, 'B00BYVYHLW': 42, 'B00BYVZ2WU': 6, 'B00BYVY654': 8, 'B00BYVY5ZA': 14, 'B00BZN3ECM': 10, 'B00BZN169A': 6, 'B00BZXBGG8': 284, 'B00C19123C': 41, 'B00C19125A': 58, 'B00C1M9ZCE': 5, 'B00C1TQ52A': 392, 'B00C1TBYBC': 10, 'B00C1TBXV8': 11, 'B00C1TBYU8': 9, 'B00C2A5U8I': 8, 'B00C2B3CHS': 13, 'B00C2B2WNI': 5, 'B00C2B3AU2': 15, 'B00C2B2YSG': 14, 'B00C2B2XEG': 8, 'B00C2I90I6': 11, 'B00C30HUQ2': 294, 'B00C30FCUI': 323, 'B00C313XBW': 14, 'B00C315N2O': 9, 'B00C3XW5PK': 13, 'B00C4034IE': 17, 'B00C4FBQT8': 57, 'B00C4PTLZ4': 46, 'B00C4VG1XS': 39, 'B00C9W27RQ': 219, 'B00CA7FR90': 123, 'B00CAB5ZKC': 26, 'B00CAB629K': 23, 'B00CAJOW9E': 75, 'B00CB0HZAU': 101, 'B00CBG89C2': 5, 'B00CBPJLFW': 45, 'B00CBT9K0Y': 11, 'B00CCXCEWU': 44, 'B00CD1FB26': 239, 'B00CE3IC74': 144, 'B00CE4CKXK': 167, 'B00CELZD8C': 23, 'B00CEUUNYW': 12, 'B00CF40J6E': 31, 'B00CGY2ZMY': 36, 'B00CHQ3V0G': 5, 'B00CI6J7FI': 8, 'B00CIELUKU': 7, 'B00CIHAIT6': 6, 'B00CIIIJ4G': 15, 'B00CIQ7NXQ': 46, 'B00CIQ88UI': 21, 'B00CIYZ8CG': 13, 'B00CJHSHS4': 15, 'B00CJHZLEW': 47, 'B00CJRZ31S': 98, 'B00CKA3CFI': 11, 'B00CKIDDZ4': 119, 'B00CKWPGSW': 22, 'B00CL3TAOQ': 117, 'B00CL63BZM': 6, 'B00CLCMA4O': 135, 'B00CLDM82W': 18, 'B00CLFWLHC': 11, 'B00CM2RYYE': 104, 'B00CMDFDHS': 9, 'B00CMRK2D4': 11, 'B00CN48XMI': 19, 'B00COAWUFC': 51, 'B00COOVLMQ': 18, 'B00CPP2G64': 8, 'B00CQQND5K': 10, 'B00CRWT960': 13, 'B00CSMAHTW': 47, 'B00CTA2Q2E': 31, 'B00CTKMJ8U': 5, 'B00CU9YBVS': 70, 'B00CU9QF3U': 4, 'B00CVB12RG': 16, 'B00CVV1OME': 17, 'B00CVUWKXW': 19, 'B00CWEG5H4': 45, 'B00CWIWU3S': 30, 'B00CXJ1DPC': 48, 'B00CXOHCA2': 81, 'B00CXP4AS8': 92, 'B00CXVM61A': 17, 'B00CXWA66G': 12, 'B00CY12RGI': 30, 'B00CY9Q88S': 46, 'B00CYBOUMW': 16, 'B00CZ54VVM': 129, 'B00D07CJQS': 56, 'B00D0SSFL0': 5, 'B00D12OGT0': 11, 'B00D1FY5ZW': 49, 'B00D1FYRMI': 43, 'B00D1JJ31O': 23, 'B00D21CF0M': 5, 'B00D2BZ1VM': 50, 'B00D3ITOHG': 56, 'B00D42A16E': 628, 'B00D42A60K': 15, 'B00D4INF0M': 23, 'B00D4MPZNI': 7, 'B00D55ZHYG': 13, 'B00D5Q26TO': 19, 'B00D6DOYEQ': 7, 'B00D77KEEK': 63, 'B00D84W9J0': 7, 'B00D8BP8H8': 13, 'B00D98C8JQ': 36, 'B00DA7P0R8': 229, 'B00DB41AOW': 15, 'B00DC6OIKW': 60, 'B00DC7QQ2O': 19, 'B00DCEOPH0': 7, 'B00DCRX1LI': 8, 'B00DCXWXEI': 21, 'B00DDMDRHK': 32, 'B00DDPZ4JG': 571, 'B00DDTH3TG': 18, 'B00DDUH7JG': 27, 'B00DE7EHAU': 11, 'B00DE8DB6U': 172, 'B00DEYHPN4': 220, 'B00DG18TCG': 7, 'B00DGHQI2I': 8, 'B00DH0BESC': 22, 'B00DI70XYK': 13, 'B00DIGD3TS': 149, 'B00DIOALYA': 66, 'B00DIOAM4Y': 382, 'B00DJ3ZZ4G': 12, 'B00DJUXO9C': 41, 'B00DKX0QH6': 22, 'B00DKXXGFK': 17, 'B00DL099M6': 8, 'B00DL097JG': 7, 'B00DLJYR0G': 11, 'B00DLJYQDE': 6, 'B00DLJYQMA': 11, 'B00DMLPBLC': 6, 'B00DNJNSY0': 5, 'B00DOP3NPW': 339, 'B00DOP3KBY': 21, 'B00DOZHLCS': 32, 'B00DQFTMLO': 5, 'B00DQFQFMS': 10, 'B00DQN3UBE': 5, 'B00DQOG1UA': 393, 'B00DQXR3A8': 23, 'B00DS34MO6': 73, 'B00DSN6OGA': 39, 'B00DTZYHX4': 341, 'B00DU2BMLG': 18, 'B00DU2BOTQ': 7, 'B00DU2BLSK': 7, 'B00DU6RXBA': 5, 'B00DU6RY7S': 23, 'B00DU6RY6O': 7, 'B00DU6RX60': 9, 'B00DU6RX8I': 9, 'B00DUN0D2Y': 9, 'B00DV9O0GC': 186, 'B00DVBUI6Q': 10, 'B00DVB7F0S': 29, 'B00DVEJA7G': 139, 'B00DWGHTQM': 7, 'B00DWGHUFM': 6, 'B00DWGHT12': 12, 'B00DWHK40Y': 35, 'B00DY88KJI': 5, 'B00DY8DB8I': 17, 'B00DY9V2OM': 7, 'B00DZASZKY': 24, 'B00DZI8UF6': 27, 'B00DZI8TAM': 8, 'B00DZIQRXI': 26, 'B00DZIQR2Y': 25, 'B00DZIQSEQ': 15, 'B00DZPC5NM': 28, 'B00E04M028': 39, 'B00E174RTS': 562, 'B00E1CSEMO': 158, 'B00E1KX80E': 41, 'B00E1UUY38': 10, 'B00E38BQOY': 13, 'B00E38XXVS': 60, 'B00E3QISSI': 7, 'B00E4LABDW': 126, 'B00E4LACUO': 23, 'B00E4LGVU4': 17, 'B00E4VQAK0': 11, 'B00E4WXWBE': 77, 'B00E58RSRQ': 29, 'B00E5HXJEI': 182, 'B00E5K0EC0': 28, 'B00E5OUOCQ': 703, 'B00E7WAM96': 6, 'B00E89AQDA': 34, 'B00E89ASQK': 29, 'B00E8AMB8W': 55, 'B00E93J168': 9, 'B00E95OT6I': 43, 'B00E9PHY1U': 78, 'B00E9R5YRE': 17, 'B00EAYZ264': 24, 'B00EAZCMYI': 7, 'B00EB82KUK': 36, 'B00EBZAQ36': 145, 'B00ECHG8H6': 21, 'B00ECOC3LE': 5, 'B00ED4LIH8': 13, 'B00EDOADCO': 10, 'B00EDPYOVO': 8, 'B00EDX69CI': 32, 'B00EDYG2XS': 15, 'B00EE4DAUU': 37, 'B00EE4DAVE': 8, 'B00EE4DAT6': 46, 'B00EE4DASM': 15, 'B00EEJZG34': 41, 'B00EEJZFPI': 7, 'B00EHEEFWY': 37, 'B00EIPPTG8': 83, 'B00EIP2PFG': 46, 'B00EJDZ3SS': 18, 'B00EK5XX28': 9, 'B00EL2HDNU': 24, 'B00EL2HDQC': 40, 'B00ELNLDIK': 14, 'B00EMAJ17C': 33, 'B00EN7Z7H2': 18, 'B00ENK3ZHS': 5, 'B00ENMK1DW': 283, 'B00ENZRS76': 48, 'B00EO3DYMU': 11, 'B00EO3DRV8': 9, 'B00EO3DOUC': 13, 'B00EO3DM0E': 5, 'B00EO3DYKM': 18, 'B00EOUEJ5O': 6, 'B00EP7B800': 8, 'B00EPAVJZ6': 29, 'B00EQ20CL0': 7, 'B00ES6DF18': 68, 'B00ET9QGTW': 6, 'B00ETH7ERM': 30, 'B00ETI1CSI': 26, 'B00EUSMS8K': 40, 'B00EWJHRMY': 81, 'B00EXO8Y3Y': 24, 'B00EXPNIAW': 47, 'B00EY86X6E': 12, 'B00EZCU5PY': 51, 'B00EZJYJQI': 21, 'B00EZM34RU': 13, 'B00EZSUT8Q': 26, 'B00EZSUT3Q': 11, 'B00EZSUS1E': 5, 'B00F0JGZK0': 5, 'B00F0UFUHI': 41, 'B00F0W7BVY': 64, 'B00F1W0FS4': 6, 'B00F2ASYCO': 17, 'B00F2NSWGY': 39, 'B00F2OA3NS': 6, 'B00F3CW6RA': 7, 'B00F408EYK': 140, 'B00F415LFO': 23, 'B00F415LEU': 149, 'B00F4JS4LO': 112, 'B00F4LRX3W': 21, 'B00F4P7NG0': 8, 'B00F4TLDLW': 24, 'B00F51C83Q': 7, 'B00F54Y6GU': 327, 'B00F5D056Q': 24, 'B00F5NSLCG': 53, 'B00F61MPCE': 23, 'B00F6OV6LM': 29, 'B00F6PRSMW': 132, 'B00F6SQ1D6': 195, 'B00F6XQQ22': 16, 'B00F8H79JA': 21, 'B00F98MM4U': 7, 'B00F9DHDIA': 33, 'B00F9F1C0S': 6, 'B00FAU2P5I': 17, 'B00FAYFDYE': 15, 'B00FB5TWQ2': 5, 'B00FBNAECU': 40, 'B00FEFKJLQ': 14, 'B00FEPDT4U': 34, 'B00FF333OC': 90, 'B00FF9FKD8': 17, 'B00FF9FSD0': 12, 'B00FF9FQ6Y': 49, 'B00FF9FI26': 32, 'B00FF9FFVA': 25, 'B00FFAB2PW': 19, 'B00FFS2IUW': 10, 'B00FIYDBZE': 26, 'B00FIZ1SVC': 21, 'B00FJ02ZIG': 15, 'B00FJ1HFGC': 13, 'B00E87WZWM': 7, 'B00FJISZFK': 50, 'B00FJISZ28': 36, 'B00FJISZ8M': 65, 'B00FKD48XM': 7, 'B00FL29IH8': 37, 'B00FL2RP4G': 5, 'B00FLCVGG4': 20, 'B00FLKS8NU': 28, 'B00FLL2ZTW': 87, 'B00FLISUQM': 12, 'B00FN5UDPE': 9, 'B00FN8CT3K': 49, 'B00FNJOMZ2': 36, 'B00FNK8UPE': 7, 'B00FOB3QQK': 11, 'B00FP6C9OY': 22, 'B00FPFG4DC': 25, 'B00FPN0TG2': 38, 'B00FRZQE7G': 182, 'B00FS7BSAQ': 10, 'B00FSRD3FO': 9, 'B00FT34ROS': 51, 'B00FTK9IQS': 5, 'B00FTK9IL8': 6, 'B00FU2O3NS': 28, 'B00FU55RHG': 36, 'B00FVHCO9W': 59, 'B00FVY61D0': 55, 'B00FWGU0ES': 43, 'B00FWGU10G': 20, 'B00FWGTZWQ': 42, 'B00FWGU1CY': 21, 'B00FWVEVN4': 11, 'B00FXK8GJE': 8, 'B00FYJU264': 25, 'B00FYKSFCG': 21, 'B00FYNSCKS': 66, 'B00FYO9SCS': 57, 'B00FYOQ9N4': 4, 'B00FYWCL2E': 678, 'B00FZ4IG66': 33, 'B00FZLV9G8': 73, 'B00FZLV9L8': 113, 'B00G13G144': 13, 'B00G31YG6O': 6, 'B00G3FZ7YU': 14, 'B00G3KYTJO': 8, 'B00G3PAPWO': 76, 'B00G47JIEW': 6, 'B00G4MV4TY': 17, 'B00G4ZYQ8W': 27, 'B00G53GJA6': 28, 'B00G53GJ88': 15, 'B00G5T9P2O': 18, 'B00G66YT0E': 8, 'B00G6H5N7Q': 131, 'B00G6NRZG2': 55, 'B00G6QBCWC': 99, 'B00G6RIF2Q': 31, 'B00G6RIG48': 19, 'B00G8FG74Y': 8, 'B00G8H23AO': 6, 'B00G91T686': 48, 'B00GAA8SAI': 15, 'B00GBATPIG': 100, 'B00GBPGH50': 7, 'B00GBST44I': 45, 'B00GCBQZ1O': 12, 'B00GD91XB2': 73, 'B00GDF3B1G': 9, 'B00GFV3N66': 8, 'B00GG1C58M': 7, 'B00GG1A6ME': 5, 'B00GGQ9IXW': 10, 'B00GJJT138': 9, 'B00GJQ4OT2': 10, 'B00GK7TTM2': 7, 'B00GL6V9R0': 5, 'B00GM529SI': 9, 'B00GMQNYMC': 6, 'B00GN76HAG': 99, 'B00GNH7RGY': 10, 'B00GNH84IO': 8, 'B00GNRA01S': 58, 'B00GNRDSDU': 9, 'B00GNSP3VO': 5, 'B00GNWPZAE': 8, 'B00GOENVZC': 12, 'B00GOEPT7A': 8, 'B00GOG6KQW': 15, 'B00GOMNRF8': 40, 'B00GP1AZBC': 11, 'B00GP299SQ': 9, 'B00GP3QZQE': 5, 'B00GQYKHRU': 40, 'B00GSPHQIK': 8, 'B00GT36MGI': 105, 'B00GUPGRB0': 6, 'B00GV100WU': 7, 'B00GWGZFK6': 10, 'B00GWTMKWO': 12, 'B00GWTML64': 10, 'B00GWTMLQ4': 7, 'B00GWTMLEG': 19, 'B00GWTSO1U': 8, 'B00GX7GNJG': 11, 'B00GXD3AXC': 37, 'B00GXD5CWY': 7, 'B00GXN56HA': 6, 'B00GXNS212': 10, 'B00GYA3Q9C': 15, 'B00GYFLO14': 111, 'B00GZK5U68': 31, 'B00GZK5U6I': 69, 'B00GZZTHSK': 24, 'B00GZZTJ6A': 18, 'B00GZZTKOQ': 8, 'B00H052OC0': 20, 'B00H0D7RG0': 19, 'B00H1XKC2U': 248, 'B00H1XKDK6': 81, 'B00H1XKC1Q': 77, 'B00H267SZK': 82, 'B00H2F1E7O': 6, 'B00H2QUD9S': 364, 'B00H34FAB0': 5, 'B00H3Q7MUA': 3, 'B00H4OATB0': 5, 'B00H56N7D4': 49, 'B00H5CPAB0': 16, 'B00H5ISK48': 125, 'B00H7TQDWQ': 13, 'B00H8ND5AE': 13, 'B00H92G0UQ': 6, 'B00H955KM2': 34, 'B00H9OVD5G': 30, 'B00HAQ68YY': 27, 'B00HB7CPEE': 27, 'B00HD44YAI': 10, 'B00HD9VN6G': 20, 'B00HE5GMS8': 14, 'B00HF8WBA2': 6, 'B00HFTX0R4': 12, 'B00HFTKKUY': 13, 'B00HFXJX26': 9, 'B00HGIZSWE': 6, 'B00HGZXDP6': 15, 'B00HH8QCBO': 20, 'B00HHGT0Y2': 56, 'B00HHKL7OY': 5, 'B00HJKMFK2': 64, 'B00HK17B7C': 7, 'B00HK17A8W': 13, 'B00HK8V74I': 7, 'B00HK8V694': 15, 'B00HMRDKO2': 65, 'B00HNALSS8': 77, 'B00HNY8TBS': 6, 'B00HS5S138': 6, 'B00HSCJ28E': 11, 'B00HSCJ48C': 17, 'B00HSHPFRG': 13, 'B00HSQCPRK': 11, 'B00HTPHK5W': 1077, 'B00HV5M8SE': 8, 'B00HVLUR18': 267, 'B00HVLUQW8': 232, 'B00HVPMFBE': 26, 'B00HVPMI8Y': 5, 'B00HWKG8DO': 84, 'B00HXTHFTU': 9, 'B00HXTHFFY': 7, 'B00HXTHFI6': 11, 'B00HXTHFFO': 12, 'B00HXTHFCM': 16, 'B00HXTHFJK': 30, 'B00HXTHFW2': 10, 'B00HYG5AH6': 7, 'B00HYG79RA': 8, 'B00HYGF3KK': 5, 'B00HYG1PSO': 10, 'B00HYGODH4': 7, 'B00HYGHNLC': 5, 'B00HZ62SLG': 68, 'B00HZD3RXM': 6, 'B00HZD3UN4': 25, 'B00HZD3UFM': 19, 'B00HZD3UXY': 56, 'B00HZD3ROQ': 15, 'B00HZD3T6M': 13, 'B00HZD3RXW': 7, 'B00HZD3VGU': 25, 'B00HZE2YA8': 23, 'B00HZWFT8O': 5, 'B00HZZGY80': 59, 'B00I02300C': 40, 'B00I0572NU': 19, 'B00I0F3IFQ': 47, 'B00I0MKMBW': 11, 'B00I0SCD72': 79, 'B00I3LUY68': 47, 'B00I3LV336': 46, 'B00I45GT3A': 37, 'B00I48DIHC': 88, 'B00I4C5QQE': 119, 'B00I4KPBF2': 25, 'B00I4PTN2Y': 18, 'B00I4XMJ22': 21, 'B00I51HUL8': 16, 'B00I525YRO': 13, 'B00I6K0B6E': 9, 'B00I6WHTTE': 14, 'B00I6WVE68': 17, 'B00I7PAYWO': 27, 'B00IAVRW5M': 9, 'B00IBCRZ3Y': 117, 'B00IBQI29Q': 6, 'B00IBQI1W4': 16, 'B00IE7BTTW': 17, 'B00IEJGCHO': 10, 'B00IF4N05K': 18, 'B00IG4JB8Y': 75, 'B00IGFKWWW': 9, 'B00IGNCRH2': 10, 'B00IGRNPVK': 19, 'B00IGROQ22': 5, 'B00II6GF3O': 20, 'B005NH63GA': 5, 'B00IIIGOTM': 7, 'B00IIUAM2K': 6, 'B00IJKSCWQ': 8, 'B00IKEYXJC': 10, 'B00IL7QYY0': 12, 'B00IL8FVUC': 7, 'B00IL9ZMF0': 13, 'B00ILI9N4W': 5, 'B00ILLJOUC': 13, 'B00ILV7VGG': 213, 'B00IM349F4': 21, 'B00IMB47TY': 49, 'B00IMKRQO8': 73, 'B00IMLLAUI': 14, 'B00IN6UREC': 10, 'B00INAFJQE': 17, 'B00INF5L1M': 99, 'B00INR8J5A': 89, 'B00IORDCMY': 14, 'B00IORDBRA': 58, 'B00IPKETBS': 46, 'B00IPNQ3R8': 10, 'B00IRBWSMC': 12, 'B00IRXWQ0O': 35, 'B00ISDUEPC': 59, 'B00IT0KEQ8': 8, 'B00IU5Z2Q4': 17, 'B00IUCH5XK': 7, 'B00IUH1TV4': 110, 'B00IUICQCE': 199, 'B00IUICOR6': 338, 'B00IUICOUS': 32, 'B00IUZ814O': 5, 'B00IWGTTG0': 46, 'B00IWWF4HM': 27, 'B00IWY86WU': 17, 'B00IXHUH1O': 27, 'B00IXPA2BQ': 9, 'B00IXXXLBG': 26, 'B00IY2OO8A': 36, 'B00IZ3UW34': 29, 'B00J04Z1LU': 11, 'B00J04ZJBW': 25, 'B00J06RS96': 13, 'B00J0BXPD4': 827, 'B00J0N8FOQ': 5, 'B00J0WMSIG': 29, 'B00J0WMNOU': 8, 'B00J0XR10A': 17, 'B00J1EORVE': 24, 'B00J1ROQFI': 29, 'B00J25CHK0': 18, 'B00J2OYPAG': 32, 'B00J3FM592': 15, 'B00J3VUKVQ': 7, 'B00J43Y62C': 191, 'B00J441D5O': 35, 'B00J43Y63Q': 96, 'B00J440HWE': 34, 'B00J43Y64U': 114, 'B00J4PQW5E': 5, 'B00J4SRJWG': 25, 'B00J7IK0DI': 10, 'B00J7N7CIO': 65, 'B00J80IMJ4': 43, 'B00J88C5NU': 8, 'B00J8DNJ8K': 9, 'B00J95SC5M': 97, 'B00J9D4LPO': 10, 'B00J9L6YP6': 25, 'B00J9NWVIS': 30, 'B00J9R0OGU': 6, 'B00JA09OVW': 13, 'B00JA1UTDS': 10, 'B00JA5Y90S': 10, 'B00JA9EQMU': 11, 'B00JAAJ1F6': 9, 'B00JANVMDC': 10, 'B00JB48XK0': 10, 'B00JB50T6K': 5, 'B00JB5O6VY': 6, 'B00JBC94R8': 8, 'B00JE445S6': 14, 'B00JFBDZ5W': 231, 'B00JFGMQKC': 6, 'B00JFGMODQ': 8, 'B00JFHJZ46': 8, 'B00JFHDGBY': 6, 'B00JGPFUK0': 20, 'B00JGPQ3Z6': 38, 'B00JGPRY8Q': 16, 'B00JH28QHQ': 7, 'B00JI6V8Q2': 5, 'B00JI6V73G': 5, 'B00JJ2C0S0': 2137, 'B00JJVG41U': 15, 'B00JJVG08W': 21, 'B00JJXI7AO': 16, 'B00JKCHMM8': 17, 'B00JKCHL60': 6, 'B00JKCHLAQ': 20, 'B00JKCHJVM': 14, 'B00JKGHV5M': 16, 'B00JKUZ4BG': 4, 'B00JLWUPS0': 21, 'B00JMVE1NA': 10, 'B00JMVGS4U': 47, 'B00JMZILU0': 16, 'B00JO9XTSI': 61, 'B00JO9XY74': 61, 'B00JO9Y176': 103, 'B00JOQIZOY': 11, 'B00JOQIJQI': 7, 'B00JP12300': 263, 'B00JQ1V78I': 375, 'B00JQ7TFMW': 6, 'B00JQAJ9ZC': 49, 'B00JS7S71A': 53, 'B00JSPCQQE': 8, 'B00JSPCQR8': 13, 'B00JSU409A': 32, 'B00JT3F0CW': 5, 'B00JTBH7MU': 55, 'B00JTMLFHC': 29, 'B00JTMEEUM': 6, 'B00JTTP2O2': 11, 'B00JUCEZIC': 16, 'B00JUZEB5G': 37, 'B00JVB5NCO': 97, 'B00JVB5P8G': 12, 'B00JVFS020': 35, 'B00JWJIEV2': 179, 'B00JWV1LP6': 7, 'B00JWV1M3W': 21, 'B00JX8AH8K': 18, 'B00JXQ8UZE': 12, 'B00JXUV02A': 23, 'B00JY8P46Y': 25, 'B00JZHM4LC': 30, 'B00JZL8KSO': 47, 'B00JZRXWRW': 105, 'B00K0KPYM4': 5, 'B00K1GUY9A': 43, 'B00K1GUY7M': 94, 'B00K2C17LW': 9, 'B00K35MU0K': 900, 'B00K35ZF1Q': 187, 'B00K3K8TKA': 378, 'B00K3MH7LK': 48, 'B00K4A7VCQ': 6, 'B00K4NK36E': 34, 'B00K57KLXY': 7, 'B00K5H2YX4': 78, 'B00K5MT8J2': 12, 'B00K69QB2G': 5, 'B0042Z3DXU': 7, 'B00K6JEYD4': 38, 'B00K6JHHDS': 10, 'B00K6JTLFA': 15, 'B00K6NDFXA': 8, 'B00K6OMOXG': 80, 'B00K6OMPW6': 65, 'B00K6OMNBE': 111, 'B00K7DYK1U': 7, 'B00K7DZG6I': 7, 'B00K8E84R4': 13, 'B00K8LFJHA': 6, 'B00KAKBHKM': 338, 'B00KALSXVM': 17, 'B00KALQQJI': 31, 'B00KAMUKC6': 7, 'B00KALWHSM': 14, 'B00KAPIYQM': 13, 'B00KASNOCS': 15, 'B00KAT0E8O': 117, 'B00KAU6LMQ': 40, 'B00KB4DRXW': 26, 'B00KBBR8T4': 22, 'B00KBBUKCG': 5, 'B00KBPSL14': 26, 'B00KBQCSPI': 110, 'B00KBVSHZ8': 16, 'B00KCF8D0C': 23, 'B00KCML1FO': 9, 'B00KD0LVXM': 53, 'B00KDM1LUI': 5, 'B00KDP3KZO': 12, 'B00KE9XHF2': 61, 'B00KEXUWQA': 38, 'B00KF7GFXY': 89, 'B00KFQMIVS': 13, 'B00KG8SDP0': 56, 'B00KGGK7X8': 13, 'B00KGGK7WE': 31, 'B00KH6E1NO': 392, 'B00KI0QNLM': 33, 'B00KID3OC0': 65, 'B00KJ1IFC0': 12, 'B00KJLMBQQ': 587, 'B00KJLMBSO': 518, 'B00KKOCQ9O': 65, 'B00KLPRQMY': 175, 'B00KLRVQU0': 17, 'B00KLSDDLE': 16, 'B00KM1X20W': 10, 'B00KMXV1P8': 10, 'B00KNJ0652': 5, 'B00KO5FOOI': 11, 'B00KR3SYLM': 18, 'B00KR44HVC': 11, 'B00KRQZCX2': 5, 'B00KRUXMMQ': 25, 'B00KTCMJKI': 179, 'B00KTLH2ZG': 9, 'B00KTNB1AG': 8, 'B00KW01MGY': 30, 'B00KW40LW6': 21, 'B00KW6VVXC': 5, 'B00KWF95PY': 12, 'B00KWF97NY': 23, 'B00KWF99QY': 25, 'B00KWKKE6I': 11, 'B00KWKKG6G': 40, 'B00KWMNDDM': 15, 'B00KXRZUIC': 53, 'B00KXRZPAU': 13, 'B00KY06Z6O': 27, 'B00KYGP0BO': 87, 'B00KYTNU9U': 108, 'B00L1LXOWS': 263, 'B00L1NZTSS': 51, 'B00L1O2PDY': 51, 'B00L1NTJAW': 33, 'B00L1OHBWE': 15, 'B00L1O9E2Y': 8, 'B00L23XI94': 52, 'B00L23XEQG': 130, 'B00L23XH22': 34, 'B00L23XFNS': 135, 'B00L2I4W1C': 19, 'B00L2NNGIC': 24, 'B00L2PE12U': 68, 'B00L2SZFYU': 9, 'B00L3KSKYY': 184, 'B00L3KSQ8E': 196, 'B00L3KSP08': 232, 'B00L4590SI': 6, 'B00L6S6XWO': 82, 'B00L9MFATO': 85, 'B00LA520Y8': 172, 'B00LA58P0Q': 245, 'B00LAG17NC': 8, 'B00LAPGT1S': 9, 'B00LATHJUO': 42, 'B00LAZ6RTW': 108, 'B00LB01FNO': 5, 'B00LBC7OLO': 54, 'B00LBC7OVO': 7, 'B00LC64YEY': 27, 'B00LCNGQU2': 23, 'B00LDAKCR2': 7, 'B00LDAKEKC': 7, 'B00LDBJ09C': 61, 'B00LEPUXZC': 7, 'B00LFVOTFA': 75, 'B00LFVSKRS': 165, 'B00LGIVN4W': 66, 'B00LGY3HW2': 5, 'B00LGZVLMO': 85, 'B00LH3PQXA': 103, 'B00LHJOK5O': 21, 'B00LHKZ6YM': 7, 'B00LI4ZZO8': 11, 'B00LICSEKM': 50, 'B00LICYRVW': 62, 'B00LJT2EPK': 1137, 'B00LJWEIJ2': 9, 'B00LK2IWS4': 10, 'B00LK2IW5C': 9, 'B00LK2IWCU': 6, 'B00LK2IZAE': 23, 'B00LKZGFV2': 12, 'B00LL6P5U2': 52, 'B00LLKDZ32': 125, 'B00LLPSS3E': 26, 'B00LM6BNP2': 63, 'B00LMGPCZE': 7, 'B00LN2SD6M': 7, 'B00LOULR52': 8, 'B00LP3DBWK': 7, 'B00LP3DOQS': 19, 'B00LP6CFDS': 10, 'B00LP6CF92': 39, 'B00LP6CFEC': 2559, 'B00LPR9FUS': 10, 'B00LQ4UPGI': 338, 'B00LQD20J4': 30, 'B00LSGG8LK': 15, 'B00LSL5X52': 11, 'B00LSJV5G0': 6, 'B00LT0771K': 33, 'B00LT295L8': 19, 'B00LU0XIFS': 6, 'B00LU1RFLU': 9, 'B00LU3T8CM': 28, 'B00LUGAYMC': 10, 'B00LV51CUA': 11, 'B00LV51BS8': 8, 'B00LV5178M': 10, 'B00LVE4Q9U': 7, 'B00LVK876W': 15, 'B00LVK86GS': 110, 'B00LVK85YG': 13, 'B00LW2UVOK': 6, 'B00LWW95EW': 15, 'B00LX1BW0M': 31, 'B00LX1BVR6': 9, 'B00LXIUPKS': 41, 'B00LXX4Q2G': 5, 'B00LY5EKUQ': 10, 'B00LY5YGF0': 62, 'B00LYOE0CK': 5, 'B00LZ3VFW8': 142, 'B00M0A362W': 7, 'B00M0F4BYY': 31, 'B00M0F4CAM': 7, 'B00M0G3RFC': 22, 'B00M0KUFEY': 7, 'B00M1NEUKK': 944, 'B00M1NEUA0': 134, 'B00M1O7NEE': 6, 'B00M1O7X44': 28, 'B00M1O7RH2': 20, 'B00M1WE2D6': 20, 'B00M1WGMB6': 7, 'B00M2A9H8C': 128, 'B00M2EOUJ4': 67, 'B00M2EOUT4': 132, 'B00M3NZKA2': 64, 'B00M3O0L8C': 34, 'B00M3NZE5S': 54, 'B00M3NZYKI': 27, 'B00M4DHLS0': 46, 'B00M58CMTM': 299, 'B00M6NP9AU': 90, 'B00M6T1QTM': 26, 'B00M6XTUPU': 993, 'B00M7I5VWK': 13, 'B00M7TVSG2': 544, 'B00M7Y0KJS': 150, 'B00M7YP0R0': 46, 'B00M8PHAXA': 5, 'B00M8PSXRM': 10, 'B00M8Z3X22': 18, 'B00M914JA0': 19, 'B00M975UJS': 16, 'B00M9DQOHY': 30, 'B00M9DBBJK': 44, 'B00M9FF06S': 19, 'B00M9HSP7W': 22, 'B00MA5XCA8': 11, 'B00MAO92P8': 7, 'B00MB151LE': 33, 'B00MBWIL0G': 458, 'B00MCCN8E4': 80, 'B00MCHE38O': 637, 'B00MCNM98Y': 7, 'B00MCNN2GC': 20, 'B00MCVOSVM': 34, 'B00MCVOT48': 21, 'B00MCVOTFC': 37, 'B00MEAG0P8': 148, 'B00MEAMHZU': 17, 'B00ME9B9FK': 26, 'B00MFDX4YO': 317, 'B00MFDT894': 68, 'B00MGBMIEW': 74, 'B00MGW0JY2': 5, 'B00MHOFR78': 24, 'B00MIGDAWO': 14, 'B00MIJU844': 19, 'B00MIJTDA4': 7, 'B00MIM2EE8': 45, 'B00MILYPW8': 46, 'B00ML21E6Y': 15, 'B00MLF6S0I': 11, 'B00MMKZ7UE': 42, 'B00MMLX0AW': 22, 'B00MMOT98G': 125, 'B00MN2DMF8': 50, 'B00MNB95TQ': 7, 'B00MNKS80Y': 8, 'B00MNPB34W': 39, 'B00MNVZY0U': 20, 'B00MO86E88': 190, 'B00MOPRZEI': 29, 'B00MP62SI4': 13, 'B00MPHZS7G': 5, 'B00MQNVNDM': 8, 'B00MR10MW6': 9, 'B00MR8Z28S': 340, 'B00MTCOY86': 47, 'B00MTEDL24': 97, 'B00MUHKT5M': 375, 'B00MV2PDCA': 34, 'B00MVSG1A2': 12, 'B00MVSG1C0': 14, 'B00MVWOFCO': 35, 'B00MVXX3LW': 29, 'B00MWDGW28': 46, 'B00MXC77PE': 6, 'B00MXV6XSM': 32, 'B00MXVEUDW': 14, 'B00MXZ528K': 19, 'B00MY6JLJE': 7, 'B00MY6JL8U': 7, 'B00MYO80XE': 13, 'B00MZCEJKI': 59, 'B00MZQU3AO': 38, 'B00N0XUNLU': 10, 'B00N0XP2ES': 71, 'B00N26PJBE': 5, 'B00N2IN3DI': 16, 'B00N2OBFE6': 8, 'B00N312484': 30, 'B00N33NQHU': 21, 'B00N3DELQU': 13, 'B00N3Q4XCO': 21, 'B00N3UC444': 33, 'B00N3WYQY8': 10, 'B00N771OEE': 41, 'B00N9G3DJW': 6, 'B00NB1WS4G': 34, 'B00NB1WT8Q': 36, 'B00NB1WVNE': 9, 'B00NBEWB4U': 1497, 'B00NBMHT7Q': 18, 'B00NBMHYGM': 70, 'B00NC8YF0S': 31, 'B00NCSIN4W': 515, 'B00ND4OM5O': 14, 'B00NF5SF3Q': 13, 'B00NG57H4S': 51, 'B00NGH8M36': 28, 'B00NGH8MZE': 14, 'B00NH8OXZK': 38, 'B00NIBK77O': 22, 'B00NIBK9NG': 48, 'B00NIBK0MQ': 8, 'B00NIZ8FZG': 11, 'B00NIZCF8E': 10, 'B00NIZRJIU': 9, 'B00NJ4ARW0': 62, 'B00NJ5L7UK': 10, 'B00NJ6P2HS': 31, 'B00NKGDI6Y': 21, 'B00NKW3F8E': 8, 'B00NLKDG5C': 19, 'B00NLLKNIO': 6, 'B00NM4LKJG': 174, 'B00NMT6CAS': 5, 'B00NMV23NQ': 45, 'B00NMVZA5O': 24, 'B00NMVZFMC': 20, 'B00NMX1J34': 16, 'B00NNHE7PQ': 13, 'B00NOOWVCE': 38, 'B00NPW9TTS': 27, 'B00NPZG6G4': 14, 'B00NPZG6DW': 110, 'B00NQ8OW7A': 160, 'B00NSF13W8': 22, 'B00NSF0ZH2': 11, 'B00NTFVDHW': 5, 'B00NTR45IO': 18, 'B00NTR4598': 10, 'B00NTVFKXY': 21, 'B00NUHDKYI': 6, 'B00NUVS3DM': 50, 'B00NVG9Z6K': 69, 'B00NVMXB9G': 19, 'B00NVO7IDY': 26, 'B00NVQ6IL0': 18, 'B00NW8GAKQ': 15, 'B00NW8GH72': 25, 'B00NW8G6IC': 13, 'B00NWEB49W': 254, 'B00NWROP5Y': 11, 'B00NXPSAK6': 30, 'B00NY66NI0': 45, 'B00O0CQORM': 28, 'B00O0RJJD8': 83, 'B00O11IPWO': 9, 'B00O14SA9O': 7, 'B00O2KOROE': 14, 'B00O2RN216': 36, 'B00O5A4WGO': 46, 'B00O5A4WHS': 10, 'B00O5AL4U6': 6, 'B00O7Q4IBU': 52, 'B00O7UJY10': 22, 'B00O86D2HK': 9, 'B00O8UIABY': 6, 'B00OAC6JPY': 6, 'B00OB1FW3E': 6, 'B00OBM049U': 14, 'B00OBML37M': 12, 'B00OBOQ6XG': 19, 'B00OBRC1WI': 29, 'B00OCL61U6': 25, 'B00OCL621Y': 58, 'B00OD753U8': 15, 'B00ODC9HJG': 101, 'B00ODC9ETY': 17, 'B00ODC9KJ8': 85, 'B00ODC9J1C': 16, 'B00ODC9K98': 38, 'B00ODC9C6Y': 64, 'B00ODC9GOW': 66, 'B00ODC9FSO': 73, 'B00ODP9YF0': 42, 'B00ODQEALC': 8, 'B00OF3NYM4': 98, 'B00OFA6XJ8': 16, 'B00OF8ME52': 124, 'B00OFFZVNM': 5, 'B00OFP7356': 6, 'B00OFRMY1W': 8, 'B00OFY3JQY': 26, 'B00OG7VW64': 18, 'B00OGA2R7Y': 69, 'B00OGUVGYE': 16, 'B00OHVT2SO': 11, 'B00OHVZTTK': 30, 'B00OI7JJRG': 6, 'B00OILGKEM': 8, 'B00OIRBN1G': 6, 'B00OIU1UL6': 19, 'B00OIVGGS2': 6, 'B00OJZQLU0': 8, 'B00OJZR1IQ': 9, 'B00OK190R4': 6, 'B00OLF8IMC': 9, 'B00OLHSK9G': 18, 'B00OLT53XK': 31, 'B00OM3NV3E': 46, 'B00OMJ7UH6': 41, 'B00ON1IZTK': 7, 'B00ONC8QLQ': 5, 'B00OPJ8R7U': 8, 'B00OPVWHRY': 39, 'B00OQFFW4Y': 11, 'B00OQK5UXM': 12, 'B00OT6L5T6': 26, 'B00OTHOVVO': 6, 'B00OTLNAZ8': 30, 'B00OTLNAU8': 9, 'B00OTLNASA': 8, 'B00OTLNATO': 20, 'B00OUWMF70': 6, 'B00OUWMD4U': 5, 'B00OVWQIT0': 10, 'B00OX6YR9W': 184, 'B00OY8G3NC': 121, 'B00OYF57DM': 6, 'B00OZ51GRC': 14, 'B00OZLX3OA': 25, 'B00OZQZUJ6': 58, 'B00OZUWT1O': 32, 'B00P093P6W': 14, 'B00P093VRK': 14, 'B00P0MU4A4': 6, 'B00P1AHGQK': 20, 'B00P1M7IJ8': 51, 'B00P1RFSWM': 6, 'B00P3T6SWC': 15, 'B00P3T6ZKW': 6, 'B00P6T9ABU': 32, 'B00P76QDU8': 12, 'B00P80K5N4': 9, 'B00P815VJG': 83, 'B00P89AVRU': 100, 'B00P8V9YEY': 10, 'B00P9VG9PA': 6, 'B00P9ZDTOU': 7, 'B00PABO8IY': 9, 'B00PAEI5US': 16, 'B00PBF1QPM': 40, 'B00PBLXN16': 27, 'B00PBP5N4M': 6, 'B00PBQR2PO': 21, 'B00PBWQXQM': 9, 'B00PBXNVB6': 22, 'B00PBXN5F8': 54, 'B00PCG61PU': 13, 'B00PDF26UO': 7, 'B00PDMETFW': 5, 'B00PEPIWM4': 20, 'B00PEPIWNI': 947, 'B00PEU9CFA': 139, 'B00PF76U1Q': 49, 'B00PF89YXG': 9, 'B00PHFH0SS': 46, 'B00PHJT53M': 11, 'B00PHQQ6AU': 19, 'B00PHZL2L4': 81, 'B00PISB0CG': 14, 'B00PIRWNNC': 19, 'B00PJIK3CI': 7, 'B00PJKZFJC': 20, 'B00PJSAJXG': 89, 'B00PK2LSEU': 26, 'B00PK2LJ4E': 43, 'B00PKDY28I': 13, 'B00PKHHZ2E': 5, 'B00PL09HD0': 18, 'B00PL8BLP4': 17, 'B00PLNN3WS': 10, 'B00PONS6O0': 60, 'B00PONS6N6': 9, 'B00PPAG8LK': 18, 'B00PPL82WW': 32, 'B00PRVMLZY': 15, 'B00PRVMM1M': 31, 'B00PU8LSR6': 58, 'B00PUQ8X1C': 8, 'B00PUZRKXK': 101, 'B00PV361UO': 10, 'B00PXK1JR0': 64, 'B00PYW5X1A': 406, 'B00PYVSTAS': 6, 'B00PZGPABS': 8, 'B00Q0EBQHG': 6, 'B00Q0VI46A': 11, 'B00Q2BEYM6': 5, 'B00Q2HFW3U': 10, 'B00Q2NUYTQ': 9, 'B00Q2TAATY': 29, 'B00Q2TF3O6': 9, 'B00Q2VPI8A': 1355, 'B00Q2UZ7MS': 79, 'B00Q30P8IK': 77, 'B00Q30JU7U': 343, 'B00Q3BDOM6': 20, 'B00Q3OHC94': 104, 'B00Q3OH45G': 25, 'B00Q3OHI4I': 21, 'B00Q3TFLY2': 6, 'B00Q3TJNHI': 56, 'B00Q3YA2JQ': 5, 'B00Q4KR7JM': 6, 'B00Q5IB9F6': 6, 'B00Q651TT4': 338, 'B00Q654MC0': 15, 'B00Q66VT16': 61, 'B00Q688GCE': 14, 'B00Q6ZXNOI': 26, 'B00Q74VZ48': 32, 'B00Q784XX4': 57, 'B00Q7852AC': 21, 'B00Q7857AW': 20, 'B00Q784UL4': 5, 'B00Q7852L6': 8, 'B00Q78578E': 15, 'B00Q7DFW8O': 153, 'B00Q8I0SRI': 6, 'B00QBR02G8': 22, 'B00QC651UK': 7, 'B00QD6H9TK': 25, 'B00QEROK0O': 51, 'B00QF0LDSM': 10, 'B00QF1GWC8': 5, 'B00QFGUV1G': 8, 'B00QFN0O02': 5, 'B00QFRLXDU': 6, 'B00QGFEIK6': 46, 'B00QGMAID0': 10, 'B00QGOZ2N4': 7, 'B00QHOCTG6': 29, 'B00QHYNAC8': 64, 'B00QIR8WOU': 88, 'B00QJ47IR4': 62, 'B00QJSH59G': 8, 'B00QL0YMDO': 23, 'B00QL4IS3K': 10, 'B00QL9AJ6Y': 6, 'B00QLRZ84Y': 11, 'B00QMSGGIO': 606, 'B00QN43YFU': 66, 'B00QN8NR80': 9, 'B00QN8NRA8': 5, 'B00QNIMV96': 56, 'B00QPI3EE0': 81, 'B00QRIG9X6': 6, 'B00QRGP3HG': 46, 'B00QRKHA64': 74, 'B00QT2SB4U': 12, 'B00QU6ARME': 10, 'B00QU6AV8E': 12, 'B00QU8S76K': 22, 'B00QV77YIC': 329, 'B00QVCTMQY': 7, 'B00QVVZCI2': 8, 'B00QW1T86I': 8, 'B00QWRN2KK': 52, 'B00QX13980': 23, 'B00QXNS2LM': 6, 'B00QZDMBFI': 5, 'B00QZJ9UGK': 21, 'B00R0DCSSM': 222, 'B00R124LAK': 788, 'B00R11WPK4': 364, 'B00R10DWWK': 181, 'B00R1D3Z10': 91, 'B00R1CNMZU': 6, 'B00R1QWOBY': 9, 'B00R1RRL0C': 9, 'B00R2N6T7G': 5, 'B00R2QQ4M8': 12, 'B00R2MIFOM': 39, 'B00R3M4KEU': 165, 'B00R43UG5A': 48, 'B00R62PHOO': 6, 'B00R74AWUK': 9, 'B00R7CW4IA': 15, 'B00R9NDVNO': 7, 'B00R9TPAGE': 14, 'B00RAXEM9K': 60, 'B00RBBB9RY': 12, 'B00RBBB9G0': 20, 'B00RBQX0N0': 19, 'B00RCYLC2M': 38, 'B00RD2PD3W': 110, 'B00RDJAJ3Y': 25, 'B00RDPZU46': 14, 'B00RF27R9I': 32, 'B00RFLODIC': 12, 'B00RG8QPHG': 39, 'B00RGICB74': 44, 'B00RGK8AS6': 42, 'B00RH2FGMQ': 5, 'B00RKUPRSS': 14, 'B00RM3DEME': 15, 'B00RNE4516': 212, 'B00RPMG2W6': 13, 'B00RQLV6YU': 14, 'B00RRPQDVG': 21, 'B00RSUFT5G': 459, 'B00RT1AGKC': 8, 'B00RT9E1CI': 14, 'B00RTXA0RY': 14, 'B00RWV00OQ': 63, 'B00RXAHNGO': 6, 'B00RXT7KV8': 38, 'B00RZPOS4W': 190, 'B00S0TG7XM': 9, 'B00S22OP3Q': 36, 'B00S2P0M1C': 153, 'B00S4EAH7A': 6, 'B00S5CPERY': 119, 'B00S5HHM0G': 10, 'B00S5Q39ZY': 10, 'B00S5Q39UE': 7, 'B00S732OXI': 21, 'B00S749IQ8': 5, 'B00S7QMDPY': 121, 'B00S7ZXO9E': 26, 'B00S8RHU5K': 9, 'B00S9AWN26': 22, 'B00S99MOQW': 15, 'B00S9ZZK7G': 18, 'B00SB6SP0C': 303, 'B00SBBI584': 19, 'B00SC15YEG': 8, 'B00SCINBGW': 13, 'B00SE4E5OG': 7, 'B00SEHHYCS': 35, 'B00SG8T7CU': 32, 'B00SHUHKJ4': 6, 'B00SIK76SI': 9, 'B00SIK68J6': 6, 'B00SIK7FXY': 6, 'B00SIK6NIM': 34, 'B00SIK63DM': 7, 'B00SIK5YEG': 9, 'B00SIK5TQO': 80, 'B00SIPG9I6': 5, 'B00SIYEK6K': 139, 'B00SJL0JIA': 5, 'B00SJXEUMY': 7, 'B00SKWITGC': 5, 'B00SL43TXW': 5, 'B00SLUTJ58': 47, 'B00SLX3GCM': 158, 'B00SMBXOP2': 47, 'B00SMNYFIU': 12, 'B00SMVLKNU': 26, 'B00SMVLPIK': 32, 'B00SORGJ6U': 9, 'B00SRAV6V2': 8, 'B00SSM8NJW': 44, 'B00STPHMI6': 72, 'B00SURJAII': 13, 'B00SUYOB3K': 15, 'B00SWAOO7A': 36, 'B00SWDHUXW': 71, 'B00SWLOU1O': 5, 'B00SWPTH5Y': 6, 'B00SWY9MW8': 6, 'B00SXNCOBY': 16, 'B00SY6QTXO': 7, 'B00SYZTWE8': 8, 'B00T0010TQ': 29, 'B00T1C351Y': 24, 'B00T2FGRMY': 7, 'B00T2FGQY8': 9, 'B00T34K2MA': 11, 'B00T38HX00': 9, 'B00T56GFTA': 68, 'B00T552B8U': 67, 'B00T56VLWQ': 39, 'B00T57RHVE': 55, 'B00T5KBMIU': 7, 'B00T7DP966': 20, 'B00T7H5IU4': 9, 'B00T98NN8A': 5, 'B00T95OA8U': 13, 'B00T9QIB8Y': 11, 'B00T9WBHKC': 7, 'B00TB1EUS2': 13, 'B00TBELD02': 97, 'B00TBELEY2': 106, 'B00TBI3G1C': 19, 'B00TBJY4L2': 6, 'B00TBMTM2A': 63, 'B00TBT7KZ4': 18, 'B00TCP34ZW': 34, 'B00TCP31KK': 13, 'B00TCURUSE': 40, 'B00TD17MB2': 99, 'B00TD1JFIK': 54, 'B00TD2SB98': 7, 'B00TDLG1XM': 10, 'B00TECOZZQ': 22, 'B00TF1YDH6': 22, 'B00TF2HCJQ': 10, 'B00TF3AZZ8': 32, 'B00TF48BAS': 12, 'B00TFGW238': 29, 'B00TGCDF1Y': 8, 'B00TGCDHL2': 18, 'B00TI1HPZK': 48, 'B00TI2HCS4': 192, 'B00TIAYQEY': 14, 'B00TIXVXOM': 5, 'B00TIXLPFE': 28, 'B00TJDDIQC': 35, 'B00TJWOMCC': 185, 'B00TK50KAQ': 16, 'B00TKNVPLG': 211, 'B00TKWBBO8': 6, 'B00TKYPNHC': 18, 'B00TMTW6JI': 92, 'B00TNHW4D2': 50, 'B00TO9W5FQ': 7, 'B00TON9MIU': 110, 'B00TR27BPE': 15, 'B00TS1AZQ6': 6, 'B00TS1AZCA': 105, 'B00TS1BE9I': 35, 'B00TU5NZR6': 92, 'B00TUE4GBG': 12, 'B00TV538VI': 5, 'B00TWVM9WA': 85, 'B00TXP3TQK': 13, 'B00TXUQGD8': 12, 'B00TYUR550': 12, 'B00TZ0GEHE': 33, 'B00TZBDAH0': 7, 'B00U1095JG': 5, 'B00U109CIA': 27, 'B00U1095FU': 5, 'B00U0ZVMT8': 13, 'B00U12AOV2': 30, 'B00U18GOLK': 25, 'B00U2DDH0A': 16, 'B00U2DD7B4': 5, 'B00U2G64XO': 12, 'B00U3GTD72': 57, 'B00U3I32YA': 23, 'B00U5HBHYG': 6, 'B00U5QYVHC': 163, 'B00U7IP7L2': 9, 'B00U8FVVPU': 7, 'B00UA692U8': 18, 'B00UA692W6': 13, 'B00UBM1SL2': 139, 'B00UBO11RG': 65, 'B00UBQB1SS': 5, 'B00UC9QKQ2': 185, 'B00UCB6CW2': 11, 'B00UCJ3XX0': 29, 'B00UFG30V0': 12, 'B00UG7QMPO': 40, 'B00UH2ULTG': 5, 'B00UHJ2V06': 30, 'B00UJ9RY5G': 81, 'B00UJXSVFY': 7, 'B00UKOOX3G': 14, 'B00UL7QKEW': 6, 'B00ULJCC4M': 6, 'B00UM9YY8I': 10, 'B00UMSGHNY': 25, 'B00UMWTJLC': 32, 'B00UN19D3G': 8, 'B00UOUNASU': 12, 'B00UPVMDWM': 21, 'B00URBHZ3W': 24, 'B00US6D3LE': 5, 'B00USUQMR2': 9, 'B00UT31HY6': 13, 'B00UTQDJCG': 6, 'B00UTXD3FM': 14, 'B00UV9TRK4': 14, 'B00UVVO74I': 155, 'B00UW0FZWQ': 5, 'B00UX3LIR8': 99, 'B00UX7PYLK': 38, 'B00UYLFRYY': 16, 'B00UYL7LIY': 679, 'B00UZ3LGEG': 10, 'B00UZ3LGKK': 224, 'B00UZ3LGHS': 18, 'B00V0JYQ50': 21, 'B00V2BGL2M': 11, 'B00V31B928': 160, 'B00V31USC0': 289, 'B00V3A0GDM': 24, 'B00V3A0LRS': 18, 'B00V3A0LKA': 29, 'B00V3C6K08': 16, 'B00V3L7WME': 36, 'B00V3RK57C': 45, 'B00V440S3K': 65, 'B00V4EEQU6': 20, 'B00V4X6R2C': 19, 'B00V5GHBLE': 36, 'B00V5Y3Q38': 7, 'B00V7GTVQA': 20, 'B00V7I5158': 148, 'B00V7GTVNS': 24, 'B00V7JVZNE': 5, 'B00V7N3ZUG': 962, 'B00V7N3V78': 224, 'B00V7ORQOQ': 5, 'B00V7Z0LQA': 19, 'B00V7ZZSGS': 229, 'B00V81E5O2': 191, 'B00V8SAIO6': 35, 'B00V9EGM2G': 20, 'B00V9FN1R4': 154, 'B00V9FN1LK': 46, 'B00V9IRJJ2': 5, 'B00V9XEGU2': 65, 'B00VB4F4KU': 11, 'B00VDES2SE': 125, 'B00VDWV8CS': 6, 'B00VE1E4S8': 7, 'B00VE1E4RY': 8, 'B00VEWVKZW': 6, 'B00VFVN23K': 6, 'B00VFVN1TU': 13, 'B00VG90446': 35, 'B00VHDUHA2': 8, 'B00VHBMRX4': 6, 'B00VHM2M6U': 9, 'B00VHM2KF8': 10, 'B00VHVWWLQ': 11, 'B00VJFJM86': 72, 'B00VJTIMIS': 51, 'B00VJU19YG': 56, 'B00VJYHI6K': 12, 'B00VJYHIUQ': 15, 'B00VM5I0NQ': 5, 'B00VMMXGXS': 9, 'B00VMMH2JM': 6, 'B00VNHAHN4': 5, 'B00VQ7HUCC': 6, 'B00VQ7HW2U': 9, 'B00VQ8QEB4': 5, 'B00VQO5SY2': 6, 'B00VR3Q3BY': 25, 'B00VR8G1V6': 48, 'B00VRH619O': 16, 'B00VSX8GY0': 13, 'B00VTSAJ3K': 6, 'B00VTT9IMC': 7, 'B00VV6X5ZE': 16, 'B00VV73PHG': 12, 'B00VVZ5G7A': 10, 'B00VW7DBBA': 9, 'B00VW7D3MC': 18, 'B00VW7U8SY': 29, 'B00VW7DKXY': 5, 'B00VXJKD5Y': 63, 'B00VXQH1FC': 15, 'B00VY9LCBC': 31, 'B00W0TUE64': 180, 'B00W29DECS': 27, 'B00W29D5AO': 15, 'B00W29D13K': 8, 'B00W2BYOLQ': 6, 'B00W3025XA': 7, 'B00W345SSA': 7, 'B00W3HGK1G': 5, 'B00W4EGCB6': 105, 'B00W5ZM9SO': 11, 'B00W61KPCE': 13, 'B00W6XNLKU': 5, 'B00W8YV9L0': 30, 'B00W98RIX8': 15, 'B00W9BIHWQ': 20, 'B00W9MHV86': 12, 'B00WAMWQ2Q': 9, 'B00WAOYFZA': 53, 'B00WAX7TFY': 7, 'B00WBST0DM': 11, 'B00WBSSVDW': 24, 'B00WCGOD62': 25, 'B00WE1PWLK': 14, 'B00WE1FZM6': 13, 'B00WE1RWA4': 245, 'B00WE1PWVU': 8, 'B00WE1PWTC': 6, 'B00WE1PWNI': 49, 'B00WFFJXZ6': 23, 'B00WFYKT78': 8, 'B00WFYKTBE': 6, 'B00WFYKTAK': 6, 'B00WG0WXF2': 131, 'B00WGFBAGK': 9, 'B00WGFEA9E': 16, 'B00WGMRD2S': 276, 'B00WGY5COW': 24, 'B00WHIR7S6': 7, 'B00WHJ3CAM': 6, 'B00WHJ3XMY': 7, 'B00WHKKDJE': 7, 'B00WHKJQUQ': 10, 'B00WHQVYV4': 65, 'B00WJ0GKHQ': 15, 'B00WJ8JP2K': 13, 'B00WJ8XJYU': 17, 'B00WJSVBQI': 9, 'B00WJZT8BQ': 15, 'B00WK0UTWC': 18, 'B00WLHZUY6': 8, 'B00WLN2JHG': 21, 'B00WNT2Q6W': 10, 'B00WQ6Y98U': 21, 'B00WQEXW8U': 42, 'B00WQH7TKO': 7, 'B00WQZTP6W': 7, 'B00WR0CFRW': 18, 'B00WR8Y1EO': 11, 'B00WR8Y1GM': 24, 'B00WREKXEU': 9, 'B00WRG9E5M': 24, 'B00WRG9DUS': 6, 'B00WRJ71NG': 14, 'B00WSEDQ5C': 15, 'B00WSM0STG': 115, 'B00WSLZFTK': 698, 'B00WTBTE4Q': 7, 'B00WTOXS0O': 10, 'B00WTQDV5E': 27, 'B00WTR75Y6': 6, 'B00WTZX9W0': 28, 'B00WU0P6PW': 146, 'B00WU11STY': 10, 'B00WU2KJSO': 36, 'B00WU35S7K': 78, 'B00WU36LNU': 176, 'B00WU38N6I': 270, 'B00WU8GEWS': 72, 'B00WUA5ZL2': 15, 'B00WUBF23W': 27, 'B00WUDCO3G': 93, 'B00WUCHEH8': 168, 'B00WUG8T4Q': 13, 'B00WUGXI92': 17, 'B00WUI7ALC': 25, 'B00WUJ00XQ': 189, 'B00WUO2RNM': 262, 'B00WUT3I5S': 17, 'B00WUT2DDG': 11, 'B00WXNPRHI': 5, 'B00WXN73RU': 131, 'B00WXN72NK': 47, 'B00WXN72R6': 57, 'B00WZ97R9G': 9, 'B00X0PCBT0': 681, 'B00X31SNHA': 31, 'B00X3218QW': 5, 'B00X33Q3HK': 11, 'B00X3JFAPU': 27, 'B00X3ZK9YG': 79, 'B00X3ZTGU4': 8, 'B00X530I7Y': 9, 'B00X5D7WWI': 7, 'B00X5ITSSE': 11, 'B00X5O98JW': 6, 'B00X5O98YM': 9, 'B00X7IK2CS': 29, 'B00X96V0JM': 12, 'B00X9KVVQK': 459, 'B00X9VR90Q': 6, 'B00X9VLMA4': 7, 'B00XABQUIW': 12, 'B00XAF0AIE': 98, 'B00XARX5AW': 8, 'B00XB8TM4S': 6, 'B00XB8MMG8': 17, 'B00XB9FLSS': 7, 'B00XBOM9QU': 9, 'B00XBPLZ0U': 9, 'B00XBZY0EI': 48, 'B00XCANBL0': 8, 'B00XCEJ3LI': 58, 'B00XCDOGY8': 38, 'B00XEQYGUM': 21, 'B00XISZ4ES': 50, 'B00XJ85S2A': 11, 'B00XJT0TFK': 7, 'B00XJYYXSO': 15, 'B00XKA6Q8W': 5, 'B00XLIG4GW': 18, 'B00XLIFZ7Q': 11, 'B00XMDG466': 14, 'B00XNG09U4': 32, 'B00XNG068O': 24, 'B00XP3G63O': 33, 'B00XPQCVDK': 8, 'B00XPY43T2': 46, 'B00XQ1AQPY': 31, 'B00XQ37ZF6': 23, 'B00XQCVBAW': 12, 'B00XRJ8OJ0': 132, 'B00XTYA52W': 5, 'B00XU7WRE2': 8, 'B00XVO2RNK': 42, 'B00XVVZ25S': 29, 'B00XVY1S4O': 129, 'B00XW01DT2': 5, 'B00XWNC3OI': 5, 'B00XXC8IJM': 11, 'B00XXK24XK': 8, 'B00XXNYY1W': 7, 'B00XZ42HBI': 30, 'B00XZHQAMC': 377, 'B00XZWZY1K': 10, 'B00Y03M8XU': 25, 'B00Y0F6IBG': 160, 'B00Y0Q9LFU': 32, 'B00Y1BYV5Y': 35, 'B00Y1NXMRU': 12, 'B00Y36R86G': 22, 'B00Y46W4E6': 16, 'B00Y4BEAW0': 9, 'B00Y4BEAVQ': 8, 'B00Y4M04VU': 12, 'B00Y4S55TA': 19, 'B00Y4S55IQ': 121, 'B00Y4S5608': 13, 'B00Y4S55RC': 34, 'B00Y54F3XG': 13, 'B00Y54F56Q': 15, 'B00Y54GYC0': 19, 'B00Y7P5WR0': 7, 'B00Y7UCQ4M': 5, 'B00Y7USFPQ': 6, 'B00Y81DBV2': 9, 'B00Y82928C': 28, 'B00Y81DBP8': 10, 'B00Y828ZM6': 22, 'B00Y8294O4': 22, 'B00Y86P1KQ': 10, 'B00Y8BB3DA': 75, 'B00Y9D4JRO': 53, 'B00Y9XT3SE': 11, 'B00YA8L3YA': 411, 'B00YAH2OMQ': 39, 'B00YCFIGF0': 109, 'B00YDMW0XQ': 34, 'B00YDT8OIY': 24, 'B00YDT8RPO': 21, 'B00YDXBSFQ': 17, 'B00YE3OJ7O': 69, 'B00YEV8EUE': 12, 'B00YG7WLCS': 13, 'B00YH09I52': 11, 'B00YHWOR0Q': 5, 'B00YI89ZQ0': 30, 'B00YIJFXFQ': 18, 'B00YIYLIFK': 7, 'B00YJ3DXNU': 7, 'B00YJ3985C': 11, 'B00YJDC9NK': 84, 'B00YJRAVCW': 164, 'B00YJS4RLM': 61, 'B00YMMB3E4': 10, 'B00YMNSCF6': 10, 'B00YN7FU74': 9, 'B00YN7CRQQ': 5, 'B00YNV9KAS': 9, 'B00YO7XIMW': 26, 'B00YOYPGS4': 49, 'B00YOZ3APY': 90, 'B00YP2KEGY': 33, 'B00YPT5IA4': 6, 'B00YPT5KPC': 10, 'B00YQKZAGE': 9, 'B00YQST8MI': 15, 'B00YQST8SC': 10, 'B00YR8LWAS': 10, 'B00YRRRFKA': 20, 'B00YRRQU9W': 13, 'B00YRRR168': 10, 'B00YRSEMZ0': 15, 'B00YRRRBR2': 6, 'B00YRWB8KI': 16, 'B00YRWHZO6': 9, 'B00YSQDX3I': 33, 'B00YT3EFV4': 32, 'B00YTW9KT2': 146, 'B00YTXPY6Y': 83, 'B00YTZ6KD8': 57, 'B00YWT3F7A': 7, 'B00YX39CJU': 18, 'B00YX7CTZU': 5, 'B00YXAK6VQ': 25, 'B00YXLVOAC': 71, 'B00YYA9MCE': 115, 'B00YYTW7YU': 47, 'B00YZC1D1Y': 11, 'B00YZ9EACQ': 6, 'B00Z288XTA': 51, 'B00Z56JVI6': 699, 'B00Z6EZCU8': 23, 'B00Z8D0YXM': 5, 'B00Z9G3976': 6, 'B00Z9Y4RUQ': 29, 'B00ZA1J5GO': 10, 'B00ZA74E1Y': 6, 'B00ZADG2IG': 5, 'B00ZAF2DRI': 51, 'B00ZCACU7E': 5, 'B00ZCDRCPQ': 9, 'B00ZCITEQ6': 33, 'B00ZCNF24E': 8, 'B00ZDR3TRQ': 11, 'B00ZGC0002': 10, 'B00ZGGG3KY': 198, 'B00ZGFVEUE': 40, 'B00ZGNX8XC': 57, 'B00ZGNX94U': 41, 'B00ZHWU2Q8': 7, 'B00ZI6H0JU': 5, 'B00ZIJSFDC': 9, 'B00ZIMBBUI': 16, 'B00ZJZDPBM': 31, 'B00ZK3FIFE': 14, 'B00ZK7M628': 50, 'B00ZK8LTSO': 18, 'B00ZK895R6': 41, 'B00ZK93RTC': 23, 'B00ZKA4YDE': 5, 'B00ZKBTCT4': 5, 'B00ZKA2YKO': 5, 'B00ZK8P16U': 8, 'B00ZKCOA4U': 16, 'B00ZKCEG1C': 11, 'B00ZN0JTU4': 15, 'B00ZN2IZ1Q': 15, 'B00ZNTPSQ4': 21, 'B00ZNTO8FQ': 21, 'B00ZNTPO7M': 18, 'B00ZOHDXOO': 6, 'B00ZP4AM9K': 25, 'B00ZP30U7U': 20, 'B00ZQMPKTI': 9, 'B00ZQMEUX0': 18, 'B00ZQQAHYM': 7, 'B00ZQONI54': 13, 'B00ZQWR7YY': 22, 'B00ZQJ1J6O': 12, 'B00ZS8GWUG': 134, 'B00ZSRKNNE': 53, 'B00ZTCR71Y': 14, 'B00ZU89Q84': 6, 'B00ZUEZ2KY': 75, 'B00ZUSJIQE': 50, 'B00ZUWRTIY': 51, 'B00ZV498VC': 78, 'B00ZWNYF7E': 70, 'B00ZWZ1G7E': 10, 'B00ZX1YJ4O': 6, 'B00ZXEPT68': 7, 'B00ZY7UGV2': 19, 'B00ZY8PGJI': 112, 'B00ZYCNH5O': 44, 'B00ZZO1B4A': 50, 'B00ZZQS2MM': 17, 'B00ZZQSP7O': 21, 'B0100XGCU8': 20, 'B0100XAH7M': 22, 'B0105NCAP4': 114, 'B0105PBGKM': 15, 'B0107LBMSK': 6, 'B0107OK7S8': 34, 'B0107TL2ZU': 12, 'B010867GGQ': 8, 'B0108TIT3M': 130, 'B010BTJ9D8': 39, 'B010C97OPC': 10, 'B010DL99KM': 5, 'B010DM8TZ2': 6, 'B010DYDVOE': 8, 'B010E1QLO8': 57, 'B010EXVZOW': 36, 'B010EYIAV2': 29, 'B010F8LF7I': 66, 'B010H520R8': 35, 'B010H4OV9E': 6, 'B010HVOL3I': 16, 'B010JI32L6': 44, 'B010LB6QHI': 93, 'B010LD2O8G': 6, 'B010MTKXLE': 64, 'B010MXNV6Y': 19, 'B010N263TG': 19, 'B010N8DOY2': 12, 'B010NDQR28': 16, 'B010NIABJ8': 94, 'B010NREQCM': 5, 'B010NREQAY': 6, 'B010OLC3KY': 28, 'B010PHL42A': 70, 'B010RWBUTA': 11, 'B010RXUX60': 129, 'B010SML4WM': 10, 'B010SNPGGG': 13, 'B010T5YT02': 6, 'B010TQ8R9A': 66, 'B010TRK7VU': 48, 'B010TY3LZ2': 164, 'B010UR6KA6': 88, 'B010US5YR0': 5, 'B010UU4G1S': 22, 'B010VILU8G': 6, 'B010VMOCA0': 8, 'B010WO7U8I': 72, 'B010Z8J0FC': 10, 'B0111J096I': 109, 'B0112186UG': 12, 'B0113YUS4O': 8, 'B01149EGKK': 9, 'B01149EHSQ': 33, 'B01149EF24': 14, 'B01149EH72': 13, 'B0114FUG7G': 5, 'B0114X0EKC': 45, 'B0115IAQGS': 10, 'B0115PRL4G': 60, 'B0115ROWPK': 9, 'B0116YB7EQ': 7, 'B0116YVRQO': 59, 'B0116Z5WKK': 28, 'B0116Z5X2M': 18, 'B01178STDI': 9, 'B0117RFZ40': 314, 'B0117RFP0Y': 99, 'B0117RGG8E': 398, 'B0117RFYQE': 186, 'B0117RFPCC': 130, 'B0117RFP6I': 32, 'B0117WPILA': 19, 'B01197EO2W': 13, 'B01194JHPE': 381, 'B0119DAPVA': 9, 'B0119OI9XU': 77, 'B0119R63BC': 8, 'B0119Y07A8': 86, 'B011A82RC4': 24, 'B011C8O23Y': 10, 'B011DOB6UE': 8, 'B011EDBLBI': 6, 'B011HHZAHM': 24, 'B011HRCE76': 33, 'B011HVDP2A': 72, 'B011HZW6DK': 432, 'B011JFPAX6': 10, 'B011JOBT28': 6, 'B011K1WZA0': 8, 'B011K9HFHA': 86, 'B011KNHN7I': 10, 'B011KQMLVS': 12, 'B011KTMW4G': 9, 'B011KUX40G': 5, 'B011L1190G': 26, 'B011L8JGMM': 11, 'B011L8N6DW': 107, 'B011LOJFU4': 46, 'B011LR8908': 33, 'B011LQOAX4': 10, 'B011MX95WW': 11, 'B011QGHTI2': 6, 'B011QJQMM8': 31, 'B011QJEU0Y': 6, 'B011R0YLN8': 29, 'B011R0YLA6': 23, 'B011R697K4': 19, 'B011R6MKKI': 13, 'B011SDSYW8': 5, 'B011THO4VI': 20, 'B011TNK6V4': 33, 'B011TVPQLG': 58, 'B011TVPS7S': 20, 'B011U4K9KU': 7, 'B011UBPM0U': 31, 'B011VT9OQE': 61, 'B011WAZILW': 8, 'B011WQRQZ2': 11, 'B011X13ROU': 13, 'B011XE35KI': 7, 'B011YFR1MO': 73, 'B01206QYEC': 13, 'B01221IBFA': 6, 'B0122RCRH2': 7, 'B01232LZZQ': 84, 'B0124H2PIQ': 6, 'B0124XZA8M': 14, 'B01265MGEO': 18, 'B0126LISWM': 192, 'B0126T2FDC': 39, 'B0126UZIO4': 24, 'B0126UZI2Q': 33, 'B0126YOAX0': 12, 'B012972T6Y': 27, 'B0129X70ZS': 274, 'B012A5D9BO': 147, 'B012AVK85I': 6, 'B012BKP240': 31, 'B012BLVGGM': 8, 'B012BMOE8I': 9, 'B012CQ6OVS': 24, 'B012CR2OYS': 7, 'B012D1LD36': 35, 'B012DFODJS': 7, 'B012DIBO42': 61, 'B012E09WFM': 19, 'B012E5C5OM': 11, 'B012E4IF74': 47, 'B012E5DF50': 31, 'B012EEGGYI': 16, 'B012EEE744': 21, 'B012EECKB6': 32, 'B012FS11AC': 29, 'B012HWKINM': 8, 'B012J1E5JO': 18, 'B012L45VJM': 12, 'B012MAO7WW': 13, 'B012MQDSVM': 5, 'B012MQDXZ8': 5, 'B012MUI9VC': 23, 'B012N00112': 8, 'B012N1LA9I': 14, 'B012NFWED0': 130, 'B012OXCVEI': 7, 'B012P17HIE': 12, 'B012PP415W': 23, 'B012Q4ESA0': 40, 'B012R411DG': 8, 'B012RGAXU6': 21, 'B012RHPAIK': 22, 'B012S8MQFS': 14, 'B012S9KQTA': 40, 'B012S7C6OU': 8, 'B012SJCP58': 5, 'B012SDC2A2': 9, 'B012SUYOHY': 19, 'B012SYY0O2': 22, 'B012UW1MMA': 25, 'B012UZA0CA': 36, 'B012VO2BXQ': 10, 'B012VQ21DO': 16, 'B012VO2TT2': 6, 'B012VWPCKW': 5, 'B012VWPCHU': 8, 'B012X72EEM': 20, 'B012X7B32G': 31, 'B012XHEOSQ': 18, 'B012YQEXCI': 23, 'B012YUCG7S': 19, 'B012Z0R34I': 34, 'B012ZTBCY6': 44, 'B0131JSMPG': 16, 'B0131TPKOM': 20, 'B01326MED4': 5, 'B0132KVJVI': 80, 'B0132LVW0A': 28, 'B0132YHU0I': 552, 'B0133ACE8O': 21, 'B0133ACED4': 9, 'B0134DTP9Q': 13, 'B0135K6N5W': 20, 'B0135K6MYE': 27, 'B0135MSOEI': 6, 'B0135OXXPG': 7, 'B0136489PO': 53, 'B0137PYO2Y': 50, 'B013B2CBDC': 15, 'B013B9ZIS0': 15, 'B013BKOL3M': 6, 'B013DAHNXK': 35, 'B013DDDTUS': 23, 'B013E10XJE': 18, 'B013FAE2ZK': 5, 'B013FHKYBE': 6, 'B013FM8C9K': 8, 'B013FMGP1C': 10, 'B013FTN9OG': 6, 'B013GMT3Q0': 47, 'B013HE3A48': 10, 'B013HEK7Q2': 11, 'B013HEK9VA': 24, 'B013HEK8SE': 10, 'B013HSW4N2': 777, 'B013HU44FQ': 101, 'B013HZTTXI': 40, 'B013IJHBYM': 16, 'B013IICZ9Y': 6, 'B013IKWU7Y': 106, 'B013ILNBBM': 9, 'B013J2LC2A': 30, 'B013J5UITU': 30, 'B013J73M0A': 10, 'B013J7JZQK': 5, 'B013J7WUGC': 89, 'B013J7Y8L2': 55, 'B013J8DROA': 36, 'B013J8CB2E': 73, 'B013JG34HC': 10, 'B013KZBBU4': 24, 'B013LIIUOK': 5, 'B013MDNH7E': 10, 'B013N5VS5Y': 24, 'B013OGSXZ0': 15, 'B013P2IVJ6': 5, 'B013Q7UPUS': 7, 'B013QR1JJY': 32, 'B013QUCE18': 6, 'B013QTKCK4': 41, 'B013S1AVZG': 23, 'B013SAH3VC': 39, 'B013SJLP8U': 6, 'B013SJSTA2': 21, 'B013SMJT5S': 6, 'B013SNMSVY': 10, 'B013SPVH5A': 6, 'B013SQX7RK': 20, 'B013SV1KHE': 6, 'B013SWGXXO': 53, 'B013TGK0YM': 6, 'B013TI1ZOO': 12, 'B013TKH8VG': 17, 'B013U3RVOG': 15, 'B013U54BFG': 600, 'B013V7DKE6': 9, 'B013WSBTV0': 11, 'B013WWEX7S': 10, 'B013WW90PS': 24, 'B013X4NRVI': 6, 'B013Y07LUY': 217, 'B013ZMLBJ8': 7, 'B0140SPG4W': 11, 'B0140T4U9I': 5, 'B0140VJ406': 103, 'B01410VG16': 16, 'B01410VG4I': 13, 'B01410VG5M': 10, 'B014132J14': 18, 'B014132JF0': 49, 'B01415ZNVA': 6, 'B0141FCD0E': 9, 'B0142OKMBQ': 91, 'B0142O20YI': 32, 'B0142UGH5U': 41, 'B01434SXCU': 6, 'B01434SXDY': 8, 'B01434SX8Y': 7, 'B0143998X8': 10, 'B0143OPA44': 10, 'B0143OPD00': 18, 'B014410BT0': 35, 'B014410BUY': 10, 'B0144WJVEA': 85, 'B0144TVJO8': 10, 'B01464K32K': 10, 'B01465RX1S': 10, 'B01465RX1I': 16, 'B0146FZ9FA': 120, 'B0146FZC2U': 18, 'B01476PB0G': 67, 'B0147EXXIA': 27, 'B0147RLNFW': 24, 'B01485QUQU': 28, 'B01488B1CA': 16, 'B01489J3GU': 8, 'B0148FBRNQ': 20, 'B0149MFGXU': 61, 'B0149UTKUC': 14, 'B014AYT27S': 34, 'B014BDDLAC': 6, 'B014BJSEX0': 10, 'B014CK49LY': 7, 'B014CS95E2': 20, 'B014CS8U9I': 28, 'B014CS9290': 13, 'B014CS98F8': 8, 'B014DPX5MW': 9, 'B014DXSXI0': 8, 'B014E9QLGE': 21, 'B014EEX252': 16, 'B014EF4340': 20, 'B014ES0IBO': 42, 'B014ESPIS2': 13, 'B014ESPIWS': 7, 'B014EW8JPM': 73, 'B014F0GUUO': 7, 'B014FARSAK': 6, 'B014FBTZPU': 71, 'B014FHX37U': 9, 'B014G6ZJFO': 13, 'B014G6ZFT4': 16, 'B014GRM294': 183, 'B014GRCG1I': 20, 'B014GWA9DK': 13, 'B014HBWGRW': 6, 'B014HCTOY4': 137, 'B014I4OB08': 18, 'B014J6M81Y': 22, 'B014JW8ZXS': 21, 'B014KNIQOE': 11, 'B014KPY37G': 8, 'B014KPY47U': 5, 'B014KVFPJK': 6, 'B014LE3IRW': 13, 'B014LMX5AY': 206, 'B014LMZ746': 36, 'B014MBZTEO': 27, 'B014MC2FRC': 6, 'B014MGJC0G': 9, 'B014MGZJ94': 7, 'B014N4S4T2': 6, 'B014NJXVZO': 18, 'B014NJW0AQ': 18, 'B014OVP09Q': 229, 'B014PGCEW6': 29, 'B014PTPOJ8': 8, 'B014Q13GH2': 17, 'B014QMIKZY': 10, 'B014QM21KY': 11, 'B014QWJNKU': 7, 'B014QWJNFU': 6, 'B014R1S6LC': 14, 'B014RN2V0C': 8, 'B014RRA3Z8': 108, 'B014RS28DW': 24, 'B014SM33GS': 9, 'B014SOJMF2': 12, 'B014T0OWQE': 17, 'B014T17D1O': 20, 'B014T3QN36': 293, 'B014TBV1U8': 7, 'B014VT91F0': 32, 'B014VVJBPS': 34, 'B014WAJ5NQ': 34, 'B014WARH5E': 11, 'B014WAJ5XQ': 25, 'B014WM2M52': 14, 'B014X4UVNE': 21, 'B014XM6FRM': 99, 'B01500HARU': 8, 'B0150265QA': 7, 'B0151GOYZ4': 11, 'B0151FHQS2': 23, 'B0151JZRO8': 7, 'B0151JZRL6': 9, 'B0151KNFLY': 70, 'B0152A1A2Y': 6, 'B0152GBS66': 196, 'B0152GWYK0': 11, 'B0152WW34Q': 14, 'B015312KIU': 15, 'B01533PXEG': 8, 'B015347O3I': 7, 'B0154BKNW4': 23, 'B0154EEUNE': 161, 'B0154G6GXE': 6, 'B0154GQUCQ': 8, 'B0154H84PG': 6, 'B0154WLJD0': 7, 'B0155WQR7W': 13, 'B0156HK9C0': 44, 'B0156HFQT6': 18, 'B0157LX63Y': 7, 'B01588ZO7C': 17, 'B01589FM9Q': 57, 'B01589FPWU': 21, 'B0159QZC3E': 18, 'B015ACX03G': 25, 'B015B3WM6A': 7, 'B015BYDFOC': 23, 'B015C5LTUC': 5, 'B015CVOEW6': 95, 'B015CVOHPU': 29, 'B015DCEQUE': 32, 'B015DCEQZY': 31, 'B015DS5R74': 35, 'B015EE59S4': 7, 'B015EL2IIG': 11, 'B015EL1EMC': 31, 'B015ENOQ3E': 27, 'B015F6CCFY': 17, 'B015F6CCW2': 12, 'B015F6CD62': 7, 'B015F85IOO': 8, 'B015F93RPK': 14, 'B015F91TSC': 8, 'B015FGHQSC': 65, 'B015FK43HU': 5, 'B015G46ULW': 6, 'B015GEUKC2': 5, 'B015GXMUNA': 12, 'B015GW9EBM': 6, 'B015HQJJMG': 6, 'B015IEW1AY': 436, 'B015IJJUU8': 14, 'B015IJTPFS': 7, 'B015IL7JT0': 41, 'B015K5T67W': 20, 'B015M5V5XI': 117, 'B015MSJ5ZA': 31, 'B015MYE8LU': 10, 'B015MYEEBY': 15, 'B015MYE5W2': 32, 'B015N1FNDO': 36, 'B015N2CKD4': 24, 'B015MYEBIU': 11, 'B015N3C3X0': 11, 'B015N5341I': 15, 'B015N52XDI': 45, 'B015N52YUU': 13, 'B015N52WZM': 7, 'B015N9GQ6E': 14, 'B015NM3IKI': 23, 'B015OG1GNY': 16, 'B015OIK37M': 15, 'B015OKHQYS': 7, 'B015ORGFNE': 110, 'B015PAT294': 9, 'B015PTKEOM': 15, 'B015Q48PP6': 6, 'B015QB7C7G': 8, 'B015QSGRB6': 18, 'B015R2WOLI': 7, 'B015R34PHS': 84, 'B015R4NX6G': 8, 'B015RKW6OU': 9, 'B015RKW6RW': 7, 'B015RKW6NG': 14, 'B015RKW6OK': 13, 'B015RKW6Q8': 11, 'B015RKW6PY': 11, 'B015RRLVWQ': 11, 'B015RSWBDI': 28, 'B015RVNIO6': 9, 'B015RWQAWC': 18, 'B015S2K05Y': 23, 'B015S65OKG': 5, 'B015S8JRY8': 30, 'B015SI5396': 22, 'B015ST2Q18': 17, 'B015U56VIE': 25, 'B015WBVICA': 237, 'B015WG1EK6': 14, 'B015WXF3MO': 82, 'B015XLF8BQ': 14, 'B015XSFQHK': 17, 'B015YN6MS6': 19, 'B015Z2W9OC': 36, 'B015ZA7QQU': 17, 'B015ZDH4EQ': 21, 'B015ZE26FW': 5, 'B015ZLLSEU': 20, 'B0160DZNUW': 10, 'B0161MLNG0': 26, 'B0162C1P9O': 41, 'B0163MLKL6': 7, 'B0163ZHROM': 11, 'B0164FQ3AK': 31, 'B0165IILF6': 9, 'B0165RNCDI': 6, 'B01660CFQY': 5, 'B016608LQ2': 8, 'B01666EVBK': 12, 'B01667AFP0': 6, 'B0167HT6NQ': 12, 'B01686T0M8': 25, 'B0168SGBKA': 6, 'B0168XJ0RG': 12, 'B016977D6G': 7, 'B0169O12WK': 59, 'B0169N85T4': 10, 'B0169N84LI': 14, 'B0169TU8KM': 5, 'B0169TWV8O': 185, 'B016A5QTR6': 5, 'B016A8OUUQ': 15, 'B016AAYHJS': 8, 'B016B1CBP8': 48, 'B016BB9264': 6, 'B016BSJKBY': 8, 'B016C1WP26': 23, 'B016C6Z1OA': 56, 'B016C6Z1KY': 71, 'B016C6Z1FO': 54, 'B016C6Z1QS': 176, 'B016CD4JYG': 46, 'B016CE4S2S': 10, 'B016CTV268': 8, 'B016EVVRFA': 15, 'B016EWH7W6': 16, 'B016F8NUPW': 107, 'B016GC02LC': 10, 'B016H5ZILM': 6, 'B016HJ53O0': 10, 'B016HJ53R2': 9, 'B016IFOOLQ': 17, 'B016ISVZ7O': 5, 'B016ISVYXE': 7, 'B016IPL5MM': 6, 'B016JA8JKW': 7, 'B016JBZ4CW': 274, 'B016KV79X8': 7, 'B016M9SINI': 22, 'B016MLXVO2': 6, 'B016NGZMN4': 6, 'B016NIEGJI': 14, 'B016OF0IDI': 113, 'B016ONT0RK': 22, 'B016PMJ2VE': 6, 'B016PPI29O': 5, 'B016Q2QJRI': 15, 'B016RBJGFA': 11, 'B016RE9DV4': 13, 'B016RG7FRG': 7, 'B016S4A1M8': 14, 'B016SBP4IC': 5, 'B016SSUPQG': 49, 'B016TTI8L8': 15, 'B016TU6V48': 17, 'B016U3HT7M': 31, 'B016U42M28': 11, 'B016U4BYHW': 19, 'B016U73V4I': 25, 'B016UCB7G2': 5, 'B016UI09QA': 16, 'B016UI09YW': 5, 'B016UWFH22': 57, 'B016VOPFI0': 7, 'B016VWS71O': 44, 'B016W8O3R4': 14, 'B016WCPE8M': 79, 'B016WFWU04': 137, 'B016X3OX9Q': 28, 'B016XIBN08': 10, 'B016XJ618Q': 7, 'B016XQZ4KK': 28, 'B016XYGFHI': 63, 'B016XZQOXW': 15, 'B016Y37M4I': 11, 'B016Y7A2B4': 33, 'B016Y8XJCW': 297, 'B016YJDV74': 100, 'B016YKNI26': 22, 'B016YRRDJS': 31, 'B016YW9RX8': 55, 'B016ZEAM2A': 11, 'B016ZEAM1G': 16, 'B016ZEAM8O': 25, 'B016ZG4THW': 8, 'B016ZJIY34': 20, 'B016ZO4A3W': 27, 'B016ZQZ3SQ': 105, 'B016ZWZCGS': 33, 'B01700RNIO': 20, 'B0170CTCCW': 26, 'B0170RBJ9Q': 11, 'B0171739IE': 35, 'B01718M9UW': 7, 'B0171B38S6': 6, 'B0171B3AH0': 27, 'B0171B1EVY': 15, 'B0171F4SIQ': 222, 'B0171F4ULQ': 67, 'B0171ERRMQ': 5, 'B0171ERRWG': 23, 'B0171UWWUM': 17, 'B0172QVPV2': 7, 'B01734530C': 24, 'B0173A3S4O': 18, 'B0173AHC8C': 5, 'B0174GTC5Q': 16, 'B0174LC79O': 10, 'B0174KJI6A': 8, 'B0175XAN6A': 25, 'B017600OEI': 42, 'B01763QHA0': 247, 'B01768BM8C': 55, 'B0176A4RO6': 8, 'B0176HDRRM': 32, 'B0176XT9Z0': 310, 'B0177DYI64': 5, 'B0177HQK1G': 15, 'B0177P1PPE': 20, 'B0177T51UU': 5, 'B0177T51NW': 7, 'B01781PCW4': 13, 'B017898OK8': 9, 'B017898OBM': 28, 'B017898O9Y': 6, 'B0178A7EM6': 9, 'B0178AOI4S': 20, 'B0178E8Q4W': 10, 'B0178J2V3E': 7, 'B0178YA6NG': 12, 'B01790SX66': 38, 'B0179AS9SS': 8, 'B0179DDISQ': 57, 'B0179DDIQS': 14, 'B0179DDIQI': 19, 'B0179JU73O': 7, 'B0179JU6TO': 9, 'B0179JU97I': 6, 'B0179MTCX2': 10, 'B0179Q9I3M': 6, 'B017AIEPLE': 6, 'B017AKI784': 7, 'B017ARKQL8': 16, 'B017AUGRKO': 12, 'B017AW0GR2': 327, 'B017B81BHO': 9, 'B017CL98X4': 58, 'B017CLYI8O': 30, 'B017CVNT8Y': 9, 'B017CY7PMM': 58, 'B017D5I5FQ': 29, 'B017D5WS36': 6, 'B017DPVX3W': 58, 'B017DSH6EE': 13, 'B017EGB5LU': 59, 'B017ERD7IS': 9, 'B017FD2PUC': 7, 'B017G2VP30': 6, 'B017GLFG2C': 51, 'B017H00ZJG': 11, 'B017H0371E': 22, 'B017H4LSKW': 131, 'B017H8JXS2': 23, 'B017H7YNP6': 6, 'B017HAG2YS': 22, 'B017HB0C48': 5, 'B017I3C4UA': 31, 'B017I9D3HW': 10, 'B017IXLKKU': 14, 'B017K3LFFS': 100, 'B017K3K2ES': 15, 'B017K9MMUY': 39, 'B017KE8N4S': 42, 'B017KE9JRS': 59, 'B017KE9KOU': 244, 'B017KY2X5I': 30, 'B017L216V6': 55, 'B017L216T8': 138, 'B017L216SO': 80, 'B017LI9HS4': 58, 'B017LKZRSG': 8, 'B017LPALC8': 9, 'B017LUBO56': 13, 'B017MDDOFU': 41, 'B017MEW3LK': 22, 'B017MOUVMI': 14, 'B017N0BD9G': 12, 'B017NOIFFC': 5, 'B017NOIFCA': 12, 'B017NOPWYO': 16, 'B017NOPWX0': 25, 'B017NOPX52': 9, 'B017ODTKJ2': 15, 'B017OUEU1I': 16, 'B017Q1XOTO': 13, 'B017Q1XOTY': 20, 'B017QTP3MW': 15, 'B017R08PE8': 14, 'B017R59AYC': 9, 'B017R5997U': 7, 'B017R5SDX6': 6, 'B017R5SDZY': 7, 'B017S0DF9C': 5, 'B017SGXRQ2': 13, 'B017SR5GHE': 90, 'B017TFM8XK': 11, 'B017TQXQTY': 14, 'B017U0J8KK': 6, 'B017U6G168': 13, 'B017VT30G8': 15, 'B017VTLPFG': 12, 'B017VWYC1C': 10, 'B017VX3V04': 10, 'B017VWYJX8': 6, 'B017VY4C4C': 14, 'B017VYW514': 5, 'B017W2ENUQ': 10, 'B017W72TG6': 12, 'B017W9TW1Y': 12, 'B017WRZH9C': 12, 'B017WRZFSA': 21, 'B017X7Z3TA': 5, 'B017X9Z2RG': 37, 'B017XGKG2A': 5, 'B017XMFY4E': 13, 'B017XMQV2I': 8, 'B017Z5VD6M': 10, 'B01801YIP8': 7, 'B0180PQQA4': 14, 'B0180T7XPC': 13, 'B018106IAQ': 24, 'B01824UV0E': 15, 'B01826TRHU': 18, 'B0182990OC': 8, 'B0182FWQL0': 8, 'B0182KIA7E': 33, 'B0182KIA8I': 16, 'B0182N3LCK': 12, 'B0182N3LBG': 10, 'B01837HGMQ': 14, 'B0183LD2CK': 10, 'B0184MWYCW': 25, 'B0184UM36Q': 9, 'B01850M8GA': 12, 'B0185HZ94Q': 6, 'B0185I5U76': 10, 'B0185I5SOQ': 24, 'B0185I5R74': 7, 'B0185M89TS': 8, 'B0185Z5OTS': 133, 'B018615A90': 12, 'B01867ULKW': 9, 'B01867WJRU': 5, 'B018681M5E': 13, 'B0186EMA36': 37, 'B0186VB9TK': 12, 'B01875GJ4K': 15, 'B01875GAZI': 11, 'B01878SYUO': 26, 'B018792G5M': 32, 'B0187ZEVGS': 13, 'B0188TNU2E': 23, 'B0188SYRP4': 7, 'B0188WM1JO': 37, 'B0188WM1XK': 136, 'B0188Z2I76': 6, 'B018A2HAKM': 8, 'B018A2HB9C': 8, 'B018ALREAY': 25, 'B018AMDCLI': 103, 'B018APC50Y': 666, 'B018C2UK3Y': 12, 'B018DLBL1Y': 24, 'B018E47KWE': 14, 'B018FD9VH6': 14, 'B018FUWALI': 6, 'B018FVPDVG': 7, 'B018FW6N32': 6, 'B018FVS930': 10, 'B018G035QQ': 12, 'B018G3SHL6': 16, 'B018HXGTUG': 9, 'B018I6BIP8': 29, 'B018I56MLO': 11, 'B018IGQYHA': 7, 'B018ISWW9W': 22, 'B018JLDG84': 6, 'B018JLDFXU': 5, 'B018JLDG0C': 7, 'B018JMQKRM': 5, 'B018JMQKTU': 12, 'B018JMQKSG': 6, 'B018JMQKOK': 5, 'B018JON85C': 5, 'B018JON816': 7, 'B018JON7H6': 8, 'B018K1FCU8': 10, 'B018K1FCUI': 8, 'B018K4I8YW': 19, 'B018LEJT9Y': 8, 'B018LL2RCI': 6, 'B018LUUG22': 7, 'B018M2AZUW': 11, 'B018QMVH0A': 46, 'B018QMKD4Q': 9, 'B018RIKBQY': 131, 'B018RP7X0O': 73, 'B018SA6F3E': 50, 'B018T2TZBK': 35, 'B018TSFXQ0': 5, 'B018TZ29K6': 11, 'B018U1AAGY': 36, 'B018U6YUWE': 39, 'B018U941AW': 9, 'B018UB3HU0': 38, 'B018UAZI4Y': 12, 'B018UYHBK4': 59, 'B018UYHBJA': 65, 'B018UYHBVS': 14, 'B018UZBGWC': 10, 'B018UZLH58': 24, 'B018VH2O8Y': 5, 'B018VOR2SY': 5, 'B018VOZL5U': 64, 'B018VZBH5M': 20, 'B018W7S9DC': 16, 'B018WKIJ7U': 15, 'B018WOOGN2': 75, 'B018WWPW0A': 19, 'B018XI3ASO': 238, 'B018YKTD1Y': 133, 'B018YKTF0I': 8, 'B018YVFGKU': 10, 'B018YZAWEG': 7, 'B018Z1JJRK': 6, 'B018Z1JJ20': 5, 'B018Z5AXNK': 15, 'B018ZCEWJY': 5, 'B01909E56Q': 22, 'B0191FRCAA': 50, 'B0191RQSYO': 5, 'B019259XCY': 39, 'B019266I44': 25, 'B0192LHLIG': 9, 'B0193693LS': 18, 'B019431CUU': 31, 'B0194OHEZG': 21, 'B0194SIB68': 6, 'B0194T1Z5G': 8, 'B0194XRBDC': 9, 'B0194XR8VM': 6, 'B01950HTI6': 39, 'B0195SUXMM': 12, 'B0195XOTMC': 6, 'B01962BVAU': 13, 'B0196HUMPA': 11, 'B0196JFID4': 11, 'B0196OEKG0': 109, 'B01985VGO6': 8, 'B01987XN5Y': 9, 'B0199YQDNU': 23, 'B019AIHCYO': 5, 'B019BG7P38': 9, 'B019C1MBWW': 614, 'B019C327HO': 62, 'B019DATZDA': 6, 'B019DB5QQ4': 397, 'B019DQHX5G': 5, 'B019DSW142': 5, 'B019DQWN8S': 23, 'B019E26WBA': 108, 'B019E8IMF8': 19, 'B019EACGSU': 8, 'B019EMMUI4': 8, 'B019EZDT04': 148, 'B019FBWOSA': 12, 'B019GD45X4': 7, 'B019GEG2ZM': 6, 'B019GKLM1K': 39, 'B019GY0UL4': 178, 'B019H2HB80': 5, 'B019HNZFU0': 27, 'B019IBFR4A': 14, 'B019IC1UI6': 29, 'B019III2CC': 21, 'B019JRD1ZU': 9, 'B019JYT940': 56, 'B019K2G7OQ': 15, 'B019K8MGYA': 6, 'B019LOQGNK': 20, 'B019M9N5X8': 8, 'B019NJRM4A': 6, 'B019NQLPOQ': 11, 'B019OG1M20': 64, 'B019OIKKRQ': 6, 'B019OKFYAC': 27, 'B019OS7B96': 7, 'B019PJRCS4': 12, 'B019PJRCQ6': 11, 'B019PJL4QU': 19, 'B019PJRCPM': 13, 'B019PZNAAW': 7, 'B019Q02YD0': 19, 'B019Q5IA92': 7, 'B019Q88ZSA': 10, 'B019QRF50W': 24, 'B019RDSFP2': 32, 'B019RDSGIS': 32, 'B019RDSEV2': 34, 'B019RNG4XC': 10, 'B019RXTG1O': 15, 'B019S1S8N2': 10, 'B019SCUWXU': 39, 'B019SMZVAE': 8, 'B019SVIYDQ': 33, 'B019SUKSXQ': 5, 'B019SYT37Y': 16, 'B019SYT33I': 12, 'B019SYT33S': 5, 'B019T37MGI': 84, 'B019THBA8U': 9, 'B019TTSYOG': 11, 'B019U00D7K': 639, 'B019U0DO3K': 7, 'B019UXH1H2': 8, 'B019W0XFTQ': 56, 'B019W31YRI': 30, 'B019W7ELNI': 9, 'B019W7EJZ8': 17, 'B019XLBZXM': 25, 'B019XQGVWM': 6, 'B019XS7H46': 6, 'B019XTWSMQ': 6, 'B019Y5OHOQ': 89, 'B019YW0UD6': 15, 'B019YW0U3Q': 5, 'B019YY56VK': 17, 'B019Z0ET4I': 6, 'B019Z25882': 5, 'B019Z5NDJA': 10, 'B019Z7N24Y': 7, 'B019Z7XSQQ': 10, 'B01A02BHG8': 118, 'B01A0BRSDU': 282, 'B01A0DKXHG': 30, 'B01A0OJAOW': 13, 'B01A0VQ8JK': 8, 'B01A0XNDQY': 5, 'B01A186CZM': 22, 'B01A45K370': 17, 'B01A4WUMRO': 20, 'B01A5AUD7Y': 11, 'B01A5AUA2C': 7, 'B01A5D5ZF6': 31, 'B01A5EXIQI': 9, 'B01A5FDSS0': 5, 'B01A5RKT6C': 108, 'B01A60I4P6': 55, 'B01A6EEK96': 46, 'B01A6PGZ70': 480, 'B01A6TSN0I': 6, 'B01A73M8VI': 5, 'B01A7G35S0': 584, 'B01A7PVTGG': 18, 'B01A8DWGDW': 23, 'B01A8L4UBK': 96, 'B01A8S7IUI': 38, 'B01AAXPZVU': 9, 'B01ABTYYXS': 10, 'B01ABWGJ7Y': 16, 'B01ABWGISY': 23, 'B01ABWGHPS': 9, 'B01ABWGGNG': 6, 'B01ACIV70G': 9, 'B01ACJKEEU': 19, 'B01ACS9XEI': 5, 'B01AD0J1PQ': 8, 'B01ADEGAJW': 12, 'B01AERHBQO': 6, 'B01AEW9E46': 10, 'B01AF8OK48': 31, 'B01AG0R9JS': 25, 'B01AG4GYGI': 6, 'B01AH1DPLM': 5, 'B01AH3OAO6': 9, 'B01AHFYQ5C': 13, 'B01AHJUJHW': 109, 'B01AHQY8MW': 33, 'B01AHSNKH4': 12, 'B01AHTPBGQ': 13, 'B01AI54XEA': 39, 'B01AIHKBC6': 5, 'B01AIO8XVA': 7, 'B01AKSQCRQ': 14, 'B01AL6MU5K': 5, 'B01AMEY6K8': 26, 'B01AMSKC84': 8, 'B01AMTY2IO': 8, 'B01AN91U92': 45, 'B01ANBS8QI': 8, 'B01ANF0X9O': 11, 'B01ANGAF5K': 165, 'B01ANGOUA6': 5, 'B01ANGNNUE': 45, 'B01ANGNNU4': 33, 'B01ANHFOAK': 8, 'B01ANHW7QO': 6, 'B01ANPCG9E': 37, 'B01AOLSXJ4': 20, 'B01AOR9Q7G': 26, 'B01AOY1Y24': 6, 'B01AQ6XLYY': 43, 'B01AQ7RCPW': 7, 'B01AQ7IFB2': 10, 'B01AQAI6UO': 39, 'B01AQAYRA2': 16, 'B01AR9GOJ4': 7, 'B01ARCXBC4': 38, 'B01ARRB32O': 117, 'B01ASAIF8U': 23, 'B01AT3RU6E': 8, 'B01AUHBODE': 30, 'B01AV6PK3E': 69, 'B01AVVEMFG': 92, 'B01AW1TNKO': 16, 'B01AXD8A5A': 17, 'B01AXFS8CI': 10, 'B01AXIGNGI': 49, 'B01AXSYH2U': 21, 'B01AXSWHSQ': 8, 'B01AYO9S1I': 13, 'B01AYSNHVQ': 7, 'B01AYZZ70I': 6, 'B01AZ2LT6G': 23, 'B01AZC16Z0': 15, 'B01B0KQ552': 12, 'B01B1C3ARU': 5, 'B01B1PDKJK': 24, 'B01B2FAADI': 8, 'B01B2F26RG': 27, 'B01B2KHZX6': 6, 'B01B4PJY4W': 102, 'B01B5BIG3A': 5, 'B01B5EF4DC': 20, 'B01B5EF4PU': 9, 'B01B6WROCM': 11, 'B01B71Z906': 34, 'B01B787I30': 7, 'B01B7EIZJ0': 7, 'B01B87V9AI': 10, 'B01B8XEG7U': 78, 'B01B96U80A': 26, 'B01BBFKRT6': 8, 'B01BE1GK8E': 14, 'B01BE1JJNC': 12, 'B01BEV7AZ6': 43, 'B01BH714XG': 8, 'B01BHFDD6E': 8, 'B01BI0EAB0': 90, 'B01BNNOQG6': 12, 'B01BNNOQJS': 5, 'B01BPF49RI': 123, 'B01BPF3MPS': 7, 'B01BQ7F3IO': 6, 'B01BQBPWUE': 19, 'B01BQLKDA8': 21, 'B01BSCIN2A': 32, 'B01BT9WBWU': 12, 'B01BTFHYIU': 16, 'B01BTN43P4': 6, 'B01BTN42PU': 13, 'B01BTOIKUW': 16, 'B01BTXIGNO': 47, 'B01BU5UU3K': 16, 'B01BU9VMN8': 5, 'B01BUFTNI8': 8, 'B01BUUH8OY': 10, 'B01BVD3IT4': 52, 'B01BVAXKVI': 25, 'B01BW1T2Y0': 10, 'B01BW5F1ZA': 6, 'B01BWK5OU2': 59, 'B01BXMUPDU': 13, 'B01BY1S9YM': 31, 'B01BY7ZMXC': 277, 'B01BY9611W': 14, 'B01BYTG7YS': 35, 'B01BZFYOPU': 19, 'B01BZWU48Y': 7, 'B01BZXVULI': 94, 'B01BZXBFLI': 55, 'B01C12HN9K': 20, 'B01C1NG6AG': 21, 'B01C228T6K': 63, 'B01C22IJV0': 648, 'B01C2I60UG': 11, 'B01C2PES8K': 5, 'B01C2YBG9U': 7, 'B01C35JK0U': 9, 'B01C37TOXQ': 15, 'B01C3H9EAO': 41, 'B01C3JM30A': 24, 'B01C3OBDMO': 20, 'B01C3W361W': 64, 'B01C423L5M': 18, 'B01C432512': 11, 'B01C44O9JW': 20, 'B01C4LCFFK': 11, 'B01C5EE540': 92, 'B01C5IBT2C': 5, 'B01C5JYRTS': 19, 'B01C69OGP2': 70, 'B01C6B3W9G': 39, 'B01C6WXD4O': 11, 'B01C73AUFM': 5, 'B01C741IVQ': 17, 'B01C74ITP4': 11, 'B01C76578O': 11, 'B01C74ISM8': 16, 'B01C7DZL3S': 8, 'B01C7G2M9Q': 27, 'B01C7G2MAK': 6, 'B01C7XBGKA': 38, 'B01C8FKN2E': 7, 'B01C8QLQ24': 64, 'B01C8QLPSY': 17, 'B01CA5346O': 7, 'B01CCDUNT0': 16, 'B01CCKIHWS': 7, 'B01CCP88PO': 16, 'B01CCRWBG4': 34, 'B01CCTZCY0': 8, 'B01CE4S9B6': 5, 'B01CEFLFF2': 42, 'B01CEFLGJM': 50, 'B01CEFLA2U': 55, 'B01CEFLFQG': 46, 'B01CEFLFHU': 30, 'B01CF41IWM': 10, 'B01CFKYXM8': 20, 'B01CGNB1C4': 9, 'B01CHPC1D4': 8, 'B01CHXLSFS': 19, 'B01CHZ2D6E': 7, 'B01CHYTX7C': 6, 'B01CI2RK2S': 17, 'B01CIMC30W': 12, 'B01CIZC6SS': 32, 'B01CJF18OA': 26, 'B01CJJIQXM': 18, 'B01CK70Q7M': 18, 'B01CKIA8LA': 9, 'B01CKTJ64O': 8, 'B01CL04A52': 22, 'B01CL6NEN0': 24, 'B01CL7H6V0': 6, 'B01CL9S3UQ': 5, 'B01CLXV3NG': 6, 'B01CM8TG34': 9, 'B01CN7D6EY': 22, 'B01CN92MKQ': 25, 'B01CNF4BIQ': 7, 'B01CNKOCWQ': 51, 'B01CNM13M6': 15, 'B01CNQBX0O': 6, 'B01CNYSKMU': 5, 'B01CNYSJG2': 15, 'B01COH1U00': 64, 'B01COILDBU': 14, 'B01COYGS8W': 15, 'B01COYTZU0': 5, 'B01CP1F5Q0': 7, 'B01CP7AI98': 9, 'B01CQKWSAG': 5, 'B01CS9R7PQ': 23, 'B01CT5X44M': 103, 'B01CT5X4YW': 76, 'B01CTIOSMG': 15, 'B01CTU5UHQ': 18, 'B01CU4PU1M': 7, 'B01CU4PUYE': 6, 'B01CU4PRTW': 19, 'B01CU6NDW8': 12, 'B01CU90OB8': 5, 'B01CUHENLM': 7, 'B01CULYEWQ': 175, 'B01CUXO7BM': 7, 'B01CV4Q5WO': 11, 'B01CVSY0J0': 36, 'B01CY3VXTM': 12, 'B01CY3VV26': 10, 'B01CY3VVNA': 17, 'B01CY3VTYQ': 14, 'B01CY4OLXQ': 8, 'B01CY60XCW': 34, 'B01CY7OX1S': 30, 'B01CZ0PDKO': 22, 'B01CZBEFI4': 15, 'B01CZNLRLK': 198, 'B01CZTUB84': 27, 'B01CZWV1GM': 30, 'B01CZWOOGQ': 11, 'B01D03C11E': 11, 'B01D0CEDUC': 11, 'B01D0CEQ8Q': 11, 'B01D0CENO8': 15, 'B01D0CEKG4': 8, 'B01D0CEFPU': 5, 'B01D0J787A': 12, 'B01D16YELA': 9, 'B01D219O6E': 63, 'B01D2TNMSC': 20, 'B01D32BOV0': 43, 'B01D3C7PSQ': 19, 'B01D3QZ96M': 270, 'B01D3QZB2Y': 387, 'B01D3QZB6U': 88, 'B01D3QZA84': 150, 'B01D43TJWE': 13, 'B01D4FR6DG': 21, 'B01D4GFUSI': 21, 'B01D4IOAI2': 5, 'B01D4O3QRM': 7, 'B01D56YMWM': 5, 'B01D5QLP0E': 27, 'B01D64DM2E': 42, 'B01D67EKSG': 8, 'B01D6FKDT8': 18, 'B01D6MZ0YO': 116, 'B01D79MM2O': 8, 'B01D86Q858': 7, 'B01D8BCLW2': 8, 'B01D8F10P2': 5, 'B01D8JE956': 11, 'B01D8RFK6U': 12, 'B01D90ROX8': 10, 'B01D9APNGI': 20, 'B01D9PHSI4': 12, 'B01D9O02YW': 10, 'B01D9RHDC8': 9, 'B01DA1J8US': 6, 'B01DA44V3Y': 16, 'B01DA5QYWE': 5, 'B01DBBEVZ4': 14, 'B01DBCXC6M': 52, 'B01DBT55Q0': 6, 'B01DBS1D8A': 10, 'B01DBUHLAC': 14, 'B01DBYTO4Y': 8, 'B01DC6NGXG': 10, 'B01DD0BCDW': 14, 'B01DCZWRIW': 9, 'B01DCZWPWU': 5, 'B01DDJZG9Y': 5, 'B01DEMUOJ2': 7, 'B01DF1742C': 20, 'B01DFGFPAK': 8, 'B01DFNGTOY': 7, 'B01DFVNXM2': 7, 'B01DFXHZDI': 17, 'B01DG5KHIU': 11, 'B01DGLVMCO': 18, 'B01DGLVJW2': 6, 'B01DHDVRF8': 61, 'B01DHT4CRC': 51, 'B01DI34CAY': 18, 'B01DIGIUTA': 19, 'B01DIQWQ6I': 46, 'B01DJ15RK4': 11, 'B01DJ8B0NK': 13, 'B01DK1V62G': 35, 'B01DK1T9CU': 5, 'B01DK1TDH6': 5, 'B01DKG0HAI': 26, 'B01DKIJK4K': 15, 'B01DKOVEC0': 25, 'B01DKT113W': 20, 'B01DKWBJGS': 14, 'B01DL3HABY': 14, 'B01DLJSN4Q': 9, 'B01DLPS9WG': 19, 'B01DLVB1MK': 15, 'B01DMHPT3U': 1235, 'B01DMSADH6': 18, 'B01DNC1CCG': 8, 'B01DNF3JH4': 5, 'B01DNIRY1I': 10, 'B01DNTG44A': 5, 'B01DNU3QVS': 5, 'B01DNUFE40': 82, 'B01DNWE59S': 15, 'B01DO0782U': 8, 'B01DO2T6K0': 7, 'B01DPCAQI0': 5, 'B01DPH78TU': 19, 'B01DPO29DS': 5, 'B01DQ4EOEY': 9, 'B01DQMBWLY': 7, 'B01DQNGLJG': 23, 'B01DQR56SY': 11, 'B01DRPUT3M': 8, 'B01DTFX8LK': 17, 'B01DTHOS8K': 17, 'B01DTJGEK8': 11, 'B01DTWF0I2': 13, 'B01DU0VHVW': 7, 'B01DU5DROC': 15, 'B01DUVRU7G': 5, 'B01DVEBUXC': 27, 'B01DVW643A': 82, 'B01DWA1XAA': 5, 'B01DXCKH9U': 36, 'B01DXQHR30': 11, 'B01DY0NRCA': 47, 'B01DYEYKJK': 20, 'B01DZ734ZM': 5, 'B01DZFR87E': 8, 'B01DZOB5DS': 21, 'B01DZSHNQ2': 40, 'B01DZUYT7G': 66, 'B01DZXTDBA': 8, 'B01DZXFB1Q': 184, 'B01E0U258K': 11, 'B01E10SBY6': 11, 'B01E10SCGS': 5, 'B01E16A580': 25, 'B01E240LM6': 6, 'B01E2S6NF6': 14, 'B01E3R87DW': 25, 'B01E3RHW38': 37, 'B01E3SNO3E': 959, 'B01E3U64CK': 21, 'B01E3SNNGW': 45, 'B01E3VQX70': 13, 'B01E4H4OBA': 11, 'B01E4H4MWQ': 13, 'B01E4ZIVPM': 5, 'B01E524URC': 9, 'B01E524U86': 17, 'B01E54ULA0': 8, 'B01E5IKPVQ': 28, 'B01E5K15DG': 5, 'B01E5SA3MC': 7, 'B01E66Q9O4': 11, 'B01E6JRA3K': 5, 'B01E74HDKE': 6, 'B01E74HH3M': 7, 'B01E8PDZ0Y': 7, 'B01E93PMP6': 8, 'B01E9BTQTG': 5, 'B01E9QIY08': 40, 'B01E9WAOGY': 28, 'B01EAH2P8S': 20, 'B01EBCS10I': 8, 'B01EBPODBQ': 13, 'B01EDVGA28': 7, 'B01EF5DBTC': 152, 'B01EF5DBRY': 24, 'B01EFKFQL8': 53, 'B01EFNWZZ0': 36, 'B01EG0ZQYE': 11, 'B01EGAKEQ4': 22, 'B01EH354SS': 11, 'B01EH57ABU': 10, 'B01EHC1WDK': 9, 'B01EHIQAUE': 25, 'B01EHQFALQ': 9, 'B01EHSKTHE': 11, 'B01EHSLKUO': 8, 'B01EHVHCQM': 29, 'B01EHV9D8M': 20, 'B01EIA91WU': 13, 'B01EIA8VIA': 8, 'B01EJ1XVV0': 7, 'B01EJ8EJ4G': 12, 'B01EJAU9JS': 18, 'B01EJLEN1C': 6, 'B01EJMYOHO': 15, 'B01EJQNOA8': 5, 'B01EM77O96': 9, 'B01EMNNWTG': 5, 'B01EMO1GIY': 9, 'B01EMXLN88': 35, 'B01EN13TLI': 11, 'B01EN05BKG': 8, 'B01EN0OUUS': 28, 'B01EN3IJ6G': 27, 'B01EN6M5HW': 20, 'B01EN6M5J0': 51, 'B01EQ1ARR4': 8, 'B01EQ57J9Y': 5, 'B01EQ6O8PG': 5, 'B01EQI4KMA': 8, 'B01ER59VJE': 21, 'B01ERMHI2E': 14, 'B01ERWERAK': 8, 'B01ESLMDIS': 31, 'B01ET0PCMM': 7, 'B01ETTY0I0': 11, 'B01EUGZB8U': 20, 'B01EV01Y40': 8, 'B01EV0ZUZO': 59, 'B01EV2IHXY': 21, 'B01EV2IIBK': 14, 'B01EV4Y434': 13, 'B01EV2II92': 26, 'B01EVTKS20': 13, 'B01EVV9PXQ': 122, 'B01EW3PD8Y': 6, 'B01EW5AYCM': 6, 'B01EW7HHCU': 10, 'B01EWKVF48': 8, 'B01EWQ9JCC': 71, 'B01EWUR5AQ': 134, 'B01EX1E2GO': 82, 'B01EXXZ4OG': 21, 'B01EXXZ4O6': 94, 'B01EY0GN6Q': 146, 'B01EY0OAVQ': 62, 'B01EYEHDJI': 82, 'B01EZEBH3A': 5, 'B01EZL950U': 11, 'B01F00XWWW': 8, 'B01F1NASMA': 6, 'B01F1XH3TQ': 34, 'B01F2O1H96': 276, 'B01F2PFGT2': 18, 'B01F2YK8ZA': 48, 'B01F323PF6': 13, 'B01F313CKA': 451, 'B01F323DAS': 12, 'B01F31GTAA': 6, 'B01F3501X2': 10, 'B01F3DKK7Q': 65, 'B01F4GJ2RQ': 58, 'B01F4O042K': 9, 'B01F4S6LZ0': 8, 'B01F4X19K2': 8, 'B01F4X1A06': 8, 'B01F53TO9Y': 19, 'B01F5JBS4C': 10, 'B01F5S4BEC': 203, 'B01F6LBLMS': 15, 'B01F6N3L9W': 7, 'B01F6UY7BG': 5, 'B01F70L92U': 8, 'B01F71K4SY': 7, 'B01F70L8X0': 5, 'B01F73AMCU': 10, 'B01F730UHC': 8, 'B01F74A84G': 8, 'B01F75CQEU': 5, 'B01F76DP2Q': 11, 'B01F8BYW4U': 6, 'B01F8BYVEG': 11, 'B01F8G7JAY': 5, 'B01F8J0DAO': 64, 'B01F8ONCIY': 8, 'B01F8P6E5Q': 6, 'B01F9ACY36': 6, 'B01F9I7HLM': 5, 'B01FANQZKA': 9, 'B01FB0ERZM': 11, 'B01FBROHHS': 12, 'B01FBRZK9M': 10, 'B01FCU1UGK': 27, 'B01FCVSDUU': 6, 'B01FCWLHVG': 14, 'B01FD69L8M': 35, 'B01FDG3JR6': 10, 'B01FDFDT2M': 15, 'B01FDG7F5I': 5, 'B01FDG7F5S': 15, 'B01FDFDYLS': 6, 'B01FDG7F1W': 10, 'B01FDMVC92': 6, 'B01FDLDAWU': 8, 'B01FE6XWCC': 12, 'B01FEZWLU2': 15, 'B01FF8TXF4': 20, 'B01FFEMO68': 16, 'B01FFW958K': 21, 'B01FG4NSLM': 6, 'B01FGE5GTE': 8, 'B01FH0050M': 17, 'B01FHC4HYU': 49, 'B01FHS1X50': 12, 'B01FHSJRNK': 17, 'B01FIP8AX0': 11, 'B01FJHD8M0': 11, 'B01FJHEODC': 19, 'B01FJHEOSW': 14, 'B01FJK6O50': 9, 'B01FJLLKFS': 16, 'B01FJSHKX2': 9, 'B01FJSHL4A': 16, 'B01FJT9QRY': 8, 'B01FKZ9LWC': 6, 'B01FL0WAV0': 46, 'B01FM0B1J6': 6, 'B01FMKLPV0': 5, 'B01FMVIWGU': 10, 'B01FN7W59I': 37, 'B01FNCKZNQ': 35, 'B01FO5EH7W': 15, 'B01FOEEFMU': 5, 'B01FQ7SMTW': 21, 'B01FQ8A4IS': 25, 'B01FQUAR1K': 24, 'B01FQX6SCY': 44, 'B01FQX674I': 8, 'B01FQY3IYO': 17, 'B01FRGA0QU': 84, 'B01FRLCYWI': 69, 'B01FRPCUHS': 37, 'B01FS01SVG': 21, 'B01FS16U9A': 24, 'B01FTYT926': 11, 'B01FUEGDD8': 11, 'B01FUSKAJ2': 16, 'B01FVMM0JA': 49, 'B01FVS8EAI': 29, 'B01FVWQ0BE': 5, 'B01FW06ZO2': 15, 'B01FW5DP0E': 52, 'B01FWB1QAY': 68, 'B01FX3LZ9I': 11, 'B01FX30ONQ': 11, 'B01FXIXUQE': 8, 'B01FXPYRS2': 26, 'B01FY6NEFC': 9, 'B01FY6NDTO': 29, 'B01FYPLFGS': 35, 'B01FZX1NUM': 17, 'B01FZYSSJU': 9, 'B01G1UKS86': 114, 'B01G1WW9VI': 6, 'B01G2WTEF6': 107, 'B01G3AUK0K': 15, 'B01G3O9DTK': 10, 'B01G3ULRYI': 9, 'B01G3TE0B6': 22, 'B01G51SY50': 8, 'B01G567THO': 12, 'B01G57UHVS': 43, 'B01G5KIUKU': 12, 'B01G5SBBV2': 68, 'B01G60GO6Q': 85, 'B01G60GO7K': 425, 'B01G66MH20': 17, 'B01G6PV5OM': 68, 'B01G6SU4G4': 40, 'B01G6SVYQS': 9, 'B01G6XL6M0': 38, 'B01G719ACO': 5, 'B01G719B2S': 9, 'B01G7703CY': 24, 'B01G79BS30': 21, 'B01G7DL5DE': 5, 'B01G7XAC06': 5, 'B01G8CV0TI': 6, 'B01G8G28LI': 7, 'B01G8JO5F2': 94, 'B01G8P6KE0': 8, 'B01G8P6IQU': 14, 'B01G8Q3M0O': 14, 'B01G90XT3O': 11, 'B01GANTBBE': 6, 'B01GB1PXKI': 24, 'B01GBEVKZW': 63, 'B01GBIO88E': 11, 'B01GC4LIIK': 7, 'B01GCFAXIK': 32, 'B01GCMYXBQ': 6, 'B01GCSIYYM': 10, 'B01GCYL4YS': 6, 'B01GDB79T4': 84, 'B01GDIU3T0': 433, 'B01GDN442W': 6, 'B01GDRC35S': 11, 'B01GDRFY40': 11, 'B01GDTZNDU': 89, 'B01GDXHQ6S': 11, 'B01GED5URO': 5, 'B01GEJHHWO': 6, 'B01GEXM2DO': 21, 'B01GEXM1OE': 15, 'B01GFB0ZS4': 7, 'B01GFC4908': 28, 'B01GFMPNWG': 17, 'B01GFQCPBE': 76, 'B01GG2H4R2': 5, 'B01GG5YNGE': 5, 'B01GG1NND2': 9, 'B01GGKNYOQ': 19, 'B01GGN6ZM6': 7, 'B01GH0WTWI': 6, 'B01GH4DK90': 13, 'B01GHFC08G': 6, 'B01GHM8TV6': 6, 'B01GHOMA6E': 25, 'B01GISWDRU': 21, 'B01GJ5NUKG': 9, 'B01GJF4EJW': 5, 'B01GJHIN1U': 12, 'B01GJQ7N94': 222, 'B01GJS2TX2': 11, 'B01GK4WTM6': 26, 'B01GLBC752': 8, 'B01GLC1LQC': 6, 'B01GLE0WYW': 6, 'B01GNXHTF6': 24, 'B01GO1SII4': 6, 'B01GO3Q73K': 5, 'B01GO3YY4Y': 7, 'B01GO66IFO': 16, 'B01GPB922O': 5, 'B01GPDAOPG': 23, 'B01GPEDSLM': 15, 'B01GPA4TCI': 8, 'B01GPFVGUQ': 6, 'B01GPGLD6C': 53, 'B01GPJA8PG': 7, 'B01GPZ1DZY': 8, 'B01GQ3QKXA': 8, 'B01GQ28GLA': 18, 'B01GQ806NU': 7, 'B01GQ806R6': 10, 'B01GR5AH6I': 5, 'B01GRE4V70': 12, 'B01GRKCHCU': 6, 'B01GRRVHRY': 22, 'B01GRVTB9G': 6, 'B01GSEP2UY': 7, 'B01GSSV4SE': 24, 'B01GSWNBGI': 26, 'B01GT6F79C': 25, 'B01GTGQRAU': 18, 'B01GW39XII': 17, 'B01GW57O9G': 7, 'B01GWYS7U2': 10, 'B01GYHKX22': 10, 'B01GYMEHGA': 22, 'B01GYOXGM4': 17, 'B01GZKE9FU': 11, 'B01GZROHEG': 8, 'B01GZZ4E3C': 6, 'B01H02FDO8': 5, 'B01H020M4Y': 5, 'B01H08K2ES': 6, 'B01H0J9QAI': 6, 'B01H0VIZ58': 6, 'B01H1QN0C0': 16, 'B01H1VEUZQ': 11, 'B01H24UVFU': 5, 'B01H271ZJI': 13, 'B01H2NDPGI': 21, 'B01H2NDPZY': 5, 'B01H2VDRX6': 187, 'B01H2YD54Y': 19, 'B01H2XFEVC': 16, 'B01H38F5PQ': 24, 'B01H3BTKKO': 11, 'B01H3CQ64Q': 387, 'B01H3DWCOI': 12, 'B01H3F0SDI': 12, 'B01H3G5MOM': 6, 'B01H3PXSQ2': 15, 'B01H3ST3UE': 16, 'B01H45PRAQ': 5, 'B01H45PT4K': 7, 'B01H5219Q4': 7, 'B01H58JE92': 20, 'B01H58Z040': 9, 'B01H5GFCBI': 12, 'B01H5GFBGY': 7, 'B01H5JHEG6': 25, 'B01H5Q1QCC': 28, 'B01H6HVFNU': 51, 'B01H6I5XRS': 63, 'B01H6LG7XE': 8, 'B01H6X8Z0U': 16, 'B01H71E05U': 9, 'B01H7D9L48': 8, 'B01H7D9L6G': 14, 'B01H7KQ1Q2': 29, 'B01H87RTF6': 6, 'B01H87RTCO': 5, 'B01H86Q76O': 12, 'B01H8Q05O4': 18, 'B01H8UHEW6': 40, 'B01HAVTAIY': 12, 'B01HAVSPOY': 15, 'B01HB6JVW8': 13, 'B01HBFNVZ2': 13, 'B01HBFNVWU': 15, 'B01HBMOGGI': 8, 'B01HBP0PD8': 22, 'B01HCFINCC': 10, 'B01HCGEVOK': 5, 'B01HCJ6J3S': 17, 'B01HCIHPQE': 10, 'B01HCHVX4U': 15, 'B01HCU1ERI': 22, 'B01HCZJ3RG': 5, 'B01HCZ6UG8': 25, 'B01HCZOXJY': 7, 'B01HCZ6UN6': 11, 'B01HD13L68': 7, 'B01HD3OAL6': 29, 'B01HDD5FME': 6, 'B01HDONVME': 9, 'B01HDST7QO': 11, 'B01HDUTJ88': 158, 'B01HDUTJC4': 52, 'B01HEC9O2G': 6, 'B01HELE0P8': 7, 'B01HETFQA8': 6, 'B01HG3CZJW': 9, 'B01HGAVW9Y': 6, 'B01HGNS59G': 7, 'B01HHUFQOA': 21, 'B01HI5SGRS': 6, 'B01HI7D4VY': 44, 'B01HI7O7KQ': 66, 'B01HJ8E11E': 41, 'B00000JCTD': 6, 'B00004YK2W': 7, 'B00005I9QO': 6, 'B00006JQ5Q': 5, 'B00009W3CU': 5, 'B00016556C': 7, 'B00026IB26': 5, 'B00061IU9G': 7, 'B00079P73E': 5, 'B000CSIJIK': 6, 'B000EGLZTK': 5, 'B000EYH7GM': 5, 'B000M21BXQ': 5, 'B000OR023O': 5, 'B000P23J7O': 5, 'B000W3JH1S': 4, 'B000YML1IE': 5, 'B0011EOX6G': 7, 'B0014IK2QY': 5, 'B0015AK284': 3, 'B0015AM39K': 2, 'B00172PW62': 2, 'B001AE4J4I': 5, 'B001O2S9IS': 5, 'B001UE6PCM': 7, 'B0020MLP5U': 6, 'B0023RT0WW': 5, 'B002BA6BNW': 5, 'B002C9G8JO': 6, 'B002T6NZKU': 5, 'B00356M586': 5, 'B004443WQ2': 5, 'B004K6R3PA': 5, 'B004M8PPF6': 5, 'B004YSHA5W': 6, 'B004Z4UBZQ': 5, 'B0051UV69I': 5, 'B005BE07HG': 5, 'B005DM4Y9I': 5, 'B005F6732M': 5, 'B005FUDNBI': 8, 'B005GCC5UA': 5, 'B005M7TVR4': 6, 'B005QB2ESY': 6, 'B005TCZHWU': 5, 'B005Y6E0RE': 6, 'B006H3MJT4': 7, 'B006PB44NM': 6, 'B0076WQN9M': 8, 'B0078JSD1E': 7, 'B007CTNZPO': 5, 'B0084HTSUO': 5, 'B0091100LI': 5, 'B009F8UBNY': 5, 'B00A8MLJ50': 5, 'B00B9GF9XC': 5, 'B00BG9GBS4': 5, 'B00BIBAGM2': 5, 'B00BK0YWA8': 5, 'B00BTH2Y2A': 5, 'B00CKAEF3Q': 8, 'B00D2BZHBG': 6, 'B00D7YRP4K': 6, 'B00DEYA5W2': 5, 'B00DJ61FHY': 7, 'B00E38BR8O': 6, 'B00E3QISNI': 5, 'B00E8A3LDQ': 5, 'B00ECOC3JG': 5, 'B00FJISZBE': 5, 'B00GGNEVIC': 5, 'B00H7JGKVK': 6, 'B00HK7XJX6': 5, 'B00HRYZ7SW': 5, 'B00HWFPJKC': 5, 'B00HYG97JS': 5, 'B00IPNPYU0': 6, 'B00ISAZ9D2': 5, 'B00JAIY7MA': 6, 'B00JEJPT7C': 5, 'B00JJGRXRE': 5, 'B00JV2AKZ8': 5, 'B00JXTP5EU': 5, 'B00K5NRNZM': 5, 'B00KLD6QJA': 6, 'B00KVE84CG': 5, 'B00L1OIAHY': 6, 'B00L7EUGQ6': 8, 'B00LG9JAZK': 5, 'B00LXMGKMG': 6, 'B00M33X1OY': 5, 'B00MI40GPK': 4, 'B00MQKZ40I': 5, 'B00MT5BU7Q': 6, 'B00NW3567E': 6, 'B00OF722LY': 6, 'B00OJYKY9K': 5, 'B00OPY1RFY': 5, 'B00OZ26ZQW': 5, 'B00Q3YYP08': 5, 'B00QSN96CQ': 5, 'B00QTDZ19C': 5, 'B00QWA1CEA': 6, 'B00S0JLUZM': 6, 'B00S0TIG4K': 5, 'B00S999XRU': 6, 'B00SIK724G': 6, 'B00SURUTVA': 6, 'B00TCP368M': 5, 'B00UM5N30W': 6, 'B00UX4F5YO': 5, 'B00VBBGSEO': 5, 'B00W2S766O': 5, 'B00W8WJL3A': 6, 'B00WHKJ69C': 6, 'B00WHRX420': 6, 'B00WPU2E84': 5, 'B00WTBW6QY': 5, 'B00X322XAM': 5, 'B00YBGEZC8': 5, 'B00YCVN4IS': 5, 'B00YZYB9L6': 5, 'B00ZAFM6D4': 7, 'B00ZQKNBBO': 5, 'B00ZQMOSWS': 5, 'B0105WDY0A': 7, 'B010867H0Q': 6, 'B0108BULV8': 5, 'B010LTA04K': 5, 'B010PXWG44': 5, 'B0127Q3M68': 5, 'B013PV8TGW': 5, 'B0141GUC0Q': 5, 'B014IDYQ04': 6, 'B01500H7HS': 5, 'B015CDARCA': 5, 'B016IC7MF4': 5, 'B016LCPPKA': 5, 'B016XFTMHM': 6, 'B017SDE37W': 5, 'B017UCN07A': 5, 'B0188XPC4E': 6, 'B018TX5SUG': 8, 'B0195LQM3S': 5, 'B0196DOAA2': 5, 'B019IHTRYU': 6, 'B019ITZUJ4': 6, 'B019XMA2L2': 5, 'B01A0W0AP2': 5, 'B01A5UQT5E': 5, 'B01BOE5D48': 6, 'B01BYJK820': 5, 'B01C3Y2AQM': 6, 'B01CJF7MY0': 5, 'B01CXR8C4S': 6, 'B01D4IYAVE': 6, 'B01D57MMWS': 5, 'B01D8GBPP6': 6, 'B01DJEBCXC': 6, 'B01E1D03XA': 5, 'B01E4WWNA4': 5, 'B01E6QYKFO': 5, 'B01F8QX3RW': 6, 'B01FANQZKK': 5, 'B01FL0WAQK': 5, 'B01FLXS4US': 5, 'B01G02G43S': 6, 'B01G6SUDN8': 7, 'B01GG2H4T0': 5}\n"
     ]
    }
   ],
   "source": [
    "reviews_per_asin = {}\n",
    "for index, row in product_df.iterrows():\n",
    "    if row['asin'] not in reviews_per_asin:\n",
    "        reviews_per_asin[row['asin']] = 1\n",
    "    else:\n",
    "        reviews_per_asin[row['asin']] += 1\n",
    "        \n",
    "print(reviews_per_asin)"
   ]
  },
  {
   "cell_type": "markdown",
   "metadata": {},
   "source": [
    "**b) Average Rating Score for each ASIN**"
   ]
  },
  {
   "cell_type": "code",
   "execution_count": 44,
   "metadata": {},
   "outputs": [
    {
     "name": "stdout",
     "output_type": "stream",
     "text": [
      "{'B000001OMI': 3.975609756097561, 'B00000DMA3': 4.0, 'B00000J1FV': 3.0, 'B00000J1GA': 3.25, 'B00000JBHP': 4.2272727272727275, 'B00001OPK7': 3.857142857142857, 'B00001P505': 4.318181818181818, 'B00001P4ZH': 4.442141623488774, 'B00001P4XA': 3.9526315789473685, 'B00001P4ZR': 4.0, 'B00001W0D5': 3.75, 'B00001W0DG': 3.7857142857142856, 'B00001W0DC': 4.115384615384615, 'B00001WRSJ': 4.618659420289855, 'B00001W0DD': 3.676470588235294, 'B00001W0D4': 4.4, 'B00004LC7Z': 3.25, 'B00004SD87': 3.25, 'B00004SD88': 4.25, 'B00004T8R2': 4.330404217926186, 'B00004T8R4': 3.8333333333333335, 'B00004TZJQ': 3.5714285714285716, 'B00004TZJI': 4.166666666666667, 'B00004TZJJ': 3.4, 'B00004Z0BP': 4.333333333333333, 'B00004Z5D1': 4.506024096385542, 'B00004Z7G9': 4.245762711864407, 'B00004Z6Q6': 3.9285714285714284, 'B00005105L': 3.8392857142857144, 'B000056SJT': 3.8, 'B000056SJU': 2.8333333333333335, 'B00005BYER': 3.4285714285714284, 'B00005K3LZ': 2.8, 'B00005N6KF': 3.6875, 'B00005N6KG': 4.109649122807017, 'B00005N9D2': 3.9166666666666665, 'B00005N9D3': 4.195571955719557, 'B00005OTG6': 4.371428571428571, 'B00005QBU9': 4.0133689839572195, 'B00005QBUU': 4.264705882352941, 'B00005R8Q1': 4.142857142857143, 'B00005R8PV': 3.3333333333333335, 'B00005R8PW': 2.25, 'B00005RFD3': 3.789189189189189, 'B00005T3SQ': 3.875, 'B000065BP9': 4.202821869488536, 'B000065BPA': 4.285714285714286, 'B000065BPC': 4.0, 'B000065BPB': 4.3731884057971016, 'B000066CCU': 3.9782608695652173, 'B000067FCS': 3.2666666666666666, 'B000067G0J': 3.4157303370786516, 'B000067SBB': 4.8, 'B000068IFM': 3.526315789473684, 'B00006B9W9': 3.1538461538461537, 'B00006HOGN': 3.4375, 'B00006I5RA': 3.642857142857143, 'B00006IS50': 4.5, 'B00006J07O': 3.8679245283018866, 'B00006JILW': 4.08, 'B00006JILC': 3.6578947368421053, 'B00006JILE': 4.202020202020202, 'B00006JPRQ': 3.2035928143712575, 'B0000789GC': 3.5, 'B00007E7C8': 4.402352941176471, 'B00007EDM8': 3.8979310344827587, 'B000089GN4': 3.8076923076923075, 'B000089GN3': 4.55011655011655, 'B000089GN2': 3.8764044943820224, 'B00008AYBF': 3.875, 'B00008DHSN': 3.2857142857142856, 'B00008IP5O': 4.0, 'B00008VE1B': 4.1875, 'B00008VIX0': 3.36, 'B00008VIIY': 4.142857142857143, 'B00008W2M5': 3.8181818181818183, 'B00008XKYP': 3.5, 'B00008XKYO': 3.3333333333333335, 'B00008Y1VU': 2.888888888888889, 'B00008Z1PB': 4.0, 'B00008Z1QI': 3.422222222222222, 'B00008Z1QJ': 3.642857142857143, 'B00008Z1PR': 2.8333333333333335, 'B00008Z1QG': 4.428571428571429, 'B00008Z1PS': 4.076923076923077, 'B00008Z1PT': 4.1066666666666665, 'B00008Z1QF': 2.8333333333333335, 'B000092YQW': 3.454054054054054, 'B000095S9V': 3.933333333333333, 'B000095SB6': 3.6574074074074074, 'B00009LI55': 3.968421052631579, 'B00009MK3T': 3.4029850746268657, 'B00009QP2H': 4.0, 'B00009RDIF': 4.129032258064516, 'B00009V2OV': 4.7727272727272725, 'B00009W42Y': 3.9, 'B0000ACCJA': 3.8705583756345177, 'B000094Q77': 4.01980198019802, 'B0000DZDHB': 4.617283950617284, 'B0000E3DQ7': 3.0, 'B0000U19F0': 3.642105263157895, 'B0000UUXB6': 2.7142857142857144, 'B00012F8AY': 3.6578947368421053, 'B00013BLEK': 4.0, 'B00013BKS2': 3.0, 'B00013BKRI': 3.642857142857143, 'B00014B4OQ': 3.230769230769231, 'B000165FRQ': 4.8, 'B00019K87A': 3.4444444444444446, 'B0001FTVEK': 4.060475161987041, 'B0001FTVDQ': 4.453781512605042, 'B0001FTVEA': 3.9738805970149254, 'B0001FTVDG': 4.0638297872340425, 'B0001FZFSQ': 3.8, 'B0001IM95U': 4.329411764705882, 'B0001IVB1S': 4.333333333333333, 'B0001IXUEE': 4.115384615384615, 'B0001M2FZK': 3.6363636363636362, 'B0001OYMFO': 3.1578947368421053, 'B0001OY2V8': 3.090909090909091, 'B0001R05XE': 3.857142857142857, 'B0001YFZ2I': 2.7142857142857144, 'B0001YFZ46': 2.888888888888889, 'B000220DCG': 3.5, 'B00022OAH0': 5.0, 'B000234N0S': 4.157894736842105, 'B00023C6SE': 3.3548387096774195, 'B00023MEL8': 3.4827586206896552, 'B00024QV0M': 3.75, 'B000288I4U': 3.0, 'B0002BAU84': 4.045454545454546, 'B0002C84B8': 4.0, 'B0002CZHN6': 4.491827637444279, 'B0002D03ZW': 4.378600823045267, 'B0002D0712': 4.222222222222222, 'B0002D0HT4': 4.888888888888889, 'B0002EQUL2': 3.6666666666666665, 'B0002F513E': 4.481481481481482, 'B0002EXJPM': 4.288888888888889, 'B0002F74E8': 4.0, 'B0002GFOVM': 4.30188679245283, 'B0002I5RHG': 4.130434782608695, 'B0002I5RI0': 3.919753086419753, 'B0002ICGCK': 3.7, 'B0002J6J7M': 3.8, 'B0002KQZJS': 3.84375, 'B0002KU5WQ': 3.857142857142857, 'B0002SQ3Z6': 3.588235294117647, 'B0002T3UQK': 4.0, 'B0002Z453G': 3.0, 'B0002Z82XA': 4.143126177024482, 'B00030CHRQ': 3.465909090909091, 'B00061IYII': 4.380952380952381, 'B00061IYFQ': 4.111111111111111, 'B000629GES': 3.456989247311828, 'B00062PN6I': 4.073684210526316, 'B0006688ZC': 3.235294117647059, 'B00067OF80': 4.261682242990654, 'B00067OEPO': 3.3846153846153846, 'B00067OEPE': 3.8, 'B0006B486K': 4.162094763092269, 'B0006DPMUO': 4.666666666666667, 'B0006DPMU4': 4.393034825870647, 'B0006FU7O8': 3.65, 'B0006GCCWW': 4.44, 'B0006GCCN6': 4.51063829787234, 'B0006OQY2S': 4.37037037037037, 'B0006TIA48': 4.2727272727272725, 'B0006VT1TY': 4.68, 'B00076VEG6': 4.6875, 'B000779RZA': 3.871794871794872, 'B0007GBAAG': 3.4285714285714284, 'B0007IPC58': 4.848484848484849, 'B0007L7EZQ': 4.0, 'B0007LCMVM': 4.454545454545454, 'B0007N55KK': 4.916666666666667, 'B0007N55O6': 3.3333333333333335, 'B0007N55P0': 4.4, 'B0007N55NC': 3.0, 'B0007N55OQ': 3.433333333333333, 'B0007N55NM': 3.3783783783783785, 'B0007N55NW': 4.029411764705882, 'B0007N55L4': 3.75, 'B0007N55PA': 4.363636363636363, 'B0007NWL70': 4.372168284789644, 'B0007Q3C5M': 3.4761904761904763, 'B0007QN18U': 4.248648648648649, 'B0007QN18K': 4.428571428571429, 'B0007QN180': 4.7, 'B0007QN18A': 4.0, 'B0007XL43M': 4.069767441860465, 'B0007XJSQC': 4.146529562982005, 'B00080O0UI': 4.145833333333333, 'B00085ESA0': 3.628787878787879, 'B0008IV9R2': 3.2916666666666665, 'B0009GWXAK': 4.181818181818182, 'B0009KMS8I': 3.8333333333333335, 'B0009MFKDQ': 2.5789473684210527, 'B0009MFQ1M': 3.25, 'B0009N53Z0': 4.166666666666667, 'B0009PXDPU': 3.625, 'B0009RKDN8': 3.5714285714285716, 'B0009SAN3W': 3.4166666666666665, 'B0009WQFVC': 2.8, 'B0009WZ0XG': 2.8, 'B000A2BH0K': 4.2, 'B000ALY230': 3.3333333333333335, 'B000AM8WQM': 4.46875, 'B000ANLBQE': 2.8333333333333335, 'B000AP05BO': 3.6511627906976742, 'B000B622D6': 2.5714285714285716, 'B000B622DG': 3.7142857142857144, 'B000B9TV96': 4.333333333333333, 'B000BD7QUS': 4.333333333333333, 'B000BD665Y': 4.076923076923077, 'B000BKE8QQ': 3.857142857142857, 'B000BKBZGC': 3.4545454545454546, 'B000BNXTXG': 3.375, 'B000BPRGK6': 3.5476190476190474, 'B000BR0DTK': 3.3333333333333335, 'B000BX4ZUM': 3.1666666666666665, 'B000C6SP4K': 3.2857142857142856, 'B000CBB4N4': 3.3846153846153846, 'B000CBB4MK': 3.727272727272727, 'B000CMLZFK': 3.5555555555555554, 'B000CMLZEG': 4.5, 'B000CRGV86': 3.7142857142857144, 'B000CSSHXM': 3.5555555555555554, 'B000CZ0RMY': 4.4, 'B000DZGA92': 2.142857142857143, 'B000E1FYRO': 3.5384615384615383, 'B000E5FQSC': 4.026315789473684, 'B000E5XLZM': 3.4210526315789473, 'B000E5XCEW': 3.8, 'B000E9VKUQ': 4.329545454545454, 'B000EBBJ6Y': 4.10126582278481, 'B000EDO2PW': 3.4285714285714284, 'B000EEHM1W': 4.3076923076923075, 'B000EEP9V2': 3.75, 'B000EGHU9O': 3.875, 'B000EGJTLQ': 4.615384615384615, 'B000EGLZTA': 3.3846153846153846, 'B000EGLZU4': 3.8947368421052633, 'B000EIC7LI': 3.7777777777777777, 'B000ENRQ3M': 3.7184, 'B000EULJPQ': 4.583333333333333, 'B000F2BLTM': 4.624, 'B000F2BLTC': 4.111111111111111, 'B000F5XTXA': 4.0, 'B000FEJPZW': 2.5555555555555554, 'B000FFTVSC': 3.5, 'B000FL2EJE': 3.6097560975609757, 'B000FOYMKU': 3.8819277108433736, 'B000FQJMAI': 3.9166666666666665, 'B000FTWSZQ': 3.764705882352941, 'B000G0JKHS': 3.142857142857143, 'B000G0LL48': 2.5, 'B000G1Q9GW': 3.526315789473684, 'B000G1QAE8': 3.6666666666666665, 'B000G36GOA': 4.285714285714286, 'B000G35RYK': 3.5172413793103448, 'B000GH2QYK': 4.164383561643835, 'B000HDTXDA': 4.392857142857143, 'B000HWV8QG': 3.3636363636363638, 'B000I13TBS': 4.090909090909091, 'B000I2T5E2': 4.625, 'B000IBPWQS': 4.4, 'B000IK4C24': 4.1875, 'B000IK5X2C': 4.0, 'B000IS1ZZI': 4.269230769230769, 'B000ISP3QA': 2.6666666666666665, 'B000IS1ZYY': 3.55, 'B000ITLFXO': 3.5185185185185186, 'B000J1N3HW': 4.509433962264151, 'B000J38ZGY': 4.25, 'B000J3G2CS': 3.704081632653061, 'B000JKHXRO': 3.8241758241758244, 'B000JKDTPE': 3.857142857142857, 'B000JUT2XC': 4.190476190476191, 'B000JUZE1Q': 4.111111111111111, 'B000K41PH8': 3.5625, 'B000KLZ7VG': 3.4367816091954024, 'B000KQQUQW': 3.3943661971830985, 'B000KRRCS6': 3.1666666666666665, 'B000KUFCYY': 4.6, 'B000LR3FHW': 3.923076923076923, 'B000LVIC58': 4.154929577464789, 'B000M5GS7M': 4.223529411764706, 'B000MMWT9Q': 3.4050632911392404, 'B000MUXVZO': 4.25, 'B000MUXVYK': 3.9402985074626864, 'B000MVEC10': 4.8, 'B000MVEC0Q': 4.491525423728813, 'B000MVGBNW': 4.7, 'B000MX7Z2Q': 3.6538461538461537, 'B000MX7Z12': 4.071428571428571, 'B000MX7Z2G': 4.333333333333333, 'B000MX7Z1W': 4.333333333333333, 'B000MX7Z3K': 4.5, 'B000MX7Z3U': 4.4, 'B000MX7Z1C': 4.857142857142857, 'B000MX7Z0S': 3.923076923076923, 'B000MX7Z30': 3.9473684210526314, 'B000MX7Z1M': 4.206896551724138, 'B000NKCO5Q': 3.2439024390243905, 'B000NV0SG2': 4.115966386554621, 'B000O118F6': 2.8333333333333335, 'B000O5MP4U': 3.72, 'B000O9W74E': 4.208333333333333, 'B000OGNQGA': 3.0, 'B000OGNQF6': 3.5, 'B000OKH74S': 4.105263157894737, 'B000OKH6ZI': 3.9402985074626864, 'B000OKH75M': 4.333333333333333, 'B000OKFD3K': 3.9615384615384617, 'B000OKLT8S': 4.166666666666667, 'B000OKJQ7E': 4.285714285714286, 'B000OMKR8E': 4.2853260869565215, 'B000OQUMKI': 3.3214285714285716, 'B000OQWQ4I': 2.75, 'B000OR0YYQ': 2.2, 'B000OV05QO': 4.368421052631579, 'B000OYFOZS': 4.105263157894737, 'B000P1D7RM': 3.380952380952381, 'B000P6LA3A': 4.142857142857143, 'B000P709IG': 4.142857142857143, 'B000P709JK': 3.0, 'B000PBW6VK': 4.066666666666666, 'B000PCEFXQ': 3.9204545454545454, 'B000PGAPR2': 4.5, 'B000PQLJ86': 3.514161220043573, 'B000QGJRL6': 2.857142857142857, 'B000QJBG2G': 4.394736842105263, 'B000QRCRP8': 2.75, 'B000QS5MM2': 4.117647058823529, 'B000QS4FMA': 3.3461538461538463, 'B000QS0ZVU': 3.857142857142857, 'B000QS0ZH4': 3.5925925925925926, 'B000QUPUKY': 4.0, 'B000R0TPQ8': 4.0, 'B000R2PC2M': 4.054545454545455, 'B000R6SYKU': 3.1052631578947367, 'B000RH1RV2': 4.258064516129032, 'B000RPGI36': 3.75, 'B000RRQEZG': 4.333333333333333, 'B000RW5XCG': 3.9285714285714284, 'B000SNOT4C': 3.2388059701492535, 'B000TDZOXG': 4.639175257731959, 'B000TXRJMK': 3.625, 'B000U07C1U': 4.052863436123348, 'B000U7GDMC': 3.625, 'B000UBZDNS': 3.8333333333333335, 'B000ULAP4U': 4.652861445783133, 'B000UNVNJY': 4.590909090909091, 'B000UNVNJE': 4.125, 'B000UPBQQC': 4.166666666666667, 'B000UPA4R4': 4.909090909090909, 'B000UPBTXM': 3.6, 'B000UPEJCU': 5.0, 'B000V5QAYE': 3.5, 'B000V6FX9G': 4.8, 'B000VADPHY': 3.9271523178807946, 'B000VIZE2U': 4.052631578947368, 'B000VJXFA2': 3.037037037037037, 'B000VJXS9A': 4.409090909090909, 'B000VR7M2Q': 4.285714285714286, 'B000VRU4JE': 4.0, 'B000VS699C': 4.75, 'B000VSDUSA': 3.0, 'B000VWOL3O': 4.064102564102564, 'B000W3V2XY': 4.285714285714286, 'B000W4EMMQ': 3.25, 'B000W7PGU0': 3.8, 'B000WD7B20': 3.3043478260869565, 'B000WG31SU': 3.0, 'B000WFZ1U2': 3.857142857142857, 'B000WH83AA': 4.595238095238095, 'B000WKPH6U': 4.875, 'B000WQULKQ': 3.823529411764706, 'B000WV6VGO': 2.857142857142857, 'B000X434W4': 3.0, 'B000X92E3E': 4.25, 'B000X8MDOU': 2.75, 'B000XA8766': 3.0365853658536586, 'B000XG13CA': 3.75, 'B000XG3QCU': 3.4444444444444446, 'B000XJRZPG': 2.9655172413793105, 'B000XPSU40': 3.8, 'B000Y04OSU': 4.2727272727272725, 'B000Y03A3A': 3.6666666666666665, 'B000Y1BLSK': 3.6, 'B000Y3YKMW': 3.7142857142857144, 'B000Y556M8': 4.571428571428571, 'B000YHDJ52': 3.6627906976744184, 'B000YHWVRO': 4.0, 'B000YIF4I6': 4.529411764705882, 'B000Z31GGE': 4.714285714285714, 'B000ZJZ7OA': 4.282178217821782, 'B000ZRVCY6': 3.5, 'B00104HX7I': 2.857142857142857, 'B0010LMW9A': 4.2, 'B00112O1LA': 2.857142857142857, 'B00113XADE': 4.504385964912281, 'B0011UB9CQ': 4.5, 'B0011UK2H4': 3.0, 'B00125UBUG': 4.142857142857143, 'B0012UGJNY': 4.666666666666667, 'B0012UF1QA': 4.4, 'B0012UCYVU': 3.5714285714285716, 'B0012UKOV2': 4.054794520547945, 'B0012XZAWW': 4.714285714285714, 'B0012XZAXG': 3.6956521739130435, 'B0013JIEO6': 3.8, 'B0013OWPVO': 4.243243243243243, 'B0013OWPV4': 4.4316109422492405, 'B0014AWALM': 4.0, 'B0014II9F0': 3.478048780487805, 'B0014JFV7I': 3.8, 'B0014XTPGM': 3.6333333333333333, 'B00155C5IY': 3.642857142857143, 'B001581N70': 4.125, 'B001586N5M': 4.0, 'B001584QQA': 4.043478260869565, 'B001587LOO': 4.0625, 'B00159YWDQ': 3.6363636363636362, 'B0015A9G0Y': 4.25, 'B00159YWE0': 4.6, 'B0015ADDYY': 3.8823529411764706, 'B0015AFWC0': 3.9583333333333335, 'B0015AE4C4': 4.0, 'B0015AFOL4': 4.3, 'B0015ADZYC': 3.5833333333333335, 'B0015AFONW': 3.9056603773584904, 'B0015AE4CE': 4.163101604278075, 'B0015AB6DO': 4.0, 'B0015AM3AY': 4.333333333333333, 'B0015AK270': 4.205882352941177, 'B0015AK27U': 4.666666666666667, 'B0015AK27K': 4.625, 'B0015AHRFK': 3.9658314350797266, 'B0015AFWD4': 4.025316455696203, 'B0015ADXPI': 4.75, 'B0015AFOR8': 3.5247524752475248, 'B0015AM3B8': 3.85, 'B0015AK112': 3.3, 'B0015C1RKE': 2.2857142857142856, 'B0015C3UB8': 3.675675675675676, 'B0015H7924': 4.076923076923077, 'B0015YKWW6': 3.588235294117647, 'B0015Z2DP4': 3.75, 'B0015ZA5WC': 3.88, 'B00165YVTE': 3.4, 'B0016JE8KC': 2.8, 'B0016MOA7A': 4.4, 'B0016MNBAM': 4.392638036809816, 'B00172M8HS': 4.192771084337349, 'B00176TEGM': 4.276595744680851, 'B0017IJALY': 3.4285714285714284, 'B0017KTOJK': 2.8043478260869565, 'B0017NVNP0': 3.6666666666666665, 'B00187PRFC': 4.071428571428571, 'B0018BK27G': 2.8333333333333335, 'B0018BN066': 4.25, 'B0018VDADE': 3.6707317073170733, 'B00193FT26': 4.413043478260869, 'B00195TS4Y': 3.769230769230769, 'B0019FHM9M': 3.119565217391304, 'B0019FUHEO': 2.6666666666666665, 'B0019T7KW2': 2.5, 'B001AE1A6I': 3.1818181818181817, 'B001ADXR3I': 3.4615384615384617, 'B001ARHZBE': 3.090909090909091, 'B001AUPJVO': 4.288888888888889, 'B001B1QENY': 4.536231884057971, 'B001B4E4WE': 3.4615384615384617, 'B001BIQROS': 4.769230769230769, 'B001BTWMPU': 4.0, 'B001C3K7I4': 4.52, 'B001CBTQ4C': 4.125, 'B001CBRW8E': 3.9130434782608696, 'B001DCEMMQ': 3.0, 'B001DDEJLE': 4.162790697674419, 'B001DDEJJQ': 4.142857142857143, 'B001DDLMQ4': 4.461538461538462, 'B001DDGIM2': 3.6, 'B001DDLMN2': 4.086956521739131, 'B001DDIJ24': 4.285714285714286, 'B001DFX2OC': 3.5981308411214954, 'B000MVGBO6': 4.5, 'B001DL71GG': 4.222222222222222, 'B001EO9TM6': 4.666666666666667, 'B001EP86LA': 2.6818181818181817, 'B001EUC4RW': 4.0, 'B001EUE6EG': 4.2, 'B001EUE6AK': 4.35, 'B001EV9SHA': 4.142857142857143, 'B001EYU3LC': 3.510971786833856, 'B001F21XIK': 5.0, 'B001F8SAK8': 2.95, 'B001FSITAE': 3.753846153846154, 'B001GF7WRW': 4.476190476190476, 'B001GGI7AC': 3.8333333333333335, 'B001GGK6RO': 4.0, 'B001GFM5O2': 3.642857142857143, 'B001GGI8OC': 4.5, 'B001GGWHTY': 4.777777777777778, 'B001GS8G1K': 4.363636363636363, 'B001GS8G24': 3.586206896551724, 'B001GS8FZW': 4.0, 'B001GS8FZM': 3.676258992805755, 'B001GS8G0G': 3.9239130434782608, 'B001GS8FZ2': 3.7418546365914787, 'B001GS8G1A': 3.911764705882353, 'B001GS8G10': 3.8285714285714287, 'B001GS8G0Q': 3.739130434782609, 'B001GS8FZC': 3.875, 'B001GS8G1U': 3.5294117647058822, 'B001GT32SG': 2.9166666666666665, 'B001GX6DZQ': 2.8, 'B001GXQSP6': 3.6363636363636362, 'B001GXQSPG': 3.6923076923076925, 'B001H189BS': 3.375, 'B001K3ENEA': 4.220338983050848, 'B001LDIJCQ': 4.2, 'B001LDDX22': 1.875, 'B001MQ3CCO': 4.125, 'B001MWKP5A': 3.8, 'B001NONW2K': 2.5555555555555554, 'B001O2S9HE': 4.571428571428571, 'B001O2S9H4': 4.2, 'B001O2S9II': 3.3333333333333335, 'B001ODDBSU': 4.258823529411765, 'B001OZ7DT6': 3.6153846153846154, 'B001OXJPZS': 3.142857142857143, 'B001P0XI2Q': 3.2, 'B001P3PSS0': 4.302521008403361, 'B001P3NU5S': 3.3333333333333335, 'B001P5I4W0': 4.133333333333334, 'B001P822RU': 3.4, 'B001PE5MPS': 4.0, 'B001Q4Z9RI': 3.727272727272727, 'B001QGETI6': 3.8333333333333335, 'B001QGIV9O': 4.166666666666667, 'B001QTJ1F4': 4.0, 'B001QVFOBW': 4.714285714285714, 'B001QWLTYM': 4.3076923076923075, 'B001R4BA3O': 4.4375, 'B001RB24KK': 3.4545454545454546, 'B001RB24L4': 4.25, 'B001RB24LE': 4.25, 'B001RB24NW': 2.2, 'B001RB24N2': 4.666666666666667, 'B001RB24LY': 4.25, 'B001RB24LO': 3.769230769230769, 'B001RB24R8': 4.3088235294117645, 'B001RB24QO': 4.6923076923076925, 'B001RB24VY': 4.7272727272727275, 'B001RB24P0': 4.4, 'B001RB24NM': 3.193548387096774, 'B001RCD2DW': 4.459016393442623, 'B001RB24S2': 4.561837455830389, 'B001RNO92Y': 4.269230769230769, 'B001SEARCS': 3.6818181818181817, 'B001SEARLO': 4.142857142857143, 'B001SEARFU': 2.8, 'B001TETXW2': 5.0, 'B001THQU20': 4.363636363636363, 'B001TK3AC0': 3.1923076923076925, 'B001TK3ACA': 3.507936507936508, 'B001U7YKVM': 3.793103448275862, 'B001U7SRI4': 4.166666666666667, 'B001UAB0I0': 3.9166666666666665, 'B001UAGQPW': 3.5405405405405403, 'B001UE6PE0': 4.363636363636363, 'B001UE6I0G': 4.373529411764705, 'B001UPGVBG': 3.875, 'B001URUQ7Y': 3.1, 'B001VPN4R4': 3.0714285714285716, 'B001YSI04A': 3.558139534883721, 'B001Z0OFBO': 3.217391304347826, 'B0022TMB9A': 4.362068965517241, 'B0023RRNI0': 4.461538461538462, 'B0023RT0X6': 3.6666666666666665, 'B0023SJCII': 4.375, 'B00242J0XU': 4.465753424657534, 'B00252XY04': 4.1, 'B0025V1NU8': 4.866666666666666, 'B002634RZI': 3.6666666666666665, 'B0026EESRY': 2.357142857142857, 'B0026I8U0G': 2.8, 'B0026NUBNK': 3.0, 'B0026P4670': 3.25, 'B0027Q4HXG': 4.238095238095238, 'B0028JE3T0': 3.830188679245283, 'B0028N78IE': 4.25, 'B0028N78FM': 3.909090909090909, 'B0028N78HA': 3.8846153846153846, 'B0028PGXRE': 4.647058823529412, 'B0029Z9T9W': 2.55, 'B002A8KIRU': 2.6842105263157894, 'B002AXSIFY': 2.7142857142857144, 'B002B4KM1A': 4.4603174603174605, 'B002B4OEZ0': 4.45, 'B002B4OKYU': 4.363636363636363, 'B002B9AR8I': 4.888888888888889, 'B002C73X2G': 3.238095238095238, 'B002DP8IEK': 4.426829268292683, 'B002DOIZSK': 2.3333333333333335, 'B002DP594W': 4.078947368421052, 'B002E9HB3O': 3.857142857142857, 'B002EL4MY8': 4.081081081081081, 'B002EL4MYI': 4.333333333333333, 'B002EL4RIY': 3.5, 'B002GCJTXY': 4.25, 'B002GQPTNY': 4.666666666666667, 'B002GYVZ2A': 4.285714285714286, 'B002HUURWM': 4.1, 'B002J1LMVE': 3.7142857142857144, 'B002LK2QJK': 4.222222222222222, 'B002NEMH6G': 4.076923076923077, 'B002NSWN7A': 4.428571428571429, 'B002NU4ZMO': 4.466666666666667, 'B002NTMHU2': 3.857142857142857, 'B002P8T0H4': 3.92, 'B002P8T0L0': 3.9444444444444446, 'B002PF0A58': 4.6, 'B002PHM0VI': 3.4, 'B002PKYOY6': 3.6, 'B002RWJD98': 3.934065934065934, 'B002SOU2Y0': 4.229166666666667, 'B002SOZWMC': 4.181818181818182, 'B002SP2X5U': 3.4565217391304346, 'B002SSPNXQ': 3.708487084870849, 'B002T6Z238': 4.0, 'B002TKLJ8G': 4.0588235294117645, 'B002TLT10I': 4.308464849354376, 'B002UXRED6': 4.0, 'B002W4JIOQ': 3.0, 'B002Z9JWZI': 4.713147410358566, 'B0030IU0ZY': 4.173913043478261, 'B0030XXH1S': 3.956043956043956, 'B0033QCGO6': 4.258064516129032, 'B00356DGV6': 3.3333333333333335, 'B00356M5IQ': 2.6, 'B00356HIBU': 2.6363636363636362, 'B00356FFB0': 2.75, 'B00358VSH8': 3.4, 'B00358VSI2': 3.3181818181818183, 'B00359FQHA': 4.2, 'B00359FQOS': 4.857142857142857, 'B0035JKJ2W': 3.479591836734694, 'B0035JKJLI': 3.909090909090909, 'B0035MDZKM': 3.8518518518518516, 'B00365EB3I': 3.875, 'B00375MWE2': 3.7195121951219514, 'B0037N9C88': 4.375, 'B00385XTWA': 3.7777777777777777, 'B00385XTX4': 3.8, 'B00385XU6K': 3.888888888888889, 'B00385XU8I': 4.333333333333333, 'B00385XU5Q': 3.5384615384615383, 'B00385XU7Y': 4.25, 'B00385XUE2': 4.428571428571429, 'B0038W0K1G': 3.9583333333333335, 'B0039286A2': 4.333333333333333, 'B003BT6A06': 4.7105263157894735, 'B003BT6A10': 3.888888888888889, 'B003BT6A1U': 4.333333333333333, 'B003BT6A0G': 4.083333333333333, 'B003CF9UQU': 3.4, 'B003CJTR8C': 4.015021459227468, 'B003CJTR8M': 4.086816720257235, 'B003CP0KFK': 4.055555555555555, 'B003CP0KCS': 4.181818181818182, 'B003CUJT1G': 3.4, 'B003D29LC0': 3.409090909090909, 'B003DKL576': 4.27027027027027, 'B003DKL55S': 4.318181818181818, 'B003DNYW5A': 3.5714285714285716, 'B003E49GRC': 4.03030303030303, 'B003EM2WF2': 4.222222222222222, 'B003EM6ANW': 3.4705882352941178, 'B003ELYQGG': 4.425, 'B003FMUP2S': 3.4210526315789473, 'B003FMUP2I': 3.72, 'B003H56Y14': 4.0, 'B003I4FE42': 3.395348837209302, 'B003IT6J50': 3.142857142857143, 'B003IWRMF8': 3.2857142857142856, 'B003LPTAYI': 4.217416378316032, 'B003MB0WMA': 3.65, 'B003MB0YDC': 3.5416666666666665, 'B003MV0U5E': 3.1875, 'B003NGH6I2': 3.4, 'B003RRWRMC': 4.0, 'B003S3DEUY': 3.7065637065637067, 'B003SP4QAE': 4.48491879350348, 'B003TO9KVE': 3.6666666666666665, 'B003TVKGWO': 4.6, 'B003U2YCZE': 4.597014925373134, 'B003U4Q11A': 3.5833333333333335, 'B003UYU166': 3.0526315789473686, 'B003UYU16G': 3.6037735849056602, 'B003V9RWEO': 3.5714285714285716, 'B003VNKKSA': 4.0, 'B003VNKKTE': 4.137254901960785, 'B003VSTEUK': 2.75, 'B003VTZPOS': 3.2, 'B003XMA7U0': 3.8181818181818183, 'B003XU7H1O': 3.6, 'B003Y052ZG': 2.769230769230769, 'B003Y3BHF2': 3.75, 'B003YH9EZ8': 3.8846153846153846, 'B003YL3L9Y': 4.0, 'B003ZJAQZW': 4.7164179104477615, 'B003ZLQ1YA': 3.3333333333333335, 'B003ZVU1GY': 3.263157894736842, 'B00404H6DQ': 4.208333333333333, 'B0040Z1EHY': 4.158576051779935, 'B0041DXTJG': 3.8666666666666667, 'B00428N9N6': 3.65625, 'B0042A68R8': 4.490291262135922, 'B0042BXSMU': 4.6, 'B0042ETXRQ': 3.5357142857142856, 'B00433SNY0': 3.8, 'B0043FKZ30': 4.423728813559322, 'B0043GF9DK': 3.7837837837837838, 'B0043M9ATS': 4.25, 'B004443WQC': 3.4, 'B004444O6E': 3.6607142857142856, 'B004444O46': 4.380487804878049, 'B004444O50': 4.148148148148148, 'B004477D0K': 3.8627450980392157, 'B004477D00': 3.8214285714285716, 'B004477OBI': 3.6296296296296298, 'B004477OB8': 3.4545454545454546, 'B004477D0A': 3.3636363636363638, 'B00454YCWY': 4.59375, 'B0045DNX48': 3.2708333333333335, 'B0046SRAUA': 2.8333333333333335, 'B0046SLA4M': 3.6363636363636362, 'B0046W2MKY': 3.85, 'B0046W5EQI': 3.8823529411764706, 'B0046XIX7O': 4.7, 'B0046ZH10M': 3.25, 'B0046ZSWX2': 4.285714285714286, 'B0047XRVWQ': 4.532786885245901, 'B00480OQAI': 3.142857142857143, 'B004923LQK': 3.75, 'B004ACQMUQ': 4.379310344827586, 'B004ARSMXQ': 4.380952380952381, 'B004ARUO2S': 4.529411764705882, 'B004AWE4D8': 2.671641791044776, 'B004B8GF7Y': 4.049586776859504, 'B004BU6GLM': 4.7, 'B004BW74DO': 4.006060606060606, 'B004BY4O5I': 3.857142857142857, 'B004C7UMQY': 4.011904761904762, 'B004CCRF7S': 3.875, 'B004CRIG76': 3.8260869565217392, 'B004CYEQB4': 3.933333333333333, 'B004D4R9VC': 4.040816326530612, 'B004DD5VCW': 4.190476190476191, 'B004DE1LYI': 3.5555555555555554, 'B004DPBSWW': 4.1, 'B004DOX70O': 4.208333333333333, 'B004DUC11E': 3.8823529411764706, 'B004E9SWO4': 3.7777777777777777, 'B004E9SWOE': 3.4, 'B004E9SWPI': 3.2857142857142856, 'B004E9SWOY': 3.7058823529411766, 'B004E9SWOO': 4.0, 'B004FEEY9A': 4.594594594594595, 'B004H1RYI4': 3.4705882352941178, 'B004H1W1MS': 3.6666666666666665, 'B004HB2X4O': 3.176470588235294, 'B004HD4L2E': 4.026200873362446, 'B004HKIAJM': 4.2272727272727275, 'B004I5BPYI': 3.4285714285714284, 'B004I8MUOO': 3.7333333333333334, 'B004IK2EAW': 4.177777777777778, 'B004IM35F8': 3.875, 'B00007EDM0': 2.85, 'B004JHVJ5A': 4.392857142857143, 'B004JPIKM2': 3.8, 'B004K09H32': 4.136363636363637, 'B004KCLIFA': 4.258620689655173, 'B004KCJJ4M': 4.0, 'B004KVIZFW': 3.5, 'B004L9DBZ2': 3.6, 'B004LLG77Y': 4.642857142857143, 'B004LPZBD6': 4.6415094339622645, 'B004LY1LJA': 3.7058823529411766, 'B004M13GA4': 4.043478260869565, 'B004M210S8': 4.0, 'B004MF33OY': 4.416666666666667, 'B004MMEI0K': 4.266666666666667, 'B004MMEI8C': 4.035532994923858, 'B004MTE7EK': 3.6666666666666665, 'B004OA6WOA': 4.285714285714286, 'B004OBZ2UY': 4.08, 'B004OBZ2UO': 3.888888888888889, 'B004OBZ2ZO': 3.8863636363636362, 'B004OPXIWY': 3.6666666666666665, 'B004OXXE9I': 4.75, 'B004P1HTEA': 3.8, 'B004P1HTAE': 3.888888888888889, 'B004P11EPU': 4.333333333333333, 'B004PYD8SI': 4.3125, 'B004PYD88S': 3.3157894736842106, 'B004PYD88I': 3.619047619047619, 'B004QK5A0K': 4.0, 'B004QK44K2': 4.428571428571429, 'B004QOA93E': 4.018691588785047, 'B004QWOSLK': 3.5462962962962963, 'B004RE20IK': 4.045454545454546, 'B004RE3YU8': 4.268595041322314, 'B004RKQMCY': 4.262195121951219, 'B004SKBKM0': 3.6666666666666665, 'B004SNCZ3K': 4.080645161290323, 'B004SU1B2Y': 4.666666666666667, 'B004U4XB62': 4.070773263433814, 'B004U5DHD8': 4.8, 'B004V4L8RA': 3.5714285714285716, 'B004V4L8PW': 3.8, 'B004V4L8EI': 4.2, 'B004VTG0F0': 4.333333333333333, 'B004VUEO3O': 4.0, 'B004W2YBFM': 4.285714285714286, 'B004W73TCI': 4.095238095238095, 'B004WBUPNU': 3.909090909090909, 'B004WD1F1O': 3.896551724137931, 'B004WIOCSC': 4.9, 'B004WJRTOK': 3.9473684210526314, 'B004WJVAF4': 4.052631578947368, 'B004WODP20': 4.2625841615902536, 'B004WZVO68': 4.258928571428571, 'B004XABPMU': 3.1818181818181817, 'B004XFMGIW': 4.472222222222222, 'B004XFRAJW': 4.0, 'B004XW2NEW': 3.9306930693069306, 'B004Y2O790': 3.8333333333333335, 'B004Y4XVOK': 4.026315789473684, 'B003VTZPPC': 3.625, 'B004Z0UMVI': 4.391304347826087, 'B004Z16VTE': 4.630769230769231, 'B004Z4C0RI': 3.65625, 'B004Z57XPQ': 4.222222222222222, 'B004Z57X42': 3.8333333333333335, 'B004Z57WKW': 3.6444444444444444, 'B004Z58VZ2': 3.888888888888889, 'B004ZF0R22': 4.304347826086956, 'B004ZIALYS': 2.7857142857142856, 'B00503KPYS': 3.9863945578231292, 'B0050DAJF8': 4.450704225352113, 'B0050DJ33M': 4.513513513513513, 'B0050SJ2JW': 4.428571428571429, 'B00510ERPS': 4.333333333333333, 'B00510ERKI': 4.4, 'B00518DE2W': 3.4166666666666665, 'B0051HF2K0': 3.8, 'B0051QPADA': 2.8181818181818183, 'B0051UOUNM': 4.02, 'B0052C4PFW': 3.5714285714285716, 'B0052FU0O4': 3.92, 'B0052UB5UC': 4.214285714285714, 'B0052VKXF4': 4.545454545454546, 'B0052ZYWE8': 4.5, 'B0053OZRHO': 4.666666666666667, 'B0053X0ABI': 5.0, 'B0054JJ0QW': 4.398625429553265, 'B005586PT2': 4.369230769230769, 'B0055E0JMA': 3.911764705882353, 'B0055PRIG4': 4.533333333333333, 'B005626CMM': 4.555555555555555, 'B005643FD4': 4.142857142857143, 'B00564D9CG': 3.5294117647058822, 'B0056HNSSS': 2.8, 'B0056J7OIQ': 3.5454545454545454, 'B00579L24W': 4.166666666666667, 'B0057FOBJ4': 5.0, 'B0057FOD4W': 4.0, 'B0057IM57Q': 3.8, 'B0057XZSMA': 4.607142857142857, 'B0057XZSF2': 4.5181818181818185, 'B0058C6LA8': 2.5, 'B0058DAHVQ': 2.6, 'B0058NTTNS': 3.5652173913043477, 'B00590GH8K': 4.2727272727272725, 'B00591GIQK': 4.4, 'B0059GFQPO': 3.6875, 'B005BHIZ7M': 4.464788732394366, 'B005BHIZU4': 4.34375, 'B005C1KG9M': 3.9473684210526314, 'B005C1YOKY': 4.6, 'B005C1U8QS': 4.413793103448276, 'B005C3CYK4': 4.021739130434782, 'B005CM8RPG': 4.375, 'B005CNR7B0': 4.190476190476191, 'B005CSFWUS': 4.0, 'B005CSPHYY': 4.592, 'B005CTIUSI': 4.818181818181818, 'B005DDDISA': 3.3333333333333335, 'B005DDDIEY': 3.0, 'B005DJ6WHS': 4.423076923076923, 'B005DKZTKS': 3.66, 'B005DOOJHS': 3.0, 'B005DOOJ1E': 3.2, 'B005DOOJ00': 4.346153846153846, 'B005DOOIZG': 4.5, 'B005E8MV14': 4.380952380952381, 'B005ELS6GU': 3.708029197080292, 'B005ELS6HE': 4.071428571428571, 'B005F2KI8W': 3.2, 'B005F2KIYG': 2.588235294117647, 'B005F2KHVK': 4.0, 'B005F2L47Q': 3.8333333333333335, 'B005F2KHW4': 3.2857142857142856, 'B005F2KJJA': 3.2, 'B005FDOG6Q': 4.1, 'B005FDOG7A': 4.375, 'B005FDOGUM': 4.138888888888889, 'B005FDOVY8': 4.0, 'B005FDOGTI': 4.0, 'B005FDOGLG': 4.071428571428571, 'B005FDOGK2': 4.098360655737705, 'B005FM94YQ': 4.4, 'B005FO2CMU': 4.0, 'B005FO2CAW': 3.8, 'B005FO2CAM': 4.421052631578948, 'B005FO2CBQ': 4.3076923076923075, 'B005FO2CYS': 3.875, 'B005FO2DII': 4.5, 'B005FPT5N8': 4.108108108108108, 'B005FU5L40': 3.1683168316831685, 'B005FVDTA2': 5.0, 'B005FVDT4I': 4.136363636363637, 'B005FVDTAW': 4.057971014492754, 'B005FVDT84': 4.6, 'B005GNQNHU': 4.3164556962025316, 'B005GS60DM': 3.409090909090909, 'B005GSVN48': 4.032258064516129, 'B005H2C6LC': 4.214285714285714, 'B005HIS6JC': 3.5, 'B005HIS6IS': 3.8, 'B005HJWWW8': 4.037974683544304, 'B005HRXOQ8': 2.5625, 'B005I4L6NI': 4.555555555555555, 'B005I65QPK': 2.6, 'B005I7Y420': 4.161538461538462, 'B005IGPZ2Y': 3.8333333333333335, 'B005IH2PZI': 4.615384615384615, 'B005IMJDKS': 4.2, 'B005INJ4ZG': 3.057915057915058, 'B005ITY7KM': 3.0, 'B005IXU8RE': 3.8333333333333335, 'B005IY4KZ4': 3.4, 'B005IYDFQE': 3.4, 'B005IXUCEI': 4.285714285714286, 'B005J6OXNU': 4.833333333333333, 'B005JC78JU': 5.0, 'B005JSNZLY': 4.090909090909091, 'B005JXH1EG': 3.8, 'B005JXH1EQ': 3.5714285714285716, 'B005JXH1OQ': 4.0, 'B005JXH1DW': 3.9, 'B005JXH1NC': 4.0625, 'B005JXH1F0': 4.142857142857143, 'B005JXH1NW': 3.6666666666666665, 'B005JXH1OG': 3.5675675675675675, 'B005JXH1NM': 3.8823529411764706, 'B005JXH1E6': 3.75, 'B005JXH1SC': 4.071428571428571, 'B005K22JSO': 2.671232876712329, 'B005K5K1ZY': 2.642857142857143, 'B005K8IG5I': 4.142857142857143, 'B005KJJOEY': 4.428571428571429, 'B005KJJKVG': 4.3023255813953485, 'B005KJM30G': 4.375, 'B005KK3W8M': 3.4, 'B005KJMTXM': 4.363636363636363, 'B005KK5GPO': 4.75, 'B005L38XRS': 3.3636363636363638, 'B005LAIFE2': 4.571428571428571, 'B005LAIEN4': 4.111111111111111, 'B005LA53D8': 4.363636363636363, 'B005LTWXK0': 4.4, 'B005LW1AT2': 4.293103448275862, 'B005M1KO1C': 3.805084745762712, 'B005MB8E1Y': 4.26, 'B005MCXKMQ': 4.357142857142857, 'B005MI8NI6': 3.25, 'B005MI8NHM': 3.0588235294117645, 'B005MI8NJA': 3.25, 'B005MI8NQI': 3.0, 'B005MI8NJK': 3.3, 'B005MI8NQ8': 3.888888888888889, 'B005MLPQGK': 3.9285714285714284, 'B005MYEC3U': 4.4, 'B005MZFMCY': 4.454545454545454, 'B005N00FW0': 3.142857142857143, 'B005N8A4Z0': 3.740740740740741, 'B005N8W1TM': 4.117647058823529, 'B005N8W1H4': 4.138888888888889, 'B005N8W214': 4.25531914893617, 'B005N8W1MO': 4.1313131313131315, 'B005N8W27I': 4.395833333333333, 'B005N8W1Q0': 4.048951048951049, 'B005N8W16U': 4.137254901960785, 'B005NAZLGK': 4.333333333333333, 'B005NRJRKO': 5.0, 'B005O0P3N0': 3.8333333333333335, 'B005O4FYVC': 3.772727272727273, 'B005ODF7N8': 3.772727272727273, 'B005OEN3WO': 3.6, 'B005OIB76O': 3.5384615384615383, 'B005OLOIUI': 4.321266968325792, 'B005OM2AD4': 4.111111111111111, 'B005P18TXO': 3.9, 'B005PN2O24': 4.555555555555555, 'B005PQ1V20': 3.3846153846153846, 'B005PX9B66': 3.6363636363636362, 'B005Q311QI': 4.3, 'B005Q314NS': 3.4634146341463414, 'B005Q3TV0G': 4.5, 'B005QAV6FC': 3.945823927765237, 'B005QLUVHK': 4.39622641509434, 'B005RZUH9W': 4.416666666666667, 'B005S3EIOS': 4.583333333333333, 'B005SFY0I0': 3.625, 'B005SGUROK': 4.333333333333333, 'B005SNPTRS': 4.1911764705882355, 'B005SZ3PDG': 2.96, 'B005T1EVYG': 3.75, 'B005T1EV82': 3.1666666666666665, 'B005TCZIH4': 4.5, 'B005TL75F8': 4.647058823529412, 'B005U9CUJK': 4.2, 'B005UNEOM2': 3.909090909090909, 'B005URKEKY': 4.222222222222222, 'B005VEZ550': 3.773218142548596, 'B005VEZ54Q': 4.015625, 'B005VEZ58M': 3.9722222222222223, 'B005VJG48C': 3.962962962962963, 'B005VLJ4P0': 4.3125, 'B005VP9MQ2': 3.9473684210526314, 'B005W1BXC6': 4.363636363636363, 'B005W1DSU6': 4.7272727272727275, 'B005W1D6ZS': 3.6666666666666665, 'B005WKYL1M': 3.375, 'B005XO3OII': 4.428571428571429, 'B005YR0X4W': 3.8095238095238093, 'B005ZNHDYS': 4.5, 'B005ZNHK4Q': 3.857142857142857, 'B005ZNHOW4': 3.7183098591549295, 'B0060449IY': 3.857142857142857, 'B00611QIGW': 4.0, 'B0062C2GAW': 4.0, 'B0062OOFAY': 3.7142857142857144, 'B00632GE54': 4.3076923076923075, 'B0063PNKNA': 4.333333333333333, 'B0063W8VLO': 3.6, 'B0064LCL74': 4.111111111111111, 'B0065V45FO': 4.625, 'B00667F7OK': 4.454545454545454, 'B00669L9JA': 4.7, 'B0066CSAIU': 3.4615384615384617, 'B0067GNWB0': 2.875, 'B0067TLUH0': 3.5789473684210527, 'B0067WBJS2': 3.5483870967741935, 'B00684HUYQ': 3.4705882352941178, 'B00689F764': 3.2108843537414966, 'B006A0K2LG': 3.5, 'B006B9GRM4': 3.278481012658228, 'B006BUN6G8': 3.0392156862745097, 'B006BUN6ZE': 4.0375, 'B006BUN7MG': 3.7169811320754715, 'B006BUNULY': 4.5, 'B006CDWC8W': 4.285714285714286, 'B006CVBHUI': 3.391304347826087, 'B006CVF1P0': 3.789473684210526, 'B006DBQHZM': 3.2857142857142856, 'B006DL43FI': 2.8666666666666667, 'B006E69AS2': 3.761904761904762, 'B006FE0NXO': 4.714285714285714, 'B006GQMXAM': 3.72, 'B006IF7S92': 3.9893048128342246, 'B006IJJH7O': 4.089655172413793, 'B006JSPLA6': 3.9047619047619047, 'B006K55748': 3.5294117647058822, 'B006K556L2': 4.090909090909091, 'B006K556B2': 4.05, 'B006K557BQ': 2.5833333333333335, 'B006K55662': 4.0, 'B006K556TY': 3.7142857142857144, 'B006K556FI': 4.526315789473684, 'B006K5576Q': 3.72, 'B0043TW4G2': 4.4, 'B006LAH0FG': 3.888, 'B006LD7VP2': 3.0952380952380953, 'B006LW1D20': 3.8666666666666667, 'B006MA9XXM': 4.30188679245283, 'B006MQI1G6': 4.875, 'B006NGHN5A': 3.6074074074074076, 'B006NH8768': 4.634615384615385, 'B006NODD6A': 3.8333333333333335, 'B006PB436A': 3.9, 'B006PV5XZK': 3.642857142857143, 'B006Q6RA9Q': 3.5, 'B006Q6RAAA': 4.083333333333333, 'B006QKXURS': 4.88, 'B006RAXKR2': 3.6666666666666665, 'B006RAXKYA': 3.6, 'B006RAXL6W': 3.5, 'B006RBDEW2': 3.2, 'B006RUIWC0': 4.447368421052632, 'B006S8DS4I': 3.6, 'B006T2WZ9M': 4.6, 'B006T9TIYK': 4.142857142857143, 'B006TGQ9ZE': 3.68, 'B006U8CZNQ': 3.975609756097561, 'B006UPLDJQ': 3.75, 'B006V386UG': 4.190476190476191, 'B006VJT1K4': 3.6785714285714284, 'B006VJQ2OM': 3.7411764705882353, 'B006VJREFS': 3.7941176470588234, 'B006VJOOHE': 4.296296296296297, 'B006WHPQUO': 3.9857142857142858, 'B006WHPQSQ': 3.888888888888889, 'B006WHPQDG': 4.25, 'B006WO2600': 4.637254901960785, 'B006X3TBK8': 3.6666666666666665, 'B006Z01UAI': 4.333333333333333, 'B006Z1J2JI': 3.864406779661017, 'B006ZH2VZ4': 3.375, 'B007003IO8': 3.3877551020408165, 'B007003J2E': 3.361111111111111, 'B0070U6N6I': 4.466666666666667, 'B0070UKBO8': 4.157763975155279, 'B007120CI0': 4.0, 'B007136B84': 4.555555555555555, 'B0071368WI': 4.158730158730159, 'B007136AJY': 3.888888888888889, 'B007250TAC': 2.3636363636363638, 'B00727FE5U': 4.025210084033613, 'B0072B9VVY': 3.1, 'B0072LGY5K': 3.702127659574468, 'B0072V72DI': 4.5, 'B0073W6ZE8': 4.166666666666667, 'B0073XY5HG': 4.134615384615385, 'B0073XY5LC': 4.28, 'B0074EUKDM': 4.507936507936508, 'B0074F5DKG': 4.3125, 'B00755P8A0': 4.0, 'B00768ZS4W': 4.40084388185654, 'B0076NDV0U': 3.6944444444444446, 'B0076Z78AM': 3.7037037037037037, 'B00773S2XU': 3.857142857142857, 'B00775PHE0': 3.8333333333333335, 'B0077PCGP8': 3.5, 'B0077YTFPS': 4.333333333333333, 'B00789K6O6': 4.375, 'B0078JFQD2': 3.95, 'B0078JFQ0K': 3.7875, 'B0078JSDCS': 3.4, 'B0078JSD28': 3.0, 'B00792HLWW': 4.125, 'B0079655A8': 4.8, 'B00796E95A': 4.222222222222222, 'B0079LE57C': 4.571428571428571, 'B0079LE43W': 4.128571428571429, 'B0079LE3GU': 3.9642857142857144, 'B007AH7YFU': 3.625, 'B007B5P714': 4.285714285714286, 'B007BGGB86': 3.0, 'B007BGF8AI': 4.2, 'B007BNEJS8': 4.321428571428571, 'B007BP4HB0': 3.6, 'B007BTULVG': 4.195238095238095, 'B007BTULMU': 4.070921985815603, 'B007BY3PO6': 4.463157894736842, 'B007BY3PE6': 3.4285714285714284, 'B007BY3OVU': 4.314917127071824, 'B007BY3PBY': 4.33125, 'B007BY3PBO': 4.235294117647059, 'B007BY3PCI': 4.1, 'B007BY3PNC': 4.311627906976744, 'B007CLUO6U': 4.5, 'B007CLUOS8': 4.222222222222222, 'B007CTO01W': 3.2, 'B007CZNS0U': 3.8, 'B007D30DMC': 4.3, 'B007DB5OCS': 4.34375, 'B007DCCK60': 4.666666666666667, 'B007G4O5IG': 4.244755244755245, 'B007G54QX4': 4.27032967032967, 'B007G93LWC': 4.0, 'B007G92MG8': 3.6923076923076925, 'B007G96KZ2': 4.625, 'B007G95FJE': 3.707692307692308, 'B007GN0GBW': 4.0, 'B007GN1454': 4.0576923076923075, 'B007GN0WKW': 4.315789473684211, 'B007GN0RDO': 4.444444444444445, 'B007GN1A4O': 3.5, 'B007GN0TD2': 3.7142857142857144, 'B007GN0892': 4.166666666666667, 'B007HIR3MG': 4.035714285714286, 'B007HISA1Y': 3.739130434782609, 'B007HIRHSG': 4.3061224489795915, 'B007HISSXE': 4.469387755102041, 'B007HU6ETC': 3.7142857142857144, 'B007I1QY5Y': 4.104651162790698, 'B007IRM6NW': 2.8333333333333335, 'B007IZNM1O': 3.6865671641791047, 'B007J8MUKY': 4.511111111111111, 'B007JG54DG': 3.857142857142857, 'B007K3SB6K': 3.9574468085106385, 'B007K7ZTKW': 3.3333333333333335, 'B007KAZK4E': 4.846153846153846, 'B007KTQU2Q': 4.882352941176471, 'B007KWLF5K': 4.067669172932331, 'B007L87V60': 3.933333333333333, 'B007NJFAI8': 3.4285714285714284, 'B007PFS1JK': 4.091346153846154, 'B007PL2A78': 4.333333333333333, 'B007PL31OO': 3.625, 'B007PL248S': 4.6, 'B007POCCFK': 3.392857142857143, 'B007R67QNO': 3.6666666666666665, 'B007R67Q8O': 3.5714285714285716, 'B007RB13YM': 3.935064935064935, 'B007RB1BL2': 4.333333333333333, 'B007RM0X38': 3.8271604938271606, 'B007TRUTFS': 3.946236559139785, 'B007TSRCZW': 3.875, 'B007TW93CI': 3.96, 'B007U66T66': 4.0, 'B007WZS41I': 4.408163265306122, 'B007XPMFGM': 4.027027027027027, 'B007XZJ3BW': 4.8, 'B007Y0RF20': 5.0, 'B007Y4TU88': 3.53125, 'B007YJVQPI': 3.6315789473684212, 'B007YWMEPG': 3.857142857142857, 'B007Z1Z63S': 2.6666666666666665, 'B007Z3WFS0': 4.5, 'B007ZG32I4': 4.222222222222222, 'B007ZGGIFI': 3.922374429223744, 'B007ZT4AGY': 3.962962962962963, 'B00806GIV6': 4.615384615384615, 'B0080BK4I4': 4.28110599078341, 'B0080MJLQY': 3.2857142857142856, 'B0080MJLXW': 3.75, 'B0080OHGZA': 4.1, 'B0080OHI9O': 3.375, 'B0081I1UJS': 2.8260869565217392, 'B0081TA6AG': 2.1666666666666665, 'B0081YU6YW': 4.0, 'B0082471N0': 3.949367088607595, 'B00827LI7C': 4.142857142857143, 'B00835QYWC': 4.642857142857143, 'B00838N954': 3.7142857142857144, 'B0083E5GUE': 3.466666666666667, 'B0083RYBDY': 3.909090909090909, 'B00855HE3S': 4.571428571428571, 'B008584ZJQ': 4.041666666666667, 'B00858I4JI': 2.8, 'B00858I5OC': 3.0377358490566038, 'B00858I4FC': 4.4, 'B00858I51U': 4.0, 'B00858I4M0': 3.7916666666666665, 'B00858I560': 4.428571428571429, 'B00858I4F2': 4.409090909090909, 'B0085HHKMG': 4.173913043478261, 'B0085IW68S': 2.25, 'B0085OUIMI': 3.2831858407079646, 'B0086SKGQQ': 4.444444444444445, 'B0087CV3T0': 3.8, 'B0087EBXPW': 3.235294117647059, 'B0087RPKHG': 4.577868852459017, 'B00898LD1A': 4.709677419354839, 'B008AT6BK6': 4.5, 'B008BQTTYS': 4.0, 'B008CS5QTW': 3.9264069264069263, 'B008DJTB32': 4.038461538461538, 'B008DWIT5A': 3.7901234567901234, 'B008DYOJ6G': 4.636363636363637, 'B008EPW1MI': 4.638445523941707, 'B008FH1PJA': 4.2008253094910595, 'B008FLWPKO': 4.0, 'B008FWB9TQ': 4.266666666666667, 'B008G80FIK': 4.333333333333333, 'B008GVETNE': 3.865546218487395, 'B008GVNR2I': 4.25, 'B008IY2C7E': 3.8857142857142857, 'B008JH72IO': 4.333333333333333, 'B008MEYUEI': 4.0, 'B008P8EWI0': 4.130434782608695, 'B008P8EXJI': 4.447761194029851, 'B008P8EY4C': 3.9444444444444446, 'B008P8EW4O': 4.857142857142857, 'B008PEXMNK': 3.8830645161290325, 'B008QZQAIM': 3.2941176470588234, 'B008RQEEBU': 3.1544117647058822, 'B008UT35XC': 4.03125, 'B008VGN75U': 3.9122137404580153, 'B008VGQ4VO': 3.918181818181818, 'B008VHHYLW': 3.4491525423728815, 'B008VM84NY': 4.336538461538462, 'B008VQERFO': 4.1395348837209305, 'B008VX489C': 3.6814814814814816, 'B008XNW7TS': 4.75, 'B008YDTRI6': 3.8181818181818183, 'B008YDTRK4': 3.7291666666666665, 'B008YDTRJU': 3.5853658536585367, 'B008YUNHK8': 4.625, 'B008YUNJW4': 4.222222222222222, 'B008YUNK46': 4.608247422680412, 'B008ZZ0AMU': 4.4, 'B0090UMDBA': 4.0, 'B0090WVHJ2': 4.0, 'B0090Z498A': 4.428571428571429, 'B00914OZFM': 4.4, 'B00915OV1E': 4.074468085106383, 'B0091EBU28': 4.615384615384615, 'B0091F8EZ8': 4.525510204081633, 'B0091V933O': 3.9763779527559056, 'B0092T864W': 3.6818181818181817, 'B0092T80KC': 3.8, 'B0092T84HQ': 4.03125, 'B009352484': 3.838709677419355, 'B009358744': 3.4761904761904763, 'B00935BG74': 4.5, 'B009381N2E': 4.4743589743589745, 'B0093BZIJ0': 4.769230769230769, 'B0093F4ROI': 4.494545454545454, 'B0093GVXSA': 3.9130434782608696, 'B0093K84DS': 3.787878787878788, 'B0093LNRYI': 4.102564102564102, 'B0093PVTPS': 4.396825396825397, 'B009413ZVC': 4.8, 'B009450ANO': 4.147058823529412, 'B0094R4150': 3.761904761904762, 'B0094R2GOI': 3.595744680851064, 'B0094R2HZQ': 3.2916666666666665, 'B0094R2H0Q': 4.134615384615385, 'B0094R4Q6Y': 3.983783783783784, 'B0094R4POC': 4.11969111969112, 'B0094S360U': 4.293333333333333, 'B0094S379U': 4.173913043478261, 'B0094R4PBU': 3.736842105263158, 'B0094S37GS': 3.836734693877551, 'B0094WTXTY': 4.833333333333333, 'B0095EL84E': 4.214285714285714, 'B0095IZB7K': 4.277777777777778, 'B0095GU6GI': 2.857142857142857, 'B0095IWZ0Q': 3.8378378378378377, 'B0095P2F1S': 3.665137614678899, 'B0096COMDY': 4.8, 'B0096QYNRA': 3.9145299145299144, 'B009703MEA': 4.6, 'B009703PZG': 3.5, 'B00972M942': 4.150442477876106, 'B00974Q0YK': 4.25, 'B009745B6I': 3.6666666666666665, 'B0097CYBXY': 3.4571428571428573, 'B0097EPKL4': 4.083333333333333, 'B0098QTOKY': 2.6666666666666665, 'B009923WIW': 3.6298342541436464, 'B00999HRQS': 4.04, 'B00998NM7W': 4.2, 'B0099R596A': 3.6875, 'B009A68TMQ': 4.128205128205129, 'B009A6CZ12': 4.195402298850575, 'B009A6D034': 4.237410071942446, 'B009A6CZ44': 4.206896551724138, 'B009A6CZYY': 3.8823529411764706, 'B009AJRE6A': 4.761904761904762, 'B009APBVK4': 3.641025641025641, 'B009APBWD0': 3.6666666666666665, 'B009AR2SUE': 3.0, 'B009BXX8II': 4.641221374045801, 'B009BYS8XC': 4.2, 'B009C02SAE': 3.125, 'B009CDXPCG': 4.476190476190476, 'B009CJNAR0': 4.229166666666667, 'B009E8KQ08': 4.0, 'B009E8ONOI': 3.857142857142857, 'B009ES68P0': 4.037037037037037, 'B009ETQ7BO': 3.6315789473684212, 'B009ETQ8AE': 3.75, 'B009ETQ94E': 4.0, 'B009F4BV8C': 4.241379310344827, 'B009FRPN4M': 4.555555555555555, 'B009FRPN56': 4.6, 'B009FRPN2Y': 4.636363636363637, 'B009G7G3LI': 3.727272727272727, 'B009G8A0HA': 4.125, 'B009GDVTN4': 4.568345323741007, 'B009GERY0U': 4.875, 'B009GF6X56': 4.6891891891891895, 'B009GERY14': 4.333333333333333, 'B009GF6V6W': 4.7, 'B009GOGO8I': 4.166666666666667, 'B009GWYV0S': 3.7058823529411766, 'B009HFU2IY': 4.4, 'B009HL556M': 3.7222222222222223, 'B009HL556C': 4.0, 'B009HL54DG': 3.84375, 'B009HL5594': 4.36, 'B009HQHQ64': 3.8260869565217392, 'B009HQTORS': 3.9411764705882355, 'B009HW15UG': 3.8857142857142857, 'B009IKCHYU': 4.188679245283019, 'B009IKCHYK': 3.5384615384615383, 'B009IKCHU4': 3.857142857142857, 'B009IKCFRE': 3.608695652173913, 'B009IKCEB6': 4.647058823529412, 'B009IKCE5C': 3.238095238095238, 'B009IKCKMY': 3.7457627118644066, 'B009IKCFT2': 3.511627906976744, 'B009IKCFWO': 3.0, 'B009IKCEDO': 4.166666666666667, 'B009IRGDZW': 4.666666666666667, 'B009IRGFPA': 4.375, 'B009IRGEU6': 3.888888888888889, 'B009IV5Z34': 4.4, 'B009KNO2DE': 4.2, 'B009KNO1IU': 3.5, 'B009KPMPRW': 3.272727272727273, 'B009KWULTY': 4.036144578313253, 'B009LU80RK': 3.723684210526316, 'B009M3UT16': 4.363636363636363, 'B009NE5Y9Q': 4.076923076923077, 'B009NS7AE4': 3.3333333333333335, 'B009OY15SY': 4.7272727272727275, 'B009P0NNP0': 3.4285714285714284, 'B009P0NNSW': 3.3333333333333335, 'B009PRW5SE': 3.7593984962406015, 'B009QFG5X6': 3.5454545454545454, 'B009QMZ7SS': 4.551724137931035, 'B009RG4GHQ': 4.428571428571429, 'B009S8QP90': 4.571428571428571, 'B009SAHBXC': 3.8461538461538463, 'B009T02WP8': 4.8, 'B009T3CF1G': 3.992063492063492, 'B009URTO1U': 4.0, 'B009VNMP50': 4.165137614678899, 'B009WNUB3M': 3.72, 'B009X845N8': 3.0526315789473686, 'B009YKTR06': 3.9, 'B009YSWL7Y': 3.473684210526316, 'B009Z5SBOS': 4.6, 'B00A0AOVRS': 4.212121212121212, 'B00A1TF93S': 4.2, 'B00A1UHM1Y': 4.117647058823529, 'B00A4A3SNW': 3.5853658536585367, 'B00A5JYYPI': 3.5217391304347827, 'B00A5JVV6S': 2.0, 'B00A6DK5SS': 4.166666666666667, 'B00A6DK5S8': 3.8461538461538463, 'B00A6ERC3S': 4.0, 'B00A6VS65Y': 4.557377049180328, 'B00A6Z4NP2': 3.3333333333333335, 'B00A755TIQ': 4.111111111111111, 'B00A7GIIWY': 3.230769230769231, 'B00A7R9KWK': 4.7272727272727275, 'B00A8FCX8E': 4.0, 'B00A8LZ5GU': 4.75, 'B00AA6IQ7I': 3.909090909090909, 'B00AAEUG8M': 4.5, 'B00AAFK5WS': 3.3, 'B00AAFD9OY': 4.545454545454546, 'B00AAHTOGE': 4.140845070422535, 'B00AAHTQ30': 3.2051282051282053, 'B00AAMJJQ4': 3.75, 'B00AASPQLU': 4.612903225806452, 'B00AAZE2RC': 3.6666666666666665, 'B00AB3V00A': 3.8461538461538463, 'B00AB7IRIO': 4.794117647058823, 'B00ABANME0': 4.0, 'B00ABJGW5W': 3.2857142857142856, 'B00ABSRVEY': 4.2, 'B00ACCQMXK': 3.4444444444444446, 'B00ACPR3AS': 3.95, 'B00ACTYOQU': 4.5, 'B00ADC1J0K': 4.8, 'B00ADSN9Q6': 4.8, 'B00ADXLBS4': 3.4615384615384617, 'B00ADZDIPQ': 2.857142857142857, 'B00AEATU2K': 3.9411764705882355, 'B00AEVECQS': 4.357142857142857, 'B00AEVIA6Q': 4.097560975609756, 'B00AF4SBZW': 3.75, 'B00AFGP5MM': 3.5616438356164384, 'B00AFH2E8E': 3.739130434782609, 'B00AFOMVYO': 3.875, 'B00AFUE7S6': 4.392857142857143, 'B00AFUF2EE': 3.7857142857142856, 'B00AG95794': 3.4, 'B00AGBYQY4': 4.0, 'B00AGH81M6': 4.125, 'B00AGPI5P6': 4.157894736842105, 'B00AIGZ72C': 3.9, 'B00AIGZ6ZA': 3.3076923076923075, 'B00AIRUOI8': 3.729845626072041, 'B00AIY86G8': 3.6363636363636362, 'B00AJD0GSO': 3.857142857142857, 'B00AJD0GRU': 4.384615384615385, 'B00AJD0H8I': 3.6538461538461537, 'B00AJD0H88': 3.7058823529411766, 'B00AJE4VK2': 2.8, 'B00AK5QGPI': 2.9176470588235293, 'B00AKMLJOE': 3.3333333333333335, 'B00AM1T38C': 4.6, 'B00AMAJF0Y': 4.888888888888889, 'B00AMLJTFO': 3.7777777777777777, 'B00AMQR8GG': 4.2631578947368425, 'B00AMSXD04': 3.411764705882353, 'B00AN5T738': 4.0, 'B00AN8RROQ': 4.5, 'B00AN8TW0I': 4.411764705882353, 'B00ANA0H5K': 4.2, 'B00AO7AU0E': 3.6, 'B00APK8836': 3.75, 'B00APK8840': 3.6923076923076925, 'B00APLNM5O': 4.0, 'B00AQJXA3O': 4.375, 'B00AQPJCD0': 4.0, 'B00AQQ41C6': 4.5, 'B00AQYRGES': 3.8333333333333335, 'B00ASWZO6U': 4.473684210526316, 'B00ATHNN6C': 4.285714285714286, 'B00ATIS7QW': 3.4285714285714284, 'B00AVYMZ8K': 4.166666666666667, 'B00AWDZ78A': 3.3714285714285714, 'B00AWLEAH6': 3.685185185185185, 'B00AYE6JDO': 4.666666666666667, 'B00AYT62HC': 3.8421052631578947, 'B00AZEAMHC': 3.6, 'B00AZFMOS6': 4.032258064516129, 'B00AZFMORW': 3.8076923076923075, 'B00B0CQCK4': 3.4347826086956523, 'B00B1F19DK': 4.315789473684211, 'B00B1N06S6': 4.187898089171974, 'B00B1NN16U': 4.0625, 'B00B1NN1L0': 4.24, 'B00B3QD94O': 4.417582417582418, 'B00B3ZB9A6': 3.5172413793103448, 'B00B3Z989A': 2.5, 'B00B43V9QQ': 4.695652173913044, 'B00B45EOYS': 4.4766355140186915, 'B00B44N0DA': 4.944444444444445, 'B00B4YD2P6': 3.9946524064171123, 'B00B50CEH6': 4.846153846153846, 'B00B5A1GPM': 4.6, 'B00B5I9282': 4.777777777777778, 'B00B5TENV2': 4.8, 'B00B5W7RQ2': 4.125, 'B00B6KNSKM': 4.6, 'B00B6Z9BN0': 4.568965517241379, 'B00B79CEYI': 3.611111111111111, 'B00B79CEHK': 4.6875, 'B00B7HWIL4': 4.2, 'B00B7PS25M': 4.6, 'B00B7XYRG2': 4.111111111111111, 'B00B8KJH0U': 4.173913043478261, 'B00B8MIVXC': 4.612903225806452, 'B00B8QCMHY': 3.7586206896551726, 'B00B9A0HNA': 4.254901960784314, 'B00B9GH16K': 4.769230769230769, 'B00B9GG5NU': 4.666666666666667, 'B00B9QWQYC': 4.090909090909091, 'B00BB5ZQC0': 3.875, 'B00BB7MS2Y': 4.1, 'B00BBDKTS8': 4.2534246575342465, 'B00BBDKXNY': 3.3157894736842106, 'B00BBGMD16': 4.714285714285714, 'B00BBGMDN4': 4.0, 'B00BBQDDWY': 4.285714285714286, 'B00BBQDDXS': 4.016666666666667, 'B00BCIJJEM': 2.769230769230769, 'B00BCRG7I4': 4.205479452054795, 'B00BCZX61C': 4.03921568627451, 'B00BDS9V8U': 2.8333333333333335, 'B00BEUCNNC': 4.444444444444445, 'B00BEVL4OU': 4.076923076923077, 'B00BF8JHEQ': 4.111111111111111, 'B00BFNC3R4': 3.7777777777777777, 'B00BFO3YVW': 4.447761194029851, 'B00BFO14W8': 4.214022140221402, 'B00BFNYD90': 3.7222222222222223, 'B00BFPUXBA': 3.6, 'B00BGO2Z2K': 3.1818181818181817, 'B00BGZVI9K': 4.625, 'B00BH36PRG': 4.371428571428571, 'B00BHIRCIM': 4.6, 'B00BI1YUT2': 2.142857142857143, 'B00BI6S30O': 3.5, 'B00BISWIHQ': 4.332688588007737, 'B00BKPU27U': 3.8613861386138613, 'B00BLG5CSC': 3.7181208053691277, 'B00BLG5CSM': 3.865546218487395, 'B00BMGBDDO': 4.0, 'B00BN0N0LW': 4.263361236316806, 'B00BN0N058': 4.5625, 'B00BN0N0IK': 3.876080691642651, 'B00BN0N0AS': 4.0625, 'B00BN0N05I': 4.4, 'B00BN0N09O': 4.466666666666667, 'B00BNOJRWO': 4.363636363636363, 'B00BNPMY64': 4.5, 'B00BNQ8V7E': 4.714285714285714, 'B00BOE92ZU': 3.3333333333333335, 'B00BOE9YSU': 2.5, 'B00BOE622Q': 3.1666666666666665, 'B00BOZAU2I': 3.2954545454545454, 'B00BP6B426': 3.2, 'B00BP6B41C': 2.8, 'B00BPJRUPS': 3.75, 'B00BQ4PEX2': 4.545454545454546, 'B00BSXRBGE': 3.6984126984126986, 'B00BT096PA': 4.166666666666667, 'B00BT1BQEI': 3.7313432835820897, 'B00BT8QJCU': 4.125, 'B00BTH7QJQ': 2.7142857142857144, 'B00BTL6ZJY': 3.2857142857142856, 'B00BTL6ZYY': 4.2, 'B00BUL5A9E': 4.157894736842105, 'B00BUTGJ00': 4.153846153846154, 'B00BUTGJV4': 3.6, 'B00BUTGJIC': 4.3076923076923075, 'B00BUTGL1M': 4.0, 'B00BVKRKR4': 3.7906976744186047, 'B00BVUAMYW': 4.304347826086956, 'B00BWH7VWU': 3.9523809523809526, 'B00BX04Z48': 3.4615384615384617, 'B00BY33EKU': 3.76, 'B00BYVY5S2': 4.375, 'B00BYVZ7T8': 4.818181818181818, 'B00BYVYBIG': 3.857142857142857, 'B00BYVYHLW': 4.071428571428571, 'B00BYVZ2WU': 4.333333333333333, 'B00BYVY654': 4.5, 'B00BYVY5ZA': 3.5, 'B00BZN3ECM': 5.0, 'B00BZN169A': 5.0, 'B00BZXBGG8': 4.22887323943662, 'B00C19123C': 3.8536585365853657, 'B00C19125A': 3.6379310344827585, 'B00C1M9ZCE': 4.4, 'B00C1TQ52A': 4.489795918367347, 'B00C1TBYBC': 4.1, 'B00C1TBXV8': 3.727272727272727, 'B00C1TBYU8': 4.111111111111111, 'B00C2A5U8I': 3.875, 'B00C2B3CHS': 4.846153846153846, 'B00C2B2WNI': 5.0, 'B00C2B3AU2': 4.666666666666667, 'B00C2B2YSG': 4.285714285714286, 'B00C2B2XEG': 4.75, 'B00C2I90I6': 4.090909090909091, 'B00C30HUQ2': 4.125850340136054, 'B00C30FCUI': 4.219814241486068, 'B00C313XBW': 4.071428571428571, 'B00C315N2O': 3.3333333333333335, 'B00C3XW5PK': 3.8461538461538463, 'B00C4034IE': 3.9411764705882355, 'B00C4FBQT8': 4.2631578947368425, 'B00C4PTLZ4': 3.1739130434782608, 'B00C4VG1XS': 4.0256410256410255, 'B00C9W27RQ': 4.187214611872146, 'B00CA7FR90': 3.7886178861788617, 'B00CAB5ZKC': 3.1538461538461537, 'B00CAB629K': 3.5217391304347827, 'B00CAJOW9E': 4.2, 'B00CB0HZAU': 4.702970297029703, 'B00CBG89C2': 4.0, 'B00CBPJLFW': 4.4, 'B00CBT9K0Y': 3.3636363636363638, 'B00CCXCEWU': 4.2727272727272725, 'B00CD1FB26': 4.200836820083682, 'B00CE3IC74': 4.465277777777778, 'B00CE4CKXK': 4.562874251497006, 'B00CELZD8C': 4.521739130434782, 'B00CEUUNYW': 3.1666666666666665, 'B00CF40J6E': 4.483870967741935, 'B00CGY2ZMY': 4.416666666666667, 'B00CHQ3V0G': 3.4, 'B00CI6J7FI': 4.625, 'B00CIELUKU': 3.142857142857143, 'B00CIHAIT6': 4.5, 'B00CIIIJ4G': 4.066666666666666, 'B00CIQ7NXQ': 4.608695652173913, 'B00CIQ88UI': 3.857142857142857, 'B00CIYZ8CG': 4.615384615384615, 'B00CJHSHS4': 4.333333333333333, 'B00CJHZLEW': 4.51063829787234, 'B00CJRZ31S': 4.3061224489795915, 'B00CKA3CFI': 3.272727272727273, 'B00CKIDDZ4': 4.084033613445378, 'B00CKWPGSW': 2.090909090909091, 'B00CL3TAOQ': 3.572649572649573, 'B00CL63BZM': 4.0, 'B00CLCMA4O': 3.9407407407407407, 'B00CLDM82W': 3.0555555555555554, 'B00CLFWLHC': 4.181818181818182, 'B00CM2RYYE': 3.75, 'B00CMDFDHS': 2.4444444444444446, 'B00CMRK2D4': 4.090909090909091, 'B00CN48XMI': 2.9473684210526314, 'B00COAWUFC': 3.9019607843137254, 'B00COOVLMQ': 3.5555555555555554, 'B00CPP2G64': 4.625, 'B00CQQND5K': 4.8, 'B00CRWT960': 4.076923076923077, 'B00CSMAHTW': 3.021276595744681, 'B00CTA2Q2E': 4.32258064516129, 'B00CTKMJ8U': 2.4, 'B00CU9YBVS': 4.4714285714285715, 'B00CU9QF3U': 3.25, 'B00CVB12RG': 4.125, 'B00CVV1OME': 4.176470588235294, 'B00CVUWKXW': 4.842105263157895, 'B00CWEG5H4': 3.7777777777777777, 'B00CWIWU3S': 3.3666666666666667, 'B00CXJ1DPC': 4.75, 'B00CXOHCA2': 4.432098765432099, 'B00CXP4AS8': 4.369565217391305, 'B00CXVM61A': 4.529411764705882, 'B00CXWA66G': 4.5, 'B00CY12RGI': 3.566666666666667, 'B00CY9Q88S': 3.3043478260869565, 'B00CYBOUMW': 3.875, 'B00CZ54VVM': 4.015503875968992, 'B00D07CJQS': 4.285714285714286, 'B00D0SSFL0': 5.0, 'B00D12OGT0': 2.909090909090909, 'B00D1FY5ZW': 4.183673469387755, 'B00D1FYRMI': 4.046511627906977, 'B00D1JJ31O': 3.6956521739130435, 'B00D21CF0M': 3.8, 'B00D2BZ1VM': 4.08, 'B00D3ITOHG': 4.553571428571429, 'B00D42A16E': 4.393312101910828, 'B00D42A60K': 4.0, 'B00D4INF0M': 3.4782608695652173, 'B00D4MPZNI': 3.2857142857142856, 'B00D55ZHYG': 2.3846153846153846, 'B00D5Q26TO': 3.9473684210526314, 'B00D6DOYEQ': 3.4285714285714284, 'B00D77KEEK': 3.6984126984126986, 'B00D84W9J0': 3.857142857142857, 'B00D8BP8H8': 3.8461538461538463, 'B00D98C8JQ': 4.555555555555555, 'B00DA7P0R8': 3.938864628820961, 'B00DB41AOW': 3.6, 'B00DC6OIKW': 3.283333333333333, 'B00DC7QQ2O': 3.736842105263158, 'B00DCEOPH0': 2.7142857142857144, 'B00DCRX1LI': 4.0, 'B00DCXWXEI': 4.714285714285714, 'B00DDMDRHK': 3.9375, 'B00DDPZ4JG': 3.5043782837127844, 'B00DDTH3TG': 4.166666666666667, 'B00DDUH7JG': 3.5925925925925926, 'B00DE7EHAU': 2.3636363636363638, 'B00DE8DB6U': 3.854651162790698, 'B00DEYHPN4': 4.3136363636363635, 'B00DG18TCG': 2.5714285714285716, 'B00DGHQI2I': 3.5, 'B00DH0BESC': 4.045454545454546, 'B00DI70XYK': 3.5384615384615383, 'B00DIGD3TS': 3.959731543624161, 'B00DIOALYA': 3.6818181818181817, 'B00DIOAM4Y': 3.7670157068062826, 'B00DJ3ZZ4G': 3.0, 'B00DJUXO9C': 3.707317073170732, 'B00DKX0QH6': 4.2272727272727275, 'B00DKXXGFK': 4.0588235294117645, 'B00DL099M6': 4.5, 'B00DL097JG': 4.428571428571429, 'B00DLJYR0G': 4.818181818181818, 'B00DLJYQDE': 4.166666666666667, 'B00DLJYQMA': 4.090909090909091, 'B00DMLPBLC': 4.166666666666667, 'B00DNJNSY0': 4.6, 'B00DOP3NPW': 4.094395280235989, 'B00DOP3KBY': 3.4761904761904763, 'B00DOZHLCS': 3.5, 'B00DQFTMLO': 3.0, 'B00DQFQFMS': 3.3, 'B00DQN3UBE': 2.8, 'B00DQOG1UA': 4.580152671755725, 'B00DQXR3A8': 3.4347826086956523, 'B00DS34MO6': 4.424657534246576, 'B00DSN6OGA': 3.6666666666666665, 'B00DTZYHX4': 4.0146627565982405, 'B00DU2BMLG': 3.6666666666666665, 'B00DU2BOTQ': 3.7142857142857144, 'B00DU2BLSK': 3.7142857142857144, 'B00DU6RXBA': 2.8, 'B00DU6RY7S': 3.1739130434782608, 'B00DU6RY6O': 4.285714285714286, 'B00DU6RX60': 4.222222222222222, 'B00DU6RX8I': 3.7777777777777777, 'B00DUN0D2Y': 4.333333333333333, 'B00DV9O0GC': 3.5806451612903225, 'B00DVBUI6Q': 3.4, 'B00DVB7F0S': 4.310344827586207, 'B00DVEJA7G': 3.7482014388489207, 'B00DWGHTQM': 4.428571428571429, 'B00DWGHUFM': 4.666666666666667, 'B00DWGHT12': 3.75, 'B00DWHK40Y': 4.2, 'B00DY88KJI': 5.0, 'B00DY8DB8I': 4.294117647058823, 'B00DY9V2OM': 3.5714285714285716, 'B00DZASZKY': 4.166666666666667, 'B00DZI8UF6': 3.925925925925926, 'B00DZI8TAM': 3.25, 'B00DZIQRXI': 4.6923076923076925, 'B00DZIQR2Y': 4.2, 'B00DZIQSEQ': 4.4, 'B00DZPC5NM': 4.535714285714286, 'B00E04M028': 4.0, 'B00E174RTS': 4.3238434163701065, 'B00E1CSEMO': 4.291139240506329, 'B00E1KX80E': 4.0, 'B00E1UUY38': 3.3, 'B00E38BQOY': 3.4615384615384617, 'B00E38XXVS': 4.566666666666666, 'B00E3QISSI': 4.571428571428571, 'B00E4LABDW': 4.063492063492063, 'B00E4LACUO': 4.0, 'B00E4LGVU4': 4.0588235294117645, 'B00E4VQAK0': 3.909090909090909, 'B00E4WXWBE': 4.402597402597403, 'B00E58RSRQ': 3.7241379310344827, 'B00E5HXJEI': 3.423076923076923, 'B00E5K0EC0': 4.178571428571429, 'B00E5OUOCQ': 4.019914651493599, 'B00E7WAM96': 3.6666666666666665, 'B00E89AQDA': 3.7058823529411766, 'B00E89ASQK': 4.0, 'B00E8AMB8W': 4.509090909090909, 'B00E93J168': 3.2222222222222223, 'B00E95OT6I': 4.023255813953488, 'B00E9PHY1U': 4.4743589743589745, 'B00E9R5YRE': 4.764705882352941, 'B00EAYZ264': 3.9583333333333335, 'B00EAZCMYI': 4.142857142857143, 'B00EB82KUK': 4.138888888888889, 'B00EBZAQ36': 4.075862068965518, 'B00ECHG8H6': 3.6666666666666665, 'B00ECOC3LE': 3.8, 'B00ED4LIH8': 2.8461538461538463, 'B00EDOADCO': 4.2, 'B00EDPYOVO': 3.75, 'B00EDX69CI': 4.0625, 'B00EDYG2XS': 3.2666666666666666, 'B00EE4DAUU': 3.891891891891892, 'B00EE4DAVE': 3.875, 'B00EE4DAT6': 3.782608695652174, 'B00EE4DASM': 3.6666666666666665, 'B00EEJZG34': 3.3902439024390243, 'B00EEJZFPI': 4.0, 'B00EHEEFWY': 3.864864864864865, 'B00EIPPTG8': 3.9397590361445785, 'B00EIP2PFG': 3.608695652173913, 'B00EJDZ3SS': 4.444444444444445, 'B00EK5XX28': 3.7777777777777777, 'B00EL2HDNU': 3.5, 'B00EL2HDQC': 3.85, 'B00ELNLDIK': 4.785714285714286, 'B00EMAJ17C': 4.606060606060606, 'B00EN7Z7H2': 4.0, 'B00ENK3ZHS': 3.8, 'B00ENMK1DW': 4.597173144876325, 'B00ENZRS76': 4.458333333333333, 'B00EO3DYMU': 4.636363636363637, 'B00EO3DRV8': 2.888888888888889, 'B00EO3DOUC': 4.0, 'B00EO3DM0E': 4.4, 'B00EO3DYKM': 3.8333333333333335, 'B00EOUEJ5O': 4.166666666666667, 'B00EP7B800': 3.875, 'B00EPAVJZ6': 3.310344827586207, 'B00EQ20CL0': 3.5714285714285716, 'B00ES6DF18': 3.838235294117647, 'B00ET9QGTW': 3.5, 'B00ETH7ERM': 4.1, 'B00ETI1CSI': 3.6538461538461537, 'B00EUSMS8K': 4.25, 'B00EWJHRMY': 4.604938271604938, 'B00EXO8Y3Y': 3.9583333333333335, 'B00EXPNIAW': 4.0212765957446805, 'B00EY86X6E': 3.8333333333333335, 'B00EZCU5PY': 4.078431372549019, 'B00EZJYJQI': 4.428571428571429, 'B00EZM34RU': 4.384615384615385, 'B00EZSUT8Q': 4.0, 'B00EZSUT3Q': 4.090909090909091, 'B00EZSUS1E': 4.6, 'B00F0JGZK0': 2.8, 'B00F0UFUHI': 4.219512195121951, 'B00F0W7BVY': 4.5, 'B00F1W0FS4': 4.666666666666667, 'B00F2ASYCO': 4.470588235294118, 'B00F2NSWGY': 4.051282051282051, 'B00F2OA3NS': 4.333333333333333, 'B00F3CW6RA': 3.2857142857142856, 'B00F408EYK': 3.5642857142857145, 'B00F415LFO': 4.478260869565218, 'B00F415LEU': 3.9395973154362416, 'B00F4JS4LO': 4.303571428571429, 'B00F4LRX3W': 3.619047619047619, 'B00F4P7NG0': 4.75, 'B00F4TLDLW': 2.7916666666666665, 'B00F51C83Q': 4.285714285714286, 'B00F54Y6GU': 4.318042813455658, 'B00F5D056Q': 3.6666666666666665, 'B00F5NSLCG': 4.811320754716981, 'B00F61MPCE': 4.304347826086956, 'B00F6OV6LM': 3.3448275862068964, 'B00F6PRSMW': 4.492424242424242, 'B00F6SQ1D6': 3.8974358974358974, 'B00F6XQQ22': 3.75, 'B00F8H79JA': 3.619047619047619, 'B00F98MM4U': 3.4285714285714284, 'B00F9DHDIA': 3.9696969696969697, 'B00F9F1C0S': 4.333333333333333, 'B00FAU2P5I': 3.411764705882353, 'B00FAYFDYE': 3.1333333333333333, 'B00FB5TWQ2': 4.4, 'B00FBNAECU': 4.2, 'B00FEFKJLQ': 4.214285714285714, 'B00FEPDT4U': 3.7941176470588234, 'B00FF333OC': 4.322222222222222, 'B00FF9FKD8': 4.705882352941177, 'B00FF9FSD0': 4.166666666666667, 'B00FF9FQ6Y': 3.7142857142857144, 'B00FF9FI26': 4.03125, 'B00FF9FFVA': 4.2, 'B00FFAB2PW': 3.9473684210526314, 'B00FFS2IUW': 3.3, 'B00FIYDBZE': 4.423076923076923, 'B00FIZ1SVC': 3.6666666666666665, 'B00FJ02ZIG': 2.933333333333333, 'B00FJ1HFGC': 4.076923076923077, 'B00E87WZWM': 3.857142857142857, 'B00FJISZFK': 4.02, 'B00FJISZ28': 4.194444444444445, 'B00FJISZ8M': 4.2615384615384615, 'B00FKD48XM': 4.714285714285714, 'B00FL29IH8': 4.162162162162162, 'B00FL2RP4G': 4.6, 'B00FLCVGG4': 4.15, 'B00FLKS8NU': 4.714285714285714, 'B00FLL2ZTW': 4.045977011494253, 'B00FLISUQM': 3.9166666666666665, 'B00FN5UDPE': 4.888888888888889, 'B00FN8CT3K': 4.591836734693878, 'B00FNJOMZ2': 4.5, 'B00FNK8UPE': 4.285714285714286, 'B00FOB3QQK': 4.2727272727272725, 'B00FP6C9OY': 3.5, 'B00FPFG4DC': 4.16, 'B00FPN0TG2': 3.4473684210526314, 'B00FRZQE7G': 3.708791208791209, 'B00FS7BSAQ': 3.5, 'B00FSRD3FO': 4.777777777777778, 'B00FT34ROS': 3.607843137254902, 'B00FTK9IQS': 2.8, 'B00FTK9IL8': 3.0, 'B00FU2O3NS': 4.035714285714286, 'B00FU55RHG': 3.8333333333333335, 'B00FVHCO9W': 3.864406779661017, 'B00FVY61D0': 4.109090909090909, 'B00FWGU0ES': 4.5813953488372094, 'B00FWGU10G': 4.35, 'B00FWGTZWQ': 4.428571428571429, 'B00FWGU1CY': 3.8095238095238093, 'B00FWVEVN4': 3.909090909090909, 'B00FXK8GJE': 3.875, 'B00FYJU264': 3.92, 'B00FYKSFCG': 4.142857142857143, 'B00FYNSCKS': 4.7727272727272725, 'B00FYO9SCS': 4.526315789473684, 'B00FYOQ9N4': 4.5, 'B00FYWCL2E': 3.7492625368731565, 'B00FZ4IG66': 4.393939393939394, 'B00FZLV9G8': 4.1506849315068495, 'B00FZLV9L8': 4.292035398230088, 'B00G13G144': 3.3846153846153846, 'B00G31YG6O': 1.5, 'B00G3FZ7YU': 3.642857142857143, 'B00G3KYTJO': 3.375, 'B00G3PAPWO': 4.223684210526316, 'B00G47JIEW': 4.5, 'B00G4MV4TY': 4.0588235294117645, 'B00G4ZYQ8W': 3.4074074074074074, 'B00G53GJA6': 4.0, 'B00G53GJ88': 3.8, 'B00G5T9P2O': 3.6666666666666665, 'B00G66YT0E': 4.875, 'B00G6H5N7Q': 3.49618320610687, 'B00G6NRZG2': 4.290909090909091, 'B00G6QBCWC': 3.888888888888889, 'B00G6RIF2Q': 3.935483870967742, 'B00G6RIG48': 4.2105263157894735, 'B00G8FG74Y': 3.625, 'B00G8H23AO': 3.6666666666666665, 'B00G91T686': 3.6666666666666665, 'B00GAA8SAI': 4.666666666666667, 'B00GBATPIG': 4.33, 'B00GBPGH50': 4.428571428571429, 'B00GBST44I': 4.4222222222222225, 'B00GCBQZ1O': 3.8333333333333335, 'B00GD91XB2': 4.260273972602739, 'B00GDF3B1G': 4.666666666666667, 'B00GFV3N66': 4.375, 'B00GG1C58M': 4.285714285714286, 'B00GG1A6ME': 4.6, 'B00GGQ9IXW': 2.0, 'B00GJJT138': 3.6666666666666665, 'B00GJQ4OT2': 4.1, 'B00GK7TTM2': 2.4285714285714284, 'B00GL6V9R0': 3.2, 'B00GM529SI': 4.0, 'B00GMQNYMC': 3.8333333333333335, 'B00GN76HAG': 4.878787878787879, 'B00GNH7RGY': 4.2, 'B00GNH84IO': 4.125, 'B00GNRA01S': 4.879310344827586, 'B00GNRDSDU': 4.888888888888889, 'B00GNSP3VO': 4.0, 'B00GNWPZAE': 4.25, 'B00GOENVZC': 3.5833333333333335, 'B00GOEPT7A': 3.5, 'B00GOG6KQW': 3.533333333333333, 'B00GOMNRF8': 4.425, 'B00GP1AZBC': 4.181818181818182, 'B00GP299SQ': 3.111111111111111, 'B00GP3QZQE': 2.4, 'B00GQYKHRU': 4.375, 'B00GSPHQIK': 4.625, 'B00GT36MGI': 3.9714285714285715, 'B00GUPGRB0': 3.1666666666666665, 'B00GV100WU': 3.5714285714285716, 'B00GWGZFK6': 4.3, 'B00GWTMKWO': 3.9166666666666665, 'B00GWTML64': 3.9, 'B00GWTMLQ4': 3.4285714285714284, 'B00GWTMLEG': 3.736842105263158, 'B00GWTSO1U': 5.0, 'B00GX7GNJG': 4.181818181818182, 'B00GXD3AXC': 3.2432432432432434, 'B00GXD5CWY': 3.5714285714285716, 'B00GXN56HA': 4.0, 'B00GXNS212': 3.3, 'B00GYA3Q9C': 4.2, 'B00GYFLO14': 4.1441441441441444, 'B00GZK5U68': 3.6129032258064515, 'B00GZK5U6I': 3.5942028985507246, 'B00GZZTHSK': 3.4583333333333335, 'B00GZZTJ6A': 3.4444444444444446, 'B00GZZTKOQ': 3.5, 'B00H052OC0': 4.15, 'B00H0D7RG0': 3.789473684210526, 'B00H1XKC2U': 3.899193548387097, 'B00H1XKDK6': 3.962962962962963, 'B00H1XKC1Q': 4.103896103896104, 'B00H267SZK': 4.085365853658536, 'B00H2F1E7O': 3.5, 'B00H2QUD9S': 3.6868131868131866, 'B00H34FAB0': 5.0, 'B00H3Q7MUA': 3.3333333333333335, 'B00H4OATB0': 4.6, 'B00H56N7D4': 4.244897959183674, 'B00H5CPAB0': 4.25, 'B00H5ISK48': 4.704, 'B00H7TQDWQ': 4.461538461538462, 'B00H8ND5AE': 3.6153846153846154, 'B00H92G0UQ': 3.5, 'B00H955KM2': 4.588235294117647, 'B00H9OVD5G': 3.8333333333333335, 'B00HAQ68YY': 4.148148148148148, 'B00HB7CPEE': 2.814814814814815, 'B00HD44YAI': 4.7, 'B00HD9VN6G': 3.85, 'B00HE5GMS8': 4.428571428571429, 'B00HF8WBA2': 5.0, 'B00HFTX0R4': 4.583333333333333, 'B00HFTKKUY': 4.384615384615385, 'B00HFXJX26': 4.111111111111111, 'B00HGIZSWE': 3.6666666666666665, 'B00HGZXDP6': 4.533333333333333, 'B00HH8QCBO': 4.45, 'B00HHGT0Y2': 3.7142857142857144, 'B00HHKL7OY': 1.8, 'B00HJKMFK2': 4.625, 'B00HK17B7C': 4.428571428571429, 'B00HK17A8W': 4.153846153846154, 'B00HK8V74I': 4.285714285714286, 'B00HK8V694': 3.933333333333333, 'B00HMRDKO2': 3.7846153846153845, 'B00HNALSS8': 3.6363636363636362, 'B00HNY8TBS': 3.3333333333333335, 'B00HS5S138': 4.333333333333333, 'B00HSCJ28E': 4.0, 'B00HSCJ48C': 4.352941176470588, 'B00HSHPFRG': 4.0, 'B00HSQCPRK': 4.545454545454546, 'B00HTPHK5W': 3.9916434540389973, 'B00HV5M8SE': 4.5, 'B00HVLUR18': 4.531835205992509, 'B00HVLUQW8': 4.603448275862069, 'B00HVPMFBE': 4.769230769230769, 'B00HVPMI8Y': 5.0, 'B00HWKG8DO': 4.7023809523809526, 'B00HXTHFTU': 4.777777777777778, 'B00HXTHFFY': 4.714285714285714, 'B00HXTHFI6': 4.909090909090909, 'B00HXTHFFO': 4.916666666666667, 'B00HXTHFCM': 4.8125, 'B00HXTHFJK': 4.6, 'B00HXTHFW2': 4.6, 'B00HYG5AH6': 4.285714285714286, 'B00HYG79RA': 4.75, 'B00HYGF3KK': 5.0, 'B00HYG1PSO': 4.3, 'B00HYGODH4': 4.857142857142857, 'B00HYGHNLC': 4.8, 'B00HZ62SLG': 3.485294117647059, 'B00HZD3RXM': 4.5, 'B00HZD3UN4': 4.24, 'B00HZD3UFM': 4.7894736842105265, 'B00HZD3UXY': 4.482142857142857, 'B00HZD3ROQ': 4.4, 'B00HZD3T6M': 4.461538461538462, 'B00HZD3RXW': 4.142857142857143, 'B00HZD3VGU': 4.32, 'B00HZE2YA8': 3.5652173913043477, 'B00HZWFT8O': 4.6, 'B00HZZGY80': 4.11864406779661, 'B00I02300C': 3.9, 'B00I0572NU': 4.368421052631579, 'B00I0F3IFQ': 3.8085106382978724, 'B00I0MKMBW': 4.363636363636363, 'B00I0SCD72': 4.2405063291139244, 'B00I3LUY68': 4.51063829787234, 'B00I3LV336': 4.108695652173913, 'B00I45GT3A': 4.054054054054054, 'B00I48DIHC': 3.965909090909091, 'B00I4C5QQE': 3.5546218487394956, 'B00I4KPBF2': 4.6, 'B00I4PTN2Y': 3.6666666666666665, 'B00I4XMJ22': 4.142857142857143, 'B00I51HUL8': 3.875, 'B00I525YRO': 4.769230769230769, 'B00I6K0B6E': 4.444444444444445, 'B00I6WHTTE': 2.7857142857142856, 'B00I6WVE68': 3.7058823529411766, 'B00I7PAYWO': 4.777777777777778, 'B00IAVRW5M': 4.333333333333333, 'B00IBCRZ3Y': 3.9316239316239314, 'B00IBQI29Q': 3.5, 'B00IBQI1W4': 4.25, 'B00IE7BTTW': 3.6470588235294117, 'B00IEJGCHO': 3.5, 'B00IF4N05K': 4.333333333333333, 'B00IG4JB8Y': 3.506666666666667, 'B00IGFKWWW': 3.7777777777777777, 'B00IGNCRH2': 3.6, 'B00IGRNPVK': 3.3157894736842106, 'B00IGROQ22': 3.4, 'B00II6GF3O': 3.85, 'B005NH63GA': 2.8, 'B00IIIGOTM': 3.2857142857142856, 'B00IIUAM2K': 4.333333333333333, 'B00IJKSCWQ': 4.375, 'B00IKEYXJC': 3.5, 'B00IL7QYY0': 2.8333333333333335, 'B00IL8FVUC': 4.0, 'B00IL9ZMF0': 4.461538461538462, 'B00ILI9N4W': 4.6, 'B00ILLJOUC': 3.923076923076923, 'B00ILV7VGG': 4.046948356807512, 'B00IM349F4': 3.380952380952381, 'B00IMB47TY': 4.326530612244898, 'B00IMKRQO8': 4.424657534246576, 'B00IMLLAUI': 3.9285714285714284, 'B00IN6UREC': 3.6, 'B00INAFJQE': 4.764705882352941, 'B00INF5L1M': 3.9292929292929295, 'B00INR8J5A': 4.696629213483146, 'B00IORDCMY': 4.214285714285714, 'B00IORDBRA': 4.0344827586206895, 'B00IPKETBS': 3.4782608695652173, 'B00IPNQ3R8': 4.6, 'B00IRBWSMC': 4.083333333333333, 'B00IRXWQ0O': 3.857142857142857, 'B00ISDUEPC': 4.203389830508475, 'B00IT0KEQ8': 4.0, 'B00IU5Z2Q4': 3.411764705882353, 'B00IUCH5XK': 2.4285714285714284, 'B00IUH1TV4': 3.827272727272727, 'B00IUICQCE': 4.296482412060302, 'B00IUICOR6': 4.375739644970414, 'B00IUICOUS': 4.375, 'B00IUZ814O': 2.0, 'B00IWGTTG0': 4.391304347826087, 'B00IWWF4HM': 4.037037037037037, 'B00IWY86WU': 4.529411764705882, 'B00IXHUH1O': 3.2962962962962963, 'B00IXPA2BQ': 4.444444444444445, 'B00IXXXLBG': 4.153846153846154, 'B00IY2OO8A': 4.194444444444445, 'B00IZ3UW34': 4.0344827586206895, 'B00J04Z1LU': 4.2727272727272725, 'B00J04ZJBW': 4.2, 'B00J06RS96': 4.615384615384615, 'B00J0BXPD4': 4.285368802902056, 'B00J0N8FOQ': 4.0, 'B00J0WMSIG': 4.413793103448276, 'B00J0WMNOU': 4.125, 'B00J0XR10A': 4.0, 'B00J1EORVE': 3.0833333333333335, 'B00J1ROQFI': 3.8275862068965516, 'B00J25CHK0': 4.166666666666667, 'B00J2OYPAG': 3.84375, 'B00J3FM592': 3.7333333333333334, 'B00J3VUKVQ': 3.857142857142857, 'B00J43Y62C': 3.481675392670157, 'B00J441D5O': 3.9714285714285715, 'B00J43Y63Q': 3.46875, 'B00J440HWE': 3.5588235294117645, 'B00J43Y64U': 3.754385964912281, 'B00J4PQW5E': 3.4, 'B00J4SRJWG': 4.24, 'B00J7IK0DI': 3.7, 'B00J7N7CIO': 4.676923076923077, 'B00J80IMJ4': 4.767441860465116, 'B00J88C5NU': 2.0, 'B00J8DNJ8K': 3.7777777777777777, 'B00J95SC5M': 4.092783505154639, 'B00J9D4LPO': 3.5, 'B00J9L6YP6': 3.32, 'B00J9NWVIS': 3.566666666666667, 'B00J9R0OGU': 5.0, 'B00JA09OVW': 4.461538461538462, 'B00JA1UTDS': 3.7, 'B00JA5Y90S': 2.8, 'B00JA9EQMU': 3.909090909090909, 'B00JAAJ1F6': 3.888888888888889, 'B00JANVMDC': 3.7, 'B00JB48XK0': 4.4, 'B00JB50T6K': 4.8, 'B00JB5O6VY': 3.6666666666666665, 'B00JBC94R8': 4.375, 'B00JE445S6': 4.285714285714286, 'B00JFBDZ5W': 3.757575757575758, 'B00JFGMQKC': 4.166666666666667, 'B00JFGMODQ': 4.375, 'B00JFHJZ46': 4.125, 'B00JFHDGBY': 4.333333333333333, 'B00JGPFUK0': 3.4, 'B00JGPQ3Z6': 3.4473684210526314, 'B00JGPRY8Q': 4.25, 'B00JH28QHQ': 3.0, 'B00JI6V8Q2': 4.2, 'B00JI6V73G': 5.0, 'B00JJ2C0S0': 4.576509124941507, 'B00JJVG41U': 4.066666666666666, 'B00JJVG08W': 4.0, 'B00JJXI7AO': 4.8125, 'B00JKCHMM8': 4.764705882352941, 'B00JKCHL60': 3.5, 'B00JKCHLAQ': 4.15, 'B00JKCHJVM': 4.142857142857143, 'B00JKGHV5M': 4.0, 'B00JKUZ4BG': 2.5, 'B00JLWUPS0': 3.619047619047619, 'B00JMVE1NA': 4.4, 'B00JMVGS4U': 4.638297872340425, 'B00JMZILU0': 4.625, 'B00JO9XTSI': 3.80327868852459, 'B00JO9XY74': 3.7704918032786887, 'B00JO9Y176': 3.737864077669903, 'B00JOQIZOY': 3.6363636363636362, 'B00JOQIJQI': 3.7142857142857144, 'B00JP12300': 3.699619771863118, 'B00JQ1V78I': 4.490666666666667, 'B00JQ7TFMW': 4.666666666666667, 'B00JQAJ9ZC': 3.4489795918367347, 'B00JS7S71A': 3.7547169811320753, 'B00JSPCQQE': 3.25, 'B00JSPCQR8': 3.769230769230769, 'B00JSU409A': 3.09375, 'B00JT3F0CW': 4.4, 'B00JTBH7MU': 3.890909090909091, 'B00JTMLFHC': 4.172413793103448, 'B00JTMEEUM': 5.0, 'B00JTTP2O2': 4.454545454545454, 'B00JUCEZIC': 4.4375, 'B00JUZEB5G': 3.6486486486486487, 'B00JVB5NCO': 3.7628865979381443, 'B00JVB5P8G': 3.9166666666666665, 'B00JVFS020': 4.6, 'B00JWJIEV2': 4.100558659217877, 'B00JWV1LP6': 3.5714285714285716, 'B00JWV1M3W': 3.7142857142857144, 'B00JX8AH8K': 4.611111111111111, 'B00JXQ8UZE': 3.8333333333333335, 'B00JXUV02A': 4.521739130434782, 'B00JY8P46Y': 4.28, 'B00JZHM4LC': 4.0, 'B00JZL8KSO': 4.212765957446808, 'B00JZRXWRW': 4.79047619047619, 'B00K0KPYM4': 3.6, 'B00K1GUY9A': 4.046511627906977, 'B00K1GUY7M': 3.882978723404255, 'B00K2C17LW': 4.777777777777778, 'B00K35MU0K': 4.231111111111111, 'B00K35ZF1Q': 4.44385026737968, 'B00K3K8TKA': 4.650793650793651, 'B00K3MH7LK': 3.4583333333333335, 'B00K4A7VCQ': 2.5, 'B00K4NK36E': 3.8823529411764706, 'B00K57KLXY': 3.2857142857142856, 'B00K5H2YX4': 4.1923076923076925, 'B00K5MT8J2': 2.9166666666666665, 'B00K69QB2G': 3.4, 'B0042Z3DXU': 3.857142857142857, 'B00K6JEYD4': 4.2368421052631575, 'B00K6JHHDS': 2.7, 'B00K6JTLFA': 3.2, 'B00K6NDFXA': 4.25, 'B00K6OMOXG': 3.5875, 'B00K6OMPW6': 4.030769230769231, 'B00K6OMNBE': 3.4954954954954953, 'B00K7DYK1U': 4.0, 'B00K7DZG6I': 2.2857142857142856, 'B00K8E84R4': 4.384615384615385, 'B00K8LFJHA': 4.333333333333333, 'B00KAKBHKM': 4.420118343195266, 'B00KALSXVM': 4.705882352941177, 'B00KALQQJI': 3.967741935483871, 'B00KAMUKC6': 4.571428571428571, 'B00KALWHSM': 4.857142857142857, 'B00KAPIYQM': 3.3076923076923075, 'B00KASNOCS': 3.3333333333333335, 'B00KAT0E8O': 4.2905982905982905, 'B00KAU6LMQ': 4.375, 'B00KB4DRXW': 3.5, 'B00KBBR8T4': 3.9545454545454546, 'B00KBBUKCG': 4.4, 'B00KBPSL14': 4.230769230769231, 'B00KBQCSPI': 4.254545454545455, 'B00KBVSHZ8': 3.875, 'B00KCF8D0C': 4.434782608695652, 'B00KCML1FO': 4.555555555555555, 'B00KD0LVXM': 4.0754716981132075, 'B00KDM1LUI': 4.2, 'B00KDP3KZO': 4.916666666666667, 'B00KE9XHF2': 2.918032786885246, 'B00KEXUWQA': 4.315789473684211, 'B00KF7GFXY': 4.426966292134831, 'B00KFQMIVS': 4.230769230769231, 'B00KG8SDP0': 4.160714285714286, 'B00KGGK7X8': 4.0, 'B00KGGK7WE': 3.774193548387097, 'B00KH6E1NO': 4.446428571428571, 'B00KI0QNLM': 4.7272727272727275, 'B00KID3OC0': 4.184615384615385, 'B00KJ1IFC0': 4.5, 'B00KJLMBQQ': 3.982964224872232, 'B00KJLMBSO': 4.015444015444015, 'B00KKOCQ9O': 4.4, 'B00KLPRQMY': 4.377142857142857, 'B00KLRVQU0': 3.176470588235294, 'B00KLSDDLE': 4.25, 'B00KM1X20W': 4.6, 'B00KMXV1P8': 3.7, 'B00KNJ0652': 4.0, 'B00KO5FOOI': 3.6363636363636362, 'B00KR3SYLM': 4.222222222222222, 'B00KR44HVC': 4.7272727272727275, 'B00KRQZCX2': 3.2, 'B00KRUXMMQ': 4.48, 'B00KTCMJKI': 4.145251396648045, 'B00KTLH2ZG': 4.0, 'B00KTNB1AG': 4.0, 'B00KW01MGY': 4.5, 'B00KW40LW6': 4.0476190476190474, 'B00KW6VVXC': 3.0, 'B00KWF95PY': 3.75, 'B00KWF97NY': 3.8260869565217392, 'B00KWF99QY': 3.68, 'B00KWKKE6I': 3.8181818181818183, 'B00KWKKG6G': 3.15, 'B00KWMNDDM': 4.666666666666667, 'B00KXRZUIC': 4.584905660377358, 'B00KXRZPAU': 3.6153846153846154, 'B00KY06Z6O': 4.407407407407407, 'B00KYGP0BO': 3.9885057471264367, 'B00KYTNU9U': 4.527777777777778, 'B00L1LXOWS': 4.479087452471483, 'B00L1NZTSS': 4.392156862745098, 'B00L1O2PDY': 4.333333333333333, 'B00L1NTJAW': 4.393939393939394, 'B00L1OHBWE': 4.6, 'B00L1O9E2Y': 4.25, 'B00L23XI94': 4.25, 'B00L23XEQG': 3.8076923076923075, 'B00L23XH22': 4.205882352941177, 'B00L23XFNS': 3.8444444444444446, 'B00L2I4W1C': 3.6315789473684212, 'B00L2NNGIC': 4.583333333333333, 'B00L2PE12U': 4.264705882352941, 'B00L2SZFYU': 4.555555555555555, 'B00L3KSKYY': 4.25, 'B00L3KSQ8E': 3.877551020408163, 'B00L3KSP08': 4.017241379310345, 'B00L4590SI': 4.333333333333333, 'B00L6S6XWO': 4.2682926829268295, 'B00L9MFATO': 3.541176470588235, 'B00LA520Y8': 3.755813953488372, 'B00LA58P0Q': 3.9306122448979592, 'B00LAG17NC': 4.625, 'B00LAPGT1S': 2.2222222222222223, 'B00LATHJUO': 3.857142857142857, 'B00LAZ6RTW': 4.296296296296297, 'B00LB01FNO': 4.8, 'B00LBC7OLO': 3.6481481481481484, 'B00LBC7OVO': 2.5714285714285716, 'B00LC64YEY': 3.814814814814815, 'B00LCNGQU2': 3.130434782608696, 'B00LDAKCR2': 4.857142857142857, 'B00LDAKEKC': 4.571428571428571, 'B00LDBJ09C': 3.9344262295081966, 'B00LEPUXZC': 4.0, 'B00LFVOTFA': 4.386666666666667, 'B00LFVSKRS': 4.315151515151515, 'B00LGIVN4W': 3.409090909090909, 'B00LGY3HW2': 3.8, 'B00LGZVLMO': 3.4, 'B00LH3PQXA': 4.009708737864078, 'B00LHJOK5O': 3.142857142857143, 'B00LHKZ6YM': 4.428571428571429, 'B00LI4ZZO8': 4.090909090909091, 'B00LICSEKM': 4.54, 'B00LICYRVW': 4.758064516129032, 'B00LJT2EPK': 4.615655233069481, 'B00LJWEIJ2': 3.888888888888889, 'B00LK2IWS4': 4.2, 'B00LK2IW5C': 3.7777777777777777, 'B00LK2IWCU': 3.0, 'B00LK2IZAE': 4.391304347826087, 'B00LKZGFV2': 4.0, 'B00LL6P5U2': 3.8076923076923075, 'B00LLKDZ32': 3.528, 'B00LLPSS3E': 3.9615384615384617, 'B00LM6BNP2': 4.0, 'B00LMGPCZE': 4.857142857142857, 'B00LN2SD6M': 5.0, 'B00LOULR52': 4.25, 'B00LP3DBWK': 3.2857142857142856, 'B00LP3DOQS': 3.736842105263158, 'B00LP6CFDS': 3.6, 'B00LP6CF92': 3.5641025641025643, 'B00LP6CFEC': 4.085189527159047, 'B00LPR9FUS': 4.6, 'B00LQ4UPGI': 4.588757396449704, 'B00LQD20J4': 3.7666666666666666, 'B00LSGG8LK': 3.466666666666667, 'B00LSL5X52': 3.1818181818181817, 'B00LSJV5G0': 4.833333333333333, 'B00LT0771K': 3.606060606060606, 'B00LT295L8': 3.736842105263158, 'B00LU0XIFS': 3.0, 'B00LU1RFLU': 4.444444444444445, 'B00LU3T8CM': 4.142857142857143, 'B00LUGAYMC': 4.2, 'B00LV51CUA': 3.1818181818181817, 'B00LV51BS8': 2.875, 'B00LV5178M': 3.6, 'B00LVE4Q9U': 4.142857142857143, 'B00LVK876W': 4.466666666666667, 'B00LVK86GS': 4.263636363636364, 'B00LVK85YG': 4.615384615384615, 'B00LW2UVOK': 4.0, 'B00LWW95EW': 4.6, 'B00LX1BW0M': 3.4193548387096775, 'B00LX1BVR6': 2.888888888888889, 'B00LXIUPKS': 4.048780487804878, 'B00LXX4Q2G': 3.2, 'B00LY5EKUQ': 4.6, 'B00LY5YGF0': 3.725806451612903, 'B00LYOE0CK': 4.8, 'B00LZ3VFW8': 4.683098591549296, 'B00M0A362W': 3.5714285714285716, 'B00M0F4BYY': 4.032258064516129, 'B00M0F4CAM': 4.428571428571429, 'B00M0G3RFC': 4.5, 'B00M0KUFEY': 3.5714285714285716, 'B00M1NEUKK': 4.352754237288136, 'B00M1NEUA0': 4.41044776119403, 'B00M1O7NEE': 3.3333333333333335, 'B00M1O7X44': 3.1785714285714284, 'B00M1O7RH2': 4.05, 'B00M1WE2D6': 4.85, 'B00M1WGMB6': 5.0, 'B00M2A9H8C': 4.5, 'B00M2EOUJ4': 4.835820895522388, 'B00M2EOUT4': 4.174242424242424, 'B00M3NZKA2': 4.296875, 'B00M3O0L8C': 4.382352941176471, 'B00M3NZE5S': 3.925925925925926, 'B00M3NZYKI': 4.333333333333333, 'B00M4DHLS0': 4.586956521739131, 'B00M58CMTM': 4.454849498327759, 'B00M6NP9AU': 3.7555555555555555, 'B00M6T1QTM': 4.115384615384615, 'B00M6XTUPU': 4.01913393756294, 'B00M7I5VWK': 2.923076923076923, 'B00M7TVSG2': 4.744485294117647, 'B00M7Y0KJS': 4.26, 'B00M7YP0R0': 4.369565217391305, 'B00M8PHAXA': 3.8, 'B00M8PSXRM': 3.9, 'B00M8Z3X22': 2.9444444444444446, 'B00M914JA0': 4.315789473684211, 'B00M975UJS': 3.75, 'B00M9DQOHY': 4.333333333333333, 'B00M9DBBJK': 4.181818181818182, 'B00M9FF06S': 4.631578947368421, 'B00M9HSP7W': 4.2727272727272725, 'B00MA5XCA8': 4.454545454545454, 'B00MAO92P8': 4.857142857142857, 'B00MB151LE': 3.0606060606060606, 'B00MBWIL0G': 4.165938864628821, 'B00MCCN8E4': 4.025, 'B00MCHE38O': 4.224489795918367, 'B00MCNM98Y': 4.0, 'B00MCNN2GC': 4.2, 'B00MCVOSVM': 4.352941176470588, 'B00MCVOT48': 4.333333333333333, 'B00MCVOTFC': 4.45945945945946, 'B00MEAG0P8': 3.1621621621621623, 'B00MEAMHZU': 3.8823529411764706, 'B00ME9B9FK': 3.6538461538461537, 'B00MFDX4YO': 4.5362776025236595, 'B00MFDT894': 4.588235294117647, 'B00MGBMIEW': 3.5405405405405403, 'B00MGW0JY2': 2.8, 'B00MHOFR78': 3.75, 'B00MIGDAWO': 3.7142857142857144, 'B00MIJU844': 3.6315789473684212, 'B00MIJTDA4': 4.285714285714286, 'B00MIM2EE8': 4.355555555555555, 'B00MILYPW8': 4.239130434782608, 'B00ML21E6Y': 3.933333333333333, 'B00MLF6S0I': 4.0, 'B00MMKZ7UE': 4.4523809523809526, 'B00MMLX0AW': 4.090909090909091, 'B00MMOT98G': 4.184, 'B00MN2DMF8': 4.18, 'B00MNB95TQ': 5.0, 'B00MNKS80Y': 3.125, 'B00MNPB34W': 4.410256410256411, 'B00MNVZY0U': 4.35, 'B00MO86E88': 3.6315789473684212, 'B00MOPRZEI': 3.8620689655172415, 'B00MP62SI4': 4.076923076923077, 'B00MPHZS7G': 2.6, 'B00MQNVNDM': 3.375, 'B00MR10MW6': 4.444444444444445, 'B00MR8Z28S': 3.9382352941176473, 'B00MTCOY86': 4.085106382978723, 'B00MTEDL24': 4.711340206185567, 'B00MUHKT5M': 3.928, 'B00MV2PDCA': 4.529411764705882, 'B00MVSG1A2': 3.5833333333333335, 'B00MVSG1C0': 3.7142857142857144, 'B00MVWOFCO': 4.428571428571429, 'B00MVXX3LW': 4.275862068965517, 'B00MWDGW28': 4.478260869565218, 'B00MXC77PE': 2.5, 'B00MXV6XSM': 3.75, 'B00MXVEUDW': 4.071428571428571, 'B00MXZ528K': 3.8947368421052633, 'B00MY6JLJE': 3.142857142857143, 'B00MY6JL8U': 4.428571428571429, 'B00MYO80XE': 4.0, 'B00MZCEJKI': 3.9152542372881354, 'B00MZQU3AO': 4.2368421052631575, 'B00N0XUNLU': 4.7, 'B00N0XP2ES': 4.422535211267606, 'B00N26PJBE': 4.8, 'B00N2IN3DI': 4.625, 'B00N2OBFE6': 3.875, 'B00N312484': 4.533333333333333, 'B00N33NQHU': 3.619047619047619, 'B00N3DELQU': 3.5384615384615383, 'B00N3Q4XCO': 3.380952380952381, 'B00N3UC444': 4.363636363636363, 'B00N3WYQY8': 3.9, 'B00N771OEE': 4.097560975609756, 'B00N9G3DJW': 5.0, 'B00NB1WS4G': 4.235294117647059, 'B00NB1WT8Q': 3.861111111111111, 'B00NB1WVNE': 3.6666666666666665, 'B00NBEWB4U': 4.291917167668671, 'B00NBMHT7Q': 4.722222222222222, 'B00NBMHYGM': 4.442857142857143, 'B00NC8YF0S': 3.5483870967741935, 'B00NCSIN4W': 4.155339805825243, 'B00ND4OM5O': 3.5714285714285716, 'B00NF5SF3Q': 4.0, 'B00NG57H4S': 3.607843137254902, 'B00NGH8M36': 3.8214285714285716, 'B00NGH8MZE': 4.071428571428571, 'B00NH8OXZK': 4.394736842105263, 'B00NIBK77O': 4.545454545454546, 'B00NIBK9NG': 4.291666666666667, 'B00NIBK0MQ': 4.375, 'B00NIZ8FZG': 3.909090909090909, 'B00NIZCF8E': 4.6, 'B00NIZRJIU': 4.111111111111111, 'B00NJ4ARW0': 4.129032258064516, 'B00NJ5L7UK': 4.8, 'B00NJ6P2HS': 4.0, 'B00NKGDI6Y': 4.761904761904762, 'B00NKW3F8E': 3.625, 'B00NLKDG5C': 2.526315789473684, 'B00NLLKNIO': 3.5, 'B00NM4LKJG': 4.155172413793103, 'B00NMT6CAS': 4.8, 'B00NMV23NQ': 3.511111111111111, 'B00NMVZA5O': 3.0, 'B00NMVZFMC': 3.35, 'B00NMX1J34': 2.75, 'B00NNHE7PQ': 4.615384615384615, 'B00NOOWVCE': 4.184210526315789, 'B00NPW9TTS': 3.8518518518518516, 'B00NPZG6G4': 3.142857142857143, 'B00NPZG6DW': 3.463636363636364, 'B00NQ8OW7A': 4.1, 'B00NSF13W8': 2.6818181818181817, 'B00NSF0ZH2': 3.8181818181818183, 'B00NTFVDHW': 5.0, 'B00NTR45IO': 3.5, 'B00NTR4598': 4.6, 'B00NTVFKXY': 4.238095238095238, 'B00NUHDKYI': 5.0, 'B00NUVS3DM': 4.12, 'B00NVG9Z6K': 3.3768115942028984, 'B00NVMXB9G': 4.473684210526316, 'B00NVO7IDY': 4.230769230769231, 'B00NVQ6IL0': 4.0, 'B00NW8GAKQ': 3.4, 'B00NW8GH72': 3.72, 'B00NW8G6IC': 3.769230769230769, 'B00NWEB49W': 4.602362204724409, 'B00NWROP5Y': 4.090909090909091, 'B00NXPSAK6': 4.6, 'B00NY66NI0': 4.333333333333333, 'B00O0CQORM': 4.75, 'B00O0RJJD8': 4.771084337349397, 'B00O11IPWO': 4.555555555555555, 'B00O14SA9O': 3.5714285714285716, 'B00O2KOROE': 3.7857142857142856, 'B00O2RN216': 3.75, 'B00O5A4WGO': 3.717391304347826, 'B00O5A4WHS': 4.2, 'B00O5AL4U6': 4.333333333333333, 'B00O7Q4IBU': 3.6153846153846154, 'B00O7UJY10': 2.909090909090909, 'B00O86D2HK': 3.7777777777777777, 'B00O8UIABY': 4.166666666666667, 'B00OAC6JPY': 4.166666666666667, 'B00OB1FW3E': 4.166666666666667, 'B00OBM049U': 4.285714285714286, 'B00OBML37M': 4.666666666666667, 'B00OBOQ6XG': 4.105263157894737, 'B00OBRC1WI': 4.206896551724138, 'B00OCL61U6': 4.56, 'B00OCL621Y': 4.862068965517241, 'B00OD753U8': 4.466666666666667, 'B00ODC9HJG': 3.792079207920792, 'B00ODC9ETY': 3.8823529411764706, 'B00ODC9KJ8': 3.635294117647059, 'B00ODC9J1C': 4.0625, 'B00ODC9K98': 3.263157894736842, 'B00ODC9C6Y': 3.890625, 'B00ODC9GOW': 3.409090909090909, 'B00ODC9FSO': 3.3835616438356166, 'B00ODP9YF0': 4.690476190476191, 'B00ODQEALC': 3.875, 'B00OF3NYM4': 4.6938775510204085, 'B00OFA6XJ8': 4.625, 'B00OF8ME52': 4.838709677419355, 'B00OFFZVNM': 5.0, 'B00OFP7356': 3.6666666666666665, 'B00OFRMY1W': 2.5, 'B00OFY3JQY': 3.6153846153846154, 'B00OG7VW64': 4.0, 'B00OGA2R7Y': 4.072463768115942, 'B00OGUVGYE': 3.9375, 'B00OHVT2SO': 4.2727272727272725, 'B00OHVZTTK': 4.166666666666667, 'B00OI7JJRG': 4.166666666666667, 'B00OILGKEM': 4.5, 'B00OIRBN1G': 4.666666666666667, 'B00OIU1UL6': 4.368421052631579, 'B00OIVGGS2': 3.6666666666666665, 'B00OJZQLU0': 4.625, 'B00OJZR1IQ': 4.444444444444445, 'B00OK190R4': 3.1666666666666665, 'B00OLF8IMC': 4.777777777777778, 'B00OLHSK9G': 3.5, 'B00OLT53XK': 3.032258064516129, 'B00OM3NV3E': 4.108695652173913, 'B00OMJ7UH6': 3.2439024390243905, 'B00ON1IZTK': 4.0, 'B00ONC8QLQ': 4.2, 'B00OPJ8R7U': 3.875, 'B00OPVWHRY': 3.948717948717949, 'B00OQFFW4Y': 3.8181818181818183, 'B00OQK5UXM': 3.75, 'B00OT6L5T6': 4.269230769230769, 'B00OTHOVVO': 5.0, 'B00OTLNAZ8': 4.2, 'B00OTLNAU8': 4.333333333333333, 'B00OTLNASA': 3.25, 'B00OTLNATO': 3.45, 'B00OUWMF70': 4.333333333333333, 'B00OUWMD4U': 5.0, 'B00OVWQIT0': 4.4, 'B00OX6YR9W': 4.315217391304348, 'B00OY8G3NC': 4.636363636363637, 'B00OYF57DM': 3.6666666666666665, 'B00OZ51GRC': 4.571428571428571, 'B00OZLX3OA': 4.32, 'B00OZQZUJ6': 3.9655172413793105, 'B00OZUWT1O': 3.90625, 'B00P093P6W': 3.857142857142857, 'B00P093VRK': 3.7142857142857144, 'B00P0MU4A4': 3.5, 'B00P1AHGQK': 4.5, 'B00P1M7IJ8': 4.549019607843137, 'B00P1RFSWM': 2.6666666666666665, 'B00P3T6SWC': 3.6, 'B00P3T6ZKW': 3.6666666666666665, 'B00P6T9ABU': 3.5, 'B00P76QDU8': 4.25, 'B00P80K5N4': 4.333333333333333, 'B00P815VJG': 3.8674698795180724, 'B00P89AVRU': 3.85, 'B00P8V9YEY': 4.2, 'B00P9VG9PA': 3.0, 'B00P9ZDTOU': 4.142857142857143, 'B00PABO8IY': 4.0, 'B00PAEI5US': 3.375, 'B00PBF1QPM': 4.25, 'B00PBLXN16': 3.2962962962962963, 'B00PBP5N4M': 4.166666666666667, 'B00PBQR2PO': 4.428571428571429, 'B00PBWQXQM': 2.7777777777777777, 'B00PBXNVB6': 1.9545454545454546, 'B00PBXN5F8': 3.425925925925926, 'B00PCG61PU': 3.5384615384615383, 'B00PDF26UO': 3.4285714285714284, 'B00PDMETFW': 4.4, 'B00PEPIWM4': 4.3, 'B00PEPIWNI': 4.089757127771911, 'B00PEU9CFA': 4.410071942446043, 'B00PF76U1Q': 4.224489795918367, 'B00PF89YXG': 4.777777777777778, 'B00PHFH0SS': 3.608695652173913, 'B00PHJT53M': 4.545454545454546, 'B00PHQQ6AU': 4.0, 'B00PHZL2L4': 4.148148148148148, 'B00PISB0CG': 4.0, 'B00PIRWNNC': 3.210526315789474, 'B00PJIK3CI': 3.5714285714285716, 'B00PJKZFJC': 4.3, 'B00PJSAJXG': 3.7865168539325844, 'B00PK2LSEU': 4.3076923076923075, 'B00PK2LJ4E': 4.534883720930233, 'B00PKDY28I': 3.8461538461538463, 'B00PKHHZ2E': 3.0, 'B00PL09HD0': 4.388888888888889, 'B00PL8BLP4': 4.117647058823529, 'B00PLNN3WS': 3.9, 'B00PONS6O0': 4.216666666666667, 'B00PONS6N6': 4.555555555555555, 'B00PPAG8LK': 2.2222222222222223, 'B00PPL82WW': 3.59375, 'B00PRVMLZY': 3.933333333333333, 'B00PRVMM1M': 3.903225806451613, 'B00PU8LSR6': 4.189655172413793, 'B00PUQ8X1C': 4.25, 'B00PUZRKXK': 3.9603960396039604, 'B00PV361UO': 4.1, 'B00PXK1JR0': 4.625, 'B00PYW5X1A': 3.6625615763546797, 'B00PYVSTAS': 4.166666666666667, 'B00PZGPABS': 4.125, 'B00Q0EBQHG': 4.166666666666667, 'B00Q0VI46A': 4.7272727272727275, 'B00Q2BEYM6': 3.0, 'B00Q2HFW3U': 4.1, 'B00Q2NUYTQ': 3.5555555555555554, 'B00Q2TAATY': 4.344827586206897, 'B00Q2TF3O6': 4.555555555555555, 'B00Q2VPI8A': 3.9771217712177123, 'B00Q2UZ7MS': 3.759493670886076, 'B00Q30P8IK': 4.038961038961039, 'B00Q30JU7U': 3.912536443148688, 'B00Q3BDOM6': 4.85, 'B00Q3OHC94': 3.875, 'B00Q3OH45G': 3.8, 'B00Q3OHI4I': 3.761904761904762, 'B00Q3TFLY2': 3.6666666666666665, 'B00Q3TJNHI': 3.267857142857143, 'B00Q3YA2JQ': 4.0, 'B00Q4KR7JM': 3.8333333333333335, 'B00Q5IB9F6': 2.8333333333333335, 'B00Q651TT4': 4.502958579881657, 'B00Q654MC0': 3.8, 'B00Q66VT16': 4.475409836065574, 'B00Q688GCE': 3.7142857142857144, 'B00Q6ZXNOI': 4.1923076923076925, 'B00Q74VZ48': 4.21875, 'B00Q784XX4': 3.5964912280701755, 'B00Q7852AC': 4.238095238095238, 'B00Q7857AW': 3.85, 'B00Q784UL4': 5.0, 'B00Q7852L6': 4.375, 'B00Q78578E': 5.0, 'B00Q7DFW8O': 4.176470588235294, 'B00Q8I0SRI': 4.0, 'B00QBR02G8': 4.136363636363637, 'B00QC651UK': 3.857142857142857, 'B00QD6H9TK': 4.76, 'B00QEROK0O': 4.352941176470588, 'B00QF0LDSM': 4.8, 'B00QF1GWC8': 3.8, 'B00QFGUV1G': 3.25, 'B00QFN0O02': 4.0, 'B00QFRLXDU': 4.166666666666667, 'B00QGFEIK6': 4.5, 'B00QGMAID0': 3.7, 'B00QGOZ2N4': 5.0, 'B00QHOCTG6': 4.413793103448276, 'B00QHYNAC8': 3.890625, 'B00QIR8WOU': 4.136363636363637, 'B00QJ47IR4': 4.709677419354839, 'B00QJSH59G': 3.75, 'B00QL0YMDO': 3.217391304347826, 'B00QL4IS3K': 3.7, 'B00QL9AJ6Y': 3.8333333333333335, 'B00QLRZ84Y': 4.7272727272727275, 'B00QMSGGIO': 3.6303630363036303, 'B00QN43YFU': 3.0, 'B00QN8NR80': 4.0, 'B00QN8NRA8': 3.4, 'B00QNIMV96': 4.017857142857143, 'B00QPI3EE0': 4.419753086419753, 'B00QRIG9X6': 3.6666666666666665, 'B00QRGP3HG': 4.021739130434782, 'B00QRKHA64': 3.6216216216216215, 'B00QT2SB4U': 4.333333333333333, 'B00QU6ARME': 4.4, 'B00QU6AV8E': 3.8333333333333335, 'B00QU8S76K': 4.2272727272727275, 'B00QV77YIC': 4.0820668693009114, 'B00QVCTMQY': 4.142857142857143, 'B00QVVZCI2': 3.75, 'B00QW1T86I': 3.125, 'B00QWRN2KK': 3.9423076923076925, 'B00QX13980': 4.782608695652174, 'B00QXNS2LM': 3.5, 'B00QZDMBFI': 3.8, 'B00QZJ9UGK': 3.7142857142857144, 'B00R0DCSSM': 4.333333333333333, 'B00R124LAK': 4.656091370558376, 'B00R11WPK4': 4.782967032967033, 'B00R10DWWK': 4.596685082872928, 'B00R1D3Z10': 4.472527472527473, 'B00R1CNMZU': 2.8333333333333335, 'B00R1QWOBY': 4.0, 'B00R1RRL0C': 4.222222222222222, 'B00R2N6T7G': 3.0, 'B00R2QQ4M8': 3.9166666666666665, 'B00R2MIFOM': 3.58974358974359, 'B00R3M4KEU': 3.690909090909091, 'B00R43UG5A': 4.354166666666667, 'B00R62PHOO': 3.6666666666666665, 'B00R74AWUK': 4.0, 'B00R7CW4IA': 3.466666666666667, 'B00R9NDVNO': 3.0, 'B00R9TPAGE': 4.142857142857143, 'B00RAXEM9K': 4.133333333333334, 'B00RBBB9RY': 3.1666666666666665, 'B00RBBB9G0': 3.35, 'B00RBQX0N0': 3.9473684210526314, 'B00RCYLC2M': 4.2105263157894735, 'B00RD2PD3W': 4.0636363636363635, 'B00RDJAJ3Y': 4.04, 'B00RDPZU46': 4.571428571428571, 'B00RF27R9I': 3.96875, 'B00RFLODIC': 3.9166666666666665, 'B00RG8QPHG': 3.7948717948717947, 'B00RGICB74': 3.3181818181818183, 'B00RGK8AS6': 3.9285714285714284, 'B00RH2FGMQ': 3.6, 'B00RKUPRSS': 3.857142857142857, 'B00RM3DEME': 4.8, 'B00RNE4516': 4.014150943396227, 'B00RPMG2W6': 3.3076923076923075, 'B00RQLV6YU': 3.2857142857142856, 'B00RRPQDVG': 3.619047619047619, 'B00RSUFT5G': 3.810457516339869, 'B00RT1AGKC': 4.375, 'B00RT9E1CI': 2.7142857142857144, 'B00RTXA0RY': 4.214285714285714, 'B00RWV00OQ': 3.873015873015873, 'B00RXAHNGO': 3.0, 'B00RXT7KV8': 3.5, 'B00RZPOS4W': 4.557894736842106, 'B00S0TG7XM': 3.888888888888889, 'B00S22OP3Q': 4.166666666666667, 'B00S2P0M1C': 3.980392156862745, 'B00S4EAH7A': 4.0, 'B00S5CPERY': 4.512605042016807, 'B00S5HHM0G': 4.0, 'B00S5Q39ZY': 3.6, 'B00S5Q39UE': 3.857142857142857, 'B00S732OXI': 4.619047619047619, 'B00S749IQ8': 4.2, 'B00S7QMDPY': 3.7107438016528924, 'B00S7ZXO9E': 3.230769230769231, 'B00S8RHU5K': 4.0, 'B00S9AWN26': 3.590909090909091, 'B00S99MOQW': 4.066666666666666, 'B00S9ZZK7G': 3.7777777777777777, 'B00SB6SP0C': 4.112211221122112, 'B00SBBI584': 3.736842105263158, 'B00SC15YEG': 4.0, 'B00SCINBGW': 3.3076923076923075, 'B00SE4E5OG': 4.571428571428571, 'B00SEHHYCS': 3.8, 'B00SG8T7CU': 2.96875, 'B00SHUHKJ4': 4.833333333333333, 'B00SIK76SI': 4.555555555555555, 'B00SIK68J6': 4.0, 'B00SIK7FXY': 3.8333333333333335, 'B00SIK6NIM': 4.5, 'B00SIK63DM': 3.7142857142857144, 'B00SIK5YEG': 4.777777777777778, 'B00SIK5TQO': 4.3625, 'B00SIPG9I6': 4.0, 'B00SIYEK6K': 4.179856115107913, 'B00SJL0JIA': 2.4, 'B00SJXEUMY': 4.285714285714286, 'B00SKWITGC': 3.0, 'B00SL43TXW': 4.6, 'B00SLUTJ58': 4.25531914893617, 'B00SLX3GCM': 4.60126582278481, 'B00SMBXOP2': 4.127659574468085, 'B00SMNYFIU': 3.9166666666666665, 'B00SMVLKNU': 4.1923076923076925, 'B00SMVLPIK': 3.8125, 'B00SORGJ6U': 4.111111111111111, 'B00SRAV6V2': 4.25, 'B00SSM8NJW': 3.772727272727273, 'B00STPHMI6': 4.166666666666667, 'B00SURJAII': 4.230769230769231, 'B00SUYOB3K': 3.2666666666666666, 'B00SWAOO7A': 3.7777777777777777, 'B00SWDHUXW': 4.323943661971831, 'B00SWLOU1O': 3.8, 'B00SWPTH5Y': 5.0, 'B00SWY9MW8': 3.5, 'B00SXNCOBY': 2.9375, 'B00SY6QTXO': 4.142857142857143, 'B00SYZTWE8': 3.75, 'B00T0010TQ': 4.275862068965517, 'B00T1C351Y': 4.333333333333333, 'B00T2FGRMY': 3.857142857142857, 'B00T2FGQY8': 4.333333333333333, 'B00T34K2MA': 4.545454545454546, 'B00T38HX00': 4.0, 'B00T56GFTA': 4.367647058823529, 'B00T552B8U': 4.417910447761194, 'B00T56VLWQ': 4.564102564102564, 'B00T57RHVE': 3.7454545454545456, 'B00T5KBMIU': 3.7142857142857144, 'B00T7DP966': 3.85, 'B00T7H5IU4': 4.444444444444445, 'B00T98NN8A': 5.0, 'B00T95OA8U': 4.538461538461538, 'B00T9QIB8Y': 3.1818181818181817, 'B00T9WBHKC': 3.142857142857143, 'B00TB1EUS2': 4.076923076923077, 'B00TBELD02': 4.536082474226804, 'B00TBELEY2': 4.650943396226415, 'B00TBI3G1C': 4.684210526315789, 'B00TBJY4L2': 1.8333333333333333, 'B00TBMTM2A': 4.587301587301587, 'B00TBT7KZ4': 3.5, 'B00TCP34ZW': 4.588235294117647, 'B00TCP31KK': 4.230769230769231, 'B00TCURUSE': 3.4, 'B00TD17MB2': 4.333333333333333, 'B00TD1JFIK': 3.888888888888889, 'B00TD2SB98': 3.857142857142857, 'B00TDLG1XM': 4.1, 'B00TECOZZQ': 4.863636363636363, 'B00TF1YDH6': 3.9545454545454546, 'B00TF2HCJQ': 3.4, 'B00TF3AZZ8': 4.375, 'B00TF48BAS': 4.25, 'B00TFGW238': 4.379310344827586, 'B00TGCDF1Y': 4.5, 'B00TGCDHL2': 4.722222222222222, 'B00TI1HPZK': 4.354166666666667, 'B00TI2HCS4': 4.640625, 'B00TIAYQEY': 4.428571428571429, 'B00TIXVXOM': 2.6, 'B00TIXLPFE': 4.178571428571429, 'B00TJDDIQC': 4.171428571428572, 'B00TJWOMCC': 3.502702702702703, 'B00TK50KAQ': 3.0625, 'B00TKNVPLG': 4.360189573459715, 'B00TKWBBO8': 3.5, 'B00TKYPNHC': 4.555555555555555, 'B00TMTW6JI': 4.3478260869565215, 'B00TNHW4D2': 4.12, 'B00TO9W5FQ': 4.285714285714286, 'B00TON9MIU': 3.3454545454545452, 'B00TR27BPE': 3.6, 'B00TS1AZQ6': 5.0, 'B00TS1AZCA': 4.428571428571429, 'B00TS1BE9I': 4.371428571428571, 'B00TU5NZR6': 4.195652173913044, 'B00TUE4GBG': 4.583333333333333, 'B00TV538VI': 2.8, 'B00TWVM9WA': 3.988235294117647, 'B00TXP3TQK': 3.6923076923076925, 'B00TXUQGD8': 3.75, 'B00TYUR550': 4.333333333333333, 'B00TZ0GEHE': 3.606060606060606, 'B00TZBDAH0': 3.857142857142857, 'B00U1095JG': 3.0, 'B00U109CIA': 3.814814814814815, 'B00U1095FU': 3.4, 'B00U0ZVMT8': 4.230769230769231, 'B00U12AOV2': 4.466666666666667, 'B00U18GOLK': 4.32, 'B00U2DDH0A': 3.75, 'B00U2DD7B4': 4.6, 'B00U2G64XO': 4.0, 'B00U3GTD72': 4.157894736842105, 'B00U3I32YA': 4.260869565217392, 'B00U5HBHYG': 3.0, 'B00U5QYVHC': 4.104294478527607, 'B00U7IP7L2': 4.555555555555555, 'B00U8FVVPU': 2.2857142857142856, 'B00UA692U8': 4.166666666666667, 'B00UA692W6': 4.461538461538462, 'B00UBM1SL2': 4.568345323741007, 'B00UBO11RG': 3.4461538461538463, 'B00UBQB1SS': 3.0, 'B00UC9QKQ2': 4.124324324324324, 'B00UCB6CW2': 4.545454545454546, 'B00UCJ3XX0': 3.793103448275862, 'B00UFG30V0': 2.8333333333333335, 'B00UG7QMPO': 4.475, 'B00UH2ULTG': 3.2, 'B00UHJ2V06': 3.1666666666666665, 'B00UJ9RY5G': 3.765432098765432, 'B00UJXSVFY': 4.857142857142857, 'B00UKOOX3G': 4.428571428571429, 'B00UL7QKEW': 3.6666666666666665, 'B00ULJCC4M': 4.0, 'B00UM9YY8I': 3.9, 'B00UMSGHNY': 3.68, 'B00UMWTJLC': 4.21875, 'B00UN19D3G': 4.0, 'B00UOUNASU': 3.4166666666666665, 'B00UPVMDWM': 4.904761904761905, 'B00URBHZ3W': 4.666666666666667, 'B00US6D3LE': 4.8, 'B00USUQMR2': 3.3333333333333335, 'B00UT31HY6': 4.076923076923077, 'B00UTQDJCG': 3.5, 'B00UTXD3FM': 4.285714285714286, 'B00UV9TRK4': 2.357142857142857, 'B00UVVO74I': 4.019354838709678, 'B00UW0FZWQ': 3.6, 'B00UX3LIR8': 4.656565656565657, 'B00UX7PYLK': 3.8947368421052633, 'B00UYLFRYY': 3.0625, 'B00UYL7LIY': 4.058910162002945, 'B00UZ3LGEG': 4.7, 'B00UZ3LGKK': 4.080357142857143, 'B00UZ3LGHS': 4.277777777777778, 'B00V0JYQ50': 3.380952380952381, 'B00V2BGL2M': 3.5454545454545454, 'B00V31B928': 4.03125, 'B00V31USC0': 4.397923875432526, 'B00V3A0GDM': 3.7083333333333335, 'B00V3A0LRS': 4.055555555555555, 'B00V3A0LKA': 4.137931034482759, 'B00V3C6K08': 3.4375, 'B00V3L7WME': 3.861111111111111, 'B00V3RK57C': 4.155555555555556, 'B00V440S3K': 4.6461538461538465, 'B00V4EEQU6': 4.15, 'B00V4X6R2C': 4.578947368421052, 'B00V5GHBLE': 4.0, 'B00V5Y3Q38': 5.0, 'B00V7GTVQA': 2.95, 'B00V7I5158': 3.5067567567567566, 'B00V7GTVNS': 3.7916666666666665, 'B00V7JVZNE': 4.2, 'B00V7N3ZUG': 3.9324324324324325, 'B00V7N3V78': 3.7142857142857144, 'B00V7ORQOQ': 4.8, 'B00V7Z0LQA': 3.736842105263158, 'B00V7ZZSGS': 4.135371179039302, 'B00V81E5O2': 3.994764397905759, 'B00V8SAIO6': 3.8857142857142857, 'B00V9EGM2G': 4.25, 'B00V9FN1R4': 3.831168831168831, 'B00V9FN1LK': 3.9565217391304346, 'B00V9IRJJ2': 2.8, 'B00V9XEGU2': 4.523076923076923, 'B00VB4F4KU': 4.545454545454546, 'B00VDES2SE': 3.656, 'B00VDWV8CS': 4.666666666666667, 'B00VE1E4S8': 2.7142857142857144, 'B00VE1E4RY': 4.0, 'B00VEWVKZW': 3.8333333333333335, 'B00VFVN23K': 4.0, 'B00VFVN1TU': 4.076923076923077, 'B00VG90446': 3.3714285714285714, 'B00VHDUHA2': 4.25, 'B00VHBMRX4': 2.8333333333333335, 'B00VHM2M6U': 3.0, 'B00VHM2KF8': 2.8, 'B00VHVWWLQ': 3.3636363636363638, 'B00VJFJM86': 3.6944444444444446, 'B00VJTIMIS': 4.0, 'B00VJU19YG': 3.607142857142857, 'B00VJYHI6K': 3.1666666666666665, 'B00VJYHIUQ': 3.7333333333333334, 'B00VM5I0NQ': 4.6, 'B00VMMXGXS': 3.3333333333333335, 'B00VMMH2JM': 4.333333333333333, 'B00VNHAHN4': 4.4, 'B00VQ7HUCC': 3.3333333333333335, 'B00VQ7HW2U': 3.4444444444444446, 'B00VQ8QEB4': 4.6, 'B00VQO5SY2': 2.3333333333333335, 'B00VR3Q3BY': 4.84, 'B00VR8G1V6': 3.3958333333333335, 'B00VRH619O': 3.5625, 'B00VSX8GY0': 4.153846153846154, 'B00VTSAJ3K': 4.333333333333333, 'B00VTT9IMC': 4.285714285714286, 'B00VV6X5ZE': 3.4375, 'B00VV73PHG': 4.583333333333333, 'B00VVZ5G7A': 4.2, 'B00VW7DBBA': 4.111111111111111, 'B00VW7D3MC': 3.7777777777777777, 'B00VW7U8SY': 4.241379310344827, 'B00VW7DKXY': 4.0, 'B00VXJKD5Y': 4.063492063492063, 'B00VXQH1FC': 3.6666666666666665, 'B00VY9LCBC': 4.32258064516129, 'B00W0TUE64': 3.3555555555555556, 'B00W29DECS': 3.037037037037037, 'B00W29D5AO': 3.066666666666667, 'B00W29D13K': 4.25, 'B00W2BYOLQ': 4.666666666666667, 'B00W3025XA': 3.857142857142857, 'B00W345SSA': 4.0, 'B00W3HGK1G': 2.8, 'B00W4EGCB6': 3.361904761904762, 'B00W5ZM9SO': 3.8181818181818183, 'B00W61KPCE': 3.6153846153846154, 'B00W6XNLKU': 3.6, 'B00W8YV9L0': 3.533333333333333, 'B00W98RIX8': 4.066666666666666, 'B00W9BIHWQ': 3.65, 'B00W9MHV86': 4.75, 'B00WAMWQ2Q': 4.444444444444445, 'B00WAOYFZA': 4.39622641509434, 'B00WAX7TFY': 4.0, 'B00WBST0DM': 4.0, 'B00WBSSVDW': 4.0, 'B00WCGOD62': 4.0, 'B00WE1PWLK': 4.428571428571429, 'B00WE1FZM6': 3.4615384615384617, 'B00WE1RWA4': 4.0, 'B00WE1PWVU': 4.625, 'B00WE1PWTC': 4.333333333333333, 'B00WE1PWNI': 4.1020408163265305, 'B00WFFJXZ6': 3.739130434782609, 'B00WFYKT78': 4.5, 'B00WFYKTBE': 3.6666666666666665, 'B00WFYKTAK': 3.5, 'B00WG0WXF2': 4.030534351145038, 'B00WGFBAGK': 4.777777777777778, 'B00WGFEA9E': 4.75, 'B00WGMRD2S': 4.115942028985507, 'B00WGY5COW': 3.7083333333333335, 'B00WHIR7S6': 4.428571428571429, 'B00WHJ3CAM': 4.833333333333333, 'B00WHJ3XMY': 4.714285714285714, 'B00WHKKDJE': 4.285714285714286, 'B00WHKJQUQ': 4.7, 'B00WHQVYV4': 4.3538461538461535, 'B00WJ0GKHQ': 3.7333333333333334, 'B00WJ8JP2K': 4.153846153846154, 'B00WJ8XJYU': 3.588235294117647, 'B00WJSVBQI': 3.2222222222222223, 'B00WJZT8BQ': 3.7333333333333334, 'B00WK0UTWC': 3.9444444444444446, 'B00WLHZUY6': 4.0, 'B00WLN2JHG': 4.0476190476190474, 'B00WNT2Q6W': 3.8, 'B00WQ6Y98U': 4.190476190476191, 'B00WQEXW8U': 3.857142857142857, 'B00WQH7TKO': 4.571428571428571, 'B00WQZTP6W': 3.5714285714285716, 'B00WR0CFRW': 3.8333333333333335, 'B00WR8Y1EO': 3.6363636363636362, 'B00WR8Y1GM': 3.6666666666666665, 'B00WREKXEU': 3.5555555555555554, 'B00WRG9E5M': 4.041666666666667, 'B00WRG9DUS': 4.166666666666667, 'B00WRJ71NG': 3.642857142857143, 'B00WSEDQ5C': 3.466666666666667, 'B00WSM0STG': 4.243478260869566, 'B00WSLZFTK': 4.308022922636103, 'B00WTBTE4Q': 4.142857142857143, 'B00WTOXS0O': 4.1, 'B00WTQDV5E': 4.703703703703703, 'B00WTR75Y6': 3.8333333333333335, 'B00WTZX9W0': 4.142857142857143, 'B00WU0P6PW': 3.7465753424657535, 'B00WU11STY': 4.2, 'B00WU2KJSO': 4.527777777777778, 'B00WU35S7K': 3.3974358974358974, 'B00WU36LNU': 4.380681818181818, 'B00WU38N6I': 4.411111111111111, 'B00WU8GEWS': 4.277777777777778, 'B00WUA5ZL2': 3.8666666666666667, 'B00WUBF23W': 3.2962962962962963, 'B00WUDCO3G': 4.182795698924731, 'B00WUCHEH8': 3.2797619047619047, 'B00WUG8T4Q': 3.6153846153846154, 'B00WUGXI92': 3.2941176470588234, 'B00WUI7ALC': 4.12, 'B00WUJ00XQ': 3.7724867724867726, 'B00WUO2RNM': 3.83587786259542, 'B00WUT3I5S': 3.8823529411764706, 'B00WUT2DDG': 4.2727272727272725, 'B00WXNPRHI': 3.6, 'B00WXN73RU': 4.290076335877862, 'B00WXN72NK': 4.212765957446808, 'B00WXN72R6': 4.315789473684211, 'B00WZ97R9G': 3.111111111111111, 'B00X0PCBT0': 3.6343612334801763, 'B00X31SNHA': 4.0, 'B00X3218QW': 4.6, 'B00X33Q3HK': 2.727272727272727, 'B00X3JFAPU': 3.925925925925926, 'B00X3ZK9YG': 3.1012658227848102, 'B00X3ZTGU4': 3.75, 'B00X530I7Y': 3.6666666666666665, 'B00X5D7WWI': 4.714285714285714, 'B00X5ITSSE': 4.090909090909091, 'B00X5O98JW': 3.5, 'B00X5O98YM': 3.4444444444444446, 'B00X7IK2CS': 3.2413793103448274, 'B00X96V0JM': 4.5, 'B00X9KVVQK': 4.339869281045751, 'B00X9VR90Q': 4.0, 'B00X9VLMA4': 4.142857142857143, 'B00XABQUIW': 3.4166666666666665, 'B00XAF0AIE': 3.9489795918367347, 'B00XARX5AW': 3.0, 'B00XB8TM4S': 5.0, 'B00XB8MMG8': 2.1176470588235294, 'B00XB9FLSS': 3.857142857142857, 'B00XBOM9QU': 4.333333333333333, 'B00XBPLZ0U': 4.555555555555555, 'B00XBZY0EI': 4.354166666666667, 'B00XCANBL0': 4.25, 'B00XCEJ3LI': 3.8793103448275863, 'B00XCDOGY8': 3.9210526315789473, 'B00XEQYGUM': 3.6666666666666665, 'B00XISZ4ES': 4.04, 'B00XJ85S2A': 4.818181818181818, 'B00XJT0TFK': 4.142857142857143, 'B00XJYYXSO': 4.0, 'B00XKA6Q8W': 4.4, 'B00XLIG4GW': 4.722222222222222, 'B00XLIFZ7Q': 3.8181818181818183, 'B00XMDG466': 3.357142857142857, 'B00XNG09U4': 3.21875, 'B00XNG068O': 3.9166666666666665, 'B00XP3G63O': 4.303030303030303, 'B00XPQCVDK': 2.875, 'B00XPY43T2': 3.891304347826087, 'B00XQ1AQPY': 4.064516129032258, 'B00XQ37ZF6': 3.4782608695652173, 'B00XQCVBAW': 4.333333333333333, 'B00XRJ8OJ0': 3.6893939393939394, 'B00XTYA52W': 4.6, 'B00XU7WRE2': 3.875, 'B00XVO2RNK': 3.9523809523809526, 'B00XVVZ25S': 4.137931034482759, 'B00XVY1S4O': 3.798449612403101, 'B00XW01DT2': 4.2, 'B00XWNC3OI': 3.4, 'B00XXC8IJM': 4.454545454545454, 'B00XXK24XK': 4.375, 'B00XXNYY1W': 4.428571428571429, 'B00XZ42HBI': 4.166666666666667, 'B00XZHQAMC': 3.8381962864721486, 'B00XZWZY1K': 2.3, 'B00Y03M8XU': 4.84, 'B00Y0F6IBG': 4.2, 'B00Y0Q9LFU': 3.6875, 'B00Y1BYV5Y': 4.257142857142857, 'B00Y1NXMRU': 3.25, 'B00Y36R86G': 3.4545454545454546, 'B00Y46W4E6': 4.0, 'B00Y4BEAW0': 4.111111111111111, 'B00Y4BEAVQ': 3.375, 'B00Y4M04VU': 3.8333333333333335, 'B00Y4S55TA': 4.052631578947368, 'B00Y4S55IQ': 4.322314049586777, 'B00Y4S5608': 3.923076923076923, 'B00Y4S55RC': 4.029411764705882, 'B00Y54F3XG': 3.923076923076923, 'B00Y54F56Q': 3.8666666666666667, 'B00Y54GYC0': 4.105263157894737, 'B00Y7P5WR0': 2.4285714285714284, 'B00Y7UCQ4M': 4.4, 'B00Y7USFPQ': 4.333333333333333, 'B00Y81DBV2': 3.4444444444444446, 'B00Y82928C': 3.3214285714285716, 'B00Y81DBP8': 2.8, 'B00Y828ZM6': 3.1818181818181817, 'B00Y8294O4': 3.6363636363636362, 'B00Y86P1KQ': 3.8, 'B00Y8BB3DA': 4.213333333333333, 'B00Y9D4JRO': 3.5849056603773586, 'B00Y9XT3SE': 4.090909090909091, 'B00YA8L3YA': 3.681265206812652, 'B00YAH2OMQ': 4.333333333333333, 'B00YCFIGF0': 3.1192660550458715, 'B00YDMW0XQ': 3.7941176470588234, 'B00YDT8OIY': 2.7916666666666665, 'B00YDT8RPO': 2.761904761904762, 'B00YDXBSFQ': 4.352941176470588, 'B00YE3OJ7O': 3.2028985507246377, 'B00YEV8EUE': 4.25, 'B00YG7WLCS': 4.846153846153846, 'B00YH09I52': 3.909090909090909, 'B00YHWOR0Q': 4.0, 'B00YI89ZQ0': 4.366666666666666, 'B00YIJFXFQ': 4.611111111111111, 'B00YIYLIFK': 3.2857142857142856, 'B00YJ3DXNU': 3.0, 'B00YJ3985C': 2.1818181818181817, 'B00YJDC9NK': 4.023809523809524, 'B00YJRAVCW': 4.347560975609756, 'B00YJS4RLM': 4.180327868852459, 'B00YMMB3E4': 3.7, 'B00YMNSCF6': 4.0, 'B00YN7FU74': 4.333333333333333, 'B00YN7CRQQ': 4.6, 'B00YNV9KAS': 5.0, 'B00YO7XIMW': 3.730769230769231, 'B00YOYPGS4': 3.163265306122449, 'B00YOZ3APY': 4.655555555555556, 'B00YP2KEGY': 3.878787878787879, 'B00YPT5IA4': 3.1666666666666665, 'B00YPT5KPC': 3.9, 'B00YQKZAGE': 4.333333333333333, 'B00YQST8MI': 3.6, 'B00YQST8SC': 3.9, 'B00YR8LWAS': 3.6, 'B00YRRRFKA': 4.55, 'B00YRRQU9W': 4.384615384615385, 'B00YRRR168': 4.6, 'B00YRSEMZ0': 4.0, 'B00YRRRBR2': 4.5, 'B00YRWB8KI': 3.5, 'B00YRWHZO6': 4.222222222222222, 'B00YSQDX3I': 3.878787878787879, 'B00YT3EFV4': 4.25, 'B00YTW9KT2': 4.164383561643835, 'B00YTXPY6Y': 4.27710843373494, 'B00YTZ6KD8': 4.052631578947368, 'B00YWT3F7A': 4.571428571428571, 'B00YX39CJU': 3.8333333333333335, 'B00YX7CTZU': 4.8, 'B00YXAK6VQ': 3.68, 'B00YXLVOAC': 4.183098591549296, 'B00YYA9MCE': 4.113043478260869, 'B00YYTW7YU': 3.9361702127659575, 'B00YZC1D1Y': 4.090909090909091, 'B00YZ9EACQ': 4.333333333333333, 'B00Z288XTA': 3.4901960784313726, 'B00Z56JVI6': 4.167381974248927, 'B00Z6EZCU8': 3.739130434782609, 'B00Z8D0YXM': 3.2, 'B00Z9G3976': 3.3333333333333335, 'B00Z9Y4RUQ': 4.241379310344827, 'B00ZA1J5GO': 3.9, 'B00ZA74E1Y': 4.0, 'B00ZADG2IG': 5.0, 'B00ZAF2DRI': 4.03921568627451, 'B00ZCACU7E': 3.4, 'B00ZCDRCPQ': 3.0, 'B00ZCITEQ6': 4.515151515151516, 'B00ZCNF24E': 3.75, 'B00ZDR3TRQ': 4.636363636363637, 'B00ZGC0002': 3.4, 'B00ZGGG3KY': 4.540404040404041, 'B00ZGFVEUE': 4.225, 'B00ZGNX8XC': 4.2105263157894735, 'B00ZGNX94U': 4.512195121951219, 'B00ZHWU2Q8': 4.285714285714286, 'B00ZI6H0JU': 4.6, 'B00ZIJSFDC': 4.444444444444445, 'B00ZIMBBUI': 3.0625, 'B00ZJZDPBM': 3.7096774193548385, 'B00ZK3FIFE': 4.571428571428571, 'B00ZK7M628': 4.3, 'B00ZK8LTSO': 4.5, 'B00ZK895R6': 4.219512195121951, 'B00ZK93RTC': 4.043478260869565, 'B00ZKA4YDE': 4.2, 'B00ZKBTCT4': 3.6, 'B00ZKA2YKO': 3.4, 'B00ZK8P16U': 4.625, 'B00ZKCOA4U': 4.6875, 'B00ZKCEG1C': 3.6363636363636362, 'B00ZN0JTU4': 4.666666666666667, 'B00ZN2IZ1Q': 3.8666666666666667, 'B00ZNTPSQ4': 4.0, 'B00ZNTO8FQ': 4.0476190476190474, 'B00ZNTPO7M': 4.166666666666667, 'B00ZOHDXOO': 4.833333333333333, 'B00ZP4AM9K': 4.6, 'B00ZP30U7U': 2.55, 'B00ZQMPKTI': 4.111111111111111, 'B00ZQMEUX0': 4.333333333333333, 'B00ZQQAHYM': 4.428571428571429, 'B00ZQONI54': 3.3076923076923075, 'B00ZQWR7YY': 3.772727272727273, 'B00ZQJ1J6O': 3.8333333333333335, 'B00ZS8GWUG': 4.276119402985074, 'B00ZSRKNNE': 4.132075471698113, 'B00ZTCR71Y': 4.0, 'B00ZU89Q84': 4.5, 'B00ZUEZ2KY': 4.6, 'B00ZUSJIQE': 4.04, 'B00ZUWRTIY': 3.764705882352941, 'B00ZV498VC': 4.1923076923076925, 'B00ZWNYF7E': 4.328571428571428, 'B00ZWZ1G7E': 3.0, 'B00ZX1YJ4O': 3.8333333333333335, 'B00ZXEPT68': 3.857142857142857, 'B00ZY7UGV2': 3.4210526315789473, 'B00ZY8PGJI': 4.5625, 'B00ZYCNH5O': 3.727272727272727, 'B00ZZO1B4A': 3.24, 'B00ZZQS2MM': 4.823529411764706, 'B00ZZQSP7O': 3.857142857142857, 'B0100XGCU8': 3.1, 'B0100XAH7M': 3.6818181818181817, 'B0105NCAP4': 3.754385964912281, 'B0105PBGKM': 4.466666666666667, 'B0107LBMSK': 3.8333333333333335, 'B0107OK7S8': 4.0588235294117645, 'B0107TL2ZU': 3.8333333333333335, 'B010867GGQ': 3.75, 'B0108TIT3M': 4.438461538461539, 'B010BTJ9D8': 3.8974358974358974, 'B010C97OPC': 3.2, 'B010DL99KM': 4.4, 'B010DM8TZ2': 4.666666666666667, 'B010DYDVOE': 4.0, 'B010E1QLO8': 4.035087719298246, 'B010EXVZOW': 4.138888888888889, 'B010EYIAV2': 4.482758620689655, 'B010F8LF7I': 3.4545454545454546, 'B010H520R8': 4.857142857142857, 'B010H4OV9E': 3.8333333333333335, 'B010HVOL3I': 3.875, 'B010JI32L6': 3.8181818181818183, 'B010LB6QHI': 4.494623655913978, 'B010LD2O8G': 3.6666666666666665, 'B010MTKXLE': 3.921875, 'B010MXNV6Y': 4.578947368421052, 'B010N263TG': 3.1052631578947367, 'B010N8DOY2': 3.75, 'B010NDQR28': 4.75, 'B010NIABJ8': 4.191489361702128, 'B010NREQCM': 3.6, 'B010NREQAY': 3.8333333333333335, 'B010OLC3KY': 3.3214285714285716, 'B010PHL42A': 4.642857142857143, 'B010RWBUTA': 3.6363636363636362, 'B010RXUX60': 3.937984496124031, 'B010SML4WM': 3.5, 'B010SNPGGG': 3.3076923076923075, 'B010T5YT02': 4.5, 'B010TQ8R9A': 4.181818181818182, 'B010TRK7VU': 4.041666666666667, 'B010TY3LZ2': 3.902439024390244, 'B010UR6KA6': 3.965909090909091, 'B010US5YR0': 4.8, 'B010UU4G1S': 3.6818181818181817, 'B010VILU8G': 3.8333333333333335, 'B010VMOCA0': 3.875, 'B010WO7U8I': 3.375, 'B010Z8J0FC': 4.6, 'B0111J096I': 4.284403669724771, 'B0112186UG': 3.1666666666666665, 'B0113YUS4O': 3.875, 'B01149EGKK': 2.888888888888889, 'B01149EHSQ': 4.151515151515151, 'B01149EF24': 4.142857142857143, 'B01149EH72': 4.461538461538462, 'B0114FUG7G': 4.4, 'B0114X0EKC': 3.6, 'B0115IAQGS': 3.5, 'B0115PRL4G': 4.233333333333333, 'B0115ROWPK': 4.444444444444445, 'B0116YB7EQ': 3.2857142857142856, 'B0116YVRQO': 3.8813559322033897, 'B0116Z5WKK': 4.035714285714286, 'B0116Z5X2M': 3.9444444444444446, 'B01178STDI': 3.2222222222222223, 'B0117RFZ40': 4.1528662420382165, 'B0117RFP0Y': 4.555555555555555, 'B0117RGG8E': 4.36180904522613, 'B0117RFYQE': 3.774193548387097, 'B0117RFPCC': 4.176923076923077, 'B0117RFP6I': 4.40625, 'B0117WPILA': 3.6315789473684212, 'B01197EO2W': 3.6923076923076925, 'B01194JHPE': 4.6430446194225725, 'B0119DAPVA': 4.555555555555555, 'B0119OI9XU': 4.805194805194805, 'B0119R63BC': 4.125, 'B0119Y07A8': 4.616279069767442, 'B011A82RC4': 4.0, 'B011C8O23Y': 3.6, 'B011DOB6UE': 3.75, 'B011EDBLBI': 3.0, 'B011HHZAHM': 3.5833333333333335, 'B011HRCE76': 4.393939393939394, 'B011HVDP2A': 4.236111111111111, 'B011HZW6DK': 3.9166666666666665, 'B011JFPAX6': 4.5, 'B011JOBT28': 4.0, 'B011K1WZA0': 4.75, 'B011K9HFHA': 4.337209302325581, 'B011KNHN7I': 4.5, 'B011KQMLVS': 4.083333333333333, 'B011KTMW4G': 3.4444444444444446, 'B011KUX40G': 5.0, 'B011L1190G': 4.884615384615385, 'B011L8JGMM': 3.1818181818181817, 'B011L8N6DW': 3.7476635514018692, 'B011LOJFU4': 4.1521739130434785, 'B011LR8908': 4.151515151515151, 'B011LQOAX4': 3.9, 'B011MX95WW': 4.363636363636363, 'B011QGHTI2': 4.333333333333333, 'B011QJQMM8': 4.258064516129032, 'B011QJEU0Y': 4.0, 'B011R0YLN8': 4.0344827586206895, 'B011R0YLA6': 3.5652173913043477, 'B011R697K4': 4.105263157894737, 'B011R6MKKI': 4.153846153846154, 'B011SDSYW8': 4.4, 'B011THO4VI': 3.7, 'B011TNK6V4': 4.121212121212121, 'B011TVPQLG': 3.1206896551724137, 'B011TVPS7S': 4.15, 'B011U4K9KU': 3.857142857142857, 'B011UBPM0U': 4.580645161290323, 'B011VT9OQE': 3.360655737704918, 'B011WAZILW': 4.625, 'B011WQRQZ2': 3.272727272727273, 'B011X13ROU': 4.076923076923077, 'B011XE35KI': 3.5714285714285716, 'B011YFR1MO': 4.506849315068493, 'B01206QYEC': 3.8461538461538463, 'B01221IBFA': 2.3333333333333335, 'B0122RCRH2': 4.857142857142857, 'B01232LZZQ': 4.464285714285714, 'B0124H2PIQ': 3.3333333333333335, 'B0124XZA8M': 4.428571428571429, 'B01265MGEO': 4.555555555555555, 'B0126LISWM': 4.697916666666667, 'B0126T2FDC': 3.9743589743589745, 'B0126UZIO4': 4.083333333333333, 'B0126UZI2Q': 3.878787878787879, 'B0126YOAX0': 4.25, 'B012972T6Y': 2.8518518518518516, 'B0129X70ZS': 4.043795620437956, 'B012A5D9BO': 4.673469387755102, 'B012AVK85I': 2.8333333333333335, 'B012BKP240': 3.5483870967741935, 'B012BLVGGM': 4.125, 'B012BMOE8I': 2.7777777777777777, 'B012CQ6OVS': 4.166666666666667, 'B012CR2OYS': 3.142857142857143, 'B012D1LD36': 3.2285714285714286, 'B012DFODJS': 3.0, 'B012DIBO42': 4.229508196721311, 'B012E09WFM': 3.5789473684210527, 'B012E5C5OM': 4.0, 'B012E4IF74': 3.8297872340425534, 'B012E5DF50': 4.354838709677419, 'B012EEGGYI': 3.9375, 'B012EEE744': 3.238095238095238, 'B012EECKB6': 3.71875, 'B012FS11AC': 4.620689655172414, 'B012HWKINM': 4.125, 'B012J1E5JO': 2.7777777777777777, 'B012L45VJM': 4.166666666666667, 'B012MAO7WW': 3.230769230769231, 'B012MQDSVM': 3.8, 'B012MQDXZ8': 2.8, 'B012MUI9VC': 4.130434782608695, 'B012N00112': 3.75, 'B012N1LA9I': 4.071428571428571, 'B012NFWED0': 3.8461538461538463, 'B012OXCVEI': 4.285714285714286, 'B012P17HIE': 4.5, 'B012PP415W': 4.173913043478261, 'B012Q4ESA0': 4.025, 'B012R411DG': 4.0, 'B012RGAXU6': 3.857142857142857, 'B012RHPAIK': 4.818181818181818, 'B012S8MQFS': 4.357142857142857, 'B012S9KQTA': 4.375, 'B012S7C6OU': 4.875, 'B012SJCP58': 4.8, 'B012SDC2A2': 3.4444444444444446, 'B012SUYOHY': 3.6315789473684212, 'B012SYY0O2': 4.090909090909091, 'B012UW1MMA': 4.32, 'B012UZA0CA': 3.9166666666666665, 'B012VO2BXQ': 3.6, 'B012VQ21DO': 4.375, 'B012VO2TT2': 3.5, 'B012VWPCKW': 5.0, 'B012VWPCHU': 4.75, 'B012X72EEM': 4.15, 'B012X7B32G': 4.290322580645161, 'B012XHEOSQ': 4.055555555555555, 'B012YQEXCI': 3.9565217391304346, 'B012YUCG7S': 4.315789473684211, 'B012Z0R34I': 4.088235294117647, 'B012ZTBCY6': 3.0681818181818183, 'B0131JSMPG': 4.0625, 'B0131TPKOM': 4.65, 'B01326MED4': 3.0, 'B0132KVJVI': 4.2625, 'B0132LVW0A': 3.9642857142857144, 'B0132YHU0I': 4.115942028985507, 'B0133ACE8O': 4.619047619047619, 'B0133ACED4': 4.333333333333333, 'B0134DTP9Q': 3.3076923076923075, 'B0135K6N5W': 3.85, 'B0135K6MYE': 3.925925925925926, 'B0135MSOEI': 3.8333333333333335, 'B0135OXXPG': 3.857142857142857, 'B0136489PO': 3.830188679245283, 'B0137PYO2Y': 3.7, 'B013B2CBDC': 3.2666666666666666, 'B013B9ZIS0': 2.533333333333333, 'B013BKOL3M': 3.1666666666666665, 'B013DAHNXK': 3.6857142857142855, 'B013DDDTUS': 3.217391304347826, 'B013E10XJE': 3.2222222222222223, 'B013FAE2ZK': 3.4, 'B013FHKYBE': 4.333333333333333, 'B013FM8C9K': 3.375, 'B013FMGP1C': 4.3, 'B013FTN9OG': 4.333333333333333, 'B013GMT3Q0': 3.0851063829787235, 'B013HE3A48': 4.2, 'B013HEK7Q2': 3.5454545454545454, 'B013HEK9VA': 4.125, 'B013HEK8SE': 3.6, 'B013HSW4N2': 3.462033462033462, 'B013HU44FQ': 3.722772277227723, 'B013HZTTXI': 3.275, 'B013IJHBYM': 4.3125, 'B013IICZ9Y': 4.5, 'B013IKWU7Y': 4.377358490566038, 'B013ILNBBM': 4.555555555555555, 'B013J2LC2A': 4.166666666666667, 'B013J5UITU': 3.6, 'B013J73M0A': 3.8, 'B013J7JZQK': 4.6, 'B013J7WUGC': 4.348314606741573, 'B013J7Y8L2': 3.4, 'B013J8DROA': 4.055555555555555, 'B013J8CB2E': 4.2465753424657535, 'B013JG34HC': 3.8, 'B013KZBBU4': 4.291666666666667, 'B013LIIUOK': 3.6, 'B013MDNH7E': 3.7, 'B013N5VS5Y': 4.25, 'B013OGSXZ0': 3.066666666666667, 'B013P2IVJ6': 3.0, 'B013Q7UPUS': 2.857142857142857, 'B013QR1JJY': 3.4375, 'B013QUCE18': 4.0, 'B013QTKCK4': 4.219512195121951, 'B013S1AVZG': 2.8260869565217392, 'B013SAH3VC': 4.0256410256410255, 'B013SJLP8U': 2.6666666666666665, 'B013SJSTA2': 3.5714285714285716, 'B013SMJT5S': 3.0, 'B013SNMSVY': 4.1, 'B013SPVH5A': 3.8333333333333335, 'B013SQX7RK': 4.5, 'B013SV1KHE': 3.3333333333333335, 'B013SWGXXO': 4.132075471698113, 'B013TGK0YM': 5.0, 'B013TI1ZOO': 4.5, 'B013TKH8VG': 4.0588235294117645, 'B013U3RVOG': 3.6, 'B013U54BFG': 4.01, 'B013V7DKE6': 4.0, 'B013WSBTV0': 4.454545454545454, 'B013WWEX7S': 3.1, 'B013WW90PS': 4.333333333333333, 'B013X4NRVI': 4.666666666666667, 'B013Y07LUY': 3.889400921658986, 'B013ZMLBJ8': 3.2857142857142856, 'B0140SPG4W': 4.545454545454546, 'B0140T4U9I': 4.0, 'B0140VJ406': 3.5825242718446604, 'B01410VG16': 3.375, 'B01410VG4I': 3.8461538461538463, 'B01410VG5M': 3.8, 'B014132J14': 3.7777777777777777, 'B014132JF0': 3.5918367346938775, 'B01415ZNVA': 3.0, 'B0141FCD0E': 3.6666666666666665, 'B0142OKMBQ': 4.153846153846154, 'B0142O20YI': 3.90625, 'B0142UGH5U': 3.731707317073171, 'B01434SXCU': 4.5, 'B01434SXDY': 2.125, 'B01434SX8Y': 2.857142857142857, 'B0143998X8': 4.4, 'B0143OPA44': 4.3, 'B0143OPD00': 4.111111111111111, 'B014410BT0': 3.5142857142857142, 'B014410BUY': 2.6, 'B0144WJVEA': 3.976470588235294, 'B0144TVJO8': 3.2, 'B01464K32K': 3.8, 'B01465RX1S': 4.3, 'B01465RX1I': 4.125, 'B0146FZ9FA': 3.533333333333333, 'B0146FZC2U': 4.111111111111111, 'B01476PB0G': 3.373134328358209, 'B0147EXXIA': 4.296296296296297, 'B0147RLNFW': 4.458333333333333, 'B01485QUQU': 3.892857142857143, 'B01488B1CA': 4.125, 'B01489J3GU': 3.375, 'B0148FBRNQ': 3.4, 'B0149MFGXU': 3.9836065573770494, 'B0149UTKUC': 4.142857142857143, 'B014AYT27S': 3.264705882352941, 'B014BDDLAC': 4.333333333333333, 'B014BJSEX0': 4.3, 'B014CK49LY': 4.571428571428571, 'B014CS95E2': 3.15, 'B014CS8U9I': 3.607142857142857, 'B014CS9290': 3.3846153846153846, 'B014CS98F8': 2.75, 'B014DPX5MW': 4.555555555555555, 'B014DXSXI0': 3.625, 'B014E9QLGE': 4.0476190476190474, 'B014EEX252': 4.3125, 'B014EF4340': 4.5, 'B014ES0IBO': 3.738095238095238, 'B014ESPIS2': 4.076923076923077, 'B014ESPIWS': 3.142857142857143, 'B014EW8JPM': 4.342465753424658, 'B014F0GUUO': 3.857142857142857, 'B014FARSAK': 4.166666666666667, 'B014FBTZPU': 3.380281690140845, 'B014FHX37U': 4.333333333333333, 'B014G6ZJFO': 4.461538461538462, 'B014G6ZFT4': 3.9375, 'B014GRM294': 4.644808743169399, 'B014GRCG1I': 4.25, 'B014GWA9DK': 3.6923076923076925, 'B014HBWGRW': 2.5, 'B014HCTOY4': 3.854014598540146, 'B014I4OB08': 3.888888888888889, 'B014J6M81Y': 3.5, 'B014JW8ZXS': 4.428571428571429, 'B014KNIQOE': 4.2727272727272725, 'B014KPY37G': 4.375, 'B014KPY47U': 4.2, 'B014KVFPJK': 2.6666666666666665, 'B014LE3IRW': 4.076923076923077, 'B014LMX5AY': 4.12621359223301, 'B014LMZ746': 4.0, 'B014MBZTEO': 3.4074074074074074, 'B014MC2FRC': 4.333333333333333, 'B014MGJC0G': 3.7777777777777777, 'B014MGZJ94': 4.285714285714286, 'B014N4S4T2': 3.3333333333333335, 'B014NJXVZO': 3.611111111111111, 'B014NJW0AQ': 4.0, 'B014OVP09Q': 3.7685589519650655, 'B014PGCEW6': 4.0, 'B014PTPOJ8': 5.0, 'B014Q13GH2': 4.470588235294118, 'B014QMIKZY': 4.0, 'B014QM21KY': 4.090909090909091, 'B014QWJNKU': 3.0, 'B014QWJNFU': 3.3333333333333335, 'B014R1S6LC': 3.5714285714285716, 'B014RN2V0C': 2.5, 'B014RRA3Z8': 3.3981481481481484, 'B014RS28DW': 3.875, 'B014SM33GS': 4.0, 'B014SOJMF2': 3.8333333333333335, 'B014T0OWQE': 4.647058823529412, 'B014T17D1O': 4.4, 'B014T3QN36': 3.993174061433447, 'B014TBV1U8': 3.5714285714285716, 'B014VT91F0': 3.625, 'B014VVJBPS': 3.7058823529411766, 'B014WAJ5NQ': 4.352941176470588, 'B014WARH5E': 2.727272727272727, 'B014WAJ5XQ': 4.44, 'B014WM2M52': 4.214285714285714, 'B014X4UVNE': 3.619047619047619, 'B014XM6FRM': 3.8181818181818183, 'B01500HARU': 4.375, 'B0150265QA': 4.285714285714286, 'B0151GOYZ4': 4.363636363636363, 'B0151FHQS2': 4.043478260869565, 'B0151JZRO8': 3.5714285714285716, 'B0151JZRL6': 3.888888888888889, 'B0151KNFLY': 4.014285714285714, 'B0152A1A2Y': 2.1666666666666665, 'B0152GBS66': 3.8979591836734695, 'B0152GWYK0': 4.454545454545454, 'B0152WW34Q': 3.5, 'B015312KIU': 4.666666666666667, 'B01533PXEG': 3.125, 'B015347O3I': 3.2857142857142856, 'B0154BKNW4': 4.3478260869565215, 'B0154EEUNE': 4.354037267080745, 'B0154G6GXE': 4.166666666666667, 'B0154GQUCQ': 4.0, 'B0154H84PG': 4.5, 'B0154WLJD0': 3.7142857142857144, 'B0155WQR7W': 3.769230769230769, 'B0156HK9C0': 4.4772727272727275, 'B0156HFQT6': 4.166666666666667, 'B0157LX63Y': 4.428571428571429, 'B01588ZO7C': 4.588235294117647, 'B01589FM9Q': 3.6491228070175437, 'B01589FPWU': 3.4285714285714284, 'B0159QZC3E': 4.166666666666667, 'B015ACX03G': 4.56, 'B015B3WM6A': 2.5714285714285716, 'B015BYDFOC': 4.043478260869565, 'B015C5LTUC': 4.8, 'B015CVOEW6': 4.347368421052631, 'B015CVOHPU': 3.5517241379310347, 'B015DCEQUE': 4.125, 'B015DCEQZY': 3.870967741935484, 'B015DS5R74': 4.171428571428572, 'B015EE59S4': 2.857142857142857, 'B015EL2IIG': 3.090909090909091, 'B015EL1EMC': 4.129032258064516, 'B015ENOQ3E': 4.111111111111111, 'B015F6CCFY': 4.352941176470588, 'B015F6CCW2': 4.583333333333333, 'B015F6CD62': 4.142857142857143, 'B015F85IOO': 3.75, 'B015F93RPK': 4.142857142857143, 'B015F91TSC': 3.5, 'B015FGHQSC': 4.630769230769231, 'B015FK43HU': 4.4, 'B015G46ULW': 4.833333333333333, 'B015GEUKC2': 3.6, 'B015GXMUNA': 4.083333333333333, 'B015GW9EBM': 3.8333333333333335, 'B015HQJJMG': 2.8333333333333335, 'B015IEW1AY': 4.3119266055045875, 'B015IJJUU8': 4.071428571428571, 'B015IJTPFS': 3.4285714285714284, 'B015IL7JT0': 3.7560975609756095, 'B015K5T67W': 3.2, 'B015M5V5XI': 3.6495726495726495, 'B015MSJ5ZA': 3.838709677419355, 'B015MYE8LU': 3.7, 'B015MYEEBY': 3.6, 'B015MYE5W2': 3.5625, 'B015N1FNDO': 4.083333333333333, 'B015N2CKD4': 3.7916666666666665, 'B015MYEBIU': 2.8181818181818183, 'B015N3C3X0': 4.2727272727272725, 'B015N5341I': 3.533333333333333, 'B015N52XDI': 4.044444444444444, 'B015N52YUU': 4.0, 'B015N52WZM': 2.2857142857142856, 'B015N9GQ6E': 2.7857142857142856, 'B015NM3IKI': 4.260869565217392, 'B015OG1GNY': 4.3125, 'B015OIK37M': 3.8, 'B015OKHQYS': 2.142857142857143, 'B015ORGFNE': 3.963636363636364, 'B015PAT294': 3.2222222222222223, 'B015PTKEOM': 3.3333333333333335, 'B015Q48PP6': 2.5, 'B015QB7C7G': 4.625, 'B015QSGRB6': 4.277777777777778, 'B015R2WOLI': 4.571428571428571, 'B015R34PHS': 3.75, 'B015R4NX6G': 3.75, 'B015RKW6OU': 3.111111111111111, 'B015RKW6RW': 4.0, 'B015RKW6NG': 4.142857142857143, 'B015RKW6OK': 4.6923076923076925, 'B015RKW6Q8': 3.8181818181818183, 'B015RKW6PY': 3.909090909090909, 'B015RRLVWQ': 3.8181818181818183, 'B015RSWBDI': 3.5714285714285716, 'B015RVNIO6': 3.7777777777777777, 'B015RWQAWC': 3.7222222222222223, 'B015S2K05Y': 4.173913043478261, 'B015S65OKG': 3.8, 'B015S8JRY8': 4.7, 'B015SI5396': 3.8636363636363638, 'B015ST2Q18': 3.8823529411764706, 'B015U56VIE': 4.68, 'B015WBVICA': 4.257383966244726, 'B015WG1EK6': 4.357142857142857, 'B015WXF3MO': 3.5609756097560976, 'B015XLF8BQ': 3.5714285714285716, 'B015XSFQHK': 3.764705882352941, 'B015YN6MS6': 4.421052631578948, 'B015Z2W9OC': 3.75, 'B015ZA7QQU': 4.411764705882353, 'B015ZDH4EQ': 4.476190476190476, 'B015ZE26FW': 4.4, 'B015ZLLSEU': 4.25, 'B0160DZNUW': 2.6, 'B0161MLNG0': 4.6923076923076925, 'B0162C1P9O': 4.195121951219512, 'B0163MLKL6': 4.428571428571429, 'B0163ZHROM': 4.0, 'B0164FQ3AK': 3.774193548387097, 'B0165IILF6': 4.666666666666667, 'B0165RNCDI': 4.666666666666667, 'B01660CFQY': 4.0, 'B016608LQ2': 4.75, 'B01666EVBK': 4.166666666666667, 'B01667AFP0': 3.3333333333333335, 'B0167HT6NQ': 3.3333333333333335, 'B01686T0M8': 4.08, 'B0168SGBKA': 4.0, 'B0168XJ0RG': 3.8333333333333335, 'B016977D6G': 4.0, 'B0169O12WK': 4.101694915254237, 'B0169N85T4': 4.6, 'B0169N84LI': 4.642857142857143, 'B0169TU8KM': 3.4, 'B0169TWV8O': 4.264864864864865, 'B016A5QTR6': 4.0, 'B016A8OUUQ': 4.533333333333333, 'B016AAYHJS': 4.125, 'B016B1CBP8': 3.9791666666666665, 'B016BB9264': 4.0, 'B016BSJKBY': 4.375, 'B016C1WP26': 3.347826086956522, 'B016C6Z1OA': 3.982142857142857, 'B016C6Z1KY': 4.28169014084507, 'B016C6Z1FO': 3.9444444444444446, 'B016C6Z1QS': 4.0227272727272725, 'B016CD4JYG': 3.347826086956522, 'B016CE4S2S': 3.4, 'B016CTV268': 3.75, 'B016EVVRFA': 2.8666666666666667, 'B016EWH7W6': 4.4375, 'B016F8NUPW': 4.177570093457944, 'B016GC02LC': 2.8, 'B016H5ZILM': 5.0, 'B016HJ53O0': 4.4, 'B016HJ53R2': 2.888888888888889, 'B016IFOOLQ': 3.9411764705882355, 'B016ISVZ7O': 3.6, 'B016ISVYXE': 4.857142857142857, 'B016IPL5MM': 4.666666666666667, 'B016JA8JKW': 3.2857142857142856, 'B016JBZ4CW': 4.2226277372262775, 'B016KV79X8': 4.857142857142857, 'B016M9SINI': 2.8181818181818183, 'B016MLXVO2': 4.5, 'B016NGZMN4': 3.1666666666666665, 'B016NIEGJI': 4.0, 'B016OF0IDI': 4.3097345132743365, 'B016ONT0RK': 4.545454545454546, 'B016PMJ2VE': 4.166666666666667, 'B016PPI29O': 5.0, 'B016Q2QJRI': 4.4, 'B016RBJGFA': 3.909090909090909, 'B016RE9DV4': 4.615384615384615, 'B016RG7FRG': 4.142857142857143, 'B016S4A1M8': 3.642857142857143, 'B016SBP4IC': 4.8, 'B016SSUPQG': 3.63265306122449, 'B016TTI8L8': 4.933333333333334, 'B016TU6V48': 4.9411764705882355, 'B016U3HT7M': 4.290322580645161, 'B016U42M28': 2.8181818181818183, 'B016U4BYHW': 3.3684210526315788, 'B016U73V4I': 3.24, 'B016UCB7G2': 4.0, 'B016UI09QA': 3.75, 'B016UI09YW': 4.6, 'B016UWFH22': 3.8771929824561404, 'B016VOPFI0': 4.285714285714286, 'B016VWS71O': 3.9318181818181817, 'B016W8O3R4': 4.142857142857143, 'B016WCPE8M': 3.962025316455696, 'B016WFWU04': 3.781021897810219, 'B016X3OX9Q': 3.607142857142857, 'B016XIBN08': 4.4, 'B016XJ618Q': 3.7142857142857144, 'B016XQZ4KK': 4.357142857142857, 'B016XYGFHI': 4.031746031746032, 'B016XZQOXW': 4.0, 'B016Y37M4I': 4.0, 'B016Y7A2B4': 3.696969696969697, 'B016Y8XJCW': 3.6026936026936025, 'B016YJDV74': 4.71, 'B016YKNI26': 4.7727272727272725, 'B016YRRDJS': 4.225806451612903, 'B016YW9RX8': 3.1818181818181817, 'B016ZEAM2A': 4.545454545454546, 'B016ZEAM1G': 3.9375, 'B016ZEAM8O': 3.6, 'B016ZG4THW': 3.25, 'B016ZJIY34': 3.65, 'B016ZO4A3W': 3.7777777777777777, 'B016ZQZ3SQ': 4.438095238095238, 'B016ZWZCGS': 4.151515151515151, 'B01700RNIO': 4.35, 'B0170CTCCW': 3.576923076923077, 'B0170RBJ9Q': 4.2727272727272725, 'B0171739IE': 3.7142857142857144, 'B01718M9UW': 4.142857142857143, 'B0171B38S6': 1.8333333333333333, 'B0171B3AH0': 2.4074074074074074, 'B0171B1EVY': 4.266666666666667, 'B0171F4SIQ': 3.9054054054054053, 'B0171F4ULQ': 4.044776119402985, 'B0171ERRMQ': 4.0, 'B0171ERRWG': 4.043478260869565, 'B0171UWWUM': 3.7058823529411766, 'B0172QVPV2': 3.0, 'B01734530C': 3.5, 'B0173A3S4O': 4.666666666666667, 'B0173AHC8C': 4.6, 'B0174GTC5Q': 3.625, 'B0174LC79O': 3.4, 'B0174KJI6A': 3.0, 'B0175XAN6A': 3.4, 'B017600OEI': 3.1666666666666665, 'B01763QHA0': 4.230769230769231, 'B01768BM8C': 3.709090909090909, 'B0176A4RO6': 3.875, 'B0176HDRRM': 3.84375, 'B0176XT9Z0': 3.2516129032258063, 'B0177DYI64': 4.6, 'B0177HQK1G': 4.4, 'B0177P1PPE': 4.25, 'B0177T51UU': 4.6, 'B0177T51NW': 3.142857142857143, 'B01781PCW4': 3.6153846153846154, 'B017898OK8': 3.5555555555555554, 'B017898OBM': 3.7142857142857144, 'B017898O9Y': 4.0, 'B0178A7EM6': 3.7777777777777777, 'B0178AOI4S': 3.1, 'B0178E8Q4W': 4.2, 'B0178J2V3E': 4.0, 'B0178YA6NG': 3.8333333333333335, 'B01790SX66': 3.5, 'B0179AS9SS': 3.625, 'B0179DDISQ': 3.8947368421052633, 'B0179DDIQS': 4.285714285714286, 'B0179DDIQI': 4.052631578947368, 'B0179JU73O': 3.0, 'B0179JU6TO': 3.7777777777777777, 'B0179JU97I': 3.3333333333333335, 'B0179MTCX2': 4.6, 'B0179Q9I3M': 3.6666666666666665, 'B017AIEPLE': 4.0, 'B017AKI784': 3.7142857142857144, 'B017ARKQL8': 4.375, 'B017AUGRKO': 3.4166666666666665, 'B017AW0GR2': 3.99388379204893, 'B017B81BHO': 4.333333333333333, 'B017CL98X4': 4.103448275862069, 'B017CLYI8O': 4.566666666666666, 'B017CVNT8Y': 3.7777777777777777, 'B017CY7PMM': 3.8620689655172415, 'B017D5I5FQ': 4.137931034482759, 'B017D5WS36': 3.8333333333333335, 'B017DPVX3W': 3.896551724137931, 'B017DSH6EE': 4.230769230769231, 'B017EGB5LU': 4.067796610169491, 'B017ERD7IS': 3.2222222222222223, 'B017FD2PUC': 4.0, 'B017G2VP30': 3.5, 'B017GLFG2C': 3.156862745098039, 'B017H00ZJG': 4.454545454545454, 'B017H0371E': 4.454545454545454, 'B017H4LSKW': 4.106870229007634, 'B017H8JXS2': 4.086956521739131, 'B017H7YNP6': 4.0, 'B017HAG2YS': 3.909090909090909, 'B017HB0C48': 4.6, 'B017I3C4UA': 4.129032258064516, 'B017I9D3HW': 3.5, 'B017IXLKKU': 4.857142857142857, 'B017K3LFFS': 3.91, 'B017K3K2ES': 2.533333333333333, 'B017K9MMUY': 3.58974358974359, 'B017KE8N4S': 4.142857142857143, 'B017KE9JRS': 3.9152542372881354, 'B017KE9KOU': 3.860655737704918, 'B017KY2X5I': 4.1, 'B017L216V6': 4.036363636363636, 'B017L216T8': 4.101449275362318, 'B017L216SO': 4.0, 'B017LI9HS4': 4.482758620689655, 'B017LKZRSG': 3.625, 'B017LPALC8': 4.222222222222222, 'B017LUBO56': 4.230769230769231, 'B017MDDOFU': 3.341463414634146, 'B017MEW3LK': 4.090909090909091, 'B017MOUVMI': 4.428571428571429, 'B017N0BD9G': 3.75, 'B017NOIFFC': 3.0, 'B017NOIFCA': 3.5833333333333335, 'B017NOPWYO': 3.625, 'B017NOPWX0': 3.36, 'B017NOPX52': 3.5555555555555554, 'B017ODTKJ2': 3.066666666666667, 'B017OUEU1I': 3.8125, 'B017Q1XOTO': 4.076923076923077, 'B017Q1XOTY': 4.0, 'B017QTP3MW': 3.466666666666667, 'B017R08PE8': 4.214285714285714, 'B017R59AYC': 4.444444444444445, 'B017R5997U': 4.0, 'B017R5SDX6': 4.666666666666667, 'B017R5SDZY': 3.857142857142857, 'B017S0DF9C': 4.8, 'B017SGXRQ2': 3.6923076923076925, 'B017SR5GHE': 4.055555555555555, 'B017TFM8XK': 2.727272727272727, 'B017TQXQTY': 3.9285714285714284, 'B017U0J8KK': 4.5, 'B017U6G168': 4.153846153846154, 'B017VT30G8': 3.7333333333333334, 'B017VTLPFG': 4.25, 'B017VWYC1C': 4.6, 'B017VX3V04': 3.3, 'B017VWYJX8': 3.6666666666666665, 'B017VY4C4C': 3.142857142857143, 'B017VYW514': 3.6, 'B017W2ENUQ': 4.2, 'B017W72TG6': 4.333333333333333, 'B017W9TW1Y': 3.4166666666666665, 'B017WRZH9C': 4.166666666666667, 'B017WRZFSA': 4.285714285714286, 'B017X7Z3TA': 4.2, 'B017X9Z2RG': 3.27027027027027, 'B017XGKG2A': 3.2, 'B017XMFY4E': 3.923076923076923, 'B017XMQV2I': 3.875, 'B017Z5VD6M': 4.5, 'B01801YIP8': 4.142857142857143, 'B0180PQQA4': 4.642857142857143, 'B0180T7XPC': 5.0, 'B018106IAQ': 4.333333333333333, 'B01824UV0E': 4.333333333333333, 'B01826TRHU': 3.2222222222222223, 'B0182990OC': 3.625, 'B0182FWQL0': 4.5, 'B0182KIA7E': 4.03030303030303, 'B0182KIA8I': 3.625, 'B0182N3LCK': 4.166666666666667, 'B0182N3LBG': 3.7, 'B01837HGMQ': 3.9285714285714284, 'B0183LD2CK': 4.0, 'B0184MWYCW': 3.2, 'B0184UM36Q': 4.444444444444445, 'B01850M8GA': 4.25, 'B0185HZ94Q': 4.0, 'B0185I5U76': 3.9, 'B0185I5SOQ': 3.9166666666666665, 'B0185I5R74': 4.142857142857143, 'B0185M89TS': 4.5, 'B0185Z5OTS': 3.3233082706766917, 'B018615A90': 2.5833333333333335, 'B01867ULKW': 4.0, 'B01867WJRU': 3.2, 'B018681M5E': 4.076923076923077, 'B0186EMA36': 4.027027027027027, 'B0186VB9TK': 4.083333333333333, 'B01875GJ4K': 2.933333333333333, 'B01875GAZI': 3.1818181818181817, 'B01878SYUO': 3.8076923076923075, 'B018792G5M': 4.28125, 'B0187ZEVGS': 3.6153846153846154, 'B0188TNU2E': 2.739130434782609, 'B0188SYRP4': 3.5714285714285716, 'B0188WM1JO': 4.108108108108108, 'B0188WM1XK': 4.367647058823529, 'B0188Z2I76': 4.166666666666667, 'B018A2HAKM': 3.875, 'B018A2HB9C': 3.75, 'B018ALREAY': 3.4, 'B018AMDCLI': 4.242718446601942, 'B018APC50Y': 3.981981981981982, 'B018C2UK3Y': 4.0, 'B018DLBL1Y': 3.8333333333333335, 'B018E47KWE': 3.7857142857142856, 'B018FD9VH6': 4.0, 'B018FUWALI': 3.6666666666666665, 'B018FVPDVG': 2.0, 'B018FW6N32': 4.5, 'B018FVS930': 3.7, 'B018G035QQ': 4.5, 'B018G3SHL6': 3.5, 'B018HXGTUG': 3.7777777777777777, 'B018I6BIP8': 3.1724137931034484, 'B018I56MLO': 4.545454545454546, 'B018IGQYHA': 3.4285714285714284, 'B018ISWW9W': 4.136363636363637, 'B018JLDG84': 5.0, 'B018JLDFXU': 3.2, 'B018JLDG0C': 4.571428571428571, 'B018JMQKRM': 3.2, 'B018JMQKTU': 3.6666666666666665, 'B018JMQKSG': 4.166666666666667, 'B018JMQKOK': 3.8, 'B018JON85C': 4.4, 'B018JON816': 4.857142857142857, 'B018JON7H6': 3.875, 'B018K1FCU8': 4.3, 'B018K1FCUI': 4.25, 'B018K4I8YW': 3.6315789473684212, 'B018LEJT9Y': 4.75, 'B018LL2RCI': 4.166666666666667, 'B018LUUG22': 3.7142857142857144, 'B018M2AZUW': 3.727272727272727, 'B018QMVH0A': 4.521739130434782, 'B018QMKD4Q': 3.888888888888889, 'B018RIKBQY': 4.2748091603053435, 'B018RP7X0O': 3.835616438356164, 'B018SA6F3E': 3.96, 'B018T2TZBK': 3.857142857142857, 'B018TSFXQ0': 4.8, 'B018TZ29K6': 2.727272727272727, 'B018U1AAGY': 3.75, 'B018U6YUWE': 3.8205128205128207, 'B018U941AW': 3.5555555555555554, 'B018UB3HU0': 4.421052631578948, 'B018UAZI4Y': 4.25, 'B018UYHBK4': 4.745762711864407, 'B018UYHBJA': 4.246153846153846, 'B018UYHBVS': 4.214285714285714, 'B018UZBGWC': 4.2, 'B018UZLH58': 4.5, 'B018VH2O8Y': 4.0, 'B018VOR2SY': 2.6, 'B018VOZL5U': 4.59375, 'B018VZBH5M': 4.5, 'B018W7S9DC': 3.6875, 'B018WKIJ7U': 3.6, 'B018WOOGN2': 4.04, 'B018WWPW0A': 3.6315789473684212, 'B018XI3ASO': 4.0966386554621845, 'B018YKTD1Y': 4.135338345864661, 'B018YKTF0I': 4.375, 'B018YVFGKU': 3.5, 'B018YZAWEG': 4.142857142857143, 'B018Z1JJRK': 4.166666666666667, 'B018Z1JJ20': 3.8, 'B018Z5AXNK': 3.6666666666666665, 'B018ZCEWJY': 3.0, 'B01909E56Q': 4.636363636363637, 'B0191FRCAA': 4.58, 'B0191RQSYO': 3.0, 'B019259XCY': 4.384615384615385, 'B019266I44': 3.8, 'B0192LHLIG': 3.888888888888889, 'B0193693LS': 4.444444444444445, 'B019431CUU': 3.7419354838709675, 'B0194OHEZG': 4.238095238095238, 'B0194SIB68': 4.5, 'B0194T1Z5G': 4.625, 'B0194XRBDC': 3.5555555555555554, 'B0194XR8VM': 3.6666666666666665, 'B01950HTI6': 3.3846153846153846, 'B0195SUXMM': 3.5833333333333335, 'B0195XOTMC': 3.8333333333333335, 'B01962BVAU': 2.8461538461538463, 'B0196HUMPA': 4.2727272727272725, 'B0196JFID4': 4.0, 'B0196OEKG0': 4.715596330275229, 'B01985VGO6': 4.75, 'B01987XN5Y': 4.111111111111111, 'B0199YQDNU': 4.043478260869565, 'B019AIHCYO': 3.8, 'B019BG7P38': 3.6666666666666665, 'B019C1MBWW': 4.050488599348534, 'B019C327HO': 3.9838709677419355, 'B019DATZDA': 3.6666666666666665, 'B019DB5QQ4': 4.06801007556675, 'B019DQHX5G': 4.6, 'B019DSW142': 4.6, 'B019DQWN8S': 4.3478260869565215, 'B019E26WBA': 4.0, 'B019E8IMF8': 2.736842105263158, 'B019EACGSU': 5.0, 'B019EMMUI4': 2.875, 'B019EZDT04': 3.7837837837837838, 'B019FBWOSA': 4.416666666666667, 'B019GD45X4': 4.571428571428571, 'B019GEG2ZM': 4.666666666666667, 'B019GKLM1K': 4.102564102564102, 'B019GY0UL4': 4.477528089887641, 'B019H2HB80': 3.6, 'B019HNZFU0': 4.222222222222222, 'B019IBFR4A': 3.9285714285714284, 'B019IC1UI6': 3.1379310344827585, 'B019III2CC': 4.285714285714286, 'B019JRD1ZU': 3.4444444444444446, 'B019JYT940': 3.6785714285714284, 'B019K2G7OQ': 4.133333333333334, 'B019K8MGYA': 3.5, 'B019LOQGNK': 2.65, 'B019M9N5X8': 4.75, 'B019NJRM4A': 3.0, 'B019NQLPOQ': 4.0, 'B019OG1M20': 4.015625, 'B019OIKKRQ': 4.0, 'B019OKFYAC': 3.962962962962963, 'B019OS7B96': 3.7142857142857144, 'B019PJRCS4': 3.8333333333333335, 'B019PJRCQ6': 4.7272727272727275, 'B019PJL4QU': 4.052631578947368, 'B019PJRCPM': 4.384615384615385, 'B019PZNAAW': 4.285714285714286, 'B019Q02YD0': 4.105263157894737, 'B019Q5IA92': 4.428571428571429, 'B019Q88ZSA': 3.6, 'B019QRF50W': 3.9166666666666665, 'B019RDSFP2': 4.28125, 'B019RDSGIS': 4.125, 'B019RDSEV2': 3.8529411764705883, 'B019RNG4XC': 3.6, 'B019RXTG1O': 3.4, 'B019S1S8N2': 3.8, 'B019SCUWXU': 3.8461538461538463, 'B019SMZVAE': 3.375, 'B019SVIYDQ': 4.424242424242424, 'B019SUKSXQ': 4.0, 'B019SYT37Y': 3.625, 'B019SYT33I': 3.3333333333333335, 'B019SYT33S': 3.4, 'B019T37MGI': 3.6785714285714284, 'B019THBA8U': 4.222222222222222, 'B019TTSYOG': 4.545454545454546, 'B019U00D7K': 4.178403755868545, 'B019U0DO3K': 5.0, 'B019UXH1H2': 4.375, 'B019W0XFTQ': 3.7857142857142856, 'B019W31YRI': 4.633333333333334, 'B019W7ELNI': 4.333333333333333, 'B019W7EJZ8': 3.6470588235294117, 'B019XLBZXM': 4.52, 'B019XQGVWM': 3.5, 'B019XS7H46': 4.333333333333333, 'B019XTWSMQ': 3.3333333333333335, 'B019Y5OHOQ': 4.056179775280899, 'B019YW0UD6': 4.466666666666667, 'B019YW0U3Q': 3.6, 'B019YY56VK': 3.8823529411764706, 'B019Z0ET4I': 3.6666666666666665, 'B019Z25882': 3.8, 'B019Z5NDJA': 3.7, 'B019Z7N24Y': 3.857142857142857, 'B019Z7XSQQ': 4.4, 'B01A02BHG8': 3.7966101694915255, 'B01A0BRSDU': 3.971631205673759, 'B01A0DKXHG': 4.0, 'B01A0OJAOW': 4.076923076923077, 'B01A0VQ8JK': 4.125, 'B01A0XNDQY': 4.4, 'B01A186CZM': 4.2272727272727275, 'B01A45K370': 3.588235294117647, 'B01A4WUMRO': 3.75, 'B01A5AUD7Y': 3.3636363636363638, 'B01A5AUA2C': 4.571428571428571, 'B01A5D5ZF6': 4.129032258064516, 'B01A5EXIQI': 3.888888888888889, 'B01A5FDSS0': 3.8, 'B01A5RKT6C': 4.574074074074074, 'B01A60I4P6': 4.418181818181818, 'B01A6EEK96': 3.891304347826087, 'B01A6PGZ70': 4.158333333333333, 'B01A6TSN0I': 3.3333333333333335, 'B01A73M8VI': 3.6, 'B01A7G35S0': 4.13013698630137, 'B01A7PVTGG': 4.0, 'B01A8DWGDW': 4.217391304347826, 'B01A8L4UBK': 3.0625, 'B01A8S7IUI': 3.4473684210526314, 'B01AAXPZVU': 2.2222222222222223, 'B01ABTYYXS': 4.6, 'B01ABWGJ7Y': 4.625, 'B01ABWGISY': 3.652173913043478, 'B01ABWGHPS': 3.7777777777777777, 'B01ABWGGNG': 3.1666666666666665, 'B01ACIV70G': 4.111111111111111, 'B01ACJKEEU': 4.473684210526316, 'B01ACS9XEI': 4.2, 'B01AD0J1PQ': 4.125, 'B01ADEGAJW': 3.9166666666666665, 'B01AERHBQO': 4.5, 'B01AEW9E46': 3.9, 'B01AF8OK48': 3.774193548387097, 'B01AG0R9JS': 4.56, 'B01AG4GYGI': 4.5, 'B01AH1DPLM': 4.6, 'B01AH3OAO6': 2.7777777777777777, 'B01AHFYQ5C': 4.769230769230769, 'B01AHJUJHW': 4.321100917431193, 'B01AHQY8MW': 4.545454545454546, 'B01AHSNKH4': 4.5, 'B01AHTPBGQ': 3.923076923076923, 'B01AI54XEA': 4.17948717948718, 'B01AIHKBC6': 3.4, 'B01AIO8XVA': 3.857142857142857, 'B01AKSQCRQ': 4.714285714285714, 'B01AL6MU5K': 1.4, 'B01AMEY6K8': 4.730769230769231, 'B01AMSKC84': 3.875, 'B01AMTY2IO': 4.0, 'B01AN91U92': 4.2444444444444445, 'B01ANBS8QI': 4.75, 'B01ANF0X9O': 4.0, 'B01ANGAF5K': 4.333333333333333, 'B01ANGOUA6': 4.6, 'B01ANGNNUE': 3.8666666666666667, 'B01ANGNNU4': 3.8181818181818183, 'B01ANHFOAK': 4.125, 'B01ANHW7QO': 3.3333333333333335, 'B01ANPCG9E': 3.4594594594594597, 'B01AOLSXJ4': 4.55, 'B01AOR9Q7G': 3.769230769230769, 'B01AOY1Y24': 4.5, 'B01AQ6XLYY': 3.0930232558139537, 'B01AQ7RCPW': 4.857142857142857, 'B01AQ7IFB2': 4.6, 'B01AQAI6UO': 2.7948717948717947, 'B01AQAYRA2': 4.25, 'B01AR9GOJ4': 4.857142857142857, 'B01ARCXBC4': 4.684210526315789, 'B01ARRB32O': 3.8803418803418803, 'B01ASAIF8U': 4.173913043478261, 'B01AT3RU6E': 3.75, 'B01AUHBODE': 3.7, 'B01AV6PK3E': 3.608695652173913, 'B01AVVEMFG': 3.5869565217391304, 'B01AW1TNKO': 3.9375, 'B01AXD8A5A': 3.3529411764705883, 'B01AXFS8CI': 3.4, 'B01AXIGNGI': 3.877551020408163, 'B01AXSYH2U': 4.285714285714286, 'B01AXSWHSQ': 2.25, 'B01AYO9S1I': 4.0, 'B01AYSNHVQ': 4.285714285714286, 'B01AYZZ70I': 4.833333333333333, 'B01AZ2LT6G': 2.782608695652174, 'B01AZC16Z0': 3.2666666666666666, 'B01B0KQ552': 3.75, 'B01B1C3ARU': 3.0, 'B01B1PDKJK': 3.6666666666666665, 'B01B2FAADI': 3.375, 'B01B2F26RG': 3.814814814814815, 'B01B2KHZX6': 4.166666666666667, 'B01B4PJY4W': 3.9019607843137254, 'B01B5BIG3A': 4.0, 'B01B5EF4DC': 3.7, 'B01B5EF4PU': 4.0, 'B01B6WROCM': 3.5454545454545454, 'B01B71Z906': 4.470588235294118, 'B01B787I30': 4.285714285714286, 'B01B7EIZJ0': 4.714285714285714, 'B01B87V9AI': 4.0, 'B01B8XEG7U': 3.9615384615384617, 'B01B96U80A': 4.423076923076923, 'B01BBFKRT6': 3.875, 'B01BE1GK8E': 4.357142857142857, 'B01BE1JJNC': 4.5, 'B01BEV7AZ6': 4.023255813953488, 'B01BH714XG': 2.75, 'B01BHFDD6E': 4.5, 'B01BI0EAB0': 4.133333333333334, 'B01BNNOQG6': 4.583333333333333, 'B01BNNOQJS': 3.2, 'B01BPF49RI': 4.186991869918699, 'B01BPF3MPS': 4.571428571428571, 'B01BQ7F3IO': 4.166666666666667, 'B01BQBPWUE': 3.789473684210526, 'B01BQLKDA8': 3.6666666666666665, 'B01BSCIN2A': 3.625, 'B01BT9WBWU': 3.0833333333333335, 'B01BTFHYIU': 4.1875, 'B01BTN43P4': 4.166666666666667, 'B01BTN42PU': 4.230769230769231, 'B01BTOIKUW': 4.25, 'B01BTXIGNO': 4.1063829787234045, 'B01BU5UU3K': 4.8125, 'B01BU9VMN8': 4.8, 'B01BUFTNI8': 4.625, 'B01BUUH8OY': 3.7, 'B01BVD3IT4': 3.8461538461538463, 'B01BVAXKVI': 2.84, 'B01BW1T2Y0': 4.8, 'B01BW5F1ZA': 3.8333333333333335, 'B01BWK5OU2': 4.322033898305085, 'B01BXMUPDU': 3.3076923076923075, 'B01BY1S9YM': 3.967741935483871, 'B01BY7ZMXC': 4.0830324909747295, 'B01BY9611W': 4.714285714285714, 'B01BYTG7YS': 4.085714285714285, 'B01BZFYOPU': 4.578947368421052, 'B01BZWU48Y': 2.0, 'B01BZXVULI': 4.26595744680851, 'B01BZXBFLI': 3.6, 'B01C12HN9K': 4.4, 'B01C1NG6AG': 4.571428571428571, 'B01C228T6K': 3.8412698412698414, 'B01C22IJV0': 4.013888888888889, 'B01C2I60UG': 4.0, 'B01C2PES8K': 3.6, 'B01C2YBG9U': 3.4285714285714284, 'B01C35JK0U': 4.222222222222222, 'B01C37TOXQ': 4.533333333333333, 'B01C3H9EAO': 4.195121951219512, 'B01C3JM30A': 3.9583333333333335, 'B01C3OBDMO': 3.5, 'B01C3W361W': 4.078125, 'B01C423L5M': 3.5555555555555554, 'B01C432512': 3.5454545454545454, 'B01C44O9JW': 3.6, 'B01C4LCFFK': 4.7272727272727275, 'B01C5EE540': 3.782608695652174, 'B01C5IBT2C': 4.2, 'B01C5JYRTS': 3.473684210526316, 'B01C69OGP2': 3.6857142857142855, 'B01C6B3W9G': 3.8461538461538463, 'B01C6WXD4O': 3.0, 'B01C73AUFM': 3.8, 'B01C741IVQ': 4.0588235294117645, 'B01C74ITP4': 3.727272727272727, 'B01C76578O': 4.181818181818182, 'B01C74ISM8': 3.5625, 'B01C7DZL3S': 3.625, 'B01C7G2M9Q': 3.8518518518518516, 'B01C7G2MAK': 4.0, 'B01C7XBGKA': 3.8421052631578947, 'B01C8FKN2E': 2.2857142857142856, 'B01C8QLQ24': 4.453125, 'B01C8QLPSY': 4.117647058823529, 'B01CA5346O': 4.428571428571429, 'B01CCDUNT0': 4.3125, 'B01CCKIHWS': 4.0, 'B01CCP88PO': 4.3125, 'B01CCRWBG4': 3.4411764705882355, 'B01CCTZCY0': 4.25, 'B01CE4S9B6': 2.6, 'B01CEFLFF2': 4.023809523809524, 'B01CEFLGJM': 4.1, 'B01CEFLA2U': 3.8545454545454545, 'B01CEFLFQG': 4.130434782608695, 'B01CEFLFHU': 4.4, 'B01CF41IWM': 3.2, 'B01CFKYXM8': 3.6, 'B01CGNB1C4': 2.5555555555555554, 'B01CHPC1D4': 4.25, 'B01CHXLSFS': 4.157894736842105, 'B01CHZ2D6E': 3.7142857142857144, 'B01CHYTX7C': 3.8333333333333335, 'B01CI2RK2S': 4.764705882352941, 'B01CIMC30W': 4.25, 'B01CIZC6SS': 3.71875, 'B01CJF18OA': 4.115384615384615, 'B01CJJIQXM': 3.888888888888889, 'B01CK70Q7M': 4.388888888888889, 'B01CKIA8LA': 4.888888888888889, 'B01CKTJ64O': 3.5, 'B01CL04A52': 4.045454545454546, 'B01CL6NEN0': 4.083333333333333, 'B01CL7H6V0': 3.5, 'B01CL9S3UQ': 4.4, 'B01CLXV3NG': 4.5, 'B01CM8TG34': 3.4444444444444446, 'B01CN7D6EY': 4.181818181818182, 'B01CN92MKQ': 3.88, 'B01CNF4BIQ': 4.857142857142857, 'B01CNKOCWQ': 4.392156862745098, 'B01CNM13M6': 4.066666666666666, 'B01CNQBX0O': 4.166666666666667, 'B01CNYSKMU': 3.4, 'B01CNYSJG2': 2.6666666666666665, 'B01COH1U00': 4.25, 'B01COILDBU': 4.428571428571429, 'B01COYGS8W': 2.8, 'B01COYTZU0': 3.8, 'B01CP1F5Q0': 2.857142857142857, 'B01CP7AI98': 4.0, 'B01CQKWSAG': 5.0, 'B01CS9R7PQ': 4.260869565217392, 'B01CT5X44M': 3.9902912621359223, 'B01CT5X4YW': 4.2368421052631575, 'B01CTIOSMG': 3.8, 'B01CTU5UHQ': 3.2777777777777777, 'B01CU4PU1M': 2.857142857142857, 'B01CU4PUYE': 4.5, 'B01CU4PRTW': 4.368421052631579, 'B01CU6NDW8': 3.75, 'B01CU90OB8': 3.4, 'B01CUHENLM': 4.428571428571429, 'B01CULYEWQ': 3.8685714285714288, 'B01CUXO7BM': 4.571428571428571, 'B01CV4Q5WO': 5.0, 'B01CVSY0J0': 4.777777777777778, 'B01CY3VXTM': 3.3333333333333335, 'B01CY3VV26': 3.4, 'B01CY3VVNA': 2.8823529411764706, 'B01CY3VTYQ': 3.2142857142857144, 'B01CY4OLXQ': 3.625, 'B01CY60XCW': 4.0588235294117645, 'B01CY7OX1S': 3.4, 'B01CZ0PDKO': 3.8181818181818183, 'B01CZBEFI4': 3.4, 'B01CZNLRLK': 4.045454545454546, 'B01CZTUB84': 4.2592592592592595, 'B01CZWV1GM': 3.3666666666666667, 'B01CZWOOGQ': 4.090909090909091, 'B01D03C11E': 3.5454545454545454, 'B01D0CEDUC': 2.6363636363636362, 'B01D0CEQ8Q': 4.0, 'B01D0CENO8': 3.933333333333333, 'B01D0CEKG4': 4.125, 'B01D0CEFPU': 3.0, 'B01D0J787A': 4.666666666666667, 'B01D16YELA': 3.0, 'B01D219O6E': 4.031746031746032, 'B01D2TNMSC': 4.35, 'B01D32BOV0': 4.767441860465116, 'B01D3C7PSQ': 4.157894736842105, 'B01D3QZ96M': 4.225925925925926, 'B01D3QZB2Y': 4.250645994832041, 'B01D3QZB6U': 4.181818181818182, 'B01D3QZA84': 4.2, 'B01D43TJWE': 3.923076923076923, 'B01D4FR6DG': 3.8095238095238093, 'B01D4GFUSI': 4.666666666666667, 'B01D4IOAI2': 4.4, 'B01D4O3QRM': 2.857142857142857, 'B01D56YMWM': 4.2, 'B01D5QLP0E': 3.5925925925925926, 'B01D64DM2E': 4.261904761904762, 'B01D67EKSG': 3.25, 'B01D6FKDT8': 4.5, 'B01D6MZ0YO': 4.103448275862069, 'B01D79MM2O': 3.75, 'B01D86Q858': 3.5714285714285716, 'B01D8BCLW2': 3.875, 'B01D8F10P2': 4.6, 'B01D8JE956': 2.909090909090909, 'B01D8RFK6U': 3.8333333333333335, 'B01D90ROX8': 3.6, 'B01D9APNGI': 4.45, 'B01D9PHSI4': 4.083333333333333, 'B01D9O02YW': 4.0, 'B01D9RHDC8': 4.666666666666667, 'B01DA1J8US': 3.6666666666666665, 'B01DA44V3Y': 3.8125, 'B01DA5QYWE': 2.4, 'B01DBBEVZ4': 4.071428571428571, 'B01DBCXC6M': 3.5384615384615383, 'B01DBT55Q0': 2.0, 'B01DBS1D8A': 3.1, 'B01DBUHLAC': 4.785714285714286, 'B01DBYTO4Y': 2.375, 'B01DC6NGXG': 4.5, 'B01DD0BCDW': 3.357142857142857, 'B01DCZWRIW': 4.444444444444445, 'B01DCZWPWU': 3.0, 'B01DDJZG9Y': 4.2, 'B01DEMUOJ2': 4.428571428571429, 'B01DF1742C': 4.0, 'B01DFGFPAK': 3.0, 'B01DFNGTOY': 2.142857142857143, 'B01DFVNXM2': 3.857142857142857, 'B01DFXHZDI': 3.764705882352941, 'B01DG5KHIU': 3.4545454545454546, 'B01DGLVMCO': 3.8333333333333335, 'B01DGLVJW2': 4.333333333333333, 'B01DHDVRF8': 3.8360655737704916, 'B01DHT4CRC': 3.8627450980392157, 'B01DI34CAY': 4.222222222222222, 'B01DIGIUTA': 3.789473684210526, 'B01DIQWQ6I': 4.6521739130434785, 'B01DJ15RK4': 4.181818181818182, 'B01DJ8B0NK': 4.461538461538462, 'B01DK1V62G': 3.942857142857143, 'B01DK1T9CU': 4.0, 'B01DK1TDH6': 4.0, 'B01DKG0HAI': 3.923076923076923, 'B01DKIJK4K': 3.466666666666667, 'B01DKOVEC0': 3.44, 'B01DKT113W': 3.95, 'B01DKWBJGS': 4.571428571428571, 'B01DL3HABY': 4.214285714285714, 'B01DLJSN4Q': 3.4444444444444446, 'B01DLPS9WG': 3.8947368421052633, 'B01DLVB1MK': 2.8666666666666667, 'B01DMHPT3U': 4.375708502024292, 'B01DMSADH6': 4.333333333333333, 'B01DNC1CCG': 4.0, 'B01DNF3JH4': 4.4, 'B01DNIRY1I': 3.5, 'B01DNTG44A': 4.0, 'B01DNU3QVS': 3.0, 'B01DNUFE40': 3.9146341463414633, 'B01DNWE59S': 4.133333333333334, 'B01DO0782U': 4.375, 'B01DO2T6K0': 3.857142857142857, 'B01DPCAQI0': 4.6, 'B01DPH78TU': 4.421052631578948, 'B01DPO29DS': 4.6, 'B01DQ4EOEY': 4.111111111111111, 'B01DQMBWLY': 3.2857142857142856, 'B01DQNGLJG': 2.6956521739130435, 'B01DQR56SY': 3.727272727272727, 'B01DRPUT3M': 3.375, 'B01DTFX8LK': 3.9411764705882355, 'B01DTHOS8K': 3.764705882352941, 'B01DTJGEK8': 3.909090909090909, 'B01DTWF0I2': 3.8461538461538463, 'B01DU0VHVW': 3.5714285714285716, 'B01DU5DROC': 3.4, 'B01DUVRU7G': 3.6, 'B01DVEBUXC': 3.962962962962963, 'B01DVW643A': 4.317073170731708, 'B01DWA1XAA': 3.4, 'B01DXCKH9U': 3.8333333333333335, 'B01DXQHR30': 4.0, 'B01DY0NRCA': 4.808510638297872, 'B01DYEYKJK': 3.8, 'B01DZ734ZM': 5.0, 'B01DZFR87E': 3.75, 'B01DZOB5DS': 4.333333333333333, 'B01DZSHNQ2': 2.1, 'B01DZUYT7G': 4.045454545454546, 'B01DZXTDBA': 3.375, 'B01DZXFB1Q': 3.847826086956522, 'B01E0U258K': 4.0, 'B01E10SBY6': 3.5454545454545454, 'B01E10SCGS': 4.2, 'B01E16A580': 2.28, 'B01E240LM6': 3.3333333333333335, 'B01E2S6NF6': 3.0714285714285716, 'B01E3R87DW': 3.76, 'B01E3RHW38': 4.216216216216216, 'B01E3SNO3E': 4.430656934306569, 'B01E3U64CK': 3.6666666666666665, 'B01E3SNNGW': 3.8222222222222224, 'B01E3VQX70': 3.6923076923076925, 'B01E4H4OBA': 4.454545454545454, 'B01E4H4MWQ': 3.3076923076923075, 'B01E4ZIVPM': 3.6, 'B01E524URC': 3.2222222222222223, 'B01E524U86': 3.411764705882353, 'B01E54ULA0': 4.125, 'B01E5IKPVQ': 4.107142857142857, 'B01E5K15DG': 3.2, 'B01E5SA3MC': 2.2857142857142856, 'B01E66Q9O4': 4.636363636363637, 'B01E6JRA3K': 4.0, 'B01E74HDKE': 3.6666666666666665, 'B01E74HH3M': 2.857142857142857, 'B01E8PDZ0Y': 3.142857142857143, 'B01E93PMP6': 4.375, 'B01E9BTQTG': 3.6, 'B01E9QIY08': 4.275, 'B01E9WAOGY': 4.035714285714286, 'B01EAH2P8S': 3.8, 'B01EBCS10I': 3.5, 'B01EBPODBQ': 4.076923076923077, 'B01EDVGA28': 2.5714285714285716, 'B01EF5DBTC': 4.2105263157894735, 'B01EF5DBRY': 4.208333333333333, 'B01EFKFQL8': 3.9245283018867925, 'B01EFNWZZ0': 4.111111111111111, 'B01EG0ZQYE': 3.3636363636363638, 'B01EGAKEQ4': 4.2272727272727275, 'B01EH354SS': 3.4545454545454546, 'B01EH57ABU': 4.4, 'B01EHC1WDK': 4.666666666666667, 'B01EHIQAUE': 2.96, 'B01EHQFALQ': 4.444444444444445, 'B01EHSKTHE': 3.8181818181818183, 'B01EHSLKUO': 2.875, 'B01EHVHCQM': 3.8275862068965516, 'B01EHV9D8M': 4.2, 'B01EIA91WU': 4.6923076923076925, 'B01EIA8VIA': 3.875, 'B01EJ1XVV0': 3.7142857142857144, 'B01EJ8EJ4G': 3.3333333333333335, 'B01EJAU9JS': 4.222222222222222, 'B01EJLEN1C': 3.8333333333333335, 'B01EJMYOHO': 4.466666666666667, 'B01EJQNOA8': 4.8, 'B01EM77O96': 3.888888888888889, 'B01EMNNWTG': 3.6, 'B01EMO1GIY': 4.333333333333333, 'B01EMXLN88': 3.3142857142857145, 'B01EN13TLI': 3.909090909090909, 'B01EN05BKG': 4.375, 'B01EN0OUUS': 3.607142857142857, 'B01EN3IJ6G': 4.518518518518518, 'B01EN6M5HW': 4.15, 'B01EN6M5J0': 3.8823529411764706, 'B01EQ1ARR4': 4.5, 'B01EQ57J9Y': 3.8, 'B01EQ6O8PG': 4.0, 'B01EQI4KMA': 4.375, 'B01ER59VJE': 4.9523809523809526, 'B01ERMHI2E': 4.071428571428571, 'B01ERWERAK': 2.75, 'B01ESLMDIS': 4.193548387096774, 'B01ET0PCMM': 3.4285714285714284, 'B01ETTY0I0': 4.636363636363637, 'B01EUGZB8U': 3.3, 'B01EV01Y40': 3.0, 'B01EV0ZUZO': 3.7796610169491527, 'B01EV2IHXY': 3.9047619047619047, 'B01EV2IIBK': 4.357142857142857, 'B01EV4Y434': 4.230769230769231, 'B01EV2II92': 4.076923076923077, 'B01EVTKS20': 3.230769230769231, 'B01EVV9PXQ': 3.819672131147541, 'B01EW3PD8Y': 4.166666666666667, 'B01EW5AYCM': 4.0, 'B01EW7HHCU': 4.1, 'B01EWKVF48': 4.125, 'B01EWQ9JCC': 3.9859154929577465, 'B01EWUR5AQ': 3.888059701492537, 'B01EX1E2GO': 3.9146341463414633, 'B01EXXZ4OG': 3.761904761904762, 'B01EXXZ4O6': 4.0638297872340425, 'B01EY0GN6Q': 4.205479452054795, 'B01EY0OAVQ': 4.725806451612903, 'B01EYEHDJI': 3.8780487804878048, 'B01EZEBH3A': 3.4, 'B01EZL950U': 4.545454545454546, 'B01F00XWWW': 4.375, 'B01F1NASMA': 4.833333333333333, 'B01F1XH3TQ': 3.588235294117647, 'B01F2O1H96': 3.9384057971014492, 'B01F2PFGT2': 4.111111111111111, 'B01F2YK8ZA': 4.458333333333333, 'B01F323PF6': 4.615384615384615, 'B01F313CKA': 4.0842572062084255, 'B01F323DAS': 3.75, 'B01F31GTAA': 4.5, 'B01F3501X2': 4.3, 'B01F3DKK7Q': 3.8153846153846156, 'B01F4GJ2RQ': 4.482758620689655, 'B01F4O042K': 4.111111111111111, 'B01F4S6LZ0': 2.875, 'B01F4X19K2': 4.625, 'B01F4X1A06': 4.25, 'B01F53TO9Y': 3.473684210526316, 'B01F5JBS4C': 3.8, 'B01F5S4BEC': 4.123152709359606, 'B01F6LBLMS': 4.533333333333333, 'B01F6N3L9W': 2.7142857142857144, 'B01F6UY7BG': 5.0, 'B01F70L92U': 4.0, 'B01F71K4SY': 4.0, 'B01F70L8X0': 4.0, 'B01F73AMCU': 3.7, 'B01F730UHC': 2.375, 'B01F74A84G': 4.625, 'B01F75CQEU': 4.4, 'B01F76DP2Q': 4.2727272727272725, 'B01F8BYW4U': 4.0, 'B01F8BYVEG': 4.454545454545454, 'B01F8G7JAY': 4.8, 'B01F8J0DAO': 4.046875, 'B01F8ONCIY': 3.75, 'B01F8P6E5Q': 4.166666666666667, 'B01F9ACY36': 2.8333333333333335, 'B01F9I7HLM': 3.8, 'B01FANQZKA': 4.666666666666667, 'B01FB0ERZM': 3.8181818181818183, 'B01FBROHHS': 4.416666666666667, 'B01FBRZK9M': 4.7, 'B01FCU1UGK': 4.296296296296297, 'B01FCVSDUU': 4.166666666666667, 'B01FCWLHVG': 4.214285714285714, 'B01FD69L8M': 3.942857142857143, 'B01FDG3JR6': 4.7, 'B01FDFDT2M': 4.8, 'B01FDG7F5I': 4.4, 'B01FDG7F5S': 3.7333333333333334, 'B01FDFDYLS': 5.0, 'B01FDG7F1W': 4.7, 'B01FDMVC92': 4.333333333333333, 'B01FDLDAWU': 4.25, 'B01FE6XWCC': 4.583333333333333, 'B01FEZWLU2': 4.4, 'B01FF8TXF4': 4.15, 'B01FFEMO68': 4.1875, 'B01FFW958K': 3.8095238095238093, 'B01FG4NSLM': 2.6666666666666665, 'B01FGE5GTE': 3.625, 'B01FH0050M': 4.117647058823529, 'B01FHC4HYU': 4.714285714285714, 'B01FHS1X50': 4.75, 'B01FHSJRNK': 3.5294117647058822, 'B01FIP8AX0': 4.545454545454546, 'B01FJHD8M0': 4.0, 'B01FJHEODC': 3.9473684210526314, 'B01FJHEOSW': 4.571428571428571, 'B01FJK6O50': 3.3333333333333335, 'B01FJLLKFS': 3.8125, 'B01FJSHKX2': 3.6666666666666665, 'B01FJSHL4A': 3.3125, 'B01FJT9QRY': 4.125, 'B01FKZ9LWC': 4.333333333333333, 'B01FL0WAV0': 4.130434782608695, 'B01FM0B1J6': 4.166666666666667, 'B01FMKLPV0': 3.4, 'B01FMVIWGU': 4.4, 'B01FN7W59I': 3.891891891891892, 'B01FNCKZNQ': 3.914285714285714, 'B01FO5EH7W': 4.0, 'B01FOEEFMU': 4.0, 'B01FQ7SMTW': 2.9523809523809526, 'B01FQ8A4IS': 2.8, 'B01FQUAR1K': 4.041666666666667, 'B01FQX6SCY': 3.8636363636363638, 'B01FQX674I': 4.25, 'B01FQY3IYO': 3.9411764705882355, 'B01FRGA0QU': 3.892857142857143, 'B01FRLCYWI': 4.246376811594203, 'B01FRPCUHS': 4.027027027027027, 'B01FS01SVG': 4.333333333333333, 'B01FS16U9A': 4.041666666666667, 'B01FTYT926': 3.909090909090909, 'B01FUEGDD8': 4.454545454545454, 'B01FUSKAJ2': 4.375, 'B01FVMM0JA': 3.5918367346938775, 'B01FVS8EAI': 3.8275862068965516, 'B01FVWQ0BE': 4.0, 'B01FW06ZO2': 3.1333333333333333, 'B01FW5DP0E': 4.1923076923076925, 'B01FWB1QAY': 3.7794117647058822, 'B01FX3LZ9I': 4.636363636363637, 'B01FX30ONQ': 4.181818181818182, 'B01FXIXUQE': 4.75, 'B01FXPYRS2': 4.5, 'B01FY6NEFC': 4.888888888888889, 'B01FY6NDTO': 4.137931034482759, 'B01FYPLFGS': 3.4571428571428573, 'B01FZX1NUM': 3.9411764705882355, 'B01FZYSSJU': 4.666666666666667, 'B01G1UKS86': 4.201754385964913, 'B01G1WW9VI': 4.5, 'B01G2WTEF6': 4.130841121495327, 'B01G3AUK0K': 4.8, 'B01G3O9DTK': 4.1, 'B01G3ULRYI': 4.333333333333333, 'B01G3TE0B6': 4.090909090909091, 'B01G51SY50': 4.125, 'B01G567THO': 4.75, 'B01G57UHVS': 3.813953488372093, 'B01G5KIUKU': 4.166666666666667, 'B01G5SBBV2': 3.9411764705882355, 'B01G60GO6Q': 3.8705882352941177, 'B01G60GO7K': 4.183529411764706, 'B01G66MH20': 4.176470588235294, 'B01G6PV5OM': 4.014705882352941, 'B01G6SU4G4': 4.425, 'B01G6SVYQS': 4.777777777777778, 'B01G6XL6M0': 4.315789473684211, 'B01G719ACO': 4.2, 'B01G719B2S': 3.888888888888889, 'B01G7703CY': 3.7083333333333335, 'B01G79BS30': 2.857142857142857, 'B01G7DL5DE': 4.0, 'B01G7XAC06': 4.4, 'B01G8CV0TI': 4.333333333333333, 'B01G8G28LI': 3.2857142857142856, 'B01G8JO5F2': 3.851063829787234, 'B01G8P6KE0': 3.5, 'B01G8P6IQU': 4.285714285714286, 'B01G8Q3M0O': 3.642857142857143, 'B01G90XT3O': 5.0, 'B01GANTBBE': 4.5, 'B01GB1PXKI': 3.875, 'B01GBEVKZW': 3.9682539682539684, 'B01GBIO88E': 4.363636363636363, 'B01GC4LIIK': 3.2857142857142856, 'B01GCFAXIK': 3.96875, 'B01GCMYXBQ': 2.3333333333333335, 'B01GCSIYYM': 2.7, 'B01GCYL4YS': 3.0, 'B01GDB79T4': 4.071428571428571, 'B01GDIU3T0': 3.9491916859122402, 'B01GDN442W': 5.0, 'B01GDRC35S': 3.727272727272727, 'B01GDRFY40': 4.0, 'B01GDTZNDU': 4.47191011235955, 'B01GDXHQ6S': 3.909090909090909, 'B01GED5URO': 2.4, 'B01GEJHHWO': 3.6666666666666665, 'B01GEXM2DO': 4.523809523809524, 'B01GEXM1OE': 4.6, 'B01GFB0ZS4': 2.857142857142857, 'B01GFC4908': 4.285714285714286, 'B01GFMPNWG': 4.588235294117647, 'B01GFQCPBE': 4.144736842105263, 'B01GG2H4R2': 4.2, 'B01GG5YNGE': 3.8, 'B01GG1NND2': 4.111111111111111, 'B01GGKNYOQ': 4.631578947368421, 'B01GGN6ZM6': 4.571428571428571, 'B01GH0WTWI': 5.0, 'B01GH4DK90': 4.0, 'B01GHFC08G': 3.8333333333333335, 'B01GHM8TV6': 4.166666666666667, 'B01GHOMA6E': 4.36, 'B01GISWDRU': 3.3333333333333335, 'B01GJ5NUKG': 2.4444444444444446, 'B01GJF4EJW': 2.6, 'B01GJHIN1U': 5.0, 'B01GJQ7N94': 4.216216216216216, 'B01GJS2TX2': 3.272727272727273, 'B01GK4WTM6': 3.6923076923076925, 'B01GLBC752': 3.25, 'B01GLC1LQC': 3.0, 'B01GLE0WYW': 3.8333333333333335, 'B01GNXHTF6': 4.708333333333333, 'B01GO1SII4': 4.333333333333333, 'B01GO3Q73K': 4.6, 'B01GO3YY4Y': 4.571428571428571, 'B01GO66IFO': 4.3125, 'B01GPB922O': 4.8, 'B01GPDAOPG': 4.304347826086956, 'B01GPEDSLM': 4.2, 'B01GPA4TCI': 2.875, 'B01GPFVGUQ': 3.1666666666666665, 'B01GPGLD6C': 4.226415094339623, 'B01GPJA8PG': 3.2857142857142856, 'B01GPZ1DZY': 3.0, 'B01GQ3QKXA': 4.125, 'B01GQ28GLA': 4.055555555555555, 'B01GQ806NU': 4.714285714285714, 'B01GQ806R6': 3.6, 'B01GR5AH6I': 4.2, 'B01GRE4V70': 4.25, 'B01GRKCHCU': 4.333333333333333, 'B01GRRVHRY': 3.9545454545454546, 'B01GRVTB9G': 3.1666666666666665, 'B01GSEP2UY': 4.142857142857143, 'B01GSSV4SE': 3.4166666666666665, 'B01GSWNBGI': 3.8846153846153846, 'B01GT6F79C': 3.8, 'B01GTGQRAU': 4.277777777777778, 'B01GW39XII': 3.5294117647058822, 'B01GW57O9G': 4.0, 'B01GWYS7U2': 3.6, 'B01GYHKX22': 3.6, 'B01GYMEHGA': 4.181818181818182, 'B01GYOXGM4': 3.8823529411764706, 'B01GZKE9FU': 3.909090909090909, 'B01GZROHEG': 3.875, 'B01GZZ4E3C': 4.833333333333333, 'B01H02FDO8': 4.2, 'B01H020M4Y': 4.6, 'B01H08K2ES': 4.166666666666667, 'B01H0J9QAI': 3.5, 'B01H0VIZ58': 4.833333333333333, 'B01H1QN0C0': 4.5, 'B01H1VEUZQ': 3.6363636363636362, 'B01H24UVFU': 4.8, 'B01H271ZJI': 3.8461538461538463, 'B01H2NDPGI': 4.333333333333333, 'B01H2NDPZY': 4.6, 'B01H2VDRX6': 4.0, 'B01H2YD54Y': 4.0, 'B01H2XFEVC': 3.875, 'B01H38F5PQ': 4.458333333333333, 'B01H3BTKKO': 3.3636363636363638, 'B01H3CQ64Q': 4.090439276485788, 'B01H3DWCOI': 3.5833333333333335, 'B01H3F0SDI': 4.416666666666667, 'B01H3G5MOM': 3.3333333333333335, 'B01H3PXSQ2': 4.266666666666667, 'B01H3ST3UE': 3.875, 'B01H45PRAQ': 2.2, 'B01H45PT4K': 3.0, 'B01H5219Q4': 4.714285714285714, 'B01H58JE92': 4.25, 'B01H58Z040': 2.888888888888889, 'B01H5GFCBI': 3.5833333333333335, 'B01H5GFBGY': 3.5714285714285716, 'B01H5JHEG6': 4.04, 'B01H5Q1QCC': 3.75, 'B01H6HVFNU': 4.2745098039215685, 'B01H6I5XRS': 4.619047619047619, 'B01H6LG7XE': 4.25, 'B01H6X8Z0U': 4.5, 'B01H71E05U': 4.555555555555555, 'B01H7D9L48': 4.0, 'B01H7D9L6G': 3.642857142857143, 'B01H7KQ1Q2': 3.689655172413793, 'B01H87RTF6': 2.6666666666666665, 'B01H87RTCO': 3.4, 'B01H86Q76O': 4.0, 'B01H8Q05O4': 4.555555555555555, 'B01H8UHEW6': 4.55, 'B01HAVTAIY': 4.75, 'B01HAVSPOY': 3.8, 'B01HB6JVW8': 3.3846153846153846, 'B01HBFNVZ2': 3.8461538461538463, 'B01HBFNVWU': 4.066666666666666, 'B01HBMOGGI': 3.875, 'B01HBP0PD8': 3.090909090909091, 'B01HCFINCC': 3.9, 'B01HCGEVOK': 3.4, 'B01HCJ6J3S': 4.882352941176471, 'B01HCIHPQE': 3.6, 'B01HCHVX4U': 4.333333333333333, 'B01HCU1ERI': 4.090909090909091, 'B01HCZJ3RG': 3.4, 'B01HCZ6UG8': 3.36, 'B01HCZOXJY': 4.428571428571429, 'B01HCZ6UN6': 4.363636363636363, 'B01HD13L68': 4.0, 'B01HD3OAL6': 4.620689655172414, 'B01HDD5FME': 3.5, 'B01HDONVME': 2.0, 'B01HDST7QO': 3.5454545454545454, 'B01HDUTJ88': 4.120253164556962, 'B01HDUTJC4': 4.019230769230769, 'B01HEC9O2G': 4.333333333333333, 'B01HELE0P8': 4.285714285714286, 'B01HETFQA8': 2.8333333333333335, 'B01HG3CZJW': 4.111111111111111, 'B01HGAVW9Y': 2.6666666666666665, 'B01HGNS59G': 4.285714285714286, 'B01HHUFQOA': 3.9047619047619047, 'B01HI5SGRS': 3.6666666666666665, 'B01HI7D4VY': 4.681818181818182, 'B01HI7O7KQ': 3.909090909090909, 'B01HJ8E11E': 4.170731707317073, 'B00000JCTD': 4.5, 'B00004YK2W': 4.285714285714286, 'B00005I9QO': 2.8333333333333335, 'B00006JQ5Q': 3.8, 'B00009W3CU': 3.4, 'B00016556C': 4.0, 'B00026IB26': 4.2, 'B00061IU9G': 4.0, 'B00079P73E': 4.8, 'B000CSIJIK': 4.333333333333333, 'B000EGLZTK': 4.0, 'B000EYH7GM': 4.0, 'B000M21BXQ': 2.0, 'B000OR023O': 4.4, 'B000P23J7O': 3.0, 'B000W3JH1S': 3.25, 'B000YML1IE': 3.0, 'B0011EOX6G': 4.142857142857143, 'B0014IK2QY': 2.6, 'B0015AK284': 4.333333333333333, 'B0015AM39K': 4.0, 'B00172PW62': 5.0, 'B001AE4J4I': 4.0, 'B001O2S9IS': 2.6, 'B001UE6PCM': 4.0, 'B0020MLP5U': 4.333333333333333, 'B0023RT0WW': 4.0, 'B002BA6BNW': 4.6, 'B002C9G8JO': 2.1666666666666665, 'B002T6NZKU': 3.6, 'B00356M586': 1.8, 'B004443WQ2': 1.8, 'B004K6R3PA': 4.2, 'B004M8PPF6': 4.2, 'B004YSHA5W': 4.666666666666667, 'B004Z4UBZQ': 4.0, 'B0051UV69I': 3.4, 'B005BE07HG': 3.4, 'B005DM4Y9I': 3.4, 'B005F6732M': 3.4, 'B005FUDNBI': 3.125, 'B005GCC5UA': 3.2, 'B005M7TVR4': 5.0, 'B005QB2ESY': 4.666666666666667, 'B005TCZHWU': 4.2, 'B005Y6E0RE': 4.166666666666667, 'B006H3MJT4': 4.428571428571429, 'B006PB44NM': 4.0, 'B0076WQN9M': 2.875, 'B0078JSD1E': 4.571428571428571, 'B007CTNZPO': 3.6, 'B0084HTSUO': 5.0, 'B0091100LI': 4.8, 'B009F8UBNY': 4.6, 'B00A8MLJ50': 4.6, 'B00B9GF9XC': 3.8, 'B00BG9GBS4': 4.4, 'B00BIBAGM2': 3.8, 'B00BK0YWA8': 3.6, 'B00BTH2Y2A': 2.2, 'B00CKAEF3Q': 3.75, 'B00D2BZHBG': 3.6666666666666665, 'B00D7YRP4K': 3.5, 'B00DEYA5W2': 3.4, 'B00DJ61FHY': 4.285714285714286, 'B00E38BR8O': 4.333333333333333, 'B00E3QISNI': 4.2, 'B00E8A3LDQ': 3.8, 'B00ECOC3JG': 4.6, 'B00FJISZBE': 2.8, 'B00GGNEVIC': 4.2, 'B00H7JGKVK': 4.333333333333333, 'B00HK7XJX6': 4.6, 'B00HRYZ7SW': 2.8, 'B00HWFPJKC': 4.2, 'B00HYG97JS': 3.8, 'B00IPNPYU0': 4.333333333333333, 'B00ISAZ9D2': 3.8, 'B00JAIY7MA': 4.5, 'B00JEJPT7C': 5.0, 'B00JJGRXRE': 4.4, 'B00JV2AKZ8': 4.0, 'B00JXTP5EU': 2.6, 'B00K5NRNZM': 4.6, 'B00KLD6QJA': 3.6666666666666665, 'B00KVE84CG': 5.0, 'B00L1OIAHY': 4.333333333333333, 'B00L7EUGQ6': 4.375, 'B00LG9JAZK': 3.2, 'B00LXMGKMG': 4.333333333333333, 'B00M33X1OY': 3.6, 'B00MI40GPK': 4.5, 'B00MQKZ40I': 4.2, 'B00MT5BU7Q': 3.8333333333333335, 'B00NW3567E': 4.833333333333333, 'B00OF722LY': 4.666666666666667, 'B00OJYKY9K': 4.0, 'B00OPY1RFY': 4.8, 'B00OZ26ZQW': 4.8, 'B00Q3YYP08': 3.8, 'B00QSN96CQ': 4.4, 'B00QTDZ19C': 4.6, 'B00QWA1CEA': 3.3333333333333335, 'B00S0JLUZM': 4.5, 'B00S0TIG4K': 3.6, 'B00S999XRU': 4.666666666666667, 'B00SIK724G': 4.666666666666667, 'B00SURUTVA': 4.166666666666667, 'B00TCP368M': 4.8, 'B00UM5N30W': 5.0, 'B00UX4F5YO': 3.6, 'B00VBBGSEO': 3.8, 'B00W2S766O': 4.6, 'B00W8WJL3A': 4.333333333333333, 'B00WHKJ69C': 4.5, 'B00WHRX420': 3.8333333333333335, 'B00WPU2E84': 4.4, 'B00WTBW6QY': 4.0, 'B00X322XAM': 3.4, 'B00YBGEZC8': 4.6, 'B00YCVN4IS': 4.2, 'B00YZYB9L6': 3.6, 'B00ZAFM6D4': 3.0, 'B00ZQKNBBO': 4.2, 'B00ZQMOSWS': 3.4, 'B0105WDY0A': 3.142857142857143, 'B010867H0Q': 3.6666666666666665, 'B0108BULV8': 4.2, 'B010LTA04K': 3.6, 'B010PXWG44': 3.4, 'B0127Q3M68': 3.4, 'B013PV8TGW': 3.6, 'B0141GUC0Q': 4.2, 'B014IDYQ04': 4.166666666666667, 'B01500H7HS': 2.8, 'B015CDARCA': 5.0, 'B016IC7MF4': 4.0, 'B016LCPPKA': 3.6, 'B016XFTMHM': 4.833333333333333, 'B017SDE37W': 4.4, 'B017UCN07A': 4.4, 'B0188XPC4E': 4.166666666666667, 'B018TX5SUG': 3.75, 'B0195LQM3S': 4.8, 'B0196DOAA2': 3.0, 'B019IHTRYU': 3.3333333333333335, 'B019ITZUJ4': 3.1666666666666665, 'B019XMA2L2': 3.0, 'B01A0W0AP2': 3.8, 'B01A5UQT5E': 4.0, 'B01BOE5D48': 4.166666666666667, 'B01BYJK820': 4.0, 'B01C3Y2AQM': 4.666666666666667, 'B01CJF7MY0': 3.8, 'B01CXR8C4S': 4.666666666666667, 'B01D4IYAVE': 4.333333333333333, 'B01D57MMWS': 3.2, 'B01D8GBPP6': 4.166666666666667, 'B01DJEBCXC': 4.666666666666667, 'B01E1D03XA': 4.4, 'B01E4WWNA4': 4.4, 'B01E6QYKFO': 4.2, 'B01F8QX3RW': 3.8333333333333335, 'B01FANQZKK': 4.6, 'B01FL0WAQK': 4.2, 'B01FLXS4US': 3.8, 'B01G02G43S': 4.333333333333333, 'B01G6SUDN8': 5.0, 'B01GG2H4T0': 3.0}\n"
     ]
    }
   ],
   "source": [
    "ratings_per_asin = {}\n",
    "for index, row in product_df.iterrows():\n",
    "    if row['asin'] not in ratings_per_asin:\n",
    "        ratings_per_asin[row['asin']] = []\n",
    "        ratings_per_asin[row['asin']].append(int(row['overall']))\n",
    "    else:\n",
    "        ratings_per_asin[row['asin']].append((row['overall']))\n",
    "        \n",
    "for asin in ratings_per_asin:\n",
    "    ratings_per_asin[asin] = sum(ratings_per_asin[asin])/len(ratings_per_asin[asin])\n",
    "    \n",
    "print(ratings_per_asin)"
   ]
  },
  {
   "cell_type": "markdown",
   "metadata": {},
   "source": [
    "**c) Number of Unique Products**"
   ]
  },
  {
   "cell_type": "code",
   "execution_count": 45,
   "metadata": {},
   "outputs": [
    {
     "name": "stdout",
     "output_type": "stream",
     "text": [
      "5393\n"
     ]
    }
   ],
   "source": [
    "num_unique_products = product_df['asin'].nunique()\n",
    "print(num_unique_products)"
   ]
  },
  {
   "cell_type": "markdown",
   "metadata": {},
   "source": [
    "**d) Number of Good Ratings and Bad Ratings**"
   ]
  },
  {
   "cell_type": "code",
   "execution_count": 46,
   "metadata": {},
   "outputs": [
    {
     "name": "stdout",
     "output_type": "stream",
     "text": [
      "Number of Good Ratings: 222660\n",
      "Number of Bad Ratings: 38460\n"
     ]
    }
   ],
   "source": [
    "good_rating = []\n",
    "bad_rating = []\n",
    "\n",
    "for index, row in product_df.iterrows():\n",
    "    if row['overall'] >=3:\n",
    "        good_rating.append((row['overall'], row['reviewText']))\n",
    "    else:\n",
    "        bad_rating.append((row['overall'], row['reviewText']))\n",
    "        \n",
    "        \n",
    "print('Number of Good Ratings:', len(good_rating))\n",
    "print('Number of Bad Ratings:', len(bad_rating))"
   ]
  },
  {
   "cell_type": "markdown",
   "metadata": {},
   "source": [
    "**Number of Reviews for each Rating**"
   ]
  },
  {
   "cell_type": "code",
   "execution_count": 47,
   "metadata": {},
   "outputs": [
    {
     "name": "stdout",
     "output_type": "stream",
     "text": [
      "Number of Reviews for Good Rating: 222660\n",
      "Number of Reviews for Bad Rating: 38460\n"
     ]
    }
   ],
   "source": [
    "print('Number of Reviews for Good Rating:', len(good_rating))\n",
    "print('Number of Reviews for Bad Rating:', len(bad_rating))"
   ]
  },
  {
   "cell_type": "markdown",
   "metadata": {},
   "source": [
    "# Text Preprocessing"
   ]
  },
  {
   "cell_type": "code",
   "execution_count": 48,
   "metadata": {},
   "outputs": [
    {
     "data": {
      "text/html": [
       "<div>\n",
       "<style scoped>\n",
       "    .dataframe tbody tr th:only-of-type {\n",
       "        vertical-align: middle;\n",
       "    }\n",
       "\n",
       "    .dataframe tbody tr th {\n",
       "        vertical-align: top;\n",
       "    }\n",
       "\n",
       "    .dataframe thead th {\n",
       "        text-align: right;\n",
       "    }\n",
       "</style>\n",
       "<table border=\"1\" class=\"dataframe\">\n",
       "  <thead>\n",
       "    <tr style=\"text-align: right;\">\n",
       "      <th></th>\n",
       "      <th>category</th>\n",
       "      <th>tech1</th>\n",
       "      <th>description</th>\n",
       "      <th>fit</th>\n",
       "      <th>title</th>\n",
       "      <th>also_buy</th>\n",
       "      <th>tech2</th>\n",
       "      <th>brand</th>\n",
       "      <th>feature</th>\n",
       "      <th>rank</th>\n",
       "      <th>also_view</th>\n",
       "      <th>main_cat</th>\n",
       "      <th>similar_item</th>\n",
       "      <th>date</th>\n",
       "      <th>price</th>\n",
       "      <th>asin</th>\n",
       "      <th>imageURL</th>\n",
       "      <th>imageURLHighRes</th>\n",
       "      <th>details</th>\n",
       "    </tr>\n",
       "  </thead>\n",
       "  <tbody>\n",
       "    <tr>\n",
       "      <th>0</th>\n",
       "      <td>['Electronics', 'Headphones', 'Earbud Headphon...</td>\n",
       "      <td>0</td>\n",
       "      <td>['', '&lt;b&gt;True High Definition Sound:&lt;/b&gt;&lt;br&gt;Wi...</td>\n",
       "      <td>0.0</td>\n",
       "      <td>Wireless Bluetooth Headphones Earbuds with Mic...</td>\n",
       "      <td>[]</td>\n",
       "      <td>0</td>\n",
       "      <td>Enter The Arena</td>\n",
       "      <td>['Superb Sound Quality: Plays crystal clear au...</td>\n",
       "      <td>['&gt;#950 in Cell Phones &amp; Accessories (See Top ...</td>\n",
       "      <td>[]</td>\n",
       "      <td>Home Audio &amp; Theater</td>\n",
       "      <td>0</td>\n",
       "      <td>October 23, 2017</td>\n",
       "      <td>$7.99</td>\n",
       "      <td>0132492776</td>\n",
       "      <td>['https://images-na.ssl-images-amazon.com/imag...</td>\n",
       "      <td>['https://images-na.ssl-images-amazon.com/imag...</td>\n",
       "      <td>0</td>\n",
       "    </tr>\n",
       "    <tr>\n",
       "      <th>1</th>\n",
       "      <td>['Electronics', 'Headphones']</td>\n",
       "      <td>0</td>\n",
       "      <td>['Use these high quality headphones for intern...</td>\n",
       "      <td>0.0</td>\n",
       "      <td>Polaroid Pbm2200 PC / Gaming Stereo Headphones...</td>\n",
       "      <td>[]</td>\n",
       "      <td>0</td>\n",
       "      <td>Polaroid</td>\n",
       "      <td>['Ideal for PC Internet chatting, PC / Console...</td>\n",
       "      <td>['&gt;#3,548,269 in Cell Phones &amp;amp; Accessories...</td>\n",
       "      <td>[]</td>\n",
       "      <td>All Electronics</td>\n",
       "      <td>0</td>\n",
       "      <td>December 13, 2012</td>\n",
       "      <td>0</td>\n",
       "      <td>0558835155</td>\n",
       "      <td>['https://images-na.ssl-images-amazon.com/imag...</td>\n",
       "      <td>['https://images-na.ssl-images-amazon.com/imag...</td>\n",
       "      <td>0</td>\n",
       "    </tr>\n",
       "    <tr>\n",
       "      <th>2</th>\n",
       "      <td>['Electronics', 'Headphones', 'Earbud Headphon...</td>\n",
       "      <td>0</td>\n",
       "      <td>['', '&lt;b&gt;True High Definition Sound:&lt;/b&gt;&lt;br&gt;Wi...</td>\n",
       "      <td>0.0</td>\n",
       "      <td>Bluetooth Workout Headphones for Running and G...</td>\n",
       "      <td>[]</td>\n",
       "      <td>0</td>\n",
       "      <td>Enter The Arena</td>\n",
       "      <td>['Superb Sound Quality: Plays crystal clear au...</td>\n",
       "      <td>['&gt;#4,626,934 in Cell Phones &amp; Accessories (Se...</td>\n",
       "      <td>[]</td>\n",
       "      <td>Home Audio &amp; Theater</td>\n",
       "      <td>0</td>\n",
       "      <td>December 28, 2015</td>\n",
       "      <td>0</td>\n",
       "      <td>0692206280</td>\n",
       "      <td>['https://images-na.ssl-images-amazon.com/imag...</td>\n",
       "      <td>['https://images-na.ssl-images-amazon.com/imag...</td>\n",
       "      <td>0</td>\n",
       "    </tr>\n",
       "    <tr>\n",
       "      <th>3</th>\n",
       "      <td>['Electronics', 'Headphones', 'Earbud Headphon...</td>\n",
       "      <td>0</td>\n",
       "      <td>['', '&lt;b&gt;True High Definition Sound:&lt;/b&gt;&lt;br /&gt;...</td>\n",
       "      <td>0.0</td>\n",
       "      <td>Bluetooth Workout Headphones for Running and G...</td>\n",
       "      <td>[]</td>\n",
       "      <td>0</td>\n",
       "      <td>Enter The Arena</td>\n",
       "      <td>['Superb Sound Quality: Plays crystal clear au...</td>\n",
       "      <td>['&gt;#2,654,020 in Cell Phones &amp;amp; Accessories...</td>\n",
       "      <td>[]</td>\n",
       "      <td>Home Audio &amp;amp; Theater</td>\n",
       "      <td>0</td>\n",
       "      <td>October 18, 2015</td>\n",
       "      <td>0</td>\n",
       "      <td>0983629269</td>\n",
       "      <td>['https://images-na.ssl-images-amazon.com/imag...</td>\n",
       "      <td>['https://images-na.ssl-images-amazon.com/imag...</td>\n",
       "      <td>0</td>\n",
       "    </tr>\n",
       "    <tr>\n",
       "      <th>4</th>\n",
       "      <td>['Electronics', 'Headphones', 'Earbud Headphon...</td>\n",
       "      <td>0</td>\n",
       "      <td>['', '&lt;b&gt;True High Definition Sound:&lt;/b&gt;&lt;br /&gt;...</td>\n",
       "      <td>0.0</td>\n",
       "      <td>Bluetooth Workout Headphones for Running and G...</td>\n",
       "      <td>[]</td>\n",
       "      <td>0</td>\n",
       "      <td>Enter The Arena</td>\n",
       "      <td>['Superb Sound Quality: Plays crystal clear au...</td>\n",
       "      <td>['&gt;#5,289,289 in Cell Phones &amp;amp; Accessories...</td>\n",
       "      <td>[]</td>\n",
       "      <td>Home Audio &amp;amp; Theater</td>\n",
       "      <td>0</td>\n",
       "      <td>April 26, 2013</td>\n",
       "      <td>0</td>\n",
       "      <td>0985262788</td>\n",
       "      <td>['https://images-na.ssl-images-amazon.com/imag...</td>\n",
       "      <td>['https://images-na.ssl-images-amazon.com/imag...</td>\n",
       "      <td>0</td>\n",
       "    </tr>\n",
       "  </tbody>\n",
       "</table>\n",
       "</div>"
      ],
      "text/plain": [
       "                                            category tech1  \\\n",
       "0  ['Electronics', 'Headphones', 'Earbud Headphon...     0   \n",
       "1                      ['Electronics', 'Headphones']     0   \n",
       "2  ['Electronics', 'Headphones', 'Earbud Headphon...     0   \n",
       "3  ['Electronics', 'Headphones', 'Earbud Headphon...     0   \n",
       "4  ['Electronics', 'Headphones', 'Earbud Headphon...     0   \n",
       "\n",
       "                                         description  fit  \\\n",
       "0  ['', '<b>True High Definition Sound:</b><br>Wi...  0.0   \n",
       "1  ['Use these high quality headphones for intern...  0.0   \n",
       "2  ['', '<b>True High Definition Sound:</b><br>Wi...  0.0   \n",
       "3  ['', '<b>True High Definition Sound:</b><br />...  0.0   \n",
       "4  ['', '<b>True High Definition Sound:</b><br />...  0.0   \n",
       "\n",
       "                                               title also_buy tech2  \\\n",
       "0  Wireless Bluetooth Headphones Earbuds with Mic...       []     0   \n",
       "1  Polaroid Pbm2200 PC / Gaming Stereo Headphones...       []     0   \n",
       "2  Bluetooth Workout Headphones for Running and G...       []     0   \n",
       "3  Bluetooth Workout Headphones for Running and G...       []     0   \n",
       "4  Bluetooth Workout Headphones for Running and G...       []     0   \n",
       "\n",
       "             brand                                            feature  \\\n",
       "0  Enter The Arena  ['Superb Sound Quality: Plays crystal clear au...   \n",
       "1         Polaroid  ['Ideal for PC Internet chatting, PC / Console...   \n",
       "2  Enter The Arena  ['Superb Sound Quality: Plays crystal clear au...   \n",
       "3  Enter The Arena  ['Superb Sound Quality: Plays crystal clear au...   \n",
       "4  Enter The Arena  ['Superb Sound Quality: Plays crystal clear au...   \n",
       "\n",
       "                                                rank also_view  \\\n",
       "0  ['>#950 in Cell Phones & Accessories (See Top ...        []   \n",
       "1  ['>#3,548,269 in Cell Phones &amp; Accessories...        []   \n",
       "2  ['>#4,626,934 in Cell Phones & Accessories (Se...        []   \n",
       "3  ['>#2,654,020 in Cell Phones &amp; Accessories...        []   \n",
       "4  ['>#5,289,289 in Cell Phones &amp; Accessories...        []   \n",
       "\n",
       "                   main_cat similar_item               date  price  \\\n",
       "0      Home Audio & Theater            0   October 23, 2017  $7.99   \n",
       "1           All Electronics            0  December 13, 2012      0   \n",
       "2      Home Audio & Theater            0  December 28, 2015      0   \n",
       "3  Home Audio &amp; Theater            0   October 18, 2015      0   \n",
       "4  Home Audio &amp; Theater            0     April 26, 2013      0   \n",
       "\n",
       "         asin                                           imageURL  \\\n",
       "0  0132492776  ['https://images-na.ssl-images-amazon.com/imag...   \n",
       "1  0558835155  ['https://images-na.ssl-images-amazon.com/imag...   \n",
       "2  0692206280  ['https://images-na.ssl-images-amazon.com/imag...   \n",
       "3  0983629269  ['https://images-na.ssl-images-amazon.com/imag...   \n",
       "4  0985262788  ['https://images-na.ssl-images-amazon.com/imag...   \n",
       "\n",
       "                                     imageURLHighRes details  \n",
       "0  ['https://images-na.ssl-images-amazon.com/imag...       0  \n",
       "1  ['https://images-na.ssl-images-amazon.com/imag...       0  \n",
       "2  ['https://images-na.ssl-images-amazon.com/imag...       0  \n",
       "3  ['https://images-na.ssl-images-amazon.com/imag...       0  \n",
       "4  ['https://images-na.ssl-images-amazon.com/imag...       0  "
      ]
     },
     "execution_count": 48,
     "metadata": {},
     "output_type": "execute_result"
    }
   ],
   "source": [
    "meta_df.head()"
   ]
  },
  {
   "cell_type": "code",
   "execution_count": 49,
   "metadata": {},
   "outputs": [
    {
     "data": {
      "text/html": [
       "<div>\n",
       "<style scoped>\n",
       "    .dataframe tbody tr th:only-of-type {\n",
       "        vertical-align: middle;\n",
       "    }\n",
       "\n",
       "    .dataframe tbody tr th {\n",
       "        vertical-align: top;\n",
       "    }\n",
       "\n",
       "    .dataframe thead th {\n",
       "        text-align: right;\n",
       "    }\n",
       "</style>\n",
       "<table border=\"1\" class=\"dataframe\">\n",
       "  <thead>\n",
       "    <tr style=\"text-align: right;\">\n",
       "      <th></th>\n",
       "      <th>overall</th>\n",
       "      <th>vote</th>\n",
       "      <th>verified</th>\n",
       "      <th>reviewTime</th>\n",
       "      <th>reviewerID</th>\n",
       "      <th>asin</th>\n",
       "      <th>style</th>\n",
       "      <th>reviewerName</th>\n",
       "      <th>reviewText</th>\n",
       "      <th>summary</th>\n",
       "      <th>unixReviewTime</th>\n",
       "      <th>image</th>\n",
       "    </tr>\n",
       "  </thead>\n",
       "  <tbody>\n",
       "    <tr>\n",
       "      <th>0</th>\n",
       "      <td>5</td>\n",
       "      <td>2.0</td>\n",
       "      <td>True</td>\n",
       "      <td>02 28, 2013</td>\n",
       "      <td>A15U5NUS1EY7IQ</td>\n",
       "      <td>B000001OMI</td>\n",
       "      <td>{'Format:': ' Personal Computers'}</td>\n",
       "      <td>S. Bommarito</td>\n",
       "      <td>I'm getting listening stations going in severa...</td>\n",
       "      <td>Works well</td>\n",
       "      <td>1362009600</td>\n",
       "      <td>0</td>\n",
       "    </tr>\n",
       "    <tr>\n",
       "      <th>1</th>\n",
       "      <td>5</td>\n",
       "      <td>5.0</td>\n",
       "      <td>True</td>\n",
       "      <td>10 17, 2012</td>\n",
       "      <td>AHGGNAIT6BH5X</td>\n",
       "      <td>B000001OMI</td>\n",
       "      <td>0</td>\n",
       "      <td>Edward H</td>\n",
       "      <td>Needed Headset for watching and editing videos...</td>\n",
       "      <td>HP 200 Stereo Headset</td>\n",
       "      <td>1350432000</td>\n",
       "      <td>0</td>\n",
       "    </tr>\n",
       "    <tr>\n",
       "      <th>2</th>\n",
       "      <td>4</td>\n",
       "      <td>0</td>\n",
       "      <td>False</td>\n",
       "      <td>09 27, 2012</td>\n",
       "      <td>A33HUURDJ4DVG3</td>\n",
       "      <td>B000001OMI</td>\n",
       "      <td>{'Format:': ' Personal Computers'}</td>\n",
       "      <td>HB</td>\n",
       "      <td>I was out of town for a month and needed a pai...</td>\n",
       "      <td>For the price, you cannot beat them</td>\n",
       "      <td>1348704000</td>\n",
       "      <td>0</td>\n",
       "    </tr>\n",
       "    <tr>\n",
       "      <th>3</th>\n",
       "      <td>5</td>\n",
       "      <td>4.0</td>\n",
       "      <td>True</td>\n",
       "      <td>11 27, 2008</td>\n",
       "      <td>A680RUE1FDO8B</td>\n",
       "      <td>B000001OMI</td>\n",
       "      <td>{'Format:': ' Personal Computers'}</td>\n",
       "      <td>Jerry Saperstein</td>\n",
       "      <td>Obviously these headphones are not for the aud...</td>\n",
       "      <td>Excellent day-to-day headphones</td>\n",
       "      <td>1227744000</td>\n",
       "      <td>0</td>\n",
       "    </tr>\n",
       "    <tr>\n",
       "      <th>4</th>\n",
       "      <td>3</td>\n",
       "      <td>2.0</td>\n",
       "      <td>False</td>\n",
       "      <td>12 24, 2007</td>\n",
       "      <td>A3OLAZKM77XR6P</td>\n",
       "      <td>B000001OMI</td>\n",
       "      <td>{'Format:': ' Personal Computers'}</td>\n",
       "      <td>Tennis Ace</td>\n",
       "      <td>I bought these headphones at a Tower Records a...</td>\n",
       "      <td>Foldable but didn't last long</td>\n",
       "      <td>1198454400</td>\n",
       "      <td>0</td>\n",
       "    </tr>\n",
       "  </tbody>\n",
       "</table>\n",
       "</div>"
      ],
      "text/plain": [
       "   overall vote  verified   reviewTime      reviewerID        asin  \\\n",
       "0        5  2.0      True  02 28, 2013  A15U5NUS1EY7IQ  B000001OMI   \n",
       "1        5  5.0      True  10 17, 2012   AHGGNAIT6BH5X  B000001OMI   \n",
       "2        4    0     False  09 27, 2012  A33HUURDJ4DVG3  B000001OMI   \n",
       "3        5  4.0      True  11 27, 2008   A680RUE1FDO8B  B000001OMI   \n",
       "4        3  2.0     False  12 24, 2007  A3OLAZKM77XR6P  B000001OMI   \n",
       "\n",
       "                                style      reviewerName  \\\n",
       "0  {'Format:': ' Personal Computers'}      S. Bommarito   \n",
       "1                                   0          Edward H   \n",
       "2  {'Format:': ' Personal Computers'}                HB   \n",
       "3  {'Format:': ' Personal Computers'}  Jerry Saperstein   \n",
       "4  {'Format:': ' Personal Computers'}        Tennis Ace   \n",
       "\n",
       "                                          reviewText  \\\n",
       "0  I'm getting listening stations going in severa...   \n",
       "1  Needed Headset for watching and editing videos...   \n",
       "2  I was out of town for a month and needed a pai...   \n",
       "3  Obviously these headphones are not for the aud...   \n",
       "4  I bought these headphones at a Tower Records a...   \n",
       "\n",
       "                               summary  unixReviewTime image  \n",
       "0                           Works well      1362009600     0  \n",
       "1                HP 200 Stereo Headset      1350432000     0  \n",
       "2  For the price, you cannot beat them      1348704000     0  \n",
       "3      Excellent day-to-day headphones      1227744000     0  \n",
       "4        Foldable but didn't last long      1198454400     0  "
      ]
     },
     "execution_count": 49,
     "metadata": {},
     "output_type": "execute_result"
    }
   ],
   "source": [
    "product_df.head()"
   ]
  },
  {
   "cell_type": "code",
   "execution_count": 50,
   "metadata": {},
   "outputs": [
    {
     "data": {
      "text/plain": [
       "Index(['category', 'tech1', 'description', 'fit', 'title', 'also_buy', 'tech2',\n",
       "       'brand', 'feature', 'rank', 'also_view', 'main_cat', 'similar_item',\n",
       "       'date', 'price', 'asin', 'imageURL', 'imageURLHighRes', 'details'],\n",
       "      dtype='object')"
      ]
     },
     "execution_count": 50,
     "metadata": {},
     "output_type": "execute_result"
    }
   ],
   "source": [
    "meta_df.columns"
   ]
  },
  {
   "cell_type": "markdown",
   "metadata": {},
   "source": [
    "**a) Remove HTML Tags**"
   ]
  },
  {
   "cell_type": "code",
   "execution_count": 51,
   "metadata": {},
   "outputs": [],
   "source": [
    "def remove_html_tags(text):\n",
    "    if isinstance(text, str):\n",
    "        soup = BeautifulSoup(text, \"html.parser\")\n",
    "        return soup.get_text()\n",
    "    else:\n",
    "        return \"\""
   ]
  },
  {
   "cell_type": "markdown",
   "metadata": {},
   "source": [
    "**b) Remove Accented Characters**"
   ]
  },
  {
   "cell_type": "code",
   "execution_count": 52,
   "metadata": {},
   "outputs": [],
   "source": [
    "def remove_accented_chars(text):\n",
    "    text = unicodedata.normalize('NFKD', text).encode('ascii', 'ignore').decode('utf-8', 'ignore')\n",
    "    return text"
   ]
  },
  {
   "cell_type": "markdown",
   "metadata": {},
   "source": [
    "**d) Remove Special Characters**"
   ]
  },
  {
   "cell_type": "code",
   "execution_count": 53,
   "metadata": {},
   "outputs": [],
   "source": [
    "def remove_special_characters(text):\n",
    "    text = re.sub(r'[^a-zA-Z0-9\\s]', '', text)\n",
    "    return text"
   ]
  },
  {
   "cell_type": "markdown",
   "metadata": {},
   "source": [
    "**e) Lemmatization**"
   ]
  },
  {
   "cell_type": "code",
   "execution_count": 54,
   "metadata": {},
   "outputs": [],
   "source": [
    "lemmatizer = WordNetLemmatizer()\n",
    "\n",
    "def lemmatize_text(text):\n",
    "    words = text.split()\n",
    "    lemmatized_words = [lemmatizer.lemmatize(word) for word in words]\n",
    "    lemmatized_text = \" \".join(lemmatized_words)\n",
    "    return lemmatized_text"
   ]
  },
  {
   "cell_type": "markdown",
   "metadata": {},
   "source": [
    "**f) Normalize Text**"
   ]
  },
  {
   "cell_type": "code",
   "execution_count": 55,
   "metadata": {},
   "outputs": [],
   "source": [
    "stop_words = set(stopwords.words('english'))\n",
    "\n",
    "def normalize_text(text):\n",
    "    # Convert text to lowercase\n",
    "    text = text.lower()\n",
    "    \n",
    "    # Remove punctuation\n",
    "    text = text.translate(str.maketrans('', '', string.punctuation))\n",
    "    \n",
    "    # Remove numbers\n",
    "    text = re.sub(r'\\d+', '', text)\n",
    "    \n",
    "    # Tokenize the text\n",
    "    tokens = word_tokenize(text)\n",
    "    \n",
    "    # Remove stopwords\n",
    "    tokens = [word for word in tokens if word not in stop_words]\n",
    "    \n",
    "    # Join tokens back into text\n",
    "    normalized_text = ' '.join(tokens)\n",
    "    \n",
    "    return normalized_text"
   ]
  },
  {
   "cell_type": "markdown",
   "metadata": {},
   "source": [
    "**Combine all the preprocessing steps**"
   ]
  },
  {
   "cell_type": "code",
   "execution_count": 56,
   "metadata": {},
   "outputs": [],
   "source": [
    "def preprocess_text(text):\n",
    "    \n",
    "    text = remove_html_tags(text)\n",
    "    text = remove_accented_chars(text)\n",
    "    text = remove_special_characters(text)\n",
    "    text = lemmatize_text(text)\n",
    "    \n",
    "    text = normalize_text(text)\n",
    "    return text"
   ]
  },
  {
   "cell_type": "markdown",
   "metadata": {},
   "source": [
    "**Apply Text Preprocessing on Columns**"
   ]
  },
  {
   "cell_type": "code",
   "execution_count": 57,
   "metadata": {},
   "outputs": [
    {
     "name": "stderr",
     "output_type": "stream",
     "text": [
      "C:\\Users\\shiva\\AppData\\Local\\Temp\\ipykernel_19944\\1661441417.py:3: MarkupResemblesLocatorWarning: The input looks more like a filename than markup. You may want to open this file and pass the filehandle into Beautiful Soup.\n",
      "  soup = BeautifulSoup(text, \"html.parser\")\n",
      "C:\\Users\\shiva\\AppData\\Local\\Temp\\ipykernel_19944\\1661441417.py:3: MarkupResemblesLocatorWarning: The input looks more like a URL than markup. You may want to use an HTTP client like requests to get the document behind the URL, and feed that document to Beautiful Soup.\n",
      "  soup = BeautifulSoup(text, \"html.parser\")\n",
      "C:\\Users\\shiva\\AppData\\Local\\Temp\\ipykernel_19944\\3358378549.py:1: SettingWithCopyWarning: \n",
      "A value is trying to be set on a copy of a slice from a DataFrame.\n",
      "Try using .loc[row_indexer,col_indexer] = value instead\n",
      "\n",
      "See the caveats in the documentation: https://pandas.pydata.org/pandas-docs/stable/user_guide/indexing.html#returning-a-view-versus-a-copy\n",
      "  product_df['reviewText'] = product_df['reviewText'].apply(preprocess_text)\n"
     ]
    }
   ],
   "source": [
    "product_df['reviewText'] = product_df['reviewText'].apply(preprocess_text)"
   ]
  },
  {
   "cell_type": "code",
   "execution_count": 58,
   "metadata": {},
   "outputs": [],
   "source": [
    "#apply preprocessing on more rows"
   ]
  },
  {
   "cell_type": "markdown",
   "metadata": {},
   "source": [
    "# EDA"
   ]
  },
  {
   "cell_type": "markdown",
   "metadata": {},
   "source": [
    "**a) Top 20 most reviewd brands**"
   ]
  },
  {
   "cell_type": "code",
   "execution_count": 59,
   "metadata": {},
   "outputs": [
    {
     "name": "stdout",
     "output_type": "stream",
     "text": [
      "Number of Brands: 1639\n"
     ]
    }
   ],
   "source": [
    "brand_dict = {}   #keep brand:count\n",
    "for index, row in product_df.iterrows():\n",
    "    df = meta_df[meta_df['asin']==row['asin']]   #Find the row that matches asin=asin\n",
    "    brand = df['brand'][df.index[0]]      #find the brand\n",
    "    \n",
    "    if brand not in brand_dict:\n",
    "        brand_dict[brand] = 1\n",
    "    else:\n",
    "        brand_dict[brand] += 1\n",
    "            \n",
    "print('Number of Brands:', len(brand_dict))"
   ]
  },
  {
   "cell_type": "code",
   "execution_count": 60,
   "metadata": {},
   "outputs": [
    {
     "data": {
      "image/png": "[encoded data removed]",
      "text/plain": [
       "<Figure size 1000x600 with 1 Axes>"
      ]
     },
     "metadata": {},
     "output_type": "display_data"
    }
   ],
   "source": [
    "top_20_asins = sorted(brand_dict.items(), key=lambda x: x[1], reverse=True)[:20]\n",
    "\n",
    "brands = [brand[0] for brand in top_20_asins]\n",
    "review_counts = [brand[1] for brand in top_20_asins]\n",
    "\n",
    "plt.figure(figsize=(10, 6))\n",
    "bars = plt.barh(brands, review_counts, color='skyblue')\n",
    "for bar in bars:\n",
    "    plt.text(bar.get_width(), bar.get_y() + bar.get_height()/2, f'{int(bar.get_width())}', \n",
    "             va='center', ha='left', color='black')\n",
    "\n",
    "plt.xlabel('Number of Reviews')\n",
    "plt.ylabel('BRANDS')\n",
    "plt.title('Top 20 Most Reviewed Brands')\n",
    "plt.gca().invert_yaxis()  \n",
    "plt.show()"
   ]
  },
  {
   "cell_type": "markdown",
   "metadata": {},
   "source": [
    "**b) Top 20 Least reviewed Brands**"
   ]
  },
  {
   "cell_type": "code",
   "execution_count": 61,
   "metadata": {},
   "outputs": [
    {
     "data": {
      "image/png": "[encoded data removed]",
      "text/plain": [
       "<Figure size 1000x600 with 1 Axes>"
      ]
     },
     "metadata": {},
     "output_type": "display_data"
    }
   ],
   "source": [
    "top_20_asins = sorted(brand_dict.items(), key=lambda x: x[1])[:20]\n",
    "\n",
    "brands = [brand[0] for brand in top_20_asins]\n",
    "review_counts = [brand[1] for brand in top_20_asins]\n",
    "\n",
    "plt.figure(figsize=(10, 6))\n",
    "bars = plt.barh(brands, review_counts, color='skyblue')\n",
    "for bar in bars:\n",
    "    plt.text(bar.get_width(), bar.get_y() + bar.get_height()/2, f'{int(bar.get_width())}', \n",
    "             va='center', ha='left', color='black')\n",
    "\n",
    "plt.xlabel('Number of Reviews')\n",
    "plt.ylabel('BRANDS')\n",
    "plt.title('Top 20 Least Reviewed Brands')\n",
    "plt.gca().invert_yaxis()  \n",
    "plt.show()"
   ]
  },
  {
   "cell_type": "markdown",
   "metadata": {},
   "source": [
    "**c) Most Positively reviewed Headphone**"
   ]
  },
  {
   "cell_type": "code",
   "execution_count": 62,
   "metadata": {},
   "outputs": [
    {
     "name": "stdout",
     "output_type": "stream",
     "text": [
      "Most Positively Reviewed Product (ASIN): B016IPL5MM\n",
      "Highest Average Sentiment Polarity: 0.7304761904761904\n"
     ]
    }
   ],
   "source": [
    "product_data = product_df.copy()\n",
    "\n",
    "#calculate sentiment polarity for each review text\n",
    "product_data['sentiment_polarity'] = product_data['reviewText'].apply(lambda x: TextBlob(str(x)).sentiment.polarity)\n",
    "\n",
    "#group by 'asin' and calculate the average sentiment polarity for each product\n",
    "average_sentiments = product_data.groupby('asin')['sentiment_polarity'].mean()\n",
    "\n",
    "#find the product with the highest average sentiment polarity\n",
    "most_positively_reviewed_product = average_sentiments.idxmax()\n",
    "highest_average_sentiment = average_sentiments.max()\n",
    "\n",
    "print(\"Most Positively Reviewed Product (ASIN):\", most_positively_reviewed_product)\n",
    "print(\"Highest Average Sentiment Polarity:\", highest_average_sentiment)"
   ]
  },
  {
   "cell_type": "markdown",
   "metadata": {},
   "source": [
    "**d) Count of ratings for the product for 5 consecutive years**"
   ]
  },
  {
   "cell_type": "code",
   "execution_count": 63,
   "metadata": {},
   "outputs": [
    {
     "name": "stderr",
     "output_type": "stream",
     "text": [
      "C:\\Users\\shiva\\AppData\\Local\\Temp\\ipykernel_19944\\771741789.py:1: SettingWithCopyWarning: \n",
      "A value is trying to be set on a copy of a slice from a DataFrame.\n",
      "Try using .loc[row_indexer,col_indexer] = value instead\n",
      "\n",
      "See the caveats in the documentation: https://pandas.pydata.org/pandas-docs/stable/user_guide/indexing.html#returning-a-view-versus-a-copy\n",
      "  product_df['reviewTime'] = pd.to_datetime(product_df['reviewTime'])\n"
     ]
    }
   ],
   "source": [
    "product_df['reviewTime'] = pd.to_datetime(product_df['reviewTime'])\n",
    "\n",
    "filtered_data = product_df[(product_df['reviewTime'].dt.year >= 2000) & (product_df['reviewTime'].dt.year < 2005)]\n",
    "\n",
    "#group by reviewYear and count the number of ratings for each year\n",
    "rating_counts = filtered_data.groupby(filtered_data['reviewTime'].dt.year)['overall'].count()"
   ]
  },
  {
   "cell_type": "code",
   "execution_count": 64,
   "metadata": {},
   "outputs": [
    {
     "name": "stdout",
     "output_type": "stream",
     "text": [
      "reviewTime\n",
      "2000     17\n",
      "2001     17\n",
      "2002     50\n",
      "2003    120\n",
      "2004    274\n",
      "Name: overall, dtype: int64\n"
     ]
    }
   ],
   "source": [
    "print(rating_counts)"
   ]
  },
  {
   "cell_type": "code",
   "execution_count": 65,
   "metadata": {},
   "outputs": [
    {
     "data": {
      "image/png": "[encoded data removed]",
      "text/plain": [
       "<Figure size 1000x600 with 1 Axes>"
      ]
     },
     "metadata": {},
     "output_type": "display_data"
    }
   ],
   "source": [
    "# Plotting\n",
    "plt.figure(figsize=(10, 6))\n",
    "plt.bar(rating_counts.index, rating_counts.values, color='skyblue')\n",
    "plt.xlabel('Year')\n",
    "plt.ylabel('Number of Ratings')\n",
    "plt.title('Total Ratings for Each Year from 2000 to 2004')\n",
    "plt.xticks(rating_counts.index)\n",
    "plt.grid(axis='y', linestyle='--', alpha=0.7)\n",
    "plt.tight_layout()\n",
    "plt.show()"
   ]
  },
  {
   "cell_type": "markdown",
   "metadata": {},
   "source": [
    "**e) Word Cloud for ‘Good’ and ‘Bad’ ratings**"
   ]
  },
  {
   "cell_type": "code",
   "execution_count": 66,
   "metadata": {},
   "outputs": [],
   "source": [
    "def classify_review(sentiment_polarity):\n",
    "    if sentiment_polarity > 0:\n",
    "        return 'Good'\n",
    "    elif sentiment_polarity < 0:\n",
    "        return 'Bad'\n",
    "    else:\n",
    "        return 'Neutral'"
   ]
  },
  {
   "cell_type": "code",
   "execution_count": 67,
   "metadata": {},
   "outputs": [
    {
     "name": "stderr",
     "output_type": "stream",
     "text": [
      "C:\\Users\\shiva\\AppData\\Local\\Temp\\ipykernel_19944\\518116074.py:2: SettingWithCopyWarning: \n",
      "A value is trying to be set on a copy of a slice from a DataFrame.\n",
      "Try using .loc[row_indexer,col_indexer] = value instead\n",
      "\n",
      "See the caveats in the documentation: https://pandas.pydata.org/pandas-docs/stable/user_guide/indexing.html#returning-a-view-versus-a-copy\n",
      "  product_df['sentiment_polarity'] = product_df['reviewText'].apply(lambda x: TextBlob(str(x)).sentiment.polarity)\n"
     ]
    }
   ],
   "source": [
    "#calculate sentiment polarity for each reviewText\n",
    "product_df['sentiment_polarity'] = product_df['reviewText'].apply(lambda x: TextBlob(str(x)).sentiment.polarity)"
   ]
  },
  {
   "cell_type": "code",
   "execution_count": 68,
   "metadata": {},
   "outputs": [
    {
     "name": "stderr",
     "output_type": "stream",
     "text": [
      "C:\\Users\\shiva\\AppData\\Local\\Temp\\ipykernel_19944\\3864266862.py:2: SettingWithCopyWarning: \n",
      "A value is trying to be set on a copy of a slice from a DataFrame.\n",
      "Try using .loc[row_indexer,col_indexer] = value instead\n",
      "\n",
      "See the caveats in the documentation: https://pandas.pydata.org/pandas-docs/stable/user_guide/indexing.html#returning-a-view-versus-a-copy\n",
      "  product_df['review_class'] = product_df['sentiment_polarity'].apply(classify_review)\n"
     ]
    }
   ],
   "source": [
    "#classify reviews as 'Good' or 'Bad'\n",
    "product_df['review_class'] = product_df['sentiment_polarity'].apply(classify_review)"
   ]
  },
  {
   "cell_type": "code",
   "execution_count": 69,
   "metadata": {},
   "outputs": [],
   "source": [
    "good_reviews = ' '.join(product_df[product_df['review_class'] == 'Good']['reviewText'])\n",
    "bad_reviews = ' '.join(product_df[product_df['review_class'] == 'Bad']['reviewText'])"
   ]
  },
  {
   "cell_type": "code",
   "execution_count": 70,
   "metadata": {},
   "outputs": [
    {
     "data": {
      "text/plain": [
       "'\\n#Word Cloud for Good ratings\\nwordcloud_good = WordCloud(width=800, height=400, background_color=\\'white\\', font_path=\\'C://Windows//Fonts//arial.ttf\\').generate(good_reviews)\\n\\n#Word Cloud for Bad ratings\\nwordcloud_bad = WordCloud(width=800, height=400, background_color=\\'white\\', font_path=\\'C://Windows//Fonts//arial.ttf\\').generate(bad_reviews)\"\"\\n'"
      ]
     },
     "execution_count": 70,
     "metadata": {},
     "output_type": "execute_result"
    }
   ],
   "source": [
    "'''\n",
    "#Word Cloud for Good ratings\n",
    "wordcloud_good = WordCloud(width=800, height=400, background_color='white', font_path='C://Windows//Fonts//arial.ttf').generate(good_reviews)\n",
    "\n",
    "#Word Cloud for Bad ratings\n",
    "wordcloud_bad = WordCloud(width=800, height=400, background_color='white', font_path='C://Windows//Fonts//arial.ttf').generate(bad_reviews)\"\"\n",
    "'''"
   ]
  },
  {
   "cell_type": "code",
   "execution_count": 71,
   "metadata": {},
   "outputs": [
    {
     "data": {
      "text/plain": [
       "\"\\n#plot Word Clouds\\nplt.figure(figsize=(12, 6))\\nplt.subplot(1, 2, 1)\\nplt.imshow(wordcloud_good, interpolation='bilinear')\\nplt.title('Word Cloud for Good Reviews')\\nplt.axis('off')\\n\\nplt.subplot(1, 2, 2)\\nplt.imshow(wordcloud_bad, interpolation='bilinear')\\nplt.title('Word Cloud for Bad Reviews')\\nplt.axis('off')\\n\\nplt.show()\\n\""
      ]
     },
     "execution_count": 71,
     "metadata": {},
     "output_type": "execute_result"
    }
   ],
   "source": [
    "'''\n",
    "#plot Word Clouds\n",
    "plt.figure(figsize=(12, 6))\n",
    "plt.subplot(1, 2, 1)\n",
    "plt.imshow(wordcloud_good, interpolation='bilinear')\n",
    "plt.title('Word Cloud for Good Reviews')\n",
    "plt.axis('off')\n",
    "\n",
    "plt.subplot(1, 2, 2)\n",
    "plt.imshow(wordcloud_bad, interpolation='bilinear')\n",
    "plt.title('Word Cloud for Bad Reviews')\n",
    "plt.axis('off')\n",
    "\n",
    "plt.show()\n",
    "'''"
   ]
  },
  {
   "cell_type": "markdown",
   "metadata": {},
   "source": [
    "**f) Pie Chart for Distribution of Ratings vs No. of Reviews**"
   ]
  },
  {
   "cell_type": "code",
   "execution_count": 72,
   "metadata": {},
   "outputs": [
    {
     "data": {
      "image/png": "[encoded data removed]",
      "text/plain": [
       "<Figure size 800x800 with 1 Axes>"
      ]
     },
     "metadata": {},
     "output_type": "display_data"
    }
   ],
   "source": [
    "rating_distribution = product_data['overall'].value_counts()\n",
    "\n",
    "plt.figure(figsize=(8, 8))\n",
    "plt.pie(rating_distribution, labels=rating_distribution.index, autopct='%1.1f%%', startangle=140)\n",
    "plt.title('Distribution of Ratings vs. Number of Reviews')\n",
    "plt.axis('equal')  # Equal aspect ratio ensures that pie is drawn as a circle.\n",
    "plt.show()"
   ]
  },
  {
   "cell_type": "markdown",
   "metadata": {},
   "source": [
    "**g) Year of Maximum Reviews**"
   ]
  },
  {
   "cell_type": "code",
   "execution_count": 73,
   "metadata": {},
   "outputs": [],
   "source": [
    "df = product_df[(product_df['reviewTime'].dt.year >= 2000)]\n",
    "\n",
    "#group by reviewYear and count the number of ratings for each year\n",
    "rating_counts = df.groupby(df['reviewTime'].dt.year)['reviewText'].count()"
   ]
  },
  {
   "cell_type": "code",
   "execution_count": 74,
   "metadata": {},
   "outputs": [
    {
     "name": "stdout",
     "output_type": "stream",
     "text": [
      "Maximum Reviews: 65691 in year: 2016\n"
     ]
    }
   ],
   "source": [
    "print('Maximum Reviews:', rating_counts.max(), 'in year:', rating_counts.idxmax())"
   ]
  },
  {
   "cell_type": "markdown",
   "metadata": {},
   "source": [
    "**h) Year with highest number of Customers**"
   ]
  },
  {
   "cell_type": "code",
   "execution_count": 75,
   "metadata": {},
   "outputs": [],
   "source": [
    "df = product_df[(product_df['reviewTime'].dt.year >= 2000)]\n",
    "customer_count_by_year = df.groupby(df['reviewTime'].dt.year)['reviewerID'].count()"
   ]
  },
  {
   "cell_type": "code",
   "execution_count": 76,
   "metadata": {},
   "outputs": [
    {
     "name": "stdout",
     "output_type": "stream",
     "text": [
      "Maximum Customers: 65691 in year: 2016\n"
     ]
    }
   ],
   "source": [
    "print('Maximum Customers:', customer_count_by_year.max(), 'in year:', customer_count_by_year.idxmax())"
   ]
  },
  {
   "cell_type": "code",
   "execution_count": 77,
   "metadata": {},
   "outputs": [
    {
     "data": {
      "text/plain": [
       "(261120, 14)"
      ]
     },
     "execution_count": 77,
     "metadata": {},
     "output_type": "execute_result"
    }
   ],
   "source": [
    "product_df.shape"
   ]
  },
  {
   "cell_type": "markdown",
   "metadata": {},
   "source": [
    "# Feature Engineering"
   ]
  },
  {
   "cell_type": "markdown",
   "metadata": {},
   "source": [
    "**Hashing Vectorizer**"
   ]
  },
  {
   "cell_type": "code",
   "execution_count": 78,
   "metadata": {},
   "outputs": [],
   "source": [
    "hash_vectorizer = HashingVectorizer(n_features=1000) \n",
    "hashed_features = hash_vectorizer.fit_transform(product_df['reviewText'])"
   ]
  },
  {
   "cell_type": "code",
   "execution_count": 79,
   "metadata": {},
   "outputs": [
    {
     "data": {
      "text/plain": [
       "(261120, 1000)"
      ]
     },
     "execution_count": 79,
     "metadata": {},
     "output_type": "execute_result"
    }
   ],
   "source": [
    "hashed_features.shape"
   ]
  },
  {
   "cell_type": "markdown",
   "metadata": {},
   "source": [
    "**Classifying Ratings**"
   ]
  },
  {
   "cell_type": "code",
   "execution_count": 80,
   "metadata": {},
   "outputs": [],
   "source": [
    "def classify_rating(rating):\n",
    "    if rating > 3:\n",
    "        return 'Good'\n",
    "    elif rating < 3:\n",
    "        return 'Bad'\n",
    "    else:\n",
    "        return 'Average'"
   ]
  },
  {
   "cell_type": "code",
   "execution_count": 81,
   "metadata": {},
   "outputs": [
    {
     "name": "stderr",
     "output_type": "stream",
     "text": [
      "C:\\Users\\shiva\\AppData\\Local\\Temp\\ipykernel_19944\\2210544256.py:1: SettingWithCopyWarning: \n",
      "A value is trying to be set on a copy of a slice from a DataFrame.\n",
      "Try using .loc[row_indexer,col_indexer] = value instead\n",
      "\n",
      "See the caveats in the documentation: https://pandas.pydata.org/pandas-docs/stable/user_guide/indexing.html#returning-a-view-versus-a-copy\n",
      "  product_df['ratingClass'] = product_df['overall'].apply(classify_rating)\n"
     ]
    }
   ],
   "source": [
    "product_df['ratingClass'] = product_df['overall'].apply(classify_rating)"
   ]
  },
  {
   "cell_type": "code",
   "execution_count": 82,
   "metadata": {},
   "outputs": [
    {
     "data": {
      "text/html": [
       "<div>\n",
       "<style scoped>\n",
       "    .dataframe tbody tr th:only-of-type {\n",
       "        vertical-align: middle;\n",
       "    }\n",
       "\n",
       "    .dataframe tbody tr th {\n",
       "        vertical-align: top;\n",
       "    }\n",
       "\n",
       "    .dataframe thead th {\n",
       "        text-align: right;\n",
       "    }\n",
       "</style>\n",
       "<table border=\"1\" class=\"dataframe\">\n",
       "  <thead>\n",
       "    <tr style=\"text-align: right;\">\n",
       "      <th></th>\n",
       "      <th>overall</th>\n",
       "      <th>vote</th>\n",
       "      <th>verified</th>\n",
       "      <th>reviewTime</th>\n",
       "      <th>reviewerID</th>\n",
       "      <th>asin</th>\n",
       "      <th>style</th>\n",
       "      <th>reviewerName</th>\n",
       "      <th>reviewText</th>\n",
       "      <th>summary</th>\n",
       "      <th>unixReviewTime</th>\n",
       "      <th>image</th>\n",
       "      <th>sentiment_polarity</th>\n",
       "      <th>review_class</th>\n",
       "      <th>ratingClass</th>\n",
       "    </tr>\n",
       "  </thead>\n",
       "  <tbody>\n",
       "    <tr>\n",
       "      <th>0</th>\n",
       "      <td>5</td>\n",
       "      <td>2.0</td>\n",
       "      <td>True</td>\n",
       "      <td>2013-02-28</td>\n",
       "      <td>A15U5NUS1EY7IQ</td>\n",
       "      <td>B000001OMI</td>\n",
       "      <td>{'Format:': ' Personal Computers'}</td>\n",
       "      <td>S. Bommarito</td>\n",
       "      <td>im getting listening station going several ele...</td>\n",
       "      <td>Works well</td>\n",
       "      <td>1362009600</td>\n",
       "      <td>0</td>\n",
       "      <td>0.166667</td>\n",
       "      <td>Good</td>\n",
       "      <td>Good</td>\n",
       "    </tr>\n",
       "    <tr>\n",
       "      <th>1</th>\n",
       "      <td>5</td>\n",
       "      <td>5.0</td>\n",
       "      <td>True</td>\n",
       "      <td>2012-10-17</td>\n",
       "      <td>AHGGNAIT6BH5X</td>\n",
       "      <td>B000001OMI</td>\n",
       "      <td>0</td>\n",
       "      <td>Edward H</td>\n",
       "      <td>needed headset watching editing video late nig...</td>\n",
       "      <td>HP 200 Stereo Headset</td>\n",
       "      <td>1350432000</td>\n",
       "      <td>0</td>\n",
       "      <td>0.270833</td>\n",
       "      <td>Good</td>\n",
       "      <td>Good</td>\n",
       "    </tr>\n",
       "    <tr>\n",
       "      <th>2</th>\n",
       "      <td>4</td>\n",
       "      <td>0</td>\n",
       "      <td>False</td>\n",
       "      <td>2012-09-27</td>\n",
       "      <td>A33HUURDJ4DVG3</td>\n",
       "      <td>B000001OMI</td>\n",
       "      <td>{'Format:': ' Personal Computers'}</td>\n",
       "      <td>HB</td>\n",
       "      <td>wa town month needed pair headphone walking wa...</td>\n",
       "      <td>For the price, you cannot beat them</td>\n",
       "      <td>1348704000</td>\n",
       "      <td>0</td>\n",
       "      <td>0.069907</td>\n",
       "      <td>Good</td>\n",
       "      <td>Good</td>\n",
       "    </tr>\n",
       "    <tr>\n",
       "      <th>3</th>\n",
       "      <td>5</td>\n",
       "      <td>4.0</td>\n",
       "      <td>True</td>\n",
       "      <td>2008-11-27</td>\n",
       "      <td>A680RUE1FDO8B</td>\n",
       "      <td>B000001OMI</td>\n",
       "      <td>{'Format:': ' Personal Computers'}</td>\n",
       "      <td>Jerry Saperstein</td>\n",
       "      <td>obviously headphone audiophile person expects ...</td>\n",
       "      <td>Excellent day-to-day headphones</td>\n",
       "      <td>1227744000</td>\n",
       "      <td>0</td>\n",
       "      <td>0.106364</td>\n",
       "      <td>Good</td>\n",
       "      <td>Good</td>\n",
       "    </tr>\n",
       "    <tr>\n",
       "      <th>4</th>\n",
       "      <td>3</td>\n",
       "      <td>2.0</td>\n",
       "      <td>False</td>\n",
       "      <td>2007-12-24</td>\n",
       "      <td>A3OLAZKM77XR6P</td>\n",
       "      <td>B000001OMI</td>\n",
       "      <td>{'Format:': ' Personal Computers'}</td>\n",
       "      <td>Tennis Ace</td>\n",
       "      <td>bought headphone tower records year ago nice f...</td>\n",
       "      <td>Foldable but didn't last long</td>\n",
       "      <td>1198454400</td>\n",
       "      <td>0</td>\n",
       "      <td>0.047959</td>\n",
       "      <td>Good</td>\n",
       "      <td>Average</td>\n",
       "    </tr>\n",
       "  </tbody>\n",
       "</table>\n",
       "</div>"
      ],
      "text/plain": [
       "   overall vote  verified reviewTime      reviewerID        asin  \\\n",
       "0        5  2.0      True 2013-02-28  A15U5NUS1EY7IQ  B000001OMI   \n",
       "1        5  5.0      True 2012-10-17   AHGGNAIT6BH5X  B000001OMI   \n",
       "2        4    0     False 2012-09-27  A33HUURDJ4DVG3  B000001OMI   \n",
       "3        5  4.0      True 2008-11-27   A680RUE1FDO8B  B000001OMI   \n",
       "4        3  2.0     False 2007-12-24  A3OLAZKM77XR6P  B000001OMI   \n",
       "\n",
       "                                style      reviewerName  \\\n",
       "0  {'Format:': ' Personal Computers'}      S. Bommarito   \n",
       "1                                   0          Edward H   \n",
       "2  {'Format:': ' Personal Computers'}                HB   \n",
       "3  {'Format:': ' Personal Computers'}  Jerry Saperstein   \n",
       "4  {'Format:': ' Personal Computers'}        Tennis Ace   \n",
       "\n",
       "                                          reviewText  \\\n",
       "0  im getting listening station going several ele...   \n",
       "1  needed headset watching editing video late nig...   \n",
       "2  wa town month needed pair headphone walking wa...   \n",
       "3  obviously headphone audiophile person expects ...   \n",
       "4  bought headphone tower records year ago nice f...   \n",
       "\n",
       "                               summary  unixReviewTime image  \\\n",
       "0                           Works well      1362009600     0   \n",
       "1                HP 200 Stereo Headset      1350432000     0   \n",
       "2  For the price, you cannot beat them      1348704000     0   \n",
       "3      Excellent day-to-day headphones      1227744000     0   \n",
       "4        Foldable but didn't last long      1198454400     0   \n",
       "\n",
       "   sentiment_polarity review_class ratingClass  \n",
       "0            0.166667         Good        Good  \n",
       "1            0.270833         Good        Good  \n",
       "2            0.069907         Good        Good  \n",
       "3            0.106364         Good        Good  \n",
       "4            0.047959         Good     Average  "
      ]
     },
     "execution_count": 82,
     "metadata": {},
     "output_type": "execute_result"
    }
   ],
   "source": [
    "product_df.head()"
   ]
  },
  {
   "cell_type": "markdown",
   "metadata": {},
   "source": [
    "**Creating Train and Test sets**"
   ]
  },
  {
   "cell_type": "code",
   "execution_count": 83,
   "metadata": {},
   "outputs": [],
   "source": [
    "X = hashed_features\n",
    "y = product_df['ratingClass']\n",
    "\n",
    "X_train, X_test, y_train, y_test = train_test_split(X, y, test_size=0.25, random_state=42)"
   ]
  },
  {
   "cell_type": "code",
   "execution_count": 84,
   "metadata": {},
   "outputs": [
    {
     "name": "stdout",
     "output_type": "stream",
     "text": [
      "Training set size (X, y): (195840, 1000) (195840,)\n",
      "Testing set size (X, y): (65280, 1000) (65280,)\n"
     ]
    }
   ],
   "source": [
    "print(\"Training set size (X, y):\", X_train.shape, y_train.shape)\n",
    "print(\"Testing set size (X, y):\", X_test.shape, y_test.shape)"
   ]
  },
  {
   "cell_type": "markdown",
   "metadata": {},
   "source": [
    "# Training ML Models"
   ]
  },
  {
   "cell_type": "markdown",
   "metadata": {},
   "source": [
    "**a) Logistic Regression**"
   ]
  },
  {
   "cell_type": "code",
   "execution_count": 85,
   "metadata": {},
   "outputs": [
    {
     "name": "stdout",
     "output_type": "stream",
     "text": [
      "              precision    recall  f1-score   support\n",
      "\n",
      "     Average       0.41      0.08      0.13      6931\n",
      "         Bad       0.65      0.54      0.59      9639\n",
      "        Good       0.84      0.96      0.89     48710\n",
      "\n",
      "    accuracy                           0.81     65280\n",
      "   macro avg       0.63      0.53      0.54     65280\n",
      "weighted avg       0.76      0.81      0.77     65280\n",
      "\n"
     ]
    }
   ],
   "source": [
    "logisticRegression = LogisticRegression(max_iter=1000)\n",
    "logisticRegression.fit(X_train, y_train)\n",
    "    \n",
    "#make predictions\n",
    "y_pred = logisticRegression.predict(X_test)\n",
    "\n",
    "#classification report\n",
    "print(classification_report(y_test, y_pred))"
   ]
  },
  {
   "cell_type": "markdown",
   "metadata": {},
   "source": [
    "**b) AdaBoost Classifier**"
   ]
  },
  {
   "cell_type": "code",
   "execution_count": 90,
   "metadata": {},
   "outputs": [
    {
     "name": "stdout",
     "output_type": "stream",
     "text": [
      "              precision    recall  f1-score   support\n",
      "\n",
      "     Average       0.43      0.06      0.11      6931\n",
      "         Bad       0.62      0.47      0.53      9639\n",
      "        Good       0.82      0.96      0.89     48710\n",
      "\n",
      "    accuracy                           0.79     65280\n",
      "   macro avg       0.62      0.50      0.51     65280\n",
      "weighted avg       0.75      0.79      0.75     65280\n",
      "\n"
     ]
    }
   ],
   "source": [
    "adamodel = AdaBoostClassifier(n_estimators=100, random_state=42)\n",
    "adamodel.fit(X_train, y_train)\n",
    "\n",
    "#make predictions\n",
    "y_pred = adamodel.predict(X_test)\n",
    "\n",
    "#classification report\n",
    "print(classification_report(y_test, y_pred))"
   ]
  },
  {
   "cell_type": "markdown",
   "metadata": {},
   "source": [
    "**c) Gaussian Naive Bayes**"
   ]
  },
  {
   "cell_type": "code",
   "execution_count": 93,
   "metadata": {},
   "outputs": [
    {
     "name": "stdout",
     "output_type": "stream",
     "text": [
      "              precision    recall  f1-score   support\n",
      "\n",
      "     Average       0.19      0.46      0.26      6931\n",
      "         Bad       0.39      0.57      0.46      9639\n",
      "        Good       0.90      0.63      0.74     48710\n",
      "\n",
      "    accuracy                           0.60     65280\n",
      "   macro avg       0.49      0.55      0.49     65280\n",
      "weighted avg       0.75      0.60      0.65     65280\n",
      "\n"
     ]
    }
   ],
   "source": [
    "nb = GaussianNB()\n",
    "nb.fit(X_train.toarray(), y_train)\n",
    "\n",
    "#make predictions\n",
    "y_pred = nb.predict(X_test.toarray())\n",
    "\n",
    "#classification report\n",
    "print(classification_report(y_test, y_pred))"
   ]
  },
  {
   "cell_type": "markdown",
   "metadata": {},
   "source": [
    "**d) K-Nearest Neighbors**"
   ]
  },
  {
   "cell_type": "code",
   "execution_count": 95,
   "metadata": {},
   "outputs": [
    {
     "name": "stdout",
     "output_type": "stream",
     "text": [
      "              precision    recall  f1-score   support\n",
      "\n",
      "     Average       0.25      0.06      0.10      6931\n",
      "         Bad       0.52      0.19      0.28      9639\n",
      "        Good       0.78      0.96      0.86     48710\n",
      "\n",
      "    accuracy                           0.75     65280\n",
      "   macro avg       0.52      0.40      0.41     65280\n",
      "weighted avg       0.68      0.75      0.69     65280\n",
      "\n"
     ]
    }
   ],
   "source": [
    "knn = KNeighborsClassifier(n_neighbors=5)\n",
    "knn.fit(X_train, y_train)\n",
    "\n",
    "#make predictions\n",
    "y_pred = knn.predict(X_test)\n",
    "\n",
    "#classification report\n",
    "print(classification_report(y_test, y_pred))"
   ]
  },
  {
   "cell_type": "markdown",
   "metadata": {},
   "source": [
    "**e) Multi Layer Perceptron**"
   ]
  },
  {
   "cell_type": "code",
   "execution_count": 98,
   "metadata": {},
   "outputs": [
    {
     "name": "stdout",
     "output_type": "stream",
     "text": [
      "              precision    recall  f1-score   support\n",
      "\n",
      "     Average       0.28      0.27      0.27      6931\n",
      "         Bad       0.56      0.55      0.56      9639\n",
      "        Good       0.87      0.88      0.88     48710\n",
      "\n",
      "    accuracy                           0.77     65280\n",
      "   macro avg       0.57      0.57      0.57     65280\n",
      "weighted avg       0.76      0.77      0.76     65280\n",
      "\n"
     ]
    }
   ],
   "source": [
    "model = MLPClassifier(hidden_layer_sizes=(100,), max_iter=500)\n",
    "model.fit(X_train, y_train)\n",
    "\n",
    "#make predictions\n",
    "y_pred = model.predict(X_test)\n",
    "\n",
    "#classification report\n",
    "print(classification_report(y_test, y_pred))"
   ]
  },
  {
   "cell_type": "markdown",
   "metadata": {},
   "source": [
    "**Save the final data**"
   ]
  },
  {
   "cell_type": "code",
   "execution_count": 99,
   "metadata": {},
   "outputs": [],
   "source": [
    "product_df.to_csv('final_product_data.csv')\n",
    "meta_df.to_csv('final_meta_data.csv')"
   ]
  }
 ],
 "metadata": {
  "kernelspec": {
   "display_name": "Python 3",
   "language": "python",
   "name": "python3"
  },
  "language_info": {
   "codemirror_mode": {
    "name": "ipython",
    "version": 3
   },
   "file_extension": ".py",
   "mimetype": "text/x-python",
   "name": "python",
   "nbconvert_exporter": "python",
   "pygments_lexer": "ipython3",
   "version": "3.9.6"
  }
 },
 "nbformat": 4,
 "nbformat_minor": 2
}
